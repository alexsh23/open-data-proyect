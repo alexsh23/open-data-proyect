{
 "cells": [
  {
   "cell_type": "markdown",
   "metadata": {},
   "source": [
    "# Preparations"
   ]
  },
  {
   "cell_type": "code",
   "execution_count": 1,
   "metadata": {},
   "outputs": [],
   "source": [
    "#############################################\n",
    "###########     LIBRARIES     ###############\n",
    "#############################################\n",
    "\n",
    "import warnings\n",
    "warnings.filterwarnings(\"ignore\")\n",
    "import pandas as pd                     #data analysis \n",
    "import numpy as np                      #vectors and arrays\n",
    "#import plotly.express as px             #plot graphs\n",
    "import seaborn as sns                   #beauty graphs\n",
    "import matplotlib.pyplot as plt         #plot graphs\n",
    "import math                             \n",
    "import pylab\n",
    "import datetime"
   ]
  },
  {
   "cell_type": "markdown",
   "metadata": {},
   "source": [
    "# 1. File and variables"
   ]
  },
  {
   "cell_type": "code",
   "execution_count": 2,
   "metadata": {},
   "outputs": [],
   "source": [
    "pd.options.display.max_columns = None"
   ]
  },
  {
   "cell_type": "code",
   "execution_count": 3,
   "metadata": {},
   "outputs": [],
   "source": [
    "#############################################\n",
    "###########  READ FILE          #############\n",
    "#############################################\n",
    "df_origin = pd.read_csv('../01. Datos/2021_Segmentation_File_MALTA.csv')"
   ]
  },
  {
   "cell_type": "code",
   "execution_count": 66,
   "metadata": {},
   "outputs": [],
   "source": [
    "#mainpath= '../01. Datos/2021 Segmentation File MALTA.xlsx'\n",
    "#df_origin = pd.read_excel(mainpath)\n",
    "#pd.options.display.max_columns = None       #visualization of variables COMPLETE."
   ]
  },
  {
   "cell_type": "code",
   "execution_count": 67,
   "metadata": {},
   "outputs": [],
   "source": [
    "#Convert dataframe from excel to csv\n",
    "#df_origin.to_csv('../01. Datos/2021_Segmentation_File_MALTA.csv', encoding='utf-8', index=False)"
   ]
  },
  {
   "cell_type": "code",
   "execution_count": 4,
   "metadata": {},
   "outputs": [
    {
     "name": "stdout",
     "output_type": "stream",
     "text": [
      "<class 'pandas.core.frame.DataFrame'>\n",
      "RangeIndex: 218637 entries, 0 to 218636\n",
      "Data columns (total 24 columns):\n",
      " #   Column                    Non-Null Count   Dtype  \n",
      "---  ------                    --------------   -----  \n",
      " 0   CustomerId (Anonymized)   202171 non-null  object \n",
      " 1   PolicyId\n",
      "(Anonymized)     218637 non-null  object \n",
      " 2   Sub Branch                218637 non-null  object \n",
      " 3   Branch                    218635 non-null  object \n",
      " 4   Product                   218637 non-null  object \n",
      " 5   Effective Date            218637 non-null  object \n",
      " 6   Premium                   218637 non-null  float64\n",
      " 7   Intermediated Policy      218637 non-null  int64  \n",
      " 8   Contracting Channel       218637 non-null  object \n",
      " 9   Personal Data Protection  177902 non-null  object \n",
      " 10  Direct Debit              218637 non-null  int64  \n",
      " 11  Claim                     218334 non-null  float64\n",
      " 12  N Claims                  218334 non-null  float64\n",
      " 13  Claim Cost                218334 non-null  float64\n",
      " 14  Person Type               218637 non-null  object \n",
      " 15  Age                       202986 non-null  float64\n",
      " 16  Tenure                    208313 non-null  float64\n",
      " 17  Gender                    191708 non-null  object \n",
      " 18  Integrality               160141 non-null  object \n",
      " 19  Profitability             218334 non-null  float64\n",
      " 20  Loss Ratio                218334 non-null  float64\n",
      " 21  Client Vaue Group         160100 non-null  object \n",
      " 22  Client Segmentation       218637 non-null  object \n",
      " 23  Client Area               173759 non-null  object \n",
      "dtypes: float64(8), int64(2), object(14)\n",
      "memory usage: 40.0+ MB\n"
     ]
    }
   ],
   "source": [
    "###############################################\n",
    "#########  VARIABLES INFORMATION    ###########\n",
    "###############################################\n",
    "df_origin.info()"
   ]
  },
  {
   "cell_type": "code",
   "execution_count": 10,
   "metadata": {},
   "outputs": [
    {
     "data": {
      "text/plain": [
       "CustomerId (Anonymized)     16466\n",
       "PolicyId\\n(Anonymized)          0\n",
       "Sub Branch                      0\n",
       "Branch                          2\n",
       "Product                         0\n",
       "Effective Date                  0\n",
       "Premium                         0\n",
       "Intermediated Policy            0\n",
       "Contracting Channel             0\n",
       "Personal Data Protection    40735\n",
       "Direct Debit                    0\n",
       "Claim                         303\n",
       "N Claims                      303\n",
       "Claim Cost                    303\n",
       "Person Type                     0\n",
       "Age                         15651\n",
       "Tenure                      10324\n",
       "Gender                      26929\n",
       "Integrality                 58496\n",
       "Profitability                 303\n",
       "Loss Ratio                    303\n",
       "Client Vaue Group           58537\n",
       "Client Segmentation             0\n",
       "Client Area                 44878\n",
       "dtype: int64"
      ]
     },
     "execution_count": 10,
     "metadata": {},
     "output_type": "execute_result"
    }
   ],
   "source": [
    "df_origin.isna().sum()"
   ]
  },
  {
   "cell_type": "code",
   "execution_count": 5,
   "metadata": {},
   "outputs": [],
   "source": [
    "##########################################\n",
    "#########  VARIABLES RENAME    ###########\n",
    "##########################################\n",
    "\n",
    "df_rename = df_origin.rename(columns = {\n",
    "    \"CustomerId (Anonymized)\": \"CustomerId\",\n",
    "    \"Sub Branch\": \"SubBranch\",\n",
    "    \"Effective Date\": \"EffectiveDate\",\n",
    "    \"Intermediated Policy\": \"IntermediatedPolicy\",\n",
    "    \"Contracting Channel\": \"ContractChannel\",\n",
    "    \"Personal Data Protection\": \"PersonalDataProtection\",\n",
    "    \"Direct Debit\": \"DirectDebit\",\n",
    "    \"N Claims\": \"NClaims\",\n",
    "    \"Claim Cost\": \"ClaimCost\",\n",
    "    \"Person Type\": \"PersonType\",\n",
    "    \"Loss Ratio\": \"LossRatio\",\n",
    "    \"Client Vaue Group\": \"ClientValueGroup\",\n",
    "    \"Client Segmentation\": \"ClientSegmentation\",\n",
    "    \"Client Area\": \"ClientArea\"\n",
    "})\n",
    "df_rename.rename(columns={ df_rename.columns[1]: \"PolicyId\" }, inplace = True)"
   ]
  },
  {
   "cell_type": "code",
   "execution_count": 6,
   "metadata": {},
   "outputs": [],
   "source": [
    "################################\n",
    "######  PARSING DATE    ########\n",
    "################################\n",
    "from datetime import datetime as dt\n",
    "df_rename['EffectiveDate'] = pd.to_datetime(df_rename['EffectiveDate'])"
   ]
  },
  {
   "cell_type": "code",
   "execution_count": 7,
   "metadata": {},
   "outputs": [],
   "source": [
    "#####################################\n",
    "######  TENURE CALCULATED    ########\n",
    "#####################################\n",
    "df_rename['MaxDate'] = \"20210630\"\n",
    "df_rename['MaxDate'] = pd.to_datetime(df_rename['MaxDate'], format = '%Y%m%d')\n",
    "df_rename['TenureCalculated'] = ((df_rename.MaxDate - df_rename.EffectiveDate)/np.timedelta64(1, 'M'))\n",
    "df_rename['TenureCalculated'] = df_rename['TenureCalculated'].astype(int)\n",
    "df_rename['TenureCalculated']= df_rename['TenureCalculated'].replace([-1, -3, -2, -4, -5],[-1, -1, -1, -1, -1])"
   ]
  },
  {
   "cell_type": "code",
   "execution_count": 8,
   "metadata": {},
   "outputs": [],
   "source": [
    "#Fixed LossRatio column\n",
    "df_rename['LossRatio'] = df_rename['LossRatio'] * 100"
   ]
  },
  {
   "cell_type": "code",
   "execution_count": 9,
   "metadata": {},
   "outputs": [
    {
     "data": {
      "text/plain": [
       "1    179279\n",
       "4     24473\n",
       "2      7488\n",
       "3      7397\n",
       "Name: LossRatioCalculated, dtype: int64"
      ]
     },
     "execution_count": 9,
     "metadata": {},
     "output_type": "execute_result"
    }
   ],
   "source": [
    "##########################################\n",
    "######   LOSS RATIO CALCULATED    ########\n",
    "##########################################\n",
    "df_rename['LossRatioCalculated1'] = np.where((df_rename['LossRatio'] <= 30), 1, 4)\n",
    "df_rename['LossRatioCalculated2'] = np.where((df_rename['LossRatio'] > 30) & (df_rename['LossRatio'] <= 60) &\\\n",
    "                                             (df_rename['LossRatio'] != 1), 2, 4)\n",
    "df_rename['LossRatioCalculated3'] = np.where((df_rename['LossRatio'] > 60) & (df_rename['LossRatio'] <= 100) &\\\n",
    "                                             (df_rename['LossRatio'] != 1) & (df_rename['LossRatio'] != 2), 3, 4)\n",
    "\n",
    "conditions = [\n",
    "    (df_rename['LossRatioCalculated1'] == 1),\n",
    "    (df_rename['LossRatioCalculated2'] == 2),\n",
    "    (df_rename['LossRatioCalculated3'] == 3)]\n",
    "choices = [1, 2, 3]\n",
    "df_rename['LossRatioCalculated'] = np.select(conditions, choices, default = 4)\n",
    "\n",
    "df_rename.LossRatioCalculated.value_counts()"
   ]
  },
  {
   "cell_type": "code",
   "execution_count": 10,
   "metadata": {},
   "outputs": [
    {
     "data": {
      "text/html": [
       "<div>\n",
       "<style scoped>\n",
       "    .dataframe tbody tr th:only-of-type {\n",
       "        vertical-align: middle;\n",
       "    }\n",
       "\n",
       "    .dataframe tbody tr th {\n",
       "        vertical-align: top;\n",
       "    }\n",
       "\n",
       "    .dataframe thead th {\n",
       "        text-align: right;\n",
       "    }\n",
       "</style>\n",
       "<table border=\"1\" class=\"dataframe\">\n",
       "  <thead>\n",
       "    <tr style=\"text-align: right;\">\n",
       "      <th></th>\n",
       "      <th>CustomerId</th>\n",
       "      <th>PolicyId</th>\n",
       "      <th>SubBranch</th>\n",
       "      <th>Branch</th>\n",
       "      <th>Product</th>\n",
       "      <th>EffectiveDate</th>\n",
       "      <th>Premium</th>\n",
       "      <th>IntermediatedPolicy</th>\n",
       "      <th>ContractChannel</th>\n",
       "      <th>PersonalDataProtection</th>\n",
       "      <th>DirectDebit</th>\n",
       "      <th>Claim</th>\n",
       "      <th>NClaims</th>\n",
       "      <th>ClaimCost</th>\n",
       "      <th>PersonType</th>\n",
       "      <th>Age</th>\n",
       "      <th>Tenure</th>\n",
       "      <th>Gender</th>\n",
       "      <th>Integrality</th>\n",
       "      <th>Profitability</th>\n",
       "      <th>LossRatio</th>\n",
       "      <th>ClientValueGroup</th>\n",
       "      <th>ClientSegmentation</th>\n",
       "      <th>ClientArea</th>\n",
       "      <th>MaxDate</th>\n",
       "      <th>TenureCalculated</th>\n",
       "      <th>LossRatioCalculated1</th>\n",
       "      <th>LossRatioCalculated2</th>\n",
       "      <th>LossRatioCalculated3</th>\n",
       "      <th>LossRatioCalculated</th>\n",
       "    </tr>\n",
       "  </thead>\n",
       "  <tbody>\n",
       "    <tr>\n",
       "      <th>0</th>\n",
       "      <td>NaN</td>\n",
       "      <td>POL001</td>\n",
       "      <td>Group health</td>\n",
       "      <td>Health</td>\n",
       "      <td>Group health</td>\n",
       "      <td>2013-01-05</td>\n",
       "      <td>523.000000</td>\n",
       "      <td>1</td>\n",
       "      <td>Agents</td>\n",
       "      <td>NaN</td>\n",
       "      <td>0</td>\n",
       "      <td>1.0</td>\n",
       "      <td>39.0</td>\n",
       "      <td>2443.66</td>\n",
       "      <td>Individual</td>\n",
       "      <td>21.0</td>\n",
       "      <td>NaN</td>\n",
       "      <td>NaN</td>\n",
       "      <td>NaN</td>\n",
       "      <td>-570.471772</td>\n",
       "      <td>130.454589</td>\n",
       "      <td>NaN</td>\n",
       "      <td>Gold</td>\n",
       "      <td>NaN</td>\n",
       "      <td>2021-06-30</td>\n",
       "      <td>101</td>\n",
       "      <td>4</td>\n",
       "      <td>4</td>\n",
       "      <td>4</td>\n",
       "      <td>4</td>\n",
       "    </tr>\n",
       "    <tr>\n",
       "      <th>1</th>\n",
       "      <td>NaN</td>\n",
       "      <td>POL002</td>\n",
       "      <td>Group health</td>\n",
       "      <td>Health</td>\n",
       "      <td>Group health</td>\n",
       "      <td>2020-01-05</td>\n",
       "      <td>2289.000000</td>\n",
       "      <td>1</td>\n",
       "      <td>Agents</td>\n",
       "      <td>NaN</td>\n",
       "      <td>0</td>\n",
       "      <td>1.0</td>\n",
       "      <td>1.0</td>\n",
       "      <td>65.15</td>\n",
       "      <td>Individual</td>\n",
       "      <td>31.0</td>\n",
       "      <td>NaN</td>\n",
       "      <td>Female</td>\n",
       "      <td>NaN</td>\n",
       "      <td>924.767725</td>\n",
       "      <td>6.581355</td>\n",
       "      <td>NaN</td>\n",
       "      <td>Gold</td>\n",
       "      <td>NaN</td>\n",
       "      <td>2021-06-30</td>\n",
       "      <td>17</td>\n",
       "      <td>1</td>\n",
       "      <td>4</td>\n",
       "      <td>4</td>\n",
       "      <td>1</td>\n",
       "    </tr>\n",
       "    <tr>\n",
       "      <th>2</th>\n",
       "      <td>NaN</td>\n",
       "      <td>POL003</td>\n",
       "      <td>Group health</td>\n",
       "      <td>Health</td>\n",
       "      <td>Group health</td>\n",
       "      <td>2013-01-03</td>\n",
       "      <td>1784.800049</td>\n",
       "      <td>1</td>\n",
       "      <td>Agents</td>\n",
       "      <td>NaN</td>\n",
       "      <td>0</td>\n",
       "      <td>1.0</td>\n",
       "      <td>3.0</td>\n",
       "      <td>2779.00</td>\n",
       "      <td>Individual</td>\n",
       "      <td>74.0</td>\n",
       "      <td>NaN</td>\n",
       "      <td>NaN</td>\n",
       "      <td>NaN</td>\n",
       "      <td>11334.622874</td>\n",
       "      <td>19.690196</td>\n",
       "      <td>NaN</td>\n",
       "      <td>Silver</td>\n",
       "      <td>NaN</td>\n",
       "      <td>2021-06-30</td>\n",
       "      <td>101</td>\n",
       "      <td>1</td>\n",
       "      <td>4</td>\n",
       "      <td>4</td>\n",
       "      <td>1</td>\n",
       "    </tr>\n",
       "    <tr>\n",
       "      <th>3</th>\n",
       "      <td>NaN</td>\n",
       "      <td>POL004</td>\n",
       "      <td>Group health</td>\n",
       "      <td>Health</td>\n",
       "      <td>Group health</td>\n",
       "      <td>2013-01-03</td>\n",
       "      <td>100.000000</td>\n",
       "      <td>1</td>\n",
       "      <td>Agents</td>\n",
       "      <td>NaN</td>\n",
       "      <td>0</td>\n",
       "      <td>0.0</td>\n",
       "      <td>0.0</td>\n",
       "      <td>0.00</td>\n",
       "      <td>Individual</td>\n",
       "      <td>49.0</td>\n",
       "      <td>NaN</td>\n",
       "      <td>NaN</td>\n",
       "      <td>NaN</td>\n",
       "      <td>885.536575</td>\n",
       "      <td>0.000000</td>\n",
       "      <td>NaN</td>\n",
       "      <td>Silver</td>\n",
       "      <td>NaN</td>\n",
       "      <td>2021-06-30</td>\n",
       "      <td>101</td>\n",
       "      <td>1</td>\n",
       "      <td>4</td>\n",
       "      <td>4</td>\n",
       "      <td>1</td>\n",
       "    </tr>\n",
       "    <tr>\n",
       "      <th>4</th>\n",
       "      <td>NaN</td>\n",
       "      <td>POL005</td>\n",
       "      <td>Group health</td>\n",
       "      <td>Health</td>\n",
       "      <td>Group health</td>\n",
       "      <td>2013-01-03</td>\n",
       "      <td>100.000000</td>\n",
       "      <td>1</td>\n",
       "      <td>Agents</td>\n",
       "      <td>NaN</td>\n",
       "      <td>0</td>\n",
       "      <td>0.0</td>\n",
       "      <td>0.0</td>\n",
       "      <td>0.00</td>\n",
       "      <td>Individual</td>\n",
       "      <td>82.0</td>\n",
       "      <td>NaN</td>\n",
       "      <td>NaN</td>\n",
       "      <td>NaN</td>\n",
       "      <td>885.536575</td>\n",
       "      <td>0.000000</td>\n",
       "      <td>NaN</td>\n",
       "      <td>Silver</td>\n",
       "      <td>NaN</td>\n",
       "      <td>2021-06-30</td>\n",
       "      <td>101</td>\n",
       "      <td>1</td>\n",
       "      <td>4</td>\n",
       "      <td>4</td>\n",
       "      <td>1</td>\n",
       "    </tr>\n",
       "    <tr>\n",
       "      <th>...</th>\n",
       "      <td>...</td>\n",
       "      <td>...</td>\n",
       "      <td>...</td>\n",
       "      <td>...</td>\n",
       "      <td>...</td>\n",
       "      <td>...</td>\n",
       "      <td>...</td>\n",
       "      <td>...</td>\n",
       "      <td>...</td>\n",
       "      <td>...</td>\n",
       "      <td>...</td>\n",
       "      <td>...</td>\n",
       "      <td>...</td>\n",
       "      <td>...</td>\n",
       "      <td>...</td>\n",
       "      <td>...</td>\n",
       "      <td>...</td>\n",
       "      <td>...</td>\n",
       "      <td>...</td>\n",
       "      <td>...</td>\n",
       "      <td>...</td>\n",
       "      <td>...</td>\n",
       "      <td>...</td>\n",
       "      <td>...</td>\n",
       "      <td>...</td>\n",
       "      <td>...</td>\n",
       "      <td>...</td>\n",
       "      <td>...</td>\n",
       "      <td>...</td>\n",
       "      <td>...</td>\n",
       "    </tr>\n",
       "    <tr>\n",
       "      <th>218617</th>\n",
       "      <td>NaN</td>\n",
       "      <td>POL218596</td>\n",
       "      <td>Group health</td>\n",
       "      <td>Health</td>\n",
       "      <td>Group health</td>\n",
       "      <td>2020-07-20</td>\n",
       "      <td>0.844418</td>\n",
       "      <td>1</td>\n",
       "      <td>Agents</td>\n",
       "      <td>NaN</td>\n",
       "      <td>0</td>\n",
       "      <td>0.0</td>\n",
       "      <td>0.0</td>\n",
       "      <td>0.00</td>\n",
       "      <td>Individual</td>\n",
       "      <td>22.0</td>\n",
       "      <td>1.0</td>\n",
       "      <td>Male</td>\n",
       "      <td>NaN</td>\n",
       "      <td>114.243279</td>\n",
       "      <td>0.000000</td>\n",
       "      <td>NaN</td>\n",
       "      <td>Silver</td>\n",
       "      <td>NaN</td>\n",
       "      <td>2021-06-30</td>\n",
       "      <td>11</td>\n",
       "      <td>1</td>\n",
       "      <td>4</td>\n",
       "      <td>4</td>\n",
       "      <td>1</td>\n",
       "    </tr>\n",
       "    <tr>\n",
       "      <th>218632</th>\n",
       "      <td>NaN</td>\n",
       "      <td>POL218611</td>\n",
       "      <td>Group health</td>\n",
       "      <td>Health</td>\n",
       "      <td>Group health</td>\n",
       "      <td>2021-04-19</td>\n",
       "      <td>1836.005981</td>\n",
       "      <td>1</td>\n",
       "      <td>Agents</td>\n",
       "      <td>NaN</td>\n",
       "      <td>0</td>\n",
       "      <td>0.0</td>\n",
       "      <td>0.0</td>\n",
       "      <td>0.00</td>\n",
       "      <td>Individual</td>\n",
       "      <td>40.0</td>\n",
       "      <td>0.0</td>\n",
       "      <td>Female</td>\n",
       "      <td>NaN</td>\n",
       "      <td>337.020229</td>\n",
       "      <td>0.000000</td>\n",
       "      <td>NaN</td>\n",
       "      <td>Silver</td>\n",
       "      <td>NaN</td>\n",
       "      <td>2021-06-30</td>\n",
       "      <td>2</td>\n",
       "      <td>1</td>\n",
       "      <td>4</td>\n",
       "      <td>4</td>\n",
       "      <td>1</td>\n",
       "    </tr>\n",
       "    <tr>\n",
       "      <th>218634</th>\n",
       "      <td>NaN</td>\n",
       "      <td>POL218613</td>\n",
       "      <td>Individual health</td>\n",
       "      <td>Health</td>\n",
       "      <td>Individual health</td>\n",
       "      <td>2020-01-07</td>\n",
       "      <td>690.000000</td>\n",
       "      <td>1</td>\n",
       "      <td>Agents</td>\n",
       "      <td>NaN</td>\n",
       "      <td>0</td>\n",
       "      <td>0.0</td>\n",
       "      <td>0.0</td>\n",
       "      <td>0.00</td>\n",
       "      <td>Individual</td>\n",
       "      <td>79.0</td>\n",
       "      <td>1.0</td>\n",
       "      <td>Female</td>\n",
       "      <td>NaN</td>\n",
       "      <td>678.657535</td>\n",
       "      <td>0.000000</td>\n",
       "      <td>NaN</td>\n",
       "      <td>Silver</td>\n",
       "      <td>NaN</td>\n",
       "      <td>2021-06-30</td>\n",
       "      <td>17</td>\n",
       "      <td>1</td>\n",
       "      <td>4</td>\n",
       "      <td>4</td>\n",
       "      <td>1</td>\n",
       "    </tr>\n",
       "    <tr>\n",
       "      <th>218635</th>\n",
       "      <td>NaN</td>\n",
       "      <td>POL218614</td>\n",
       "      <td>Individual health</td>\n",
       "      <td>Health</td>\n",
       "      <td>Individual health</td>\n",
       "      <td>2021-04-13</td>\n",
       "      <td>130.000000</td>\n",
       "      <td>1</td>\n",
       "      <td>Agents</td>\n",
       "      <td>NaN</td>\n",
       "      <td>0</td>\n",
       "      <td>0.0</td>\n",
       "      <td>0.0</td>\n",
       "      <td>0.00</td>\n",
       "      <td>Individual</td>\n",
       "      <td>28.0</td>\n",
       "      <td>0.0</td>\n",
       "      <td>Male</td>\n",
       "      <td>NaN</td>\n",
       "      <td>26.000000</td>\n",
       "      <td>0.000000</td>\n",
       "      <td>NaN</td>\n",
       "      <td>Silver</td>\n",
       "      <td>NaN</td>\n",
       "      <td>2021-06-30</td>\n",
       "      <td>2</td>\n",
       "      <td>1</td>\n",
       "      <td>4</td>\n",
       "      <td>4</td>\n",
       "      <td>1</td>\n",
       "    </tr>\n",
       "    <tr>\n",
       "      <th>218636</th>\n",
       "      <td>NaN</td>\n",
       "      <td>POL218615</td>\n",
       "      <td>Individual health</td>\n",
       "      <td>Health</td>\n",
       "      <td>Individual health</td>\n",
       "      <td>2019-01-10</td>\n",
       "      <td>290.000000</td>\n",
       "      <td>1</td>\n",
       "      <td>Agents</td>\n",
       "      <td>NaN</td>\n",
       "      <td>0</td>\n",
       "      <td>0.0</td>\n",
       "      <td>0.0</td>\n",
       "      <td>0.00</td>\n",
       "      <td>Individual</td>\n",
       "      <td>51.0</td>\n",
       "      <td>2.0</td>\n",
       "      <td>Male</td>\n",
       "      <td>NaN</td>\n",
       "      <td>502.136986</td>\n",
       "      <td>0.000000</td>\n",
       "      <td>NaN</td>\n",
       "      <td>Silver</td>\n",
       "      <td>NaN</td>\n",
       "      <td>2021-06-30</td>\n",
       "      <td>29</td>\n",
       "      <td>1</td>\n",
       "      <td>4</td>\n",
       "      <td>4</td>\n",
       "      <td>1</td>\n",
       "    </tr>\n",
       "  </tbody>\n",
       "</table>\n",
       "<p>16466 rows × 30 columns</p>\n",
       "</div>"
      ],
      "text/plain": [
       "       CustomerId   PolicyId          SubBranch  Branch            Product  \\\n",
       "0             NaN     POL001       Group health  Health       Group health   \n",
       "1             NaN     POL002       Group health  Health       Group health   \n",
       "2             NaN     POL003       Group health  Health       Group health   \n",
       "3             NaN     POL004       Group health  Health       Group health   \n",
       "4             NaN     POL005       Group health  Health       Group health   \n",
       "...           ...        ...                ...     ...                ...   \n",
       "218617        NaN  POL218596       Group health  Health       Group health   \n",
       "218632        NaN  POL218611       Group health  Health       Group health   \n",
       "218634        NaN  POL218613  Individual health  Health  Individual health   \n",
       "218635        NaN  POL218614  Individual health  Health  Individual health   \n",
       "218636        NaN  POL218615  Individual health  Health  Individual health   \n",
       "\n",
       "       EffectiveDate      Premium  IntermediatedPolicy ContractChannel  \\\n",
       "0         2013-01-05   523.000000                    1          Agents   \n",
       "1         2020-01-05  2289.000000                    1          Agents   \n",
       "2         2013-01-03  1784.800049                    1          Agents   \n",
       "3         2013-01-03   100.000000                    1          Agents   \n",
       "4         2013-01-03   100.000000                    1          Agents   \n",
       "...              ...          ...                  ...             ...   \n",
       "218617    2020-07-20     0.844418                    1          Agents   \n",
       "218632    2021-04-19  1836.005981                    1          Agents   \n",
       "218634    2020-01-07   690.000000                    1          Agents   \n",
       "218635    2021-04-13   130.000000                    1          Agents   \n",
       "218636    2019-01-10   290.000000                    1          Agents   \n",
       "\n",
       "       PersonalDataProtection  DirectDebit  Claim  NClaims  ClaimCost  \\\n",
       "0                         NaN            0    1.0     39.0    2443.66   \n",
       "1                         NaN            0    1.0      1.0      65.15   \n",
       "2                         NaN            0    1.0      3.0    2779.00   \n",
       "3                         NaN            0    0.0      0.0       0.00   \n",
       "4                         NaN            0    0.0      0.0       0.00   \n",
       "...                       ...          ...    ...      ...        ...   \n",
       "218617                    NaN            0    0.0      0.0       0.00   \n",
       "218632                    NaN            0    0.0      0.0       0.00   \n",
       "218634                    NaN            0    0.0      0.0       0.00   \n",
       "218635                    NaN            0    0.0      0.0       0.00   \n",
       "218636                    NaN            0    0.0      0.0       0.00   \n",
       "\n",
       "        PersonType   Age  Tenure  Gender Integrality  Profitability  \\\n",
       "0       Individual  21.0     NaN     NaN         NaN    -570.471772   \n",
       "1       Individual  31.0     NaN  Female         NaN     924.767725   \n",
       "2       Individual  74.0     NaN     NaN         NaN   11334.622874   \n",
       "3       Individual  49.0     NaN     NaN         NaN     885.536575   \n",
       "4       Individual  82.0     NaN     NaN         NaN     885.536575   \n",
       "...            ...   ...     ...     ...         ...            ...   \n",
       "218617  Individual  22.0     1.0    Male         NaN     114.243279   \n",
       "218632  Individual  40.0     0.0  Female         NaN     337.020229   \n",
       "218634  Individual  79.0     1.0  Female         NaN     678.657535   \n",
       "218635  Individual  28.0     0.0    Male         NaN      26.000000   \n",
       "218636  Individual  51.0     2.0    Male         NaN     502.136986   \n",
       "\n",
       "         LossRatio ClientValueGroup ClientSegmentation ClientArea    MaxDate  \\\n",
       "0       130.454589              NaN               Gold        NaN 2021-06-30   \n",
       "1         6.581355              NaN               Gold        NaN 2021-06-30   \n",
       "2        19.690196              NaN             Silver        NaN 2021-06-30   \n",
       "3         0.000000              NaN             Silver        NaN 2021-06-30   \n",
       "4         0.000000              NaN             Silver        NaN 2021-06-30   \n",
       "...            ...              ...                ...        ...        ...   \n",
       "218617    0.000000              NaN             Silver        NaN 2021-06-30   \n",
       "218632    0.000000              NaN             Silver        NaN 2021-06-30   \n",
       "218634    0.000000              NaN             Silver        NaN 2021-06-30   \n",
       "218635    0.000000              NaN             Silver        NaN 2021-06-30   \n",
       "218636    0.000000              NaN             Silver        NaN 2021-06-30   \n",
       "\n",
       "        TenureCalculated  LossRatioCalculated1  LossRatioCalculated2  \\\n",
       "0                    101                     4                     4   \n",
       "1                     17                     1                     4   \n",
       "2                    101                     1                     4   \n",
       "3                    101                     1                     4   \n",
       "4                    101                     1                     4   \n",
       "...                  ...                   ...                   ...   \n",
       "218617                11                     1                     4   \n",
       "218632                 2                     1                     4   \n",
       "218634                17                     1                     4   \n",
       "218635                 2                     1                     4   \n",
       "218636                29                     1                     4   \n",
       "\n",
       "        LossRatioCalculated3  LossRatioCalculated  \n",
       "0                          4                    4  \n",
       "1                          4                    1  \n",
       "2                          4                    1  \n",
       "3                          4                    1  \n",
       "4                          4                    1  \n",
       "...                      ...                  ...  \n",
       "218617                     4                    1  \n",
       "218632                     4                    1  \n",
       "218634                     4                    1  \n",
       "218635                     4                    1  \n",
       "218636                     4                    1  \n",
       "\n",
       "[16466 rows x 30 columns]"
      ]
     },
     "execution_count": 10,
     "metadata": {},
     "output_type": "execute_result"
    }
   ],
   "source": [
    "#Store rows with CustomerId NaN\n",
    "df_id_nan = df_rename[df_rename[\"CustomerId\"].isna()]\n",
    "df_id_nan"
   ]
  },
  {
   "cell_type": "code",
   "execution_count": 11,
   "metadata": {},
   "outputs": [
    {
     "data": {
      "text/plain": [
       "(202171, 30)"
      ]
     },
     "execution_count": 11,
     "metadata": {},
     "output_type": "execute_result"
    }
   ],
   "source": [
    "#No NaN in CustomerId column\n",
    "mod_df = df_rename.dropna( how='any',subset=['CustomerId'])\n",
    "mod_df.shape"
   ]
  },
  {
   "cell_type": "code",
   "execution_count": 12,
   "metadata": {},
   "outputs": [
    {
     "data": {
      "text/plain": [
       "122876"
      ]
     },
     "execution_count": 12,
     "metadata": {},
     "output_type": "execute_result"
    }
   ],
   "source": [
    "mod_df.CustomerId.nunique()"
   ]
  },
  {
   "cell_type": "code",
   "execution_count": 78,
   "metadata": {},
   "outputs": [
    {
     "data": {
      "text/plain": [
       "array(['Individual', 'Company'], dtype=object)"
      ]
     },
     "execution_count": 78,
     "metadata": {},
     "output_type": "execute_result"
    }
   ],
   "source": [
    "#Valores variables\n",
    "#mod_df[\"Product\"].unique()\n",
    "#mod_df[\"Branch\"].unique()\n",
    "#mod_df[\"Sub_branch\"].unique()\n",
    "#mod_df[\"Interm_policy\"].unique()\n",
    "#mod_df[\"Contract_channel\"].unique()\n",
    "#mod_df[\"Dir_debit\"].unique()\n",
    "mod_df[\"PersonType\"].unique()"
   ]
  },
  {
   "cell_type": "code",
   "execution_count": 13,
   "metadata": {},
   "outputs": [
    {
     "data": {
      "text/plain": [
       "(186533, 30)"
      ]
     },
     "execution_count": 13,
     "metadata": {},
     "output_type": "execute_result"
    }
   ],
   "source": [
    "################################################\n",
    "######  INDIVIDUAL CUSTOMER POLICIES    ########\n",
    "################################################\n",
    "polpart = mod_df[mod_df[\"PersonType\"] == \"Individual\"]\n",
    "polpart.shape"
   ]
  },
  {
   "cell_type": "code",
   "execution_count": 14,
   "metadata": {},
   "outputs": [
    {
     "data": {
      "text/plain": [
       "119581"
      ]
     },
     "execution_count": 14,
     "metadata": {},
     "output_type": "execute_result"
    }
   ],
   "source": [
    "polpart.CustomerId.nunique()"
   ]
  },
  {
   "cell_type": "code",
   "execution_count": 15,
   "metadata": {},
   "outputs": [
    {
     "data": {
      "text/plain": [
       "(15638, 30)"
      ]
     },
     "execution_count": 15,
     "metadata": {},
     "output_type": "execute_result"
    }
   ],
   "source": [
    "###############################################\n",
    "######  COMPANIES CUSTOMER POLICIES    ########\n",
    "###############################################\n",
    "polemp = mod_df[mod_df[\"PersonType\"] == \"Company\"]\n",
    "polemp.shape"
   ]
  },
  {
   "cell_type": "code",
   "execution_count": 16,
   "metadata": {},
   "outputs": [
    {
     "data": {
      "text/plain": [
       "3295"
      ]
     },
     "execution_count": 16,
     "metadata": {},
     "output_type": "execute_result"
    }
   ],
   "source": [
    "polemp.CustomerId.nunique()"
   ]
  },
  {
   "cell_type": "markdown",
   "metadata": {},
   "source": [
    "# 2. Univariant analysis"
   ]
  },
  {
   "cell_type": "code",
   "execution_count": 17,
   "metadata": {},
   "outputs": [],
   "source": [
    "#########################################################\n",
    "#######    NUMERICAL VARIABLES AT POLICY LEVEL   ########\n",
    "#########################################################\n",
    "polpartnum = polpart[['EffectiveDate','Premium','ClaimCost','Claim','NClaims','TenureCalculated', 'Tenure', 'Profitability', 'LossRatio']]"
   ]
  },
  {
   "cell_type": "code",
   "execution_count": 18,
   "metadata": {},
   "outputs": [
    {
     "data": {
      "text/html": [
       "<div>\n",
       "<style scoped>\n",
       "    .dataframe tbody tr th:only-of-type {\n",
       "        vertical-align: middle;\n",
       "    }\n",
       "\n",
       "    .dataframe tbody tr th {\n",
       "        vertical-align: top;\n",
       "    }\n",
       "\n",
       "    .dataframe thead th {\n",
       "        text-align: right;\n",
       "    }\n",
       "</style>\n",
       "<table border=\"1\" class=\"dataframe\">\n",
       "  <thead>\n",
       "    <tr style=\"text-align: right;\">\n",
       "      <th></th>\n",
       "      <th>PolicyId_</th>\n",
       "      <th>CustomerId_count</th>\n",
       "    </tr>\n",
       "  </thead>\n",
       "  <tbody>\n",
       "    <tr>\n",
       "      <th>0</th>\n",
       "      <td>POL10000</td>\n",
       "      <td>1</td>\n",
       "    </tr>\n",
       "    <tr>\n",
       "      <th>1</th>\n",
       "      <td>POL100000</td>\n",
       "      <td>1</td>\n",
       "    </tr>\n",
       "    <tr>\n",
       "      <th>2</th>\n",
       "      <td>POL100001</td>\n",
       "      <td>1</td>\n",
       "    </tr>\n",
       "    <tr>\n",
       "      <th>3</th>\n",
       "      <td>POL100002</td>\n",
       "      <td>1</td>\n",
       "    </tr>\n",
       "    <tr>\n",
       "      <th>4</th>\n",
       "      <td>POL100003</td>\n",
       "      <td>1</td>\n",
       "    </tr>\n",
       "    <tr>\n",
       "      <th>...</th>\n",
       "      <td>...</td>\n",
       "      <td>...</td>\n",
       "    </tr>\n",
       "    <tr>\n",
       "      <th>186514</th>\n",
       "      <td>POL99995</td>\n",
       "      <td>1</td>\n",
       "    </tr>\n",
       "    <tr>\n",
       "      <th>186515</th>\n",
       "      <td>POL99996</td>\n",
       "      <td>1</td>\n",
       "    </tr>\n",
       "    <tr>\n",
       "      <th>186516</th>\n",
       "      <td>POL99997</td>\n",
       "      <td>1</td>\n",
       "    </tr>\n",
       "    <tr>\n",
       "      <th>186517</th>\n",
       "      <td>POL99998</td>\n",
       "      <td>1</td>\n",
       "    </tr>\n",
       "    <tr>\n",
       "      <th>186518</th>\n",
       "      <td>POL99999</td>\n",
       "      <td>1</td>\n",
       "    </tr>\n",
       "  </tbody>\n",
       "</table>\n",
       "<p>186519 rows × 2 columns</p>\n",
       "</div>"
      ],
      "text/plain": [
       "        PolicyId_  CustomerId_count\n",
       "0        POL10000                 1\n",
       "1       POL100000                 1\n",
       "2       POL100001                 1\n",
       "3       POL100002                 1\n",
       "4       POL100003                 1\n",
       "...           ...               ...\n",
       "186514   POL99995                 1\n",
       "186515   POL99996                 1\n",
       "186516   POL99997                 1\n",
       "186517   POL99998                 1\n",
       "186518   POL99999                 1\n",
       "\n",
       "[186519 rows x 2 columns]"
      ]
     },
     "execution_count": 18,
     "metadata": {},
     "output_type": "execute_result"
    }
   ],
   "source": [
    "#Pólizas repetidas\n",
    "polrep=polpart.groupby(['PolicyId'],as_index=False).agg({'CustomerId': ['count']})\n",
    "polrep.columns = ['{}_{}'.format(x[0], x[1]) for x in  polrep.columns]\n",
    "polrep"
   ]
  },
  {
   "cell_type": "code",
   "execution_count": 19,
   "metadata": {},
   "outputs": [
    {
     "data": {
      "text/html": [
       "<div>\n",
       "<style scoped>\n",
       "    .dataframe tbody tr th:only-of-type {\n",
       "        vertical-align: middle;\n",
       "    }\n",
       "\n",
       "    .dataframe tbody tr th {\n",
       "        vertical-align: top;\n",
       "    }\n",
       "\n",
       "    .dataframe thead th {\n",
       "        text-align: right;\n",
       "    }\n",
       "</style>\n",
       "<table border=\"1\" class=\"dataframe\">\n",
       "  <thead>\n",
       "    <tr style=\"text-align: right;\">\n",
       "      <th></th>\n",
       "      <th>PolicyId_</th>\n",
       "      <th>CustomerId_count</th>\n",
       "    </tr>\n",
       "  </thead>\n",
       "  <tbody>\n",
       "    <tr>\n",
       "      <th>3143</th>\n",
       "      <td>POL102925</td>\n",
       "      <td>2</td>\n",
       "    </tr>\n",
       "    <tr>\n",
       "      <th>7028</th>\n",
       "      <td>POL106500</td>\n",
       "      <td>2</td>\n",
       "    </tr>\n",
       "    <tr>\n",
       "      <th>23936</th>\n",
       "      <td>POL12203</td>\n",
       "      <td>2</td>\n",
       "    </tr>\n",
       "    <tr>\n",
       "      <th>32164</th>\n",
       "      <td>POL129603</td>\n",
       "      <td>2</td>\n",
       "    </tr>\n",
       "    <tr>\n",
       "      <th>33026</th>\n",
       "      <td>POL130410</td>\n",
       "      <td>2</td>\n",
       "    </tr>\n",
       "    <tr>\n",
       "      <th>37726</th>\n",
       "      <td>POL134924</td>\n",
       "      <td>2</td>\n",
       "    </tr>\n",
       "    <tr>\n",
       "      <th>37727</th>\n",
       "      <td>POL134925</td>\n",
       "      <td>2</td>\n",
       "    </tr>\n",
       "    <tr>\n",
       "      <th>68811</th>\n",
       "      <td>POL167957</td>\n",
       "      <td>2</td>\n",
       "    </tr>\n",
       "    <tr>\n",
       "      <th>78572</th>\n",
       "      <td>POL178888</td>\n",
       "      <td>2</td>\n",
       "    </tr>\n",
       "    <tr>\n",
       "      <th>117511</th>\n",
       "      <td>POL30573</td>\n",
       "      <td>2</td>\n",
       "    </tr>\n",
       "    <tr>\n",
       "      <th>122852</th>\n",
       "      <td>POL35987</td>\n",
       "      <td>2</td>\n",
       "    </tr>\n",
       "    <tr>\n",
       "      <th>133296</th>\n",
       "      <td>POL46623</td>\n",
       "      <td>2</td>\n",
       "    </tr>\n",
       "    <tr>\n",
       "      <th>153130</th>\n",
       "      <td>POL66867</td>\n",
       "      <td>2</td>\n",
       "    </tr>\n",
       "    <tr>\n",
       "      <th>185614</th>\n",
       "      <td>POL99142</td>\n",
       "      <td>2</td>\n",
       "    </tr>\n",
       "  </tbody>\n",
       "</table>\n",
       "</div>"
      ],
      "text/plain": [
       "        PolicyId_  CustomerId_count\n",
       "3143    POL102925                 2\n",
       "7028    POL106500                 2\n",
       "23936    POL12203                 2\n",
       "32164   POL129603                 2\n",
       "33026   POL130410                 2\n",
       "37726   POL134924                 2\n",
       "37727   POL134925                 2\n",
       "68811   POL167957                 2\n",
       "78572   POL178888                 2\n",
       "117511   POL30573                 2\n",
       "122852   POL35987                 2\n",
       "133296   POL46623                 2\n",
       "153130   POL66867                 2\n",
       "185614   POL99142                 2"
      ]
     },
     "execution_count": 19,
     "metadata": {},
     "output_type": "execute_result"
    }
   ],
   "source": [
    "#Comprobación pólizas con más de un cliente\n",
    "polrep[(polrep['CustomerId_count']) > 1]"
   ]
  },
  {
   "cell_type": "code",
   "execution_count": 20,
   "metadata": {},
   "outputs": [
    {
     "data": {
      "text/plain": [
       "count                  186533\n",
       "unique                   5393\n",
       "top       2019-01-01 00:00:00\n",
       "freq                     1764\n",
       "first     1998-04-08 00:00:00\n",
       "last      2021-12-06 00:00:00\n",
       "Name: EffectiveDate, dtype: object"
      ]
     },
     "execution_count": 20,
     "metadata": {},
     "output_type": "execute_result"
    }
   ],
   "source": [
    "##############################################################\n",
    "#######     EFFECTIVE DATE ANALYSIS AT POLICY LEVEL   ########\n",
    "##############################################################\n",
    "polpartnum['EffectiveDate'].describe()"
   ]
  },
  {
   "cell_type": "code",
   "execution_count": 21,
   "metadata": {},
   "outputs": [
    {
     "name": "stdout",
     "output_type": "stream",
     "text": [
      "<class 'pandas.core.frame.DataFrame'>\n",
      "Int64Index: 186533 entries, 7648 to 218633\n",
      "Data columns (total 9 columns):\n",
      " #   Column            Non-Null Count   Dtype         \n",
      "---  ------            --------------   -----         \n",
      " 0   EffectiveDate     186533 non-null  datetime64[ns]\n",
      " 1   Premium           186533 non-null  float64       \n",
      " 2   ClaimCost         186422 non-null  float64       \n",
      " 3   Claim             186422 non-null  float64       \n",
      " 4   NClaims           186422 non-null  float64       \n",
      " 5   TenureCalculated  186533 non-null  int64         \n",
      " 6   Tenure            186532 non-null  float64       \n",
      " 7   Profitability     186422 non-null  float64       \n",
      " 8   LossRatio         186422 non-null  float64       \n",
      "dtypes: datetime64[ns](1), float64(7), int64(1)\n",
      "memory usage: 19.2 MB\n"
     ]
    }
   ],
   "source": [
    "polpartnum.info()"
   ]
  },
  {
   "cell_type": "code",
   "execution_count": 22,
   "metadata": {},
   "outputs": [
    {
     "data": {
      "text/html": [
       "<div>\n",
       "<style scoped>\n",
       "    .dataframe tbody tr th:only-of-type {\n",
       "        vertical-align: middle;\n",
       "    }\n",
       "\n",
       "    .dataframe tbody tr th {\n",
       "        vertical-align: top;\n",
       "    }\n",
       "\n",
       "    .dataframe thead th {\n",
       "        text-align: right;\n",
       "    }\n",
       "</style>\n",
       "<table border=\"1\" class=\"dataframe\">\n",
       "  <thead>\n",
       "    <tr style=\"text-align: right;\">\n",
       "      <th></th>\n",
       "      <th>Premium</th>\n",
       "      <th>ClaimCost</th>\n",
       "      <th>Claim</th>\n",
       "      <th>NClaims</th>\n",
       "      <th>TenureCalculated</th>\n",
       "      <th>Tenure</th>\n",
       "      <th>Profitability</th>\n",
       "      <th>LossRatio</th>\n",
       "    </tr>\n",
       "  </thead>\n",
       "  <tbody>\n",
       "    <tr>\n",
       "      <th>count</th>\n",
       "      <td>186533.000000</td>\n",
       "      <td>1.864220e+05</td>\n",
       "      <td>186422.000000</td>\n",
       "      <td>186422.000000</td>\n",
       "      <td>186533.000000</td>\n",
       "      <td>186532.000000</td>\n",
       "      <td>1.864220e+05</td>\n",
       "      <td>1.864220e+05</td>\n",
       "    </tr>\n",
       "    <tr>\n",
       "      <th>mean</th>\n",
       "      <td>250.950887</td>\n",
       "      <td>3.829208e+02</td>\n",
       "      <td>0.235825</td>\n",
       "      <td>0.628971</td>\n",
       "      <td>49.162036</td>\n",
       "      <td>5.355140</td>\n",
       "      <td>3.057521e+02</td>\n",
       "      <td>-4.831330e+14</td>\n",
       "    </tr>\n",
       "    <tr>\n",
       "      <th>std</th>\n",
       "      <td>381.609108</td>\n",
       "      <td>4.063442e+03</td>\n",
       "      <td>0.424515</td>\n",
       "      <td>2.456320</td>\n",
       "      <td>41.711940</td>\n",
       "      <td>3.844983</td>\n",
       "      <td>4.077664e+03</td>\n",
       "      <td>1.348447e+17</td>\n",
       "    </tr>\n",
       "    <tr>\n",
       "      <th>min</th>\n",
       "      <td>-1207.466797</td>\n",
       "      <td>-1.732966e+05</td>\n",
       "      <td>0.000000</td>\n",
       "      <td>0.000000</td>\n",
       "      <td>-1.000000</td>\n",
       "      <td>0.000000</td>\n",
       "      <td>-1.499166e+06</td>\n",
       "      <td>-5.323818e+19</td>\n",
       "    </tr>\n",
       "    <tr>\n",
       "      <th>25%</th>\n",
       "      <td>113.800003</td>\n",
       "      <td>0.000000e+00</td>\n",
       "      <td>0.000000</td>\n",
       "      <td>0.000000</td>\n",
       "      <td>17.000000</td>\n",
       "      <td>2.000000</td>\n",
       "      <td>6.346784e+01</td>\n",
       "      <td>0.000000e+00</td>\n",
       "    </tr>\n",
       "    <tr>\n",
       "      <th>50%</th>\n",
       "      <td>181.000000</td>\n",
       "      <td>0.000000e+00</td>\n",
       "      <td>0.000000</td>\n",
       "      <td>0.000000</td>\n",
       "      <td>40.000000</td>\n",
       "      <td>5.000000</td>\n",
       "      <td>2.919832e+02</td>\n",
       "      <td>0.000000e+00</td>\n",
       "    </tr>\n",
       "    <tr>\n",
       "      <th>75%</th>\n",
       "      <td>303.619995</td>\n",
       "      <td>0.000000e+00</td>\n",
       "      <td>0.000000</td>\n",
       "      <td>0.000000</td>\n",
       "      <td>71.000000</td>\n",
       "      <td>7.000000</td>\n",
       "      <td>6.917496e+02</td>\n",
       "      <td>0.000000e+00</td>\n",
       "    </tr>\n",
       "    <tr>\n",
       "      <th>max</th>\n",
       "      <td>98550.000000</td>\n",
       "      <td>1.500379e+06</td>\n",
       "      <td>1.000000</td>\n",
       "      <td>127.000000</td>\n",
       "      <td>278.000000</td>\n",
       "      <td>23.000000</td>\n",
       "      <td>1.738160e+05</td>\n",
       "      <td>4.825285e+18</td>\n",
       "    </tr>\n",
       "    <tr>\n",
       "      <th>range</th>\n",
       "      <td>99757.466797</td>\n",
       "      <td>1.673676e+06</td>\n",
       "      <td>1.000000</td>\n",
       "      <td>127.000000</td>\n",
       "      <td>279.000000</td>\n",
       "      <td>23.000000</td>\n",
       "      <td>1.672982e+06</td>\n",
       "      <td>5.806346e+19</td>\n",
       "    </tr>\n",
       "  </tbody>\n",
       "</table>\n",
       "</div>"
      ],
      "text/plain": [
       "             Premium     ClaimCost          Claim        NClaims  \\\n",
       "count  186533.000000  1.864220e+05  186422.000000  186422.000000   \n",
       "mean      250.950887  3.829208e+02       0.235825       0.628971   \n",
       "std       381.609108  4.063442e+03       0.424515       2.456320   \n",
       "min     -1207.466797 -1.732966e+05       0.000000       0.000000   \n",
       "25%       113.800003  0.000000e+00       0.000000       0.000000   \n",
       "50%       181.000000  0.000000e+00       0.000000       0.000000   \n",
       "75%       303.619995  0.000000e+00       0.000000       0.000000   \n",
       "max     98550.000000  1.500379e+06       1.000000     127.000000   \n",
       "range   99757.466797  1.673676e+06       1.000000     127.000000   \n",
       "\n",
       "       TenureCalculated         Tenure  Profitability     LossRatio  \n",
       "count     186533.000000  186532.000000   1.864220e+05  1.864220e+05  \n",
       "mean          49.162036       5.355140   3.057521e+02 -4.831330e+14  \n",
       "std           41.711940       3.844983   4.077664e+03  1.348447e+17  \n",
       "min           -1.000000       0.000000  -1.499166e+06 -5.323818e+19  \n",
       "25%           17.000000       2.000000   6.346784e+01  0.000000e+00  \n",
       "50%           40.000000       5.000000   2.919832e+02  0.000000e+00  \n",
       "75%           71.000000       7.000000   6.917496e+02  0.000000e+00  \n",
       "max          278.000000      23.000000   1.738160e+05  4.825285e+18  \n",
       "range        279.000000      23.000000   1.672982e+06  5.806346e+19  "
      ]
     },
     "metadata": {},
     "output_type": "display_data"
    },
    {
     "data": {
      "text/plain": [
       "(186533, 8)"
      ]
     },
     "execution_count": 22,
     "metadata": {},
     "output_type": "execute_result"
    }
   ],
   "source": [
    "###############################################################################\n",
    "#######     UNIVARIANT ANALYSIS OF NUMERIC VARIABLES AT POLICY LEVEL   ########\n",
    "###############################################################################\n",
    "univariante= polpartnum._get_numeric_data()\n",
    "\n",
    "def describe_new(univariante):\n",
    "    df1 = univariante.describe()\n",
    "    df1.loc[\"range\"] = df1.loc['max'] - df1.loc['min']\n",
    "    return df1\n",
    "\n",
    "display(describe_new(univariante))\n",
    "univariante.shape"
   ]
  },
  {
   "cell_type": "code",
   "execution_count": 28,
   "metadata": {},
   "outputs": [],
   "source": [
    "uni_pol=describe_new(univariante)\n",
    "uni_pol.to_excel('../03. Exportaciones/univariante_pol2.xlsx', engine='xlsxwriter')"
   ]
  },
  {
   "cell_type": "code",
   "execution_count": 23,
   "metadata": {},
   "outputs": [
    {
     "data": {
      "text/plain": [
       "1.0    130342\n",
       "0.0     31922\n",
       "Name: PersonalDataProtectionBool, dtype: int64"
      ]
     },
     "execution_count": 23,
     "metadata": {},
     "output_type": "execute_result"
    }
   ],
   "source": [
    "#Convert personal data protection values to boolean values\n",
    "polpart[\"PersonalDataProtectionBool1\"] = np.where(polpart[\"PersonalDataProtection\"] == \"Send marketing mail\", 1, np.nan)\n",
    "polpart[\"PersonalDataProtectionBool2\"] = np.where((polpart['PersonalDataProtectionBool1'] != 1) &\\\n",
    "                                                       (polpart[\"PersonalDataProtection\"] == \"Don't send marketing mail\"), 0, np.nan)\n",
    "\n",
    "conditions = [\n",
    "    (polpart['PersonalDataProtectionBool1'] == 1),\n",
    "    (polpart['PersonalDataProtectionBool2'] == 0)]\n",
    "choices = [1, 0]\n",
    "polpart['PersonalDataProtectionBool'] = np.select(conditions, choices, default = np.nan)\n",
    "polpart.PersonalDataProtectionBool.value_counts()"
   ]
  },
  {
   "cell_type": "code",
   "execution_count": 24,
   "metadata": {},
   "outputs": [
    {
     "data": {
      "text/html": [
       "<div>\n",
       "<style scoped>\n",
       "    .dataframe tbody tr th:only-of-type {\n",
       "        vertical-align: middle;\n",
       "    }\n",
       "\n",
       "    .dataframe tbody tr th {\n",
       "        vertical-align: top;\n",
       "    }\n",
       "\n",
       "    .dataframe thead th {\n",
       "        text-align: right;\n",
       "    }\n",
       "</style>\n",
       "<table border=\"1\" class=\"dataframe\">\n",
       "  <thead>\n",
       "    <tr style=\"text-align: right;\">\n",
       "      <th></th>\n",
       "      <th>C_u</th>\n",
       "      <th>B_r</th>\n",
       "    </tr>\n",
       "  </thead>\n",
       "  <tbody>\n",
       "    <tr>\n",
       "      <th>0</th>\n",
       "      <td>CLIENT002</td>\n",
       "      <td>0</td>\n",
       "    </tr>\n",
       "    <tr>\n",
       "      <th>1</th>\n",
       "      <td>CLIENT004</td>\n",
       "      <td>1</td>\n",
       "    </tr>\n",
       "    <tr>\n",
       "      <th>2</th>\n",
       "      <td>CLIENT005</td>\n",
       "      <td>1</td>\n",
       "    </tr>\n",
       "    <tr>\n",
       "      <th>3</th>\n",
       "      <td>CLIENT007</td>\n",
       "      <td>1</td>\n",
       "    </tr>\n",
       "    <tr>\n",
       "      <th>4</th>\n",
       "      <td>CLIENT008</td>\n",
       "      <td>1</td>\n",
       "    </tr>\n",
       "    <tr>\n",
       "      <th>...</th>\n",
       "      <td>...</td>\n",
       "      <td>...</td>\n",
       "    </tr>\n",
       "    <tr>\n",
       "      <th>119576</th>\n",
       "      <td>CLIENT99995</td>\n",
       "      <td>1</td>\n",
       "    </tr>\n",
       "    <tr>\n",
       "      <th>119577</th>\n",
       "      <td>CLIENT99996</td>\n",
       "      <td>2</td>\n",
       "    </tr>\n",
       "    <tr>\n",
       "      <th>119578</th>\n",
       "      <td>CLIENT99997</td>\n",
       "      <td>1</td>\n",
       "    </tr>\n",
       "    <tr>\n",
       "      <th>119579</th>\n",
       "      <td>CLIENT99998</td>\n",
       "      <td>1</td>\n",
       "    </tr>\n",
       "    <tr>\n",
       "      <th>119580</th>\n",
       "      <td>CLIENT99999</td>\n",
       "      <td>1</td>\n",
       "    </tr>\n",
       "  </tbody>\n",
       "</table>\n",
       "<p>119581 rows × 2 columns</p>\n",
       "</div>"
      ],
      "text/plain": [
       "                C_u  B_r\n",
       "0         CLIENT002    0\n",
       "1         CLIENT004    1\n",
       "2         CLIENT005    1\n",
       "3         CLIENT007    1\n",
       "4         CLIENT008    1\n",
       "...             ...  ...\n",
       "119576  CLIENT99995    1\n",
       "119577  CLIENT99996    2\n",
       "119578  CLIENT99997    1\n",
       "119579  CLIENT99998    1\n",
       "119580  CLIENT99999    1\n",
       "\n",
       "[119581 rows x 2 columns]"
      ]
     },
     "execution_count": 24,
     "metadata": {},
     "output_type": "execute_result"
    }
   ],
   "source": [
    "aux=polpart.groupby(['CustomerId'],as_index=False).agg({'Branch':pd.Series.nunique})\n",
    "aux.columns = ['{}_{}'.format(x[0], x[1]) for x in  aux.columns]\n",
    "aux=aux.reset_index()\n",
    "aux.drop([\"index\"], axis = 1, inplace = True)\n",
    "aux"
   ]
  },
  {
   "cell_type": "code",
   "execution_count": 25,
   "metadata": {
    "scrolled": true
   },
   "outputs": [
    {
     "data": {
      "text/plain": [
       "Motor            116353\n",
       "Home              35845\n",
       "Health            24269\n",
       "Trav_Comm_Oth     10066\n",
       "Name: SubBranch_new, dtype: int64"
      ]
     },
     "execution_count": 25,
     "metadata": {},
     "output_type": "execute_result"
    }
   ],
   "source": [
    "#Recalculated SubBranch to create IntegralityCalculated2\n",
    "polpart[\"SubBranch_Health\"] = np.where((polpart[\"SubBranch\"] == \"Group health\") |\\\n",
    "                                       (polpart[\"SubBranch\"] == \"Individual health\"), \"Health\", \"Home\")\n",
    "polpart[\"SubBranch_Trav_Comm_Oth\"] = np.where((polpart['SubBranch_Health'] != \"Health\") &\\\n",
    "                                              ((polpart[\"SubBranch\"] == \"Travel\") |\\\n",
    "                                              (polpart[\"SubBranch\"] == \"Other\") |\\\n",
    "                                              (polpart[\"SubBranch\"] == \"Commercial\")), \"Trav_Comm_Oth\", \"Home\")\n",
    "polpart[\"SubBranch_Motor\"] = np.where((polpart['SubBranch_Health'] != \"Health\") & (polpart['SubBranch_Trav_Comm_Oth'] != \"Trav_Comm_Oth\") &\\\n",
    "                                              (polpart[\"SubBranch\"] == \"Motor\"), \"Motor\", \"Home\")\n",
    "\n",
    "conditions = [\n",
    "    (polpart['SubBranch_Health'] == \"Health\"),\n",
    "    (polpart['SubBranch_Trav_Comm_Oth'] == \"Trav_Comm_Oth\"),\n",
    "    (polpart['SubBranch_Motor'] == \"Motor\")]\n",
    "choices = [\"Health\", \"Trav_Comm_Oth\", \"Motor\"]\n",
    "polpart['SubBranch_new'] = np.select(conditions, choices, default = \"Home\")\n",
    "polpart.SubBranch_new.value_counts()"
   ]
  },
  {
   "cell_type": "code",
   "execution_count": 26,
   "metadata": {},
   "outputs": [
    {
     "data": {
      "text/html": [
       "<div>\n",
       "<style scoped>\n",
       "    .dataframe tbody tr th:only-of-type {\n",
       "        vertical-align: middle;\n",
       "    }\n",
       "\n",
       "    .dataframe tbody tr th {\n",
       "        vertical-align: top;\n",
       "    }\n",
       "\n",
       "    .dataframe thead th {\n",
       "        text-align: right;\n",
       "    }\n",
       "</style>\n",
       "<table border=\"1\" class=\"dataframe\">\n",
       "  <thead>\n",
       "    <tr style=\"text-align: right;\">\n",
       "      <th></th>\n",
       "      <th>C_u</th>\n",
       "      <th>S_u</th>\n",
       "    </tr>\n",
       "  </thead>\n",
       "  <tbody>\n",
       "    <tr>\n",
       "      <th>0</th>\n",
       "      <td>CLIENT002</td>\n",
       "      <td>1</td>\n",
       "    </tr>\n",
       "    <tr>\n",
       "      <th>1</th>\n",
       "      <td>CLIENT004</td>\n",
       "      <td>1</td>\n",
       "    </tr>\n",
       "    <tr>\n",
       "      <th>2</th>\n",
       "      <td>CLIENT005</td>\n",
       "      <td>1</td>\n",
       "    </tr>\n",
       "    <tr>\n",
       "      <th>3</th>\n",
       "      <td>CLIENT007</td>\n",
       "      <td>1</td>\n",
       "    </tr>\n",
       "    <tr>\n",
       "      <th>4</th>\n",
       "      <td>CLIENT008</td>\n",
       "      <td>1</td>\n",
       "    </tr>\n",
       "    <tr>\n",
       "      <th>...</th>\n",
       "      <td>...</td>\n",
       "      <td>...</td>\n",
       "    </tr>\n",
       "    <tr>\n",
       "      <th>119576</th>\n",
       "      <td>CLIENT99995</td>\n",
       "      <td>1</td>\n",
       "    </tr>\n",
       "    <tr>\n",
       "      <th>119577</th>\n",
       "      <td>CLIENT99996</td>\n",
       "      <td>2</td>\n",
       "    </tr>\n",
       "    <tr>\n",
       "      <th>119578</th>\n",
       "      <td>CLIENT99997</td>\n",
       "      <td>1</td>\n",
       "    </tr>\n",
       "    <tr>\n",
       "      <th>119579</th>\n",
       "      <td>CLIENT99998</td>\n",
       "      <td>1</td>\n",
       "    </tr>\n",
       "    <tr>\n",
       "      <th>119580</th>\n",
       "      <td>CLIENT99999</td>\n",
       "      <td>1</td>\n",
       "    </tr>\n",
       "  </tbody>\n",
       "</table>\n",
       "<p>119581 rows × 2 columns</p>\n",
       "</div>"
      ],
      "text/plain": [
       "                C_u  S_u\n",
       "0         CLIENT002    1\n",
       "1         CLIENT004    1\n",
       "2         CLIENT005    1\n",
       "3         CLIENT007    1\n",
       "4         CLIENT008    1\n",
       "...             ...  ...\n",
       "119576  CLIENT99995    1\n",
       "119577  CLIENT99996    2\n",
       "119578  CLIENT99997    1\n",
       "119579  CLIENT99998    1\n",
       "119580  CLIENT99999    1\n",
       "\n",
       "[119581 rows x 2 columns]"
      ]
     },
     "execution_count": 26,
     "metadata": {},
     "output_type": "execute_result"
    }
   ],
   "source": [
    "aux2=polpart.groupby(['CustomerId'],as_index=False).agg({'SubBranch_new':pd.Series.nunique})\n",
    "aux2.columns = ['{}_{}'.format(x[0], x[1]) for x in  aux2.columns]\n",
    "aux2=aux2.reset_index()\n",
    "aux2.drop([\"index\"], axis = 1, inplace = True)\n",
    "aux2"
   ]
  },
  {
   "cell_type": "code",
   "execution_count": 27,
   "metadata": {},
   "outputs": [
    {
     "data": {
      "text/html": [
       "<div>\n",
       "<style scoped>\n",
       "    .dataframe tbody tr th:only-of-type {\n",
       "        vertical-align: middle;\n",
       "    }\n",
       "\n",
       "    .dataframe tbody tr th {\n",
       "        vertical-align: top;\n",
       "    }\n",
       "\n",
       "    .dataframe thead th {\n",
       "        text-align: right;\n",
       "    }\n",
       "</style>\n",
       "<table border=\"1\" class=\"dataframe\">\n",
       "  <thead>\n",
       "    <tr style=\"text-align: right;\">\n",
       "      <th></th>\n",
       "      <th>CustomerId</th>\n",
       "      <th>Premium_sum</th>\n",
       "      <th>Premium_min</th>\n",
       "      <th>Premium_max</th>\n",
       "      <th>PolicyId_count</th>\n",
       "      <th>Age_max</th>\n",
       "      <th>Tenure_max</th>\n",
       "      <th>TenureCalculated_max</th>\n",
       "      <th>Gender_first</th>\n",
       "      <th>Integrality_first</th>\n",
       "      <th>Claim_max</th>\n",
       "      <th>NClaims_sum</th>\n",
       "      <th>ClaimCost_sum</th>\n",
       "      <th>Profitability_sum</th>\n",
       "      <th>PersonalDataProtectionBool_max</th>\n",
       "      <th>DirectDebit_max</th>\n",
       "      <th>DirectDebit_min</th>\n",
       "      <th>IntermediatedPolicy_max</th>\n",
       "      <th>EffectiveDate_min</th>\n",
       "      <th>LossRatio_max</th>\n",
       "      <th>LossRatioCalculated_max</th>\n",
       "      <th>ClientSegmentation_first</th>\n",
       "    </tr>\n",
       "  </thead>\n",
       "  <tbody>\n",
       "    <tr>\n",
       "      <th>0</th>\n",
       "      <td>CLIENT002</td>\n",
       "      <td>280.000000</td>\n",
       "      <td>280.000000</td>\n",
       "      <td>280.000000</td>\n",
       "      <td>1</td>\n",
       "      <td>NaN</td>\n",
       "      <td>NaN</td>\n",
       "      <td>4</td>\n",
       "      <td>NaN</td>\n",
       "      <td>D</td>\n",
       "      <td>0.0</td>\n",
       "      <td>0.0</td>\n",
       "      <td>0.0</td>\n",
       "      <td>63.767120</td>\n",
       "      <td>0.0</td>\n",
       "      <td>1</td>\n",
       "      <td>1</td>\n",
       "      <td>1</td>\n",
       "      <td>2021-01-29</td>\n",
       "      <td>0.000000</td>\n",
       "      <td>1</td>\n",
       "      <td>Silver</td>\n",
       "    </tr>\n",
       "    <tr>\n",
       "      <th>1</th>\n",
       "      <td>CLIENT004</td>\n",
       "      <td>410.130005</td>\n",
       "      <td>410.130005</td>\n",
       "      <td>410.130005</td>\n",
       "      <td>1</td>\n",
       "      <td>75.0</td>\n",
       "      <td>8.0</td>\n",
       "      <td>97</td>\n",
       "      <td>Male</td>\n",
       "      <td>D</td>\n",
       "      <td>1.0</td>\n",
       "      <td>1.0</td>\n",
       "      <td>350.0</td>\n",
       "      <td>1806.372677</td>\n",
       "      <td>1.0</td>\n",
       "      <td>1</td>\n",
       "      <td>1</td>\n",
       "      <td>1</td>\n",
       "      <td>2013-05-20</td>\n",
       "      <td>16.230961</td>\n",
       "      <td>1</td>\n",
       "      <td>Silver</td>\n",
       "    </tr>\n",
       "    <tr>\n",
       "      <th>2</th>\n",
       "      <td>CLIENT005</td>\n",
       "      <td>140.000000</td>\n",
       "      <td>140.000000</td>\n",
       "      <td>140.000000</td>\n",
       "      <td>1</td>\n",
       "      <td>71.0</td>\n",
       "      <td>3.0</td>\n",
       "      <td>38</td>\n",
       "      <td>Male</td>\n",
       "      <td>D</td>\n",
       "      <td>0.0</td>\n",
       "      <td>0.0</td>\n",
       "      <td>0.0</td>\n",
       "      <td>363.552737</td>\n",
       "      <td>1.0</td>\n",
       "      <td>0</td>\n",
       "      <td>0</td>\n",
       "      <td>1</td>\n",
       "      <td>2018-04-24</td>\n",
       "      <td>0.000000</td>\n",
       "      <td>1</td>\n",
       "      <td>Silver</td>\n",
       "    </tr>\n",
       "    <tr>\n",
       "      <th>3</th>\n",
       "      <td>CLIENT007</td>\n",
       "      <td>406.500000</td>\n",
       "      <td>406.500000</td>\n",
       "      <td>406.500000</td>\n",
       "      <td>1</td>\n",
       "      <td>58.0</td>\n",
       "      <td>0.0</td>\n",
       "      <td>5</td>\n",
       "      <td>Female</td>\n",
       "      <td>C</td>\n",
       "      <td>0.0</td>\n",
       "      <td>0.0</td>\n",
       "      <td>0.0</td>\n",
       "      <td>33.684398</td>\n",
       "      <td>1.0</td>\n",
       "      <td>1</td>\n",
       "      <td>1</td>\n",
       "      <td>1</td>\n",
       "      <td>2021-01-04</td>\n",
       "      <td>0.000000</td>\n",
       "      <td>1</td>\n",
       "      <td>Silver</td>\n",
       "    </tr>\n",
       "    <tr>\n",
       "      <th>4</th>\n",
       "      <td>CLIENT008</td>\n",
       "      <td>0.000000</td>\n",
       "      <td>0.000000</td>\n",
       "      <td>0.000000</td>\n",
       "      <td>1</td>\n",
       "      <td>4.0</td>\n",
       "      <td>2.0</td>\n",
       "      <td>29</td>\n",
       "      <td>Male</td>\n",
       "      <td>NaN</td>\n",
       "      <td>0.0</td>\n",
       "      <td>0.0</td>\n",
       "      <td>0.0</td>\n",
       "      <td>40.990000</td>\n",
       "      <td>NaN</td>\n",
       "      <td>0</td>\n",
       "      <td>0</td>\n",
       "      <td>1</td>\n",
       "      <td>2019-01-01</td>\n",
       "      <td>0.000000</td>\n",
       "      <td>1</td>\n",
       "      <td>Silver</td>\n",
       "    </tr>\n",
       "    <tr>\n",
       "      <th>...</th>\n",
       "      <td>...</td>\n",
       "      <td>...</td>\n",
       "      <td>...</td>\n",
       "      <td>...</td>\n",
       "      <td>...</td>\n",
       "      <td>...</td>\n",
       "      <td>...</td>\n",
       "      <td>...</td>\n",
       "      <td>...</td>\n",
       "      <td>...</td>\n",
       "      <td>...</td>\n",
       "      <td>...</td>\n",
       "      <td>...</td>\n",
       "      <td>...</td>\n",
       "      <td>...</td>\n",
       "      <td>...</td>\n",
       "      <td>...</td>\n",
       "      <td>...</td>\n",
       "      <td>...</td>\n",
       "      <td>...</td>\n",
       "      <td>...</td>\n",
       "      <td>...</td>\n",
       "    </tr>\n",
       "    <tr>\n",
       "      <th>119576</th>\n",
       "      <td>CLIENT99995</td>\n",
       "      <td>228.750000</td>\n",
       "      <td>228.750000</td>\n",
       "      <td>228.750000</td>\n",
       "      <td>1</td>\n",
       "      <td>43.0</td>\n",
       "      <td>2.0</td>\n",
       "      <td>29</td>\n",
       "      <td>Female</td>\n",
       "      <td>D</td>\n",
       "      <td>0.0</td>\n",
       "      <td>0.0</td>\n",
       "      <td>0.0</td>\n",
       "      <td>350.779726</td>\n",
       "      <td>1.0</td>\n",
       "      <td>1</td>\n",
       "      <td>1</td>\n",
       "      <td>1</td>\n",
       "      <td>2019-01-07</td>\n",
       "      <td>0.000000</td>\n",
       "      <td>1</td>\n",
       "      <td>Silver</td>\n",
       "    </tr>\n",
       "    <tr>\n",
       "      <th>119577</th>\n",
       "      <td>CLIENT99996</td>\n",
       "      <td>177.277794</td>\n",
       "      <td>70.000000</td>\n",
       "      <td>107.277794</td>\n",
       "      <td>2</td>\n",
       "      <td>42.0</td>\n",
       "      <td>4.0</td>\n",
       "      <td>43</td>\n",
       "      <td>Male</td>\n",
       "      <td>C</td>\n",
       "      <td>0.0</td>\n",
       "      <td>0.0</td>\n",
       "      <td>0.0</td>\n",
       "      <td>318.575265</td>\n",
       "      <td>0.0</td>\n",
       "      <td>1</td>\n",
       "      <td>1</td>\n",
       "      <td>1</td>\n",
       "      <td>2017-11-18</td>\n",
       "      <td>0.000000</td>\n",
       "      <td>1</td>\n",
       "      <td>Gold</td>\n",
       "    </tr>\n",
       "    <tr>\n",
       "      <th>119578</th>\n",
       "      <td>CLIENT99997</td>\n",
       "      <td>150.000000</td>\n",
       "      <td>150.000000</td>\n",
       "      <td>150.000000</td>\n",
       "      <td>1</td>\n",
       "      <td>39.0</td>\n",
       "      <td>9.0</td>\n",
       "      <td>113</td>\n",
       "      <td>Male</td>\n",
       "      <td>C</td>\n",
       "      <td>0.0</td>\n",
       "      <td>0.0</td>\n",
       "      <td>0.0</td>\n",
       "      <td>1088.352737</td>\n",
       "      <td>1.0</td>\n",
       "      <td>0</td>\n",
       "      <td>0</td>\n",
       "      <td>0</td>\n",
       "      <td>2012-01-05</td>\n",
       "      <td>0.000000</td>\n",
       "      <td>1</td>\n",
       "      <td>Platinum</td>\n",
       "    </tr>\n",
       "    <tr>\n",
       "      <th>119579</th>\n",
       "      <td>CLIENT99998</td>\n",
       "      <td>25.000000</td>\n",
       "      <td>25.000000</td>\n",
       "      <td>25.000000</td>\n",
       "      <td>1</td>\n",
       "      <td>60.0</td>\n",
       "      <td>2.0</td>\n",
       "      <td>29</td>\n",
       "      <td>NaN</td>\n",
       "      <td>NaN</td>\n",
       "      <td>0.0</td>\n",
       "      <td>0.0</td>\n",
       "      <td>0.0</td>\n",
       "      <td>47.903835</td>\n",
       "      <td>NaN</td>\n",
       "      <td>0</td>\n",
       "      <td>0</td>\n",
       "      <td>1</td>\n",
       "      <td>2019-01-06</td>\n",
       "      <td>0.000000</td>\n",
       "      <td>1</td>\n",
       "      <td>Gold</td>\n",
       "    </tr>\n",
       "    <tr>\n",
       "      <th>119580</th>\n",
       "      <td>CLIENT99999</td>\n",
       "      <td>358.300003</td>\n",
       "      <td>135.000000</td>\n",
       "      <td>223.300003</td>\n",
       "      <td>2</td>\n",
       "      <td>66.0</td>\n",
       "      <td>2.0</td>\n",
       "      <td>29</td>\n",
       "      <td>Male</td>\n",
       "      <td>D</td>\n",
       "      <td>0.0</td>\n",
       "      <td>0.0</td>\n",
       "      <td>0.0</td>\n",
       "      <td>275.179048</td>\n",
       "      <td>1.0</td>\n",
       "      <td>1</td>\n",
       "      <td>1</td>\n",
       "      <td>1</td>\n",
       "      <td>2019-01-07</td>\n",
       "      <td>0.000000</td>\n",
       "      <td>1</td>\n",
       "      <td>Platinum</td>\n",
       "    </tr>\n",
       "  </tbody>\n",
       "</table>\n",
       "<p>119581 rows × 22 columns</p>\n",
       "</div>"
      ],
      "text/plain": [
       "         CustomerId  Premium_sum  Premium_min  Premium_max  PolicyId_count  \\\n",
       "0         CLIENT002   280.000000   280.000000   280.000000               1   \n",
       "1         CLIENT004   410.130005   410.130005   410.130005               1   \n",
       "2         CLIENT005   140.000000   140.000000   140.000000               1   \n",
       "3         CLIENT007   406.500000   406.500000   406.500000               1   \n",
       "4         CLIENT008     0.000000     0.000000     0.000000               1   \n",
       "...             ...          ...          ...          ...             ...   \n",
       "119576  CLIENT99995   228.750000   228.750000   228.750000               1   \n",
       "119577  CLIENT99996   177.277794    70.000000   107.277794               2   \n",
       "119578  CLIENT99997   150.000000   150.000000   150.000000               1   \n",
       "119579  CLIENT99998    25.000000    25.000000    25.000000               1   \n",
       "119580  CLIENT99999   358.300003   135.000000   223.300003               2   \n",
       "\n",
       "        Age_max  Tenure_max  TenureCalculated_max Gender_first  \\\n",
       "0           NaN         NaN                     4          NaN   \n",
       "1          75.0         8.0                    97         Male   \n",
       "2          71.0         3.0                    38         Male   \n",
       "3          58.0         0.0                     5       Female   \n",
       "4           4.0         2.0                    29         Male   \n",
       "...         ...         ...                   ...          ...   \n",
       "119576     43.0         2.0                    29       Female   \n",
       "119577     42.0         4.0                    43         Male   \n",
       "119578     39.0         9.0                   113         Male   \n",
       "119579     60.0         2.0                    29          NaN   \n",
       "119580     66.0         2.0                    29         Male   \n",
       "\n",
       "       Integrality_first  Claim_max  NClaims_sum  ClaimCost_sum  \\\n",
       "0                      D        0.0          0.0            0.0   \n",
       "1                      D        1.0          1.0          350.0   \n",
       "2                      D        0.0          0.0            0.0   \n",
       "3                      C        0.0          0.0            0.0   \n",
       "4                    NaN        0.0          0.0            0.0   \n",
       "...                  ...        ...          ...            ...   \n",
       "119576                 D        0.0          0.0            0.0   \n",
       "119577                 C        0.0          0.0            0.0   \n",
       "119578                 C        0.0          0.0            0.0   \n",
       "119579               NaN        0.0          0.0            0.0   \n",
       "119580                 D        0.0          0.0            0.0   \n",
       "\n",
       "        Profitability_sum  PersonalDataProtectionBool_max  DirectDebit_max  \\\n",
       "0               63.767120                             0.0                1   \n",
       "1             1806.372677                             1.0                1   \n",
       "2              363.552737                             1.0                0   \n",
       "3               33.684398                             1.0                1   \n",
       "4               40.990000                             NaN                0   \n",
       "...                   ...                             ...              ...   \n",
       "119576         350.779726                             1.0                1   \n",
       "119577         318.575265                             0.0                1   \n",
       "119578        1088.352737                             1.0                0   \n",
       "119579          47.903835                             NaN                0   \n",
       "119580         275.179048                             1.0                1   \n",
       "\n",
       "        DirectDebit_min  IntermediatedPolicy_max EffectiveDate_min  \\\n",
       "0                     1                        1        2021-01-29   \n",
       "1                     1                        1        2013-05-20   \n",
       "2                     0                        1        2018-04-24   \n",
       "3                     1                        1        2021-01-04   \n",
       "4                     0                        1        2019-01-01   \n",
       "...                 ...                      ...               ...   \n",
       "119576                1                        1        2019-01-07   \n",
       "119577                1                        1        2017-11-18   \n",
       "119578                0                        0        2012-01-05   \n",
       "119579                0                        1        2019-01-06   \n",
       "119580                1                        1        2019-01-07   \n",
       "\n",
       "        LossRatio_max  LossRatioCalculated_max ClientSegmentation_first  \n",
       "0            0.000000                        1                   Silver  \n",
       "1           16.230961                        1                   Silver  \n",
       "2            0.000000                        1                   Silver  \n",
       "3            0.000000                        1                   Silver  \n",
       "4            0.000000                        1                   Silver  \n",
       "...               ...                      ...                      ...  \n",
       "119576       0.000000                        1                   Silver  \n",
       "119577       0.000000                        1                     Gold  \n",
       "119578       0.000000                        1                 Platinum  \n",
       "119579       0.000000                        1                     Gold  \n",
       "119580       0.000000                        1                 Platinum  \n",
       "\n",
       "[119581 rows x 22 columns]"
      ]
     },
     "execution_count": 27,
     "metadata": {},
     "output_type": "execute_result"
    }
   ],
   "source": [
    "##########################################################\n",
    "#######     GROUP BY TO INDIVIDUAL CUSTOMER LEVEL ########\n",
    "##########################################################\n",
    "clientesp=polpart.groupby(['CustomerId'],as_index=False).agg({'Premium': ['sum', 'min', 'max'],\n",
    "                                                              'PolicyId':['count'],\n",
    "                                                              'Age':['max'],\n",
    "                                                              'Tenure':['max'],\n",
    "                                                              'TenureCalculated':['max'],\n",
    "                                                              'Gender':['first'],\n",
    "                                                              'Integrality':['first'],\n",
    "                                                              'Claim':['max'],\n",
    "                                                              'NClaims':['sum'],\n",
    "                                                              'ClaimCost':['sum'],\n",
    "                                                              'Profitability':['sum'],\n",
    "                                                              'PersonalDataProtectionBool':['max'],\n",
    "                                                              'DirectDebit':['max', 'min'],\n",
    "                                                              'IntermediatedPolicy':['max'],\n",
    "                                                              'EffectiveDate':['min'],\n",
    "                                                              'LossRatio':['max'],\n",
    "                                                              'LossRatioCalculated': ['max'],\n",
    "                                                              'ClientSegmentation': ['first']})\n",
    "clientesp.columns = ['{}_{}'.format(x[0], x[1]) for x in  clientesp.columns]\n",
    "clientesp=clientesp.rename(columns={'CustomerId_':'CustomerId'})\n",
    "clientesp"
   ]
  },
  {
   "cell_type": "code",
   "execution_count": 28,
   "metadata": {},
   "outputs": [],
   "source": [
    "clientesp['ProfitabilityCalculated'] = clientesp['Premium_sum']-(clientesp['ClaimCost_sum'])"
   ]
  },
  {
   "cell_type": "code",
   "execution_count": 29,
   "metadata": {},
   "outputs": [],
   "source": [
    "clientesp['IntegralityCalculated'] = aux[\"B_r\"]"
   ]
  },
  {
   "cell_type": "code",
   "execution_count": 30,
   "metadata": {},
   "outputs": [],
   "source": [
    "clientesp['IntegralityCalculated']= clientesp['IntegralityCalculated'].replace([0],[1])"
   ]
  },
  {
   "cell_type": "code",
   "execution_count": 31,
   "metadata": {},
   "outputs": [
    {
     "data": {
      "text/plain": [
       "1    101548\n",
       "2     15890\n",
       "3      2115\n",
       "4        28\n",
       "Name: IntegralityCalculated, dtype: int64"
      ]
     },
     "execution_count": 31,
     "metadata": {},
     "output_type": "execute_result"
    }
   ],
   "source": [
    "clientesp['IntegralityCalculated'].value_counts()"
   ]
  },
  {
   "cell_type": "code",
   "execution_count": 32,
   "metadata": {},
   "outputs": [
    {
     "data": {
      "text/plain": [
       "1    101595\n",
       "2     15845\n",
       "3      2112\n",
       "4        29\n",
       "Name: IntegralityCalculated2, dtype: int64"
      ]
     },
     "execution_count": 32,
     "metadata": {},
     "output_type": "execute_result"
    }
   ],
   "source": [
    "clientesp['IntegralityCalculated2'] = aux2[\"S_u\"]\n",
    "clientesp['IntegralityCalculated2'].value_counts()"
   ]
  },
  {
   "cell_type": "code",
   "execution_count": 33,
   "metadata": {},
   "outputs": [],
   "source": [
    "######################################\n",
    "#######     CHANNEL OF CLIENT ########\n",
    "######################################\n",
    "canal_count=polpart[['CustomerId', 'ContractChannel']].groupby(['CustomerId','ContractChannel']).size().reset_index(name='Count')"
   ]
  },
  {
   "cell_type": "code",
   "execution_count": 34,
   "metadata": {},
   "outputs": [
    {
     "name": "stdout",
     "output_type": "stream",
     "text": [
      "<class 'pandas.core.frame.DataFrame'>\n",
      "RangeIndex: 119581 entries, 0 to 119580\n",
      "Data columns (total 2 columns):\n",
      " #   Column                 Non-Null Count   Dtype \n",
      "---  ------                 --------------   ----- \n",
      " 0   CustomerId             119581 non-null  object\n",
      " 1   ContractChannel_first  119581 non-null  object\n",
      "dtypes: object(2)\n",
      "memory usage: 1.8+ MB\n"
     ]
    }
   ],
   "source": [
    "canal=canal_count.sort_values('Count', ascending=False).groupby(['CustomerId']).agg({'ContractChannel': ['first']})\n",
    "canal.columns = ['{}_{}'.format(x[0], x[1]) for x in  canal.columns]\n",
    "canal=canal.reset_index()\n",
    "canal.info()"
   ]
  },
  {
   "cell_type": "code",
   "execution_count": 35,
   "metadata": {},
   "outputs": [
    {
     "data": {
      "text/html": [
       "<div>\n",
       "<style scoped>\n",
       "    .dataframe tbody tr th:only-of-type {\n",
       "        vertical-align: middle;\n",
       "    }\n",
       "\n",
       "    .dataframe tbody tr th {\n",
       "        vertical-align: top;\n",
       "    }\n",
       "\n",
       "    .dataframe thead th {\n",
       "        text-align: right;\n",
       "    }\n",
       "</style>\n",
       "<table border=\"1\" class=\"dataframe\">\n",
       "  <thead>\n",
       "    <tr style=\"text-align: right;\">\n",
       "      <th></th>\n",
       "      <th>CustomerId</th>\n",
       "      <th>Premium_sum</th>\n",
       "      <th>Premium_min</th>\n",
       "      <th>Premium_max</th>\n",
       "      <th>PolicyId_count</th>\n",
       "      <th>Age_max</th>\n",
       "      <th>Tenure_max</th>\n",
       "      <th>TenureCalculated_max</th>\n",
       "      <th>Gender_first</th>\n",
       "      <th>Integrality_first</th>\n",
       "      <th>Claim_max</th>\n",
       "      <th>NClaims_sum</th>\n",
       "      <th>ClaimCost_sum</th>\n",
       "      <th>Profitability_sum</th>\n",
       "      <th>PersonalDataProtectionBool_max</th>\n",
       "      <th>DirectDebit_max</th>\n",
       "      <th>DirectDebit_min</th>\n",
       "      <th>IntermediatedPolicy_max</th>\n",
       "      <th>EffectiveDate_min</th>\n",
       "      <th>LossRatio_max</th>\n",
       "      <th>LossRatioCalculated_max</th>\n",
       "      <th>ClientSegmentation_first</th>\n",
       "      <th>ProfitabilityCalculated</th>\n",
       "      <th>IntegralityCalculated</th>\n",
       "      <th>IntegralityCalculated2</th>\n",
       "      <th>ContractChannel_first</th>\n",
       "    </tr>\n",
       "  </thead>\n",
       "  <tbody>\n",
       "    <tr>\n",
       "      <th>0</th>\n",
       "      <td>CLIENT002</td>\n",
       "      <td>280.000000</td>\n",
       "      <td>280.000000</td>\n",
       "      <td>280.000000</td>\n",
       "      <td>1</td>\n",
       "      <td>NaN</td>\n",
       "      <td>NaN</td>\n",
       "      <td>4</td>\n",
       "      <td>NaN</td>\n",
       "      <td>D</td>\n",
       "      <td>0.0</td>\n",
       "      <td>0.0</td>\n",
       "      <td>0.0</td>\n",
       "      <td>63.767120</td>\n",
       "      <td>0.0</td>\n",
       "      <td>1</td>\n",
       "      <td>1</td>\n",
       "      <td>1</td>\n",
       "      <td>2021-01-29</td>\n",
       "      <td>0.000000</td>\n",
       "      <td>1</td>\n",
       "      <td>Silver</td>\n",
       "      <td>280.000000</td>\n",
       "      <td>1</td>\n",
       "      <td>1</td>\n",
       "      <td>Brokers</td>\n",
       "    </tr>\n",
       "    <tr>\n",
       "      <th>1</th>\n",
       "      <td>CLIENT004</td>\n",
       "      <td>410.130005</td>\n",
       "      <td>410.130005</td>\n",
       "      <td>410.130005</td>\n",
       "      <td>1</td>\n",
       "      <td>75.0</td>\n",
       "      <td>8.0</td>\n",
       "      <td>97</td>\n",
       "      <td>Male</td>\n",
       "      <td>D</td>\n",
       "      <td>1.0</td>\n",
       "      <td>1.0</td>\n",
       "      <td>350.0</td>\n",
       "      <td>1806.372677</td>\n",
       "      <td>1.0</td>\n",
       "      <td>1</td>\n",
       "      <td>1</td>\n",
       "      <td>1</td>\n",
       "      <td>2013-05-20</td>\n",
       "      <td>16.230961</td>\n",
       "      <td>1</td>\n",
       "      <td>Silver</td>\n",
       "      <td>60.130005</td>\n",
       "      <td>1</td>\n",
       "      <td>1</td>\n",
       "      <td>Agents</td>\n",
       "    </tr>\n",
       "    <tr>\n",
       "      <th>2</th>\n",
       "      <td>CLIENT005</td>\n",
       "      <td>140.000000</td>\n",
       "      <td>140.000000</td>\n",
       "      <td>140.000000</td>\n",
       "      <td>1</td>\n",
       "      <td>71.0</td>\n",
       "      <td>3.0</td>\n",
       "      <td>38</td>\n",
       "      <td>Male</td>\n",
       "      <td>D</td>\n",
       "      <td>0.0</td>\n",
       "      <td>0.0</td>\n",
       "      <td>0.0</td>\n",
       "      <td>363.552737</td>\n",
       "      <td>1.0</td>\n",
       "      <td>0</td>\n",
       "      <td>0</td>\n",
       "      <td>1</td>\n",
       "      <td>2018-04-24</td>\n",
       "      <td>0.000000</td>\n",
       "      <td>1</td>\n",
       "      <td>Silver</td>\n",
       "      <td>140.000000</td>\n",
       "      <td>1</td>\n",
       "      <td>1</td>\n",
       "      <td>Agents</td>\n",
       "    </tr>\n",
       "    <tr>\n",
       "      <th>3</th>\n",
       "      <td>CLIENT007</td>\n",
       "      <td>406.500000</td>\n",
       "      <td>406.500000</td>\n",
       "      <td>406.500000</td>\n",
       "      <td>1</td>\n",
       "      <td>58.0</td>\n",
       "      <td>0.0</td>\n",
       "      <td>5</td>\n",
       "      <td>Female</td>\n",
       "      <td>C</td>\n",
       "      <td>0.0</td>\n",
       "      <td>0.0</td>\n",
       "      <td>0.0</td>\n",
       "      <td>33.684398</td>\n",
       "      <td>1.0</td>\n",
       "      <td>1</td>\n",
       "      <td>1</td>\n",
       "      <td>1</td>\n",
       "      <td>2021-01-04</td>\n",
       "      <td>0.000000</td>\n",
       "      <td>1</td>\n",
       "      <td>Silver</td>\n",
       "      <td>406.500000</td>\n",
       "      <td>1</td>\n",
       "      <td>1</td>\n",
       "      <td>TIIs</td>\n",
       "    </tr>\n",
       "    <tr>\n",
       "      <th>4</th>\n",
       "      <td>CLIENT008</td>\n",
       "      <td>0.000000</td>\n",
       "      <td>0.000000</td>\n",
       "      <td>0.000000</td>\n",
       "      <td>1</td>\n",
       "      <td>4.0</td>\n",
       "      <td>2.0</td>\n",
       "      <td>29</td>\n",
       "      <td>Male</td>\n",
       "      <td>NaN</td>\n",
       "      <td>0.0</td>\n",
       "      <td>0.0</td>\n",
       "      <td>0.0</td>\n",
       "      <td>40.990000</td>\n",
       "      <td>NaN</td>\n",
       "      <td>0</td>\n",
       "      <td>0</td>\n",
       "      <td>1</td>\n",
       "      <td>2019-01-01</td>\n",
       "      <td>0.000000</td>\n",
       "      <td>1</td>\n",
       "      <td>Silver</td>\n",
       "      <td>0.000000</td>\n",
       "      <td>1</td>\n",
       "      <td>1</td>\n",
       "      <td>Brokers</td>\n",
       "    </tr>\n",
       "  </tbody>\n",
       "</table>\n",
       "</div>"
      ],
      "text/plain": [
       "  CustomerId  Premium_sum  Premium_min  Premium_max  PolicyId_count  Age_max  \\\n",
       "0  CLIENT002   280.000000   280.000000   280.000000               1      NaN   \n",
       "1  CLIENT004   410.130005   410.130005   410.130005               1     75.0   \n",
       "2  CLIENT005   140.000000   140.000000   140.000000               1     71.0   \n",
       "3  CLIENT007   406.500000   406.500000   406.500000               1     58.0   \n",
       "4  CLIENT008     0.000000     0.000000     0.000000               1      4.0   \n",
       "\n",
       "   Tenure_max  TenureCalculated_max Gender_first Integrality_first  Claim_max  \\\n",
       "0         NaN                     4          NaN                 D        0.0   \n",
       "1         8.0                    97         Male                 D        1.0   \n",
       "2         3.0                    38         Male                 D        0.0   \n",
       "3         0.0                     5       Female                 C        0.0   \n",
       "4         2.0                    29         Male               NaN        0.0   \n",
       "\n",
       "   NClaims_sum  ClaimCost_sum  Profitability_sum  \\\n",
       "0          0.0            0.0          63.767120   \n",
       "1          1.0          350.0        1806.372677   \n",
       "2          0.0            0.0         363.552737   \n",
       "3          0.0            0.0          33.684398   \n",
       "4          0.0            0.0          40.990000   \n",
       "\n",
       "   PersonalDataProtectionBool_max  DirectDebit_max  DirectDebit_min  \\\n",
       "0                             0.0                1                1   \n",
       "1                             1.0                1                1   \n",
       "2                             1.0                0                0   \n",
       "3                             1.0                1                1   \n",
       "4                             NaN                0                0   \n",
       "\n",
       "   IntermediatedPolicy_max EffectiveDate_min  LossRatio_max  \\\n",
       "0                        1        2021-01-29       0.000000   \n",
       "1                        1        2013-05-20      16.230961   \n",
       "2                        1        2018-04-24       0.000000   \n",
       "3                        1        2021-01-04       0.000000   \n",
       "4                        1        2019-01-01       0.000000   \n",
       "\n",
       "   LossRatioCalculated_max ClientSegmentation_first  ProfitabilityCalculated  \\\n",
       "0                        1                   Silver               280.000000   \n",
       "1                        1                   Silver                60.130005   \n",
       "2                        1                   Silver               140.000000   \n",
       "3                        1                   Silver               406.500000   \n",
       "4                        1                   Silver                 0.000000   \n",
       "\n",
       "   IntegralityCalculated  IntegralityCalculated2 ContractChannel_first  \n",
       "0                      1                       1               Brokers  \n",
       "1                      1                       1                Agents  \n",
       "2                      1                       1                Agents  \n",
       "3                      1                       1                  TIIs  \n",
       "4                      1                       1               Brokers  "
      ]
     },
     "execution_count": 35,
     "metadata": {},
     "output_type": "execute_result"
    }
   ],
   "source": [
    "clientespart= pd.merge(clientesp, canal, on='CustomerId', how='left')\n",
    "clientespart.head()"
   ]
  },
  {
   "cell_type": "code",
   "execution_count": 36,
   "metadata": {},
   "outputs": [
    {
     "data": {
      "text/html": [
       "<div>\n",
       "<style scoped>\n",
       "    .dataframe tbody tr th:only-of-type {\n",
       "        vertical-align: middle;\n",
       "    }\n",
       "\n",
       "    .dataframe tbody tr th {\n",
       "        vertical-align: top;\n",
       "    }\n",
       "\n",
       "    .dataframe thead th {\n",
       "        text-align: right;\n",
       "    }\n",
       "</style>\n",
       "<table border=\"1\" class=\"dataframe\">\n",
       "  <thead>\n",
       "    <tr style=\"text-align: right;\">\n",
       "      <th></th>\n",
       "      <th>Premium_sum</th>\n",
       "      <th>Premium_min</th>\n",
       "      <th>Premium_max</th>\n",
       "      <th>PolicyId_count</th>\n",
       "      <th>Age_max</th>\n",
       "      <th>Tenure_max</th>\n",
       "      <th>TenureCalculated_max</th>\n",
       "      <th>Claim_max</th>\n",
       "      <th>NClaims_sum</th>\n",
       "      <th>ClaimCost_sum</th>\n",
       "      <th>Profitability_sum</th>\n",
       "      <th>PersonalDataProtectionBool_max</th>\n",
       "      <th>DirectDebit_max</th>\n",
       "      <th>DirectDebit_min</th>\n",
       "      <th>IntermediatedPolicy_max</th>\n",
       "      <th>LossRatio_max</th>\n",
       "      <th>LossRatioCalculated_max</th>\n",
       "      <th>ProfitabilityCalculated</th>\n",
       "      <th>IntegralityCalculated</th>\n",
       "      <th>IntegralityCalculated2</th>\n",
       "    </tr>\n",
       "  </thead>\n",
       "  <tbody>\n",
       "    <tr>\n",
       "      <th>count</th>\n",
       "      <td>119581.000000</td>\n",
       "      <td>119581.000000</td>\n",
       "      <td>119581.000000</td>\n",
       "      <td>119581.000000</td>\n",
       "      <td>119568.000000</td>\n",
       "      <td>119580.000000</td>\n",
       "      <td>119581.000000</td>\n",
       "      <td>119521.000000</td>\n",
       "      <td>119581.000000</td>\n",
       "      <td>1.195810e+05</td>\n",
       "      <td>1.195810e+05</td>\n",
       "      <td>97143.000000</td>\n",
       "      <td>119581.000000</td>\n",
       "      <td>119581.000000</td>\n",
       "      <td>119581.000000</td>\n",
       "      <td>1.195210e+05</td>\n",
       "      <td>119581.000000</td>\n",
       "      <td>1.195810e+05</td>\n",
       "      <td>119581.000000</td>\n",
       "      <td>119581.000000</td>\n",
       "    </tr>\n",
       "    <tr>\n",
       "      <th>mean</th>\n",
       "      <td>391.455347</td>\n",
       "      <td>204.990181</td>\n",
       "      <td>276.590940</td>\n",
       "      <td>1.559888</td>\n",
       "      <td>43.925423</td>\n",
       "      <td>4.674109</td>\n",
       "      <td>55.831286</td>\n",
       "      <td>0.312347</td>\n",
       "      <td>0.980540</td>\n",
       "      <td>5.969582e+02</td>\n",
       "      <td>4.766552e+02</td>\n",
       "      <td>0.821253</td>\n",
       "      <td>0.602679</td>\n",
       "      <td>0.548206</td>\n",
       "      <td>0.901188</td>\n",
       "      <td>-5.267741e+14</td>\n",
       "      <td>1.603775</td>\n",
       "      <td>-2.055028e+02</td>\n",
       "      <td>1.168957</td>\n",
       "      <td>1.168555</td>\n",
       "    </tr>\n",
       "    <tr>\n",
       "      <th>std</th>\n",
       "      <td>1365.623954</td>\n",
       "      <td>219.343394</td>\n",
       "      <td>451.203946</td>\n",
       "      <td>2.156125</td>\n",
       "      <td>16.392210</td>\n",
       "      <td>3.677046</td>\n",
       "      <td>43.884550</td>\n",
       "      <td>0.463452</td>\n",
       "      <td>3.264923</td>\n",
       "      <td>5.326651e+03</td>\n",
       "      <td>5.209952e+03</td>\n",
       "      <td>0.383142</td>\n",
       "      <td>0.489345</td>\n",
       "      <td>0.497673</td>\n",
       "      <td>0.298410</td>\n",
       "      <td>1.599603e+17</td>\n",
       "      <td>1.130243</td>\n",
       "      <td>5.126110e+03</td>\n",
       "      <td>0.420940</td>\n",
       "      <td>0.420624</td>\n",
       "    </tr>\n",
       "    <tr>\n",
       "      <th>min</th>\n",
       "      <td>-1044.119766</td>\n",
       "      <td>-1207.466797</td>\n",
       "      <td>-0.008516</td>\n",
       "      <td>1.000000</td>\n",
       "      <td>0.000000</td>\n",
       "      <td>0.000000</td>\n",
       "      <td>-1.000000</td>\n",
       "      <td>0.000000</td>\n",
       "      <td>0.000000</td>\n",
       "      <td>-1.847390e+05</td>\n",
       "      <td>-1.499166e+06</td>\n",
       "      <td>0.000000</td>\n",
       "      <td>0.000000</td>\n",
       "      <td>0.000000</td>\n",
       "      <td>0.000000</td>\n",
       "      <td>-5.323818e+19</td>\n",
       "      <td>1.000000</td>\n",
       "      <td>-1.499924e+06</td>\n",
       "      <td>1.000000</td>\n",
       "      <td>1.000000</td>\n",
       "    </tr>\n",
       "    <tr>\n",
       "      <th>25%</th>\n",
       "      <td>136.459999</td>\n",
       "      <td>85.000000</td>\n",
       "      <td>130.000000</td>\n",
       "      <td>1.000000</td>\n",
       "      <td>32.000000</td>\n",
       "      <td>2.000000</td>\n",
       "      <td>20.000000</td>\n",
       "      <td>0.000000</td>\n",
       "      <td>0.000000</td>\n",
       "      <td>0.000000e+00</td>\n",
       "      <td>7.182466e+01</td>\n",
       "      <td>1.000000</td>\n",
       "      <td>0.000000</td>\n",
       "      <td>0.000000</td>\n",
       "      <td>1.000000</td>\n",
       "      <td>0.000000e+00</td>\n",
       "      <td>1.000000</td>\n",
       "      <td>2.835000e+01</td>\n",
       "      <td>1.000000</td>\n",
       "      <td>1.000000</td>\n",
       "    </tr>\n",
       "    <tr>\n",
       "      <th>50%</th>\n",
       "      <td>248.199997</td>\n",
       "      <td>150.000000</td>\n",
       "      <td>210.004196</td>\n",
       "      <td>1.000000</td>\n",
       "      <td>42.000000</td>\n",
       "      <td>4.000000</td>\n",
       "      <td>46.000000</td>\n",
       "      <td>0.000000</td>\n",
       "      <td>0.000000</td>\n",
       "      <td>0.000000e+00</td>\n",
       "      <td>3.643578e+02</td>\n",
       "      <td>1.000000</td>\n",
       "      <td>1.000000</td>\n",
       "      <td>1.000000</td>\n",
       "      <td>1.000000</td>\n",
       "      <td>0.000000e+00</td>\n",
       "      <td>1.000000</td>\n",
       "      <td>1.500000e+02</td>\n",
       "      <td>1.000000</td>\n",
       "      <td>1.000000</td>\n",
       "    </tr>\n",
       "    <tr>\n",
       "      <th>75%</th>\n",
       "      <td>437.809998</td>\n",
       "      <td>260.420013</td>\n",
       "      <td>330.973541</td>\n",
       "      <td>2.000000</td>\n",
       "      <td>56.000000</td>\n",
       "      <td>6.000000</td>\n",
       "      <td>77.000000</td>\n",
       "      <td>1.000000</td>\n",
       "      <td>1.000000</td>\n",
       "      <td>1.510000e+02</td>\n",
       "      <td>9.114287e+02</td>\n",
       "      <td>1.000000</td>\n",
       "      <td>1.000000</td>\n",
       "      <td>1.000000</td>\n",
       "      <td>1.000000</td>\n",
       "      <td>2.520265e+01</td>\n",
       "      <td>1.000000</td>\n",
       "      <td>3.185039e+02</td>\n",
       "      <td>1.000000</td>\n",
       "      <td>1.000000</td>\n",
       "    </tr>\n",
       "    <tr>\n",
       "      <th>max</th>\n",
       "      <td>354849.733521</td>\n",
       "      <td>14500.000000</td>\n",
       "      <td>98550.000000</td>\n",
       "      <td>473.000000</td>\n",
       "      <td>132.000000</td>\n",
       "      <td>23.000000</td>\n",
       "      <td>278.000000</td>\n",
       "      <td>1.000000</td>\n",
       "      <td>294.000000</td>\n",
       "      <td>1.500379e+06</td>\n",
       "      <td>1.895643e+05</td>\n",
       "      <td>1.000000</td>\n",
       "      <td>1.000000</td>\n",
       "      <td>1.000000</td>\n",
       "      <td>1.000000</td>\n",
       "      <td>4.825285e+18</td>\n",
       "      <td>4.000000</td>\n",
       "      <td>1.867671e+05</td>\n",
       "      <td>4.000000</td>\n",
       "      <td>4.000000</td>\n",
       "    </tr>\n",
       "    <tr>\n",
       "      <th>range</th>\n",
       "      <td>355893.853287</td>\n",
       "      <td>15707.466797</td>\n",
       "      <td>98550.008516</td>\n",
       "      <td>472.000000</td>\n",
       "      <td>132.000000</td>\n",
       "      <td>23.000000</td>\n",
       "      <td>279.000000</td>\n",
       "      <td>1.000000</td>\n",
       "      <td>294.000000</td>\n",
       "      <td>1.685118e+06</td>\n",
       "      <td>1.688731e+06</td>\n",
       "      <td>1.000000</td>\n",
       "      <td>1.000000</td>\n",
       "      <td>1.000000</td>\n",
       "      <td>1.000000</td>\n",
       "      <td>5.806346e+19</td>\n",
       "      <td>3.000000</td>\n",
       "      <td>1.686691e+06</td>\n",
       "      <td>3.000000</td>\n",
       "      <td>3.000000</td>\n",
       "    </tr>\n",
       "  </tbody>\n",
       "</table>\n",
       "</div>"
      ],
      "text/plain": [
       "         Premium_sum    Premium_min    Premium_max  PolicyId_count  \\\n",
       "count  119581.000000  119581.000000  119581.000000   119581.000000   \n",
       "mean      391.455347     204.990181     276.590940        1.559888   \n",
       "std      1365.623954     219.343394     451.203946        2.156125   \n",
       "min     -1044.119766   -1207.466797      -0.008516        1.000000   \n",
       "25%       136.459999      85.000000     130.000000        1.000000   \n",
       "50%       248.199997     150.000000     210.004196        1.000000   \n",
       "75%       437.809998     260.420013     330.973541        2.000000   \n",
       "max    354849.733521   14500.000000   98550.000000      473.000000   \n",
       "range  355893.853287   15707.466797   98550.008516      472.000000   \n",
       "\n",
       "             Age_max     Tenure_max  TenureCalculated_max      Claim_max  \\\n",
       "count  119568.000000  119580.000000         119581.000000  119521.000000   \n",
       "mean       43.925423       4.674109             55.831286       0.312347   \n",
       "std        16.392210       3.677046             43.884550       0.463452   \n",
       "min         0.000000       0.000000             -1.000000       0.000000   \n",
       "25%        32.000000       2.000000             20.000000       0.000000   \n",
       "50%        42.000000       4.000000             46.000000       0.000000   \n",
       "75%        56.000000       6.000000             77.000000       1.000000   \n",
       "max       132.000000      23.000000            278.000000       1.000000   \n",
       "range     132.000000      23.000000            279.000000       1.000000   \n",
       "\n",
       "         NClaims_sum  ClaimCost_sum  Profitability_sum  \\\n",
       "count  119581.000000   1.195810e+05       1.195810e+05   \n",
       "mean        0.980540   5.969582e+02       4.766552e+02   \n",
       "std         3.264923   5.326651e+03       5.209952e+03   \n",
       "min         0.000000  -1.847390e+05      -1.499166e+06   \n",
       "25%         0.000000   0.000000e+00       7.182466e+01   \n",
       "50%         0.000000   0.000000e+00       3.643578e+02   \n",
       "75%         1.000000   1.510000e+02       9.114287e+02   \n",
       "max       294.000000   1.500379e+06       1.895643e+05   \n",
       "range     294.000000   1.685118e+06       1.688731e+06   \n",
       "\n",
       "       PersonalDataProtectionBool_max  DirectDebit_max  DirectDebit_min  \\\n",
       "count                    97143.000000    119581.000000    119581.000000   \n",
       "mean                         0.821253         0.602679         0.548206   \n",
       "std                          0.383142         0.489345         0.497673   \n",
       "min                          0.000000         0.000000         0.000000   \n",
       "25%                          1.000000         0.000000         0.000000   \n",
       "50%                          1.000000         1.000000         1.000000   \n",
       "75%                          1.000000         1.000000         1.000000   \n",
       "max                          1.000000         1.000000         1.000000   \n",
       "range                        1.000000         1.000000         1.000000   \n",
       "\n",
       "       IntermediatedPolicy_max  LossRatio_max  LossRatioCalculated_max  \\\n",
       "count            119581.000000   1.195210e+05            119581.000000   \n",
       "mean                  0.901188  -5.267741e+14                 1.603775   \n",
       "std                   0.298410   1.599603e+17                 1.130243   \n",
       "min                   0.000000  -5.323818e+19                 1.000000   \n",
       "25%                   1.000000   0.000000e+00                 1.000000   \n",
       "50%                   1.000000   0.000000e+00                 1.000000   \n",
       "75%                   1.000000   2.520265e+01                 1.000000   \n",
       "max                   1.000000   4.825285e+18                 4.000000   \n",
       "range                 1.000000   5.806346e+19                 3.000000   \n",
       "\n",
       "       ProfitabilityCalculated  IntegralityCalculated  IntegralityCalculated2  \n",
       "count             1.195810e+05          119581.000000           119581.000000  \n",
       "mean             -2.055028e+02               1.168957                1.168555  \n",
       "std               5.126110e+03               0.420940                0.420624  \n",
       "min              -1.499924e+06               1.000000                1.000000  \n",
       "25%               2.835000e+01               1.000000                1.000000  \n",
       "50%               1.500000e+02               1.000000                1.000000  \n",
       "75%               3.185039e+02               1.000000                1.000000  \n",
       "max               1.867671e+05               4.000000                4.000000  \n",
       "range             1.686691e+06               3.000000                3.000000  "
      ]
     },
     "metadata": {},
     "output_type": "display_data"
    },
    {
     "data": {
      "text/plain": [
       "(119581, 20)"
      ]
     },
     "execution_count": 36,
     "metadata": {},
     "output_type": "execute_result"
    }
   ],
   "source": [
    "######################################################################################\n",
    "#######     ANALISIS UNIVARIANTE DE LAS VARIABLES NUMÉRICAS A NIVEL CLIENTE   ########\n",
    "######################################################################################\n",
    "clipartnum= clientespart._get_numeric_data()\n",
    "\n",
    "def describe_new(clipartnum):\n",
    "    df11 = clipartnum.describe()\n",
    "    df11.loc[\"range\"] = df11.loc['max'] - df11.loc['min']\n",
    "    return df11\n",
    "\n",
    "\n",
    "display(describe_new(clipartnum))\n",
    "clipartnum.shape"
   ]
  },
  {
   "cell_type": "code",
   "execution_count": 27,
   "metadata": {},
   "outputs": [],
   "source": [
    "#Exportar a csv\n",
    "uni_cli=describe_new(clipartnum)\n",
    "uni_cli.to_excel('../03. Exportaciones/univariante_cli_4.xlsx', engine='xlsxwriter')  "
   ]
  },
  {
   "cell_type": "markdown",
   "metadata": {},
   "source": [
    "# 2. Numerical variables"
   ]
  },
  {
   "cell_type": "markdown",
   "metadata": {},
   "source": [
    "## 2.1 Age"
   ]
  },
  {
   "cell_type": "code",
   "execution_count": 44,
   "metadata": {
    "scrolled": true
   },
   "outputs": [
    {
     "data": {
      "text/plain": [
       "(203, 26)"
      ]
     },
     "execution_count": 44,
     "metadata": {},
     "output_type": "execute_result"
    }
   ],
   "source": [
    "clientespart[clientespart.Age_max == 0].shape"
   ]
  },
  {
   "cell_type": "code",
   "execution_count": 45,
   "metadata": {},
   "outputs": [
    {
     "data": {
      "text/plain": [
       "(0, 26)"
      ]
     },
     "execution_count": 45,
     "metadata": {},
     "output_type": "execute_result"
    }
   ],
   "source": [
    "clientespart[clientespart.Age_max < 0].shape"
   ]
  },
  {
   "cell_type": "code",
   "execution_count": 46,
   "metadata": {},
   "outputs": [
    {
     "data": {
      "text/plain": [
       "(119365, 26)"
      ]
     },
     "execution_count": 46,
     "metadata": {},
     "output_type": "execute_result"
    }
   ],
   "source": [
    "clientespart[clientespart.Age_max > 0].shape"
   ]
  },
  {
   "cell_type": "code",
   "execution_count": 47,
   "metadata": {},
   "outputs": [
    {
     "data": {
      "text/plain": [
       "(2825, 26)"
      ]
     },
     "execution_count": 47,
     "metadata": {},
     "output_type": "execute_result"
    }
   ],
   "source": [
    "clientespart[(clientespart.Age_max > 0) & (clientespart.Age_max < 18)].shape"
   ]
  },
  {
   "cell_type": "code",
   "execution_count": 48,
   "metadata": {},
   "outputs": [
    {
     "data": {
      "text/plain": [
       "(19887, 26)"
      ]
     },
     "execution_count": 48,
     "metadata": {},
     "output_type": "execute_result"
    }
   ],
   "source": [
    "clientespart[(clientespart.Age_max >= 18) & (clientespart.Age_max < 30)].shape"
   ]
  },
  {
   "cell_type": "code",
   "execution_count": 49,
   "metadata": {},
   "outputs": [
    {
     "data": {
      "text/plain": [
       "(30347, 26)"
      ]
     },
     "execution_count": 49,
     "metadata": {},
     "output_type": "execute_result"
    }
   ],
   "source": [
    "clientespart[(clientespart.Age_max >= 30) & (clientespart.Age_max < 40)].shape"
   ]
  },
  {
   "cell_type": "code",
   "execution_count": 50,
   "metadata": {},
   "outputs": [
    {
     "data": {
      "text/plain": [
       "(25486, 26)"
      ]
     },
     "execution_count": 50,
     "metadata": {},
     "output_type": "execute_result"
    }
   ],
   "source": [
    "clientespart[(clientespart.Age_max >= 40) & (clientespart.Age_max < 50)].shape"
   ]
  },
  {
   "cell_type": "code",
   "execution_count": 51,
   "metadata": {},
   "outputs": [
    {
     "data": {
      "text/plain": [
       "(25417, 26)"
      ]
     },
     "execution_count": 51,
     "metadata": {},
     "output_type": "execute_result"
    }
   ],
   "source": [
    "clientespart[(clientespart.Age_max >= 50) & (clientespart.Age_max < 65)].shape"
   ]
  },
  {
   "cell_type": "code",
   "execution_count": 52,
   "metadata": {},
   "outputs": [
    {
     "data": {
      "text/plain": [
       "(15264, 26)"
      ]
     },
     "execution_count": 52,
     "metadata": {},
     "output_type": "execute_result"
    }
   ],
   "source": [
    "clientespart[(clientespart.Age_max >= 65) & (clientespart.Age_max < 90)].shape"
   ]
  },
  {
   "cell_type": "code",
   "execution_count": 53,
   "metadata": {},
   "outputs": [
    {
     "data": {
      "text/plain": [
       "(139, 26)"
      ]
     },
     "execution_count": 53,
     "metadata": {},
     "output_type": "execute_result"
    }
   ],
   "source": [
    "clientespart[clientespart.Age_max >= 90].shape"
   ]
  },
  {
   "cell_type": "code",
   "execution_count": 54,
   "metadata": {},
   "outputs": [
    {
     "data": {
      "text/plain": [
       "(11, 26)"
      ]
     },
     "execution_count": 54,
     "metadata": {},
     "output_type": "execute_result"
    }
   ],
   "source": [
    "clientespart[clientespart.Age_max > 100].shape"
   ]
  },
  {
   "cell_type": "markdown",
   "metadata": {},
   "source": [
    "## 2.2 Tenure_max"
   ]
  },
  {
   "cell_type": "code",
   "execution_count": 45,
   "metadata": {
    "scrolled": true
   },
   "outputs": [
    {
     "data": {
      "text/plain": [
       "(8672, 22)"
      ]
     },
     "execution_count": 45,
     "metadata": {},
     "output_type": "execute_result"
    }
   ],
   "source": [
    "clientespart[clientespart.Tenure_max == 0].shape"
   ]
  },
  {
   "cell_type": "code",
   "execution_count": 132,
   "metadata": {},
   "outputs": [
    {
     "data": {
      "text/plain": [
       "(0, 21)"
      ]
     },
     "execution_count": 132,
     "metadata": {},
     "output_type": "execute_result"
    }
   ],
   "source": [
    "clientespart[clientespart.Tenure_max < 0].shape"
   ]
  },
  {
   "cell_type": "code",
   "execution_count": 133,
   "metadata": {},
   "outputs": [
    {
     "data": {
      "text/plain": [
       "(110908, 21)"
      ]
     },
     "execution_count": 133,
     "metadata": {},
     "output_type": "execute_result"
    }
   ],
   "source": [
    "clientespart[clientespart.Tenure_max > 0].shape"
   ]
  },
  {
   "cell_type": "code",
   "execution_count": 141,
   "metadata": {},
   "outputs": [
    {
     "data": {
      "text/plain": [
       "(16983, 21)"
      ]
     },
     "execution_count": 141,
     "metadata": {},
     "output_type": "execute_result"
    }
   ],
   "source": [
    "clientespart[(clientespart.Tenure_max > 0) & (clientespart.Tenure_max <= 1)].shape"
   ]
  },
  {
   "cell_type": "code",
   "execution_count": 142,
   "metadata": {},
   "outputs": [
    {
     "data": {
      "text/plain": [
       "(14611, 21)"
      ]
     },
     "execution_count": 142,
     "metadata": {},
     "output_type": "execute_result"
    }
   ],
   "source": [
    "clientespart[(clientespart.Tenure_max > 1) & (clientespart.Tenure_max <= 2)].shape"
   ]
  },
  {
   "cell_type": "code",
   "execution_count": 143,
   "metadata": {},
   "outputs": [
    {
     "data": {
      "text/plain": [
       "(14171, 21)"
      ]
     },
     "execution_count": 143,
     "metadata": {},
     "output_type": "execute_result"
    }
   ],
   "source": [
    "clientespart[(clientespart.Tenure_max > 2) & (clientespart.Tenure_max <= 3)].shape"
   ]
  },
  {
   "cell_type": "code",
   "execution_count": 156,
   "metadata": {},
   "outputs": [
    {
     "data": {
      "text/plain": [
       "(10743, 21)"
      ]
     },
     "execution_count": 156,
     "metadata": {},
     "output_type": "execute_result"
    }
   ],
   "source": [
    "clientespart[(clientespart.Tenure_max > 3) & (clientespart.Tenure_max <= 4)].shape"
   ]
  },
  {
   "cell_type": "code",
   "execution_count": 157,
   "metadata": {},
   "outputs": [
    {
     "data": {
      "text/plain": [
       "(14058, 21)"
      ]
     },
     "execution_count": 157,
     "metadata": {},
     "output_type": "execute_result"
    }
   ],
   "source": [
    "clientespart[(clientespart.Tenure_max > 4) & (clientespart.Tenure_max <= 5)].shape"
   ]
  },
  {
   "cell_type": "code",
   "execution_count": 158,
   "metadata": {},
   "outputs": [
    {
     "data": {
      "text/plain": [
       "(19231, 21)"
      ]
     },
     "execution_count": 158,
     "metadata": {},
     "output_type": "execute_result"
    }
   ],
   "source": [
    "clientespart[(clientespart.Tenure_max > 5) & (clientespart.Tenure_max <= 7)].shape"
   ]
  },
  {
   "cell_type": "code",
   "execution_count": 159,
   "metadata": {},
   "outputs": [
    {
     "data": {
      "text/plain": [
       "(9216, 21)"
      ]
     },
     "execution_count": 159,
     "metadata": {},
     "output_type": "execute_result"
    }
   ],
   "source": [
    "clientespart[(clientespart.Tenure_max > 7) & (clientespart.Tenure_max <= 10)].shape"
   ]
  },
  {
   "cell_type": "code",
   "execution_count": 160,
   "metadata": {},
   "outputs": [
    {
     "data": {
      "text/plain": [
       "(11895, 21)"
      ]
     },
     "execution_count": 160,
     "metadata": {},
     "output_type": "execute_result"
    }
   ],
   "source": [
    "clientespart[(clientespart.Tenure_max > 10)].shape"
   ]
  },
  {
   "cell_type": "markdown",
   "metadata": {},
   "source": [
    "## 2.3 TenureCalculated_max"
   ]
  },
  {
   "cell_type": "code",
   "execution_count": 46,
   "metadata": {
    "scrolled": true
   },
   "outputs": [
    {
     "data": {
      "text/plain": [
       "(905, 22)"
      ]
     },
     "execution_count": 46,
     "metadata": {},
     "output_type": "execute_result"
    }
   ],
   "source": [
    "clientespart[clientespart.TenureCalculated_max == 0].shape"
   ]
  },
  {
   "cell_type": "code",
   "execution_count": 47,
   "metadata": {},
   "outputs": [
    {
     "data": {
      "text/plain": [
       "(1177, 22)"
      ]
     },
     "execution_count": 47,
     "metadata": {},
     "output_type": "execute_result"
    }
   ],
   "source": [
    "clientespart[clientespart.TenureCalculated_max < 0].shape"
   ]
  },
  {
   "cell_type": "code",
   "execution_count": 61,
   "metadata": {},
   "outputs": [],
   "source": [
    "a=clientespart[clientespart[\"TenureCalculated_max\"] < 0]\n"
   ]
  },
  {
   "cell_type": "code",
   "execution_count": 62,
   "metadata": {},
   "outputs": [
    {
     "data": {
      "text/html": [
       "<div>\n",
       "<style scoped>\n",
       "    .dataframe tbody tr th:only-of-type {\n",
       "        vertical-align: middle;\n",
       "    }\n",
       "\n",
       "    .dataframe tbody tr th {\n",
       "        vertical-align: top;\n",
       "    }\n",
       "\n",
       "    .dataframe thead th {\n",
       "        text-align: right;\n",
       "    }\n",
       "</style>\n",
       "<table border=\"1\" class=\"dataframe\">\n",
       "  <thead>\n",
       "    <tr style=\"text-align: right;\">\n",
       "      <th></th>\n",
       "      <th>CustomerId</th>\n",
       "      <th>Premium_sum</th>\n",
       "      <th>Premium_min</th>\n",
       "      <th>Premium_max</th>\n",
       "      <th>PolicyId_count</th>\n",
       "      <th>Age_max</th>\n",
       "      <th>Tenure_max</th>\n",
       "      <th>TenureCalculated_max</th>\n",
       "      <th>Gender_first</th>\n",
       "      <th>Integrality_first</th>\n",
       "      <th>Claim_max</th>\n",
       "      <th>NClaims_sum</th>\n",
       "      <th>ClaimCost_sum</th>\n",
       "      <th>Profitability_sum</th>\n",
       "      <th>PersonalDataProtectionBool_max</th>\n",
       "      <th>DirectDebit_max</th>\n",
       "      <th>DirectDebit_min</th>\n",
       "      <th>IntermediatedPolicy_max</th>\n",
       "      <th>EffectiveDate_min</th>\n",
       "      <th>LossRatio_max</th>\n",
       "      <th>ProfitabilityCalculated</th>\n",
       "      <th>IntegralityCalculated</th>\n",
       "      <th>ContractChannel_first</th>\n",
       "    </tr>\n",
       "  </thead>\n",
       "  <tbody>\n",
       "    <tr>\n",
       "      <th>6</th>\n",
       "      <td>CLIENT010</td>\n",
       "      <td>748.750000</td>\n",
       "      <td>748.750000</td>\n",
       "      <td>748.750000</td>\n",
       "      <td>1</td>\n",
       "      <td>39.0</td>\n",
       "      <td>0.0</td>\n",
       "      <td>-1</td>\n",
       "      <td>Male</td>\n",
       "      <td>NaN</td>\n",
       "      <td>0.0</td>\n",
       "      <td>0.0</td>\n",
       "      <td>0.0</td>\n",
       "      <td>-114.876709</td>\n",
       "      <td>1.0</td>\n",
       "      <td>1</td>\n",
       "      <td>1</td>\n",
       "      <td>1</td>\n",
       "      <td>2021-08-06</td>\n",
       "      <td>0.0</td>\n",
       "      <td>748.750000</td>\n",
       "      <td>1</td>\n",
       "      <td>TIIs</td>\n",
       "    </tr>\n",
       "    <tr>\n",
       "      <th>93</th>\n",
       "      <td>CLIENT1000</td>\n",
       "      <td>90.000000</td>\n",
       "      <td>90.000000</td>\n",
       "      <td>90.000000</td>\n",
       "      <td>1</td>\n",
       "      <td>43.0</td>\n",
       "      <td>0.0</td>\n",
       "      <td>-1</td>\n",
       "      <td>Male</td>\n",
       "      <td>D</td>\n",
       "      <td>0.0</td>\n",
       "      <td>0.0</td>\n",
       "      <td>0.0</td>\n",
       "      <td>3.698631</td>\n",
       "      <td>1.0</td>\n",
       "      <td>0</td>\n",
       "      <td>0</td>\n",
       "      <td>1</td>\n",
       "      <td>2021-10-06</td>\n",
       "      <td>0.0</td>\n",
       "      <td>90.000000</td>\n",
       "      <td>1</td>\n",
       "      <td>Banks</td>\n",
       "    </tr>\n",
       "    <tr>\n",
       "      <th>150</th>\n",
       "      <td>CLIENT100053</td>\n",
       "      <td>222.500000</td>\n",
       "      <td>222.500000</td>\n",
       "      <td>222.500000</td>\n",
       "      <td>1</td>\n",
       "      <td>62.0</td>\n",
       "      <td>0.0</td>\n",
       "      <td>-1</td>\n",
       "      <td>Male</td>\n",
       "      <td>D</td>\n",
       "      <td>0.0</td>\n",
       "      <td>0.0</td>\n",
       "      <td>0.0</td>\n",
       "      <td>46.547405</td>\n",
       "      <td>1.0</td>\n",
       "      <td>0</td>\n",
       "      <td>0</td>\n",
       "      <td>1</td>\n",
       "      <td>2021-09-01</td>\n",
       "      <td>0.0</td>\n",
       "      <td>222.500000</td>\n",
       "      <td>1</td>\n",
       "      <td>Agents</td>\n",
       "    </tr>\n",
       "    <tr>\n",
       "      <th>345</th>\n",
       "      <td>CLIENT100247</td>\n",
       "      <td>145.007278</td>\n",
       "      <td>145.007278</td>\n",
       "      <td>145.007278</td>\n",
       "      <td>1</td>\n",
       "      <td>36.0</td>\n",
       "      <td>5.0</td>\n",
       "      <td>-1</td>\n",
       "      <td>Female</td>\n",
       "      <td>D</td>\n",
       "      <td>0.0</td>\n",
       "      <td>0.0</td>\n",
       "      <td>0.0</td>\n",
       "      <td>65.551238</td>\n",
       "      <td>1.0</td>\n",
       "      <td>0</td>\n",
       "      <td>0</td>\n",
       "      <td>0</td>\n",
       "      <td>2021-11-01</td>\n",
       "      <td>0.0</td>\n",
       "      <td>145.007278</td>\n",
       "      <td>1</td>\n",
       "      <td>Direct</td>\n",
       "    </tr>\n",
       "    <tr>\n",
       "      <th>357</th>\n",
       "      <td>CLIENT10026</td>\n",
       "      <td>280.004028</td>\n",
       "      <td>280.004028</td>\n",
       "      <td>280.004028</td>\n",
       "      <td>1</td>\n",
       "      <td>46.0</td>\n",
       "      <td>0.0</td>\n",
       "      <td>-1</td>\n",
       "      <td>Female</td>\n",
       "      <td>D</td>\n",
       "      <td>0.0</td>\n",
       "      <td>0.0</td>\n",
       "      <td>0.0</td>\n",
       "      <td>-33.671950</td>\n",
       "      <td>1.0</td>\n",
       "      <td>1</td>\n",
       "      <td>1</td>\n",
       "      <td>1</td>\n",
       "      <td>2021-08-06</td>\n",
       "      <td>0.0</td>\n",
       "      <td>280.004028</td>\n",
       "      <td>1</td>\n",
       "      <td>Agents</td>\n",
       "    </tr>\n",
       "  </tbody>\n",
       "</table>\n",
       "</div>"
      ],
      "text/plain": [
       "       CustomerId  Premium_sum  Premium_min  Premium_max  PolicyId_count  \\\n",
       "6       CLIENT010   748.750000   748.750000   748.750000               1   \n",
       "93     CLIENT1000    90.000000    90.000000    90.000000               1   \n",
       "150  CLIENT100053   222.500000   222.500000   222.500000               1   \n",
       "345  CLIENT100247   145.007278   145.007278   145.007278               1   \n",
       "357   CLIENT10026   280.004028   280.004028   280.004028               1   \n",
       "\n",
       "     Age_max  Tenure_max  TenureCalculated_max Gender_first Integrality_first  \\\n",
       "6       39.0         0.0                    -1         Male               NaN   \n",
       "93      43.0         0.0                    -1         Male                 D   \n",
       "150     62.0         0.0                    -1         Male                 D   \n",
       "345     36.0         5.0                    -1       Female                 D   \n",
       "357     46.0         0.0                    -1       Female                 D   \n",
       "\n",
       "     Claim_max  NClaims_sum  ClaimCost_sum  Profitability_sum  \\\n",
       "6          0.0          0.0            0.0        -114.876709   \n",
       "93         0.0          0.0            0.0           3.698631   \n",
       "150        0.0          0.0            0.0          46.547405   \n",
       "345        0.0          0.0            0.0          65.551238   \n",
       "357        0.0          0.0            0.0         -33.671950   \n",
       "\n",
       "     PersonalDataProtectionBool_max  DirectDebit_max  DirectDebit_min  \\\n",
       "6                               1.0                1                1   \n",
       "93                              1.0                0                0   \n",
       "150                             1.0                0                0   \n",
       "345                             1.0                0                0   \n",
       "357                             1.0                1                1   \n",
       "\n",
       "     IntermediatedPolicy_max EffectiveDate_min  LossRatio_max  \\\n",
       "6                          1        2021-08-06            0.0   \n",
       "93                         1        2021-10-06            0.0   \n",
       "150                        1        2021-09-01            0.0   \n",
       "345                        0        2021-11-01            0.0   \n",
       "357                        1        2021-08-06            0.0   \n",
       "\n",
       "     ProfitabilityCalculated  IntegralityCalculated ContractChannel_first  \n",
       "6                 748.750000                      1                  TIIs  \n",
       "93                 90.000000                      1                 Banks  \n",
       "150               222.500000                      1                Agents  \n",
       "345               145.007278                      1                Direct  \n",
       "357               280.004028                      1                Agents  "
      ]
     },
     "execution_count": 62,
     "metadata": {},
     "output_type": "execute_result"
    }
   ],
   "source": [
    "a.head()"
   ]
  },
  {
   "cell_type": "code",
   "execution_count": 121,
   "metadata": {},
   "outputs": [
    {
     "data": {
      "text/plain": [
       "(117499, 21)"
      ]
     },
     "execution_count": 121,
     "metadata": {},
     "output_type": "execute_result"
    }
   ],
   "source": [
    "clientespart[clientespart.TenureCalculated_max > 0].shape"
   ]
  },
  {
   "cell_type": "code",
   "execution_count": 122,
   "metadata": {},
   "outputs": [
    {
     "data": {
      "text/plain": [
       "(14749, 21)"
      ]
     },
     "execution_count": 122,
     "metadata": {},
     "output_type": "execute_result"
    }
   ],
   "source": [
    "clientespart[(clientespart.TenureCalculated_max > 0) & (clientespart.TenureCalculated_max <= 12)].shape"
   ]
  },
  {
   "cell_type": "code",
   "execution_count": 123,
   "metadata": {},
   "outputs": [
    {
     "data": {
      "text/plain": [
       "(16718, 21)"
      ]
     },
     "execution_count": 123,
     "metadata": {},
     "output_type": "execute_result"
    }
   ],
   "source": [
    "clientespart[(clientespart.TenureCalculated_max > 12) & (clientespart.TenureCalculated_max <= 24)].shape"
   ]
  },
  {
   "cell_type": "code",
   "execution_count": 124,
   "metadata": {},
   "outputs": [
    {
     "data": {
      "text/plain": [
       "(14742, 21)"
      ]
     },
     "execution_count": 124,
     "metadata": {},
     "output_type": "execute_result"
    }
   ],
   "source": [
    "clientespart[(clientespart.TenureCalculated_max > 24) & (clientespart.TenureCalculated_max <= 36)].shape"
   ]
  },
  {
   "cell_type": "code",
   "execution_count": 125,
   "metadata": {},
   "outputs": [
    {
     "data": {
      "text/plain": [
       "(12959, 21)"
      ]
     },
     "execution_count": 125,
     "metadata": {},
     "output_type": "execute_result"
    }
   ],
   "source": [
    "clientespart[(clientespart.TenureCalculated_max > 36) & (clientespart.TenureCalculated_max <= 48)].shape"
   ]
  },
  {
   "cell_type": "code",
   "execution_count": 126,
   "metadata": {},
   "outputs": [
    {
     "data": {
      "text/plain": [
       "(9940, 21)"
      ]
     },
     "execution_count": 126,
     "metadata": {},
     "output_type": "execute_result"
    }
   ],
   "source": [
    "clientespart[(clientespart.TenureCalculated_max > 48) & (clientespart.TenureCalculated_max <= 60)].shape"
   ]
  },
  {
   "cell_type": "code",
   "execution_count": 127,
   "metadata": {},
   "outputs": [
    {
     "data": {
      "text/plain": [
       "(13164, 21)"
      ]
     },
     "execution_count": 127,
     "metadata": {},
     "output_type": "execute_result"
    }
   ],
   "source": [
    "clientespart[(clientespart.TenureCalculated_max > 60) & (clientespart.TenureCalculated_max <= 72)].shape"
   ]
  },
  {
   "cell_type": "code",
   "execution_count": 129,
   "metadata": {},
   "outputs": [
    {
     "data": {
      "text/plain": [
       "(11273, 21)"
      ]
     },
     "execution_count": 129,
     "metadata": {},
     "output_type": "execute_result"
    }
   ],
   "source": [
    "clientespart[(clientespart.TenureCalculated_max > 72) & (clientespart.TenureCalculated_max <= 84)].shape"
   ]
  },
  {
   "cell_type": "code",
   "execution_count": 128,
   "metadata": {},
   "outputs": [
    {
     "data": {
      "text/plain": [
       "(11163, 21)"
      ]
     },
     "execution_count": 128,
     "metadata": {},
     "output_type": "execute_result"
    }
   ],
   "source": [
    "clientespart[(clientespart.TenureCalculated_max > 84) & (clientespart.TenureCalculated_max <= 120)].shape"
   ]
  },
  {
   "cell_type": "code",
   "execution_count": 130,
   "metadata": {},
   "outputs": [
    {
     "data": {
      "text/plain": [
       "(12791, 21)"
      ]
     },
     "execution_count": 130,
     "metadata": {},
     "output_type": "execute_result"
    }
   ],
   "source": [
    "clientespart[(clientespart.TenureCalculated_max > 120)].shape"
   ]
  },
  {
   "cell_type": "markdown",
   "metadata": {},
   "source": [
    "## 2.4 Profitability_sum"
   ]
  },
  {
   "cell_type": "code",
   "execution_count": 171,
   "metadata": {},
   "outputs": [
    {
     "data": {
      "text/plain": [
       "(17606, 21)"
      ]
     },
     "execution_count": 171,
     "metadata": {},
     "output_type": "execute_result"
    }
   ],
   "source": [
    "clientespart[clientespart.Profitability_sum < 0].shape"
   ]
  },
  {
   "cell_type": "code",
   "execution_count": 172,
   "metadata": {},
   "outputs": [
    {
     "data": {
      "text/plain": [
       "(63, 21)"
      ]
     },
     "execution_count": 172,
     "metadata": {},
     "output_type": "execute_result"
    }
   ],
   "source": [
    "clientespart[clientespart.Profitability_sum == 0].shape"
   ]
  },
  {
   "cell_type": "code",
   "execution_count": 173,
   "metadata": {},
   "outputs": [
    {
     "data": {
      "text/plain": [
       "(101912, 21)"
      ]
     },
     "execution_count": 173,
     "metadata": {},
     "output_type": "execute_result"
    }
   ],
   "source": [
    "clientespart[clientespart.Profitability_sum > 0].shape"
   ]
  },
  {
   "cell_type": "code",
   "execution_count": 174,
   "metadata": {},
   "outputs": [
    {
     "data": {
      "text/plain": [
       "(16230, 21)"
      ]
     },
     "execution_count": 174,
     "metadata": {},
     "output_type": "execute_result"
    }
   ],
   "source": [
    "clientespart[(clientespart.Profitability_sum > 0) & (clientespart.Profitability_sum <= 100)].shape"
   ]
  },
  {
   "cell_type": "code",
   "execution_count": 175,
   "metadata": {},
   "outputs": [
    {
     "data": {
      "text/plain": [
       "(11662, 21)"
      ]
     },
     "execution_count": 175,
     "metadata": {},
     "output_type": "execute_result"
    }
   ],
   "source": [
    "clientespart[(clientespart.Profitability_sum > 100) & (clientespart.Profitability_sum <= 200)].shape"
   ]
  },
  {
   "cell_type": "code",
   "execution_count": 176,
   "metadata": {},
   "outputs": [
    {
     "data": {
      "text/plain": [
       "(16671, 21)"
      ]
     },
     "execution_count": 176,
     "metadata": {},
     "output_type": "execute_result"
    }
   ],
   "source": [
    "clientespart[(clientespart.Profitability_sum > 200) & (clientespart.Profitability_sum <= 400)].shape"
   ]
  },
  {
   "cell_type": "code",
   "execution_count": 177,
   "metadata": {},
   "outputs": [
    {
     "data": {
      "text/plain": [
       "(13326, 21)"
      ]
     },
     "execution_count": 177,
     "metadata": {},
     "output_type": "execute_result"
    }
   ],
   "source": [
    "clientespart[(clientespart.Profitability_sum > 400) & (clientespart.Profitability_sum <= 600)].shape"
   ]
  },
  {
   "cell_type": "code",
   "execution_count": 178,
   "metadata": {},
   "outputs": [
    {
     "data": {
      "text/plain": [
       "(9779, 21)"
      ]
     },
     "execution_count": 178,
     "metadata": {},
     "output_type": "execute_result"
    }
   ],
   "source": [
    "clientespart[(clientespart.Profitability_sum > 600) & (clientespart.Profitability_sum <= 800)].shape"
   ]
  },
  {
   "cell_type": "code",
   "execution_count": 179,
   "metadata": {},
   "outputs": [
    {
     "data": {
      "text/plain": [
       "(7341, 21)"
      ]
     },
     "execution_count": 179,
     "metadata": {},
     "output_type": "execute_result"
    }
   ],
   "source": [
    "clientespart[(clientespart.Profitability_sum > 800) & (clientespart.Profitability_sum <= 1000)].shape"
   ]
  },
  {
   "cell_type": "code",
   "execution_count": 182,
   "metadata": {},
   "outputs": [
    {
     "data": {
      "text/plain": [
       "(11278, 21)"
      ]
     },
     "execution_count": 182,
     "metadata": {},
     "output_type": "execute_result"
    }
   ],
   "source": [
    "clientespart[(clientespart.Profitability_sum > 1000) & (clientespart.Profitability_sum <=1500)].shape"
   ]
  },
  {
   "cell_type": "code",
   "execution_count": 184,
   "metadata": {},
   "outputs": [
    {
     "data": {
      "text/plain": [
       "(9088, 21)"
      ]
     },
     "execution_count": 184,
     "metadata": {},
     "output_type": "execute_result"
    }
   ],
   "source": [
    "clientespart[(clientespart.Profitability_sum > 1500) & (clientespart.Profitability_sum <=2500)].shape"
   ]
  },
  {
   "cell_type": "code",
   "execution_count": 185,
   "metadata": {},
   "outputs": [
    {
     "data": {
      "text/plain": [
       "(6537, 21)"
      ]
     },
     "execution_count": 185,
     "metadata": {},
     "output_type": "execute_result"
    }
   ],
   "source": [
    "clientespart[clientespart.Profitability_sum > 2500].shape"
   ]
  },
  {
   "cell_type": "markdown",
   "metadata": {},
   "source": [
    "## 2.5 ProfitabilityCalculated"
   ]
  },
  {
   "cell_type": "code",
   "execution_count": 161,
   "metadata": {},
   "outputs": [
    {
     "data": {
      "text/plain": [
       "(26883, 21)"
      ]
     },
     "execution_count": 161,
     "metadata": {},
     "output_type": "execute_result"
    }
   ],
   "source": [
    "clientespart[clientespart.ProfitabilityCalculated < 0].shape"
   ]
  },
  {
   "cell_type": "code",
   "execution_count": 162,
   "metadata": {},
   "outputs": [
    {
     "data": {
      "text/plain": [
       "(407, 21)"
      ]
     },
     "execution_count": 162,
     "metadata": {},
     "output_type": "execute_result"
    }
   ],
   "source": [
    "clientespart[clientespart.ProfitabilityCalculated == 0].shape"
   ]
  },
  {
   "cell_type": "code",
   "execution_count": 163,
   "metadata": {},
   "outputs": [
    {
     "data": {
      "text/plain": [
       "(92291, 21)"
      ]
     },
     "execution_count": 163,
     "metadata": {},
     "output_type": "execute_result"
    }
   ],
   "source": [
    "clientespart[clientespart.ProfitabilityCalculated > 0].shape"
   ]
  },
  {
   "cell_type": "code",
   "execution_count": 164,
   "metadata": {},
   "outputs": [
    {
     "data": {
      "text/plain": [
       "(21053, 21)"
      ]
     },
     "execution_count": 164,
     "metadata": {},
     "output_type": "execute_result"
    }
   ],
   "source": [
    "clientespart[(clientespart.ProfitabilityCalculated > 0) & (clientespart.ProfitabilityCalculated <= 100)].shape"
   ]
  },
  {
   "cell_type": "code",
   "execution_count": 165,
   "metadata": {},
   "outputs": [
    {
     "data": {
      "text/plain": [
       "(23001, 21)"
      ]
     },
     "execution_count": 165,
     "metadata": {},
     "output_type": "execute_result"
    }
   ],
   "source": [
    "clientespart[(clientespart.ProfitabilityCalculated > 100) & (clientespart.ProfitabilityCalculated <= 200)].shape"
   ]
  },
  {
   "cell_type": "code",
   "execution_count": 166,
   "metadata": {},
   "outputs": [
    {
     "data": {
      "text/plain": [
       "(27003, 21)"
      ]
     },
     "execution_count": 166,
     "metadata": {},
     "output_type": "execute_result"
    }
   ],
   "source": [
    "clientespart[(clientespart.ProfitabilityCalculated > 200) & (clientespart.ProfitabilityCalculated <= 400)].shape"
   ]
  },
  {
   "cell_type": "code",
   "execution_count": 167,
   "metadata": {},
   "outputs": [
    {
     "data": {
      "text/plain": [
       "(10463, 21)"
      ]
     },
     "execution_count": 167,
     "metadata": {},
     "output_type": "execute_result"
    }
   ],
   "source": [
    "clientespart[(clientespart.ProfitabilityCalculated > 400) & (clientespart.ProfitabilityCalculated <= 600)].shape"
   ]
  },
  {
   "cell_type": "code",
   "execution_count": 168,
   "metadata": {},
   "outputs": [
    {
     "data": {
      "text/plain": [
       "(4584, 21)"
      ]
     },
     "execution_count": 168,
     "metadata": {},
     "output_type": "execute_result"
    }
   ],
   "source": [
    "clientespart[(clientespart.ProfitabilityCalculated > 600) & (clientespart.ProfitabilityCalculated <= 800)].shape"
   ]
  },
  {
   "cell_type": "code",
   "execution_count": 169,
   "metadata": {},
   "outputs": [
    {
     "data": {
      "text/plain": [
       "(2278, 21)"
      ]
     },
     "execution_count": 169,
     "metadata": {},
     "output_type": "execute_result"
    }
   ],
   "source": [
    "clientespart[(clientespart.ProfitabilityCalculated > 800) & (clientespart.ProfitabilityCalculated <= 1000)].shape"
   ]
  },
  {
   "cell_type": "code",
   "execution_count": 170,
   "metadata": {},
   "outputs": [
    {
     "data": {
      "text/plain": [
       "(3909, 21)"
      ]
     },
     "execution_count": 170,
     "metadata": {},
     "output_type": "execute_result"
    }
   ],
   "source": [
    "clientespart[clientespart.ProfitabilityCalculated > 1000].shape"
   ]
  },
  {
   "cell_type": "markdown",
   "metadata": {},
   "source": [
    "## 2.6 ClaimCost_sum"
   ]
  },
  {
   "cell_type": "code",
   "execution_count": 51,
   "metadata": {},
   "outputs": [
    {
     "data": {
      "text/plain": [
       "(311, 18)"
      ]
     },
     "execution_count": 51,
     "metadata": {},
     "output_type": "execute_result"
    }
   ],
   "source": [
    "clientespart[clientespart.Claim_cost_sum < 0].shape"
   ]
  },
  {
   "cell_type": "code",
   "execution_count": 52,
   "metadata": {},
   "outputs": [
    {
     "data": {
      "text/plain": [
       "(84945, 18)"
      ]
     },
     "execution_count": 52,
     "metadata": {},
     "output_type": "execute_result"
    }
   ],
   "source": [
    "clientespart[clientespart.Claim_cost_sum == 0].shape"
   ]
  },
  {
   "cell_type": "code",
   "execution_count": 53,
   "metadata": {},
   "outputs": [
    {
     "data": {
      "text/plain": [
       "(34325, 18)"
      ]
     },
     "execution_count": 53,
     "metadata": {},
     "output_type": "execute_result"
    }
   ],
   "source": [
    "clientespart[clientespart.Claim_cost_sum > 0].shape"
   ]
  },
  {
   "cell_type": "code",
   "execution_count": 58,
   "metadata": {},
   "outputs": [
    {
     "data": {
      "text/plain": [
       "(11021, 18)"
      ]
     },
     "execution_count": 58,
     "metadata": {},
     "output_type": "execute_result"
    }
   ],
   "source": [
    "clientespart[(clientespart.Claim_cost_sum > 0) & (clientespart.Claim_cost_sum <= 500)].shape"
   ]
  },
  {
   "cell_type": "code",
   "execution_count": 59,
   "metadata": {},
   "outputs": [
    {
     "data": {
      "text/plain": [
       "(6282, 18)"
      ]
     },
     "execution_count": 59,
     "metadata": {},
     "output_type": "execute_result"
    }
   ],
   "source": [
    "clientespart[(clientespart.Claim_cost_sum > 500) & (clientespart.Claim_cost_sum <= 1000)].shape"
   ]
  },
  {
   "cell_type": "code",
   "execution_count": 60,
   "metadata": {},
   "outputs": [
    {
     "data": {
      "text/plain": [
       "(7627, 18)"
      ]
     },
     "execution_count": 60,
     "metadata": {},
     "output_type": "execute_result"
    }
   ],
   "source": [
    "clientespart[(clientespart.Claim_cost_sum > 1000) & (clientespart.Claim_cost_sum <= 2000)].shape"
   ]
  },
  {
   "cell_type": "code",
   "execution_count": 62,
   "metadata": {},
   "outputs": [
    {
     "data": {
      "text/plain": [
       "(3391, 18)"
      ]
     },
     "execution_count": 62,
     "metadata": {},
     "output_type": "execute_result"
    }
   ],
   "source": [
    "clientespart[(clientespart.Claim_cost_sum > 2000) & (clientespart.Claim_cost_sum <= 3000)].shape"
   ]
  },
  {
   "cell_type": "code",
   "execution_count": 63,
   "metadata": {},
   "outputs": [
    {
     "data": {
      "text/plain": [
       "(6004, 18)"
      ]
     },
     "execution_count": 63,
     "metadata": {},
     "output_type": "execute_result"
    }
   ],
   "source": [
    "clientespart[clientespart.Claim_cost_sum > 3000].shape"
   ]
  },
  {
   "cell_type": "markdown",
   "metadata": {},
   "source": [
    "## 2.7 Premium_sum"
   ]
  },
  {
   "cell_type": "code",
   "execution_count": 64,
   "metadata": {},
   "outputs": [
    {
     "data": {
      "text/plain": [
       "(47, 18)"
      ]
     },
     "execution_count": 64,
     "metadata": {},
     "output_type": "execute_result"
    }
   ],
   "source": [
    "clientespart[clientespart.Premium_sum < 0].shape"
   ]
  },
  {
   "cell_type": "code",
   "execution_count": 65,
   "metadata": {},
   "outputs": [
    {
     "data": {
      "text/plain": [
       "(664, 18)"
      ]
     },
     "execution_count": 65,
     "metadata": {},
     "output_type": "execute_result"
    }
   ],
   "source": [
    "clientespart[clientespart.Premium_sum == 0].shape"
   ]
  },
  {
   "cell_type": "code",
   "execution_count": 66,
   "metadata": {},
   "outputs": [
    {
     "data": {
      "text/plain": [
       "(118870, 18)"
      ]
     },
     "execution_count": 66,
     "metadata": {},
     "output_type": "execute_result"
    }
   ],
   "source": [
    "clientespart[clientespart.Premium_sum > 0].shape"
   ]
  },
  {
   "cell_type": "code",
   "execution_count": 68,
   "metadata": {},
   "outputs": [
    {
     "data": {
      "text/plain": [
       "(22874, 18)"
      ]
     },
     "execution_count": 68,
     "metadata": {},
     "output_type": "execute_result"
    }
   ],
   "source": [
    "clientespart[(clientespart.Premium_sum > 0) & (clientespart.Premium_sum <= 100)].shape"
   ]
  },
  {
   "cell_type": "code",
   "execution_count": 70,
   "metadata": {},
   "outputs": [
    {
     "data": {
      "text/plain": [
       "(26433, 18)"
      ]
     },
     "execution_count": 70,
     "metadata": {},
     "output_type": "execute_result"
    }
   ],
   "source": [
    "clientespart[(clientespart.Premium_sum > 100) & (clientespart.Premium_sum <= 200)].shape"
   ]
  },
  {
   "cell_type": "code",
   "execution_count": 71,
   "metadata": {},
   "outputs": [
    {
     "data": {
      "text/plain": [
       "(29178, 18)"
      ]
     },
     "execution_count": 71,
     "metadata": {},
     "output_type": "execute_result"
    }
   ],
   "source": [
    "clientespart[(clientespart.Premium_sum > 200) & (clientespart.Premium_sum <= 350)].shape"
   ]
  },
  {
   "cell_type": "code",
   "execution_count": 72,
   "metadata": {},
   "outputs": [
    {
     "data": {
      "text/plain": [
       "(15736, 18)"
      ]
     },
     "execution_count": 72,
     "metadata": {},
     "output_type": "execute_result"
    }
   ],
   "source": [
    "clientespart[(clientespart.Premium_sum > 350) & (clientespart.Premium_sum <= 500)].shape"
   ]
  },
  {
   "cell_type": "code",
   "execution_count": 73,
   "metadata": {},
   "outputs": [
    {
     "data": {
      "text/plain": [
       "(10300, 18)"
      ]
     },
     "execution_count": 73,
     "metadata": {},
     "output_type": "execute_result"
    }
   ],
   "source": [
    "clientespart[(clientespart.Premium_sum > 500) & (clientespart.Premium_sum <= 700)].shape"
   ]
  },
  {
   "cell_type": "code",
   "execution_count": 74,
   "metadata": {},
   "outputs": [
    {
     "data": {
      "text/plain": [
       "(6901, 18)"
      ]
     },
     "execution_count": 74,
     "metadata": {},
     "output_type": "execute_result"
    }
   ],
   "source": [
    "clientespart[(clientespart.Premium_sum > 700) & (clientespart.Premium_sum <= 1000)].shape"
   ]
  },
  {
   "cell_type": "code",
   "execution_count": 76,
   "metadata": {},
   "outputs": [
    {
     "data": {
      "text/plain": [
       "(5589, 18)"
      ]
     },
     "execution_count": 76,
     "metadata": {},
     "output_type": "execute_result"
    }
   ],
   "source": [
    "clientespart[(clientespart.Premium_sum > 1000) & (clientespart.Premium_sum <= 2000)].shape"
   ]
  },
  {
   "cell_type": "code",
   "execution_count": 78,
   "metadata": {},
   "outputs": [
    {
     "data": {
      "text/plain": [
       "(1859, 18)"
      ]
     },
     "execution_count": 78,
     "metadata": {},
     "output_type": "execute_result"
    }
   ],
   "source": [
    "clientespart[clientespart.Premium_sum > 2000].shape"
   ]
  },
  {
   "cell_type": "markdown",
   "metadata": {},
   "source": [
    "## 2.8 RelationshipIndex"
   ]
  },
  {
   "cell_type": "code",
   "execution_count": 59,
   "metadata": {},
   "outputs": [
    {
     "data": {
      "text/plain": [
       "(84415, 24)"
      ]
     },
     "execution_count": 59,
     "metadata": {},
     "output_type": "execute_result"
    }
   ],
   "source": [
    "clientespart[clientespart.PolicyId_count == 1].shape"
   ]
  },
  {
   "cell_type": "code",
   "execution_count": 60,
   "metadata": {},
   "outputs": [
    {
     "data": {
      "text/plain": [
       "(20832, 24)"
      ]
     },
     "execution_count": 60,
     "metadata": {},
     "output_type": "execute_result"
    }
   ],
   "source": [
    "clientespart[clientespart.PolicyId_count == 2].shape"
   ]
  },
  {
   "cell_type": "code",
   "execution_count": 61,
   "metadata": {},
   "outputs": [
    {
     "data": {
      "text/plain": [
       "(7628, 24)"
      ]
     },
     "execution_count": 61,
     "metadata": {},
     "output_type": "execute_result"
    }
   ],
   "source": [
    "clientespart[clientespart.PolicyId_count == 3].shape"
   ]
  },
  {
   "cell_type": "code",
   "execution_count": 63,
   "metadata": {},
   "outputs": [
    {
     "data": {
      "text/plain": [
       "(3367, 24)"
      ]
     },
     "execution_count": 63,
     "metadata": {},
     "output_type": "execute_result"
    }
   ],
   "source": [
    "clientespart[clientespart.PolicyId_count == 4].shape"
   ]
  },
  {
   "cell_type": "code",
   "execution_count": 64,
   "metadata": {},
   "outputs": [
    {
     "data": {
      "text/plain": [
       "(2641, 24)"
      ]
     },
     "execution_count": 64,
     "metadata": {},
     "output_type": "execute_result"
    }
   ],
   "source": [
    "clientespart[(clientespart.PolicyId_count > 4) & (clientespart.PolicyId_count <= 7)].shape"
   ]
  },
  {
   "cell_type": "code",
   "execution_count": 65,
   "metadata": {},
   "outputs": [
    {
     "data": {
      "text/plain": [
       "(453, 24)"
      ]
     },
     "execution_count": 65,
     "metadata": {},
     "output_type": "execute_result"
    }
   ],
   "source": [
    "clientespart[(clientespart.PolicyId_count > 7) & (clientespart.PolicyId_count <= 10)].shape"
   ]
  },
  {
   "cell_type": "code",
   "execution_count": 66,
   "metadata": {},
   "outputs": [
    {
     "data": {
      "text/plain": [
       "(245, 24)"
      ]
     },
     "execution_count": 66,
     "metadata": {},
     "output_type": "execute_result"
    }
   ],
   "source": [
    "clientespart[clientespart.PolicyId_count > 10].shape"
   ]
  },
  {
   "cell_type": "code",
   "execution_count": 96,
   "metadata": {},
   "outputs": [
    {
     "data": {
      "text/plain": [
       "(1521, 23)"
      ]
     },
     "execution_count": 96,
     "metadata": {},
     "output_type": "execute_result"
    }
   ],
   "source": [
    "clientespart[clientespart.PolicyId_count == 5].shape"
   ]
  },
  {
   "cell_type": "code",
   "execution_count": 109,
   "metadata": {},
   "outputs": [
    {
     "data": {
      "text/plain": [
       "(725, 23)"
      ]
     },
     "execution_count": 109,
     "metadata": {},
     "output_type": "execute_result"
    }
   ],
   "source": [
    "clientespart[clientespart.PolicyId_count == 6].shape"
   ]
  },
  {
   "cell_type": "code",
   "execution_count": 110,
   "metadata": {},
   "outputs": [
    {
     "data": {
      "text/plain": [
       "(1093, 23)"
      ]
     },
     "execution_count": 110,
     "metadata": {},
     "output_type": "execute_result"
    }
   ],
   "source": [
    "clientespart[clientespart.PolicyId_count >= 7].shape"
   ]
  },
  {
   "cell_type": "markdown",
   "metadata": {},
   "source": [
    "## 2.9 NClaims_sum"
   ]
  },
  {
   "cell_type": "code",
   "execution_count": 56,
   "metadata": {},
   "outputs": [
    {
     "data": {
      "text/html": [
       "<div>\n",
       "<style scoped>\n",
       "    .dataframe tbody tr th:only-of-type {\n",
       "        vertical-align: middle;\n",
       "    }\n",
       "\n",
       "    .dataframe tbody tr th {\n",
       "        vertical-align: top;\n",
       "    }\n",
       "\n",
       "    .dataframe thead th {\n",
       "        text-align: right;\n",
       "    }\n",
       "</style>\n",
       "<table border=\"1\" class=\"dataframe\">\n",
       "  <thead>\n",
       "    <tr style=\"text-align: right;\">\n",
       "      <th></th>\n",
       "      <th>CustomerId</th>\n",
       "      <th>Premium_sum</th>\n",
       "      <th>Premium_min</th>\n",
       "      <th>Premium_max</th>\n",
       "      <th>PolicyId_count</th>\n",
       "      <th>Age_max</th>\n",
       "      <th>Tenure_max</th>\n",
       "      <th>TenureCalculated_max</th>\n",
       "      <th>Gender_first</th>\n",
       "      <th>Integrality_first</th>\n",
       "      <th>Claim_max</th>\n",
       "      <th>NClaims_sum</th>\n",
       "      <th>ClaimCost_sum</th>\n",
       "      <th>Profitability_sum</th>\n",
       "      <th>PersonalDataProtectionBool_max</th>\n",
       "      <th>DirectDebit_max</th>\n",
       "      <th>DirectDebit_min</th>\n",
       "      <th>IntermediatedPolicy_max</th>\n",
       "      <th>EffectiveDate_min</th>\n",
       "      <th>LossRatio_max</th>\n",
       "      <th>LossRatioCalculated_max</th>\n",
       "      <th>ClientSegmentation_first</th>\n",
       "      <th>ProfitabilityCalculated</th>\n",
       "      <th>IntegralityCalculated</th>\n",
       "      <th>IntegralityCalculated2</th>\n",
       "      <th>ContractChannel_first</th>\n",
       "    </tr>\n",
       "  </thead>\n",
       "  <tbody>\n",
       "    <tr>\n",
       "      <th>0</th>\n",
       "      <td>CLIENT002</td>\n",
       "      <td>280.000000</td>\n",
       "      <td>280.000000</td>\n",
       "      <td>280.000000</td>\n",
       "      <td>1</td>\n",
       "      <td>NaN</td>\n",
       "      <td>NaN</td>\n",
       "      <td>4</td>\n",
       "      <td>NaN</td>\n",
       "      <td>D</td>\n",
       "      <td>0.0</td>\n",
       "      <td>0.0</td>\n",
       "      <td>0.0</td>\n",
       "      <td>63.767120</td>\n",
       "      <td>0.0</td>\n",
       "      <td>1</td>\n",
       "      <td>1</td>\n",
       "      <td>1</td>\n",
       "      <td>2021-01-29</td>\n",
       "      <td>0.000000</td>\n",
       "      <td>1</td>\n",
       "      <td>Silver</td>\n",
       "      <td>280.000000</td>\n",
       "      <td>1</td>\n",
       "      <td>1</td>\n",
       "      <td>Brokers</td>\n",
       "    </tr>\n",
       "    <tr>\n",
       "      <th>1</th>\n",
       "      <td>CLIENT004</td>\n",
       "      <td>410.130005</td>\n",
       "      <td>410.130005</td>\n",
       "      <td>410.130005</td>\n",
       "      <td>1</td>\n",
       "      <td>75.0</td>\n",
       "      <td>8.0</td>\n",
       "      <td>97</td>\n",
       "      <td>Male</td>\n",
       "      <td>D</td>\n",
       "      <td>1.0</td>\n",
       "      <td>1.0</td>\n",
       "      <td>350.0</td>\n",
       "      <td>1806.372677</td>\n",
       "      <td>1.0</td>\n",
       "      <td>1</td>\n",
       "      <td>1</td>\n",
       "      <td>1</td>\n",
       "      <td>2013-05-20</td>\n",
       "      <td>16.230961</td>\n",
       "      <td>1</td>\n",
       "      <td>Silver</td>\n",
       "      <td>60.130005</td>\n",
       "      <td>1</td>\n",
       "      <td>1</td>\n",
       "      <td>Agents</td>\n",
       "    </tr>\n",
       "    <tr>\n",
       "      <th>2</th>\n",
       "      <td>CLIENT005</td>\n",
       "      <td>140.000000</td>\n",
       "      <td>140.000000</td>\n",
       "      <td>140.000000</td>\n",
       "      <td>1</td>\n",
       "      <td>71.0</td>\n",
       "      <td>3.0</td>\n",
       "      <td>38</td>\n",
       "      <td>Male</td>\n",
       "      <td>D</td>\n",
       "      <td>0.0</td>\n",
       "      <td>0.0</td>\n",
       "      <td>0.0</td>\n",
       "      <td>363.552737</td>\n",
       "      <td>1.0</td>\n",
       "      <td>0</td>\n",
       "      <td>0</td>\n",
       "      <td>1</td>\n",
       "      <td>2018-04-24</td>\n",
       "      <td>0.000000</td>\n",
       "      <td>1</td>\n",
       "      <td>Silver</td>\n",
       "      <td>140.000000</td>\n",
       "      <td>1</td>\n",
       "      <td>1</td>\n",
       "      <td>Agents</td>\n",
       "    </tr>\n",
       "    <tr>\n",
       "      <th>3</th>\n",
       "      <td>CLIENT007</td>\n",
       "      <td>406.500000</td>\n",
       "      <td>406.500000</td>\n",
       "      <td>406.500000</td>\n",
       "      <td>1</td>\n",
       "      <td>58.0</td>\n",
       "      <td>0.0</td>\n",
       "      <td>5</td>\n",
       "      <td>Female</td>\n",
       "      <td>C</td>\n",
       "      <td>0.0</td>\n",
       "      <td>0.0</td>\n",
       "      <td>0.0</td>\n",
       "      <td>33.684398</td>\n",
       "      <td>1.0</td>\n",
       "      <td>1</td>\n",
       "      <td>1</td>\n",
       "      <td>1</td>\n",
       "      <td>2021-01-04</td>\n",
       "      <td>0.000000</td>\n",
       "      <td>1</td>\n",
       "      <td>Silver</td>\n",
       "      <td>406.500000</td>\n",
       "      <td>1</td>\n",
       "      <td>1</td>\n",
       "      <td>TIIs</td>\n",
       "    </tr>\n",
       "    <tr>\n",
       "      <th>4</th>\n",
       "      <td>CLIENT008</td>\n",
       "      <td>0.000000</td>\n",
       "      <td>0.000000</td>\n",
       "      <td>0.000000</td>\n",
       "      <td>1</td>\n",
       "      <td>4.0</td>\n",
       "      <td>2.0</td>\n",
       "      <td>29</td>\n",
       "      <td>Male</td>\n",
       "      <td>NaN</td>\n",
       "      <td>0.0</td>\n",
       "      <td>0.0</td>\n",
       "      <td>0.0</td>\n",
       "      <td>40.990000</td>\n",
       "      <td>NaN</td>\n",
       "      <td>0</td>\n",
       "      <td>0</td>\n",
       "      <td>1</td>\n",
       "      <td>2019-01-01</td>\n",
       "      <td>0.000000</td>\n",
       "      <td>1</td>\n",
       "      <td>Silver</td>\n",
       "      <td>0.000000</td>\n",
       "      <td>1</td>\n",
       "      <td>1</td>\n",
       "      <td>Brokers</td>\n",
       "    </tr>\n",
       "  </tbody>\n",
       "</table>\n",
       "</div>"
      ],
      "text/plain": [
       "  CustomerId  Premium_sum  Premium_min  Premium_max  PolicyId_count  Age_max  \\\n",
       "0  CLIENT002   280.000000   280.000000   280.000000               1      NaN   \n",
       "1  CLIENT004   410.130005   410.130005   410.130005               1     75.0   \n",
       "2  CLIENT005   140.000000   140.000000   140.000000               1     71.0   \n",
       "3  CLIENT007   406.500000   406.500000   406.500000               1     58.0   \n",
       "4  CLIENT008     0.000000     0.000000     0.000000               1      4.0   \n",
       "\n",
       "   Tenure_max  TenureCalculated_max Gender_first Integrality_first  Claim_max  \\\n",
       "0         NaN                     4          NaN                 D        0.0   \n",
       "1         8.0                    97         Male                 D        1.0   \n",
       "2         3.0                    38         Male                 D        0.0   \n",
       "3         0.0                     5       Female                 C        0.0   \n",
       "4         2.0                    29         Male               NaN        0.0   \n",
       "\n",
       "   NClaims_sum  ClaimCost_sum  Profitability_sum  \\\n",
       "0          0.0            0.0          63.767120   \n",
       "1          1.0          350.0        1806.372677   \n",
       "2          0.0            0.0         363.552737   \n",
       "3          0.0            0.0          33.684398   \n",
       "4          0.0            0.0          40.990000   \n",
       "\n",
       "   PersonalDataProtectionBool_max  DirectDebit_max  DirectDebit_min  \\\n",
       "0                             0.0                1                1   \n",
       "1                             1.0                1                1   \n",
       "2                             1.0                0                0   \n",
       "3                             1.0                1                1   \n",
       "4                             NaN                0                0   \n",
       "\n",
       "   IntermediatedPolicy_max EffectiveDate_min  LossRatio_max  \\\n",
       "0                        1        2021-01-29       0.000000   \n",
       "1                        1        2013-05-20      16.230961   \n",
       "2                        1        2018-04-24       0.000000   \n",
       "3                        1        2021-01-04       0.000000   \n",
       "4                        1        2019-01-01       0.000000   \n",
       "\n",
       "   LossRatioCalculated_max ClientSegmentation_first  ProfitabilityCalculated  \\\n",
       "0                        1                   Silver               280.000000   \n",
       "1                        1                   Silver                60.130005   \n",
       "2                        1                   Silver               140.000000   \n",
       "3                        1                   Silver               406.500000   \n",
       "4                        1                   Silver                 0.000000   \n",
       "\n",
       "   IntegralityCalculated  IntegralityCalculated2 ContractChannel_first  \n",
       "0                      1                       1               Brokers  \n",
       "1                      1                       1                Agents  \n",
       "2                      1                       1                Agents  \n",
       "3                      1                       1                  TIIs  \n",
       "4                      1                       1               Brokers  "
      ]
     },
     "execution_count": 56,
     "metadata": {},
     "output_type": "execute_result"
    }
   ],
   "source": [
    "clientespart.head()"
   ]
  },
  {
   "cell_type": "code",
   "execution_count": 58,
   "metadata": {},
   "outputs": [
    {
     "data": {
      "text/plain": [
       "(82249, 26)"
      ]
     },
     "execution_count": 58,
     "metadata": {},
     "output_type": "execute_result"
    }
   ],
   "source": [
    "clientespart[clientespart.NClaims_sum == 0].shape"
   ]
  },
  {
   "cell_type": "code",
   "execution_count": 59,
   "metadata": {},
   "outputs": [
    {
     "data": {
      "text/plain": [
       "(37332, 26)"
      ]
     },
     "execution_count": 59,
     "metadata": {},
     "output_type": "execute_result"
    }
   ],
   "source": [
    "clientespart[clientespart.NClaims_sum > 0].shape"
   ]
  },
  {
   "cell_type": "code",
   "execution_count": 89,
   "metadata": {},
   "outputs": [
    {
     "data": {
      "text/plain": [
       "(18386, 18)"
      ]
     },
     "execution_count": 89,
     "metadata": {},
     "output_type": "execute_result"
    }
   ],
   "source": [
    "clientespart[clientespart.NClaims_sum == 1].shape"
   ]
  },
  {
   "cell_type": "code",
   "execution_count": 90,
   "metadata": {},
   "outputs": [
    {
     "data": {
      "text/plain": [
       "(7386, 18)"
      ]
     },
     "execution_count": 90,
     "metadata": {},
     "output_type": "execute_result"
    }
   ],
   "source": [
    "clientespart[clientespart.NClaims_sum == 2].shape"
   ]
  },
  {
   "cell_type": "code",
   "execution_count": 91,
   "metadata": {},
   "outputs": [
    {
     "data": {
      "text/plain": [
       "(3668, 18)"
      ]
     },
     "execution_count": 91,
     "metadata": {},
     "output_type": "execute_result"
    }
   ],
   "source": [
    "clientespart[clientespart.NClaims_sum == 3].shape"
   ]
  },
  {
   "cell_type": "code",
   "execution_count": 92,
   "metadata": {},
   "outputs": [
    {
     "data": {
      "text/plain": [
       "(2071, 18)"
      ]
     },
     "execution_count": 92,
     "metadata": {},
     "output_type": "execute_result"
    }
   ],
   "source": [
    "clientespart[clientespart.NClaims_sum == 4].shape"
   ]
  },
  {
   "cell_type": "code",
   "execution_count": 93,
   "metadata": {},
   "outputs": [
    {
     "data": {
      "text/plain": [
       "(1257, 18)"
      ]
     },
     "execution_count": 93,
     "metadata": {},
     "output_type": "execute_result"
    }
   ],
   "source": [
    "clientespart[clientespart.NClaims_sum == 5].shape"
   ]
  },
  {
   "cell_type": "code",
   "execution_count": 96,
   "metadata": {},
   "outputs": [
    {
     "data": {
      "text/plain": [
       "(854, 18)"
      ]
     },
     "execution_count": 96,
     "metadata": {},
     "output_type": "execute_result"
    }
   ],
   "source": [
    "clientespart[clientespart.NClaims_sum == 6].shape"
   ]
  },
  {
   "cell_type": "code",
   "execution_count": 97,
   "metadata": {},
   "outputs": [
    {
     "data": {
      "text/plain": [
       "(3710, 18)"
      ]
     },
     "execution_count": 97,
     "metadata": {},
     "output_type": "execute_result"
    }
   ],
   "source": [
    "clientespart[clientespart.NClaims_sum >= 7].shape"
   ]
  },
  {
   "cell_type": "markdown",
   "metadata": {},
   "source": [
    "## 2.10 IntegralityCalculated"
   ]
  },
  {
   "cell_type": "code",
   "execution_count": 190,
   "metadata": {},
   "outputs": [
    {
     "data": {
      "text/plain": [
       "1    101548\n",
       "2     15890\n",
       "3      2115\n",
       "4        28\n",
       "Name: IntegralityCalculated, dtype: int64"
      ]
     },
     "execution_count": 190,
     "metadata": {},
     "output_type": "execute_result"
    }
   ],
   "source": [
    "clientespart.IntegralityCalculated.value_counts()"
   ]
  },
  {
   "cell_type": "code",
   "execution_count": 193,
   "metadata": {},
   "outputs": [
    {
     "data": {
      "text/plain": [
       "D    61388\n",
       "C    27030\n",
       "B     6860\n",
       "Name: Integrality_first, dtype: int64"
      ]
     },
     "execution_count": 193,
     "metadata": {},
     "output_type": "execute_result"
    }
   ],
   "source": [
    "clientesp.Integrality_first.value_counts()"
   ]
  },
  {
   "cell_type": "markdown",
   "metadata": {},
   "source": [
    "## 2.11 Loss Ratio Calculated"
   ]
  },
  {
   "cell_type": "code",
   "execution_count": 45,
   "metadata": {},
   "outputs": [
    {
     "data": {
      "text/plain": [
       "1    90491\n",
       "4    18965\n",
       "3     5180\n",
       "2     4945\n",
       "Name: LossRatioCalculated_max, dtype: int64"
      ]
     },
     "execution_count": 45,
     "metadata": {},
     "output_type": "execute_result"
    }
   ],
   "source": [
    "clientespart.LossRatioCalculated_max.value_counts()"
   ]
  },
  {
   "cell_type": "markdown",
   "metadata": {},
   "source": [
    "# 3. Categorical variables"
   ]
  },
  {
   "cell_type": "code",
   "execution_count": 194,
   "metadata": {},
   "outputs": [
    {
     "data": {
      "text/plain": [
       "Index(['CustomerId', 'PolicyId', 'SubBranch', 'Branch', 'Product',\n",
       "       'EffectiveDate', 'Premium', 'IntermediatedPolicy', 'ContractChannel',\n",
       "       'PersonalDataProtection', 'DirectDebit', 'Claim', 'NClaims',\n",
       "       'ClaimCost', 'PersonType', 'Age', 'Tenure', 'Gender', 'Integrality',\n",
       "       'Profitability', 'LossRatio', 'ClientValueGroup', 'ClientSegmentation',\n",
       "       'ClientArea', 'MaxDate', 'TenureCalculated',\n",
       "       'PersonalDataProtectionBool1', 'PersonalDataProtectionBool2',\n",
       "       'PersonalDataProtectionBool'],\n",
       "      dtype='object')"
      ]
     },
     "execution_count": 194,
     "metadata": {},
     "output_type": "execute_result"
    }
   ],
   "source": [
    "polpart.columns"
   ]
  },
  {
   "cell_type": "code",
   "execution_count": 195,
   "metadata": {},
   "outputs": [],
   "source": [
    "##########################################################\n",
    "#######    VARIABLES CATEGÓRICAS A NIVEL PÓLIZA   ########\n",
    "##########################################################\n",
    "polpartcat=polpart[['Product','Branch','SubBranch','DirectDebit','ContractChannel','IntermediatedPolicy','Claim','NClaims', 'PersonalDataProtectionBool']]"
   ]
  },
  {
   "cell_type": "code",
   "execution_count": 196,
   "metadata": {
    "scrolled": false
   },
   "outputs": [
    {
     "name": "stdout",
     "output_type": "stream",
     "text": [
      "   \u001b[1mProduct\u001b[0;0m    \n"
     ]
    },
    {
     "data": {
      "text/html": [
       "<div>\n",
       "<style scoped>\n",
       "    .dataframe tbody tr th:only-of-type {\n",
       "        vertical-align: middle;\n",
       "    }\n",
       "\n",
       "    .dataframe tbody tr th {\n",
       "        vertical-align: top;\n",
       "    }\n",
       "\n",
       "    .dataframe thead th {\n",
       "        text-align: right;\n",
       "    }\n",
       "</style>\n",
       "<table border=\"1\" class=\"dataframe\">\n",
       "  <thead>\n",
       "    <tr style=\"text-align: right;\">\n",
       "      <th></th>\n",
       "      <th>count</th>\n",
       "      <th>Percentage %</th>\n",
       "    </tr>\n",
       "  </thead>\n",
       "  <tbody>\n",
       "    <tr>\n",
       "      <td>Private Vehicle</td>\n",
       "      <td>82999</td>\n",
       "      <td>44.495612</td>\n",
       "    </tr>\n",
       "    <tr>\n",
       "      <td>Group health</td>\n",
       "      <td>20451</td>\n",
       "      <td>10.963744</td>\n",
       "    </tr>\n",
       "    <tr>\n",
       "      <td>Home Policy</td>\n",
       "      <td>17684</td>\n",
       "      <td>9.480360</td>\n",
       "    </tr>\n",
       "    <tr>\n",
       "      <td>BoV Home Block</td>\n",
       "      <td>15612</td>\n",
       "      <td>8.369565</td>\n",
       "    </tr>\n",
       "    <tr>\n",
       "      <td>Commercial Vehicle</td>\n",
       "      <td>13818</td>\n",
       "      <td>7.407805</td>\n",
       "    </tr>\n",
       "    <tr>\n",
       "      <td>...</td>\n",
       "      <td>...</td>\n",
       "      <td>...</td>\n",
       "    </tr>\n",
       "    <tr>\n",
       "      <td>Erection All Risks Project</td>\n",
       "      <td>6</td>\n",
       "      <td>0.003217</td>\n",
       "    </tr>\n",
       "    <tr>\n",
       "      <td>Deterioration of Stock</td>\n",
       "      <td>2</td>\n",
       "      <td>0.001072</td>\n",
       "    </tr>\n",
       "    <tr>\n",
       "      <td>Machinery Breakdown Loss of Profit</td>\n",
       "      <td>2</td>\n",
       "      <td>0.001072</td>\n",
       "    </tr>\n",
       "    <tr>\n",
       "      <td>Marine Cargo Open Cover</td>\n",
       "      <td>1</td>\n",
       "      <td>0.000536</td>\n",
       "    </tr>\n",
       "    <tr>\n",
       "      <td>Plate Glass</td>\n",
       "      <td>1</td>\n",
       "      <td>0.000536</td>\n",
       "    </tr>\n",
       "  </tbody>\n",
       "</table>\n",
       "<p>61 rows × 2 columns</p>\n",
       "</div>"
      ],
      "text/plain": [
       "                                    count   Percentage % \n",
       "Private Vehicle                     82999       44.495612\n",
       "Group health                        20451       10.963744\n",
       "Home Policy                         17684        9.480360\n",
       "BoV Home Block                      15612        8.369565\n",
       "Commercial Vehicle                  13818        7.407805\n",
       "...                                   ...             ...\n",
       "Erection All Risks Project              6        0.003217\n",
       "Deterioration of Stock                  2        0.001072\n",
       "Machinery Breakdown Loss of Profit      2        0.001072\n",
       "Marine Cargo Open Cover                 1        0.000536\n",
       "Plate Glass                             1        0.000536\n",
       "\n",
       "[61 rows x 2 columns]"
      ]
     },
     "metadata": {},
     "output_type": "display_data"
    },
    {
     "name": "stdout",
     "output_type": "stream",
     "text": [
      "\n",
      "    \u001b[1mBranch\u001b[0;0m    \n"
     ]
    },
    {
     "data": {
      "text/html": [
       "<div>\n",
       "<style scoped>\n",
       "    .dataframe tbody tr th:only-of-type {\n",
       "        vertical-align: middle;\n",
       "    }\n",
       "\n",
       "    .dataframe tbody tr th {\n",
       "        vertical-align: top;\n",
       "    }\n",
       "\n",
       "    .dataframe thead th {\n",
       "        text-align: right;\n",
       "    }\n",
       "</style>\n",
       "<table border=\"1\" class=\"dataframe\">\n",
       "  <thead>\n",
       "    <tr style=\"text-align: right;\">\n",
       "      <th></th>\n",
       "      <th>count</th>\n",
       "      <th>Percentage %</th>\n",
       "    </tr>\n",
       "  </thead>\n",
       "  <tbody>\n",
       "    <tr>\n",
       "      <td>Motor</td>\n",
       "      <td>116118</td>\n",
       "      <td>62.251315</td>\n",
       "    </tr>\n",
       "    <tr>\n",
       "      <td>Personal Lines</td>\n",
       "      <td>36676</td>\n",
       "      <td>19.662147</td>\n",
       "    </tr>\n",
       "    <tr>\n",
       "      <td>Health</td>\n",
       "      <td>24269</td>\n",
       "      <td>13.010706</td>\n",
       "    </tr>\n",
       "    <tr>\n",
       "      <td>Commercial Lines</td>\n",
       "      <td>9468</td>\n",
       "      <td>5.075832</td>\n",
       "    </tr>\n",
       "  </tbody>\n",
       "</table>\n",
       "</div>"
      ],
      "text/plain": [
       "                   count   Percentage % \n",
       "Motor             116118       62.251315\n",
       "Personal Lines     36676       19.662147\n",
       "Health             24269       13.010706\n",
       "Commercial Lines    9468        5.075832"
      ]
     },
     "metadata": {},
     "output_type": "display_data"
    },
    {
     "name": "stdout",
     "output_type": "stream",
     "text": [
      "\n",
      "  \u001b[1mSubBranch\u001b[0;0m   \n"
     ]
    },
    {
     "data": {
      "text/html": [
       "<div>\n",
       "<style scoped>\n",
       "    .dataframe tbody tr th:only-of-type {\n",
       "        vertical-align: middle;\n",
       "    }\n",
       "\n",
       "    .dataframe tbody tr th {\n",
       "        vertical-align: top;\n",
       "    }\n",
       "\n",
       "    .dataframe thead th {\n",
       "        text-align: right;\n",
       "    }\n",
       "</style>\n",
       "<table border=\"1\" class=\"dataframe\">\n",
       "  <thead>\n",
       "    <tr style=\"text-align: right;\">\n",
       "      <th></th>\n",
       "      <th>count</th>\n",
       "      <th>Percentage %</th>\n",
       "    </tr>\n",
       "  </thead>\n",
       "  <tbody>\n",
       "    <tr>\n",
       "      <td>Motor</td>\n",
       "      <td>116353</td>\n",
       "      <td>62.376630</td>\n",
       "    </tr>\n",
       "    <tr>\n",
       "      <td>Home</td>\n",
       "      <td>35845</td>\n",
       "      <td>19.216439</td>\n",
       "    </tr>\n",
       "    <tr>\n",
       "      <td>Group health</td>\n",
       "      <td>20451</td>\n",
       "      <td>10.963744</td>\n",
       "    </tr>\n",
       "    <tr>\n",
       "      <td>Other</td>\n",
       "      <td>9692</td>\n",
       "      <td>5.195863</td>\n",
       "    </tr>\n",
       "    <tr>\n",
       "      <td>Individual health</td>\n",
       "      <td>3818</td>\n",
       "      <td>2.046823</td>\n",
       "    </tr>\n",
       "    <tr>\n",
       "      <td>Commercial</td>\n",
       "      <td>248</td>\n",
       "      <td>0.132952</td>\n",
       "    </tr>\n",
       "    <tr>\n",
       "      <td>Travel</td>\n",
       "      <td>126</td>\n",
       "      <td>0.067548</td>\n",
       "    </tr>\n",
       "  </tbody>\n",
       "</table>\n",
       "</div>"
      ],
      "text/plain": [
       "                    count   Percentage % \n",
       "Motor              116353       62.376630\n",
       "Home                35845       19.216439\n",
       "Group health        20451       10.963744\n",
       "Other                9692        5.195863\n",
       "Individual health    3818        2.046823\n",
       "Commercial            248        0.132952\n",
       "Travel                126        0.067548"
      ]
     },
     "metadata": {},
     "output_type": "display_data"
    },
    {
     "name": "stdout",
     "output_type": "stream",
     "text": [
      "\n",
      " \u001b[1mDirectDebit\u001b[0;0m  \n"
     ]
    },
    {
     "data": {
      "text/html": [
       "<div>\n",
       "<style scoped>\n",
       "    .dataframe tbody tr th:only-of-type {\n",
       "        vertical-align: middle;\n",
       "    }\n",
       "\n",
       "    .dataframe tbody tr th {\n",
       "        vertical-align: top;\n",
       "    }\n",
       "\n",
       "    .dataframe thead th {\n",
       "        text-align: right;\n",
       "    }\n",
       "</style>\n",
       "<table border=\"1\" class=\"dataframe\">\n",
       "  <thead>\n",
       "    <tr style=\"text-align: right;\">\n",
       "      <th></th>\n",
       "      <th>count</th>\n",
       "      <th>Percentage %</th>\n",
       "    </tr>\n",
       "  </thead>\n",
       "  <tbody>\n",
       "    <tr>\n",
       "      <td>1</td>\n",
       "      <td>117070</td>\n",
       "      <td>62.761013</td>\n",
       "    </tr>\n",
       "    <tr>\n",
       "      <td>0</td>\n",
       "      <td>69463</td>\n",
       "      <td>37.238987</td>\n",
       "    </tr>\n",
       "  </tbody>\n",
       "</table>\n",
       "</div>"
      ],
      "text/plain": [
       "    count   Percentage % \n",
       "1  117070       62.761013\n",
       "0   69463       37.238987"
      ]
     },
     "metadata": {},
     "output_type": "display_data"
    },
    {
     "name": "stdout",
     "output_type": "stream",
     "text": [
      "\n",
      "\u001b[1mContractChannel\u001b[0;0m\n"
     ]
    },
    {
     "data": {
      "text/html": [
       "<div>\n",
       "<style scoped>\n",
       "    .dataframe tbody tr th:only-of-type {\n",
       "        vertical-align: middle;\n",
       "    }\n",
       "\n",
       "    .dataframe tbody tr th {\n",
       "        vertical-align: top;\n",
       "    }\n",
       "\n",
       "    .dataframe thead th {\n",
       "        text-align: right;\n",
       "    }\n",
       "</style>\n",
       "<table border=\"1\" class=\"dataframe\">\n",
       "  <thead>\n",
       "    <tr style=\"text-align: right;\">\n",
       "      <th></th>\n",
       "      <th>count</th>\n",
       "      <th>Percentage %</th>\n",
       "    </tr>\n",
       "  </thead>\n",
       "  <tbody>\n",
       "    <tr>\n",
       "      <td>Agents</td>\n",
       "      <td>65427</td>\n",
       "      <td>35.075295</td>\n",
       "    </tr>\n",
       "    <tr>\n",
       "      <td>TIIs</td>\n",
       "      <td>52001</td>\n",
       "      <td>27.877641</td>\n",
       "    </tr>\n",
       "    <tr>\n",
       "      <td>Brokers</td>\n",
       "      <td>34138</td>\n",
       "      <td>18.301319</td>\n",
       "    </tr>\n",
       "    <tr>\n",
       "      <td>Direct</td>\n",
       "      <td>18633</td>\n",
       "      <td>9.989117</td>\n",
       "    </tr>\n",
       "    <tr>\n",
       "      <td>Banks</td>\n",
       "      <td>16334</td>\n",
       "      <td>8.756628</td>\n",
       "    </tr>\n",
       "  </tbody>\n",
       "</table>\n",
       "</div>"
      ],
      "text/plain": [
       "         count   Percentage % \n",
       "Agents   65427       35.075295\n",
       "TIIs     52001       27.877641\n",
       "Brokers  34138       18.301319\n",
       "Direct   18633        9.989117\n",
       "Banks    16334        8.756628"
      ]
     },
     "metadata": {},
     "output_type": "display_data"
    },
    {
     "name": "stdout",
     "output_type": "stream",
     "text": [
      "\n",
      "\u001b[1mIntermediatedPolicy\u001b[0;0m\n"
     ]
    },
    {
     "data": {
      "text/html": [
       "<div>\n",
       "<style scoped>\n",
       "    .dataframe tbody tr th:only-of-type {\n",
       "        vertical-align: middle;\n",
       "    }\n",
       "\n",
       "    .dataframe tbody tr th {\n",
       "        vertical-align: top;\n",
       "    }\n",
       "\n",
       "    .dataframe thead th {\n",
       "        text-align: right;\n",
       "    }\n",
       "</style>\n",
       "<table border=\"1\" class=\"dataframe\">\n",
       "  <thead>\n",
       "    <tr style=\"text-align: right;\">\n",
       "      <th></th>\n",
       "      <th>count</th>\n",
       "      <th>Percentage %</th>\n",
       "    </tr>\n",
       "  </thead>\n",
       "  <tbody>\n",
       "    <tr>\n",
       "      <td>1</td>\n",
       "      <td>167900</td>\n",
       "      <td>90.010883</td>\n",
       "    </tr>\n",
       "    <tr>\n",
       "      <td>0</td>\n",
       "      <td>18633</td>\n",
       "      <td>9.989117</td>\n",
       "    </tr>\n",
       "  </tbody>\n",
       "</table>\n",
       "</div>"
      ],
      "text/plain": [
       "    count   Percentage % \n",
       "1  167900       90.010883\n",
       "0   18633        9.989117"
      ]
     },
     "metadata": {},
     "output_type": "display_data"
    },
    {
     "name": "stdout",
     "output_type": "stream",
     "text": [
      "\n",
      "    \u001b[1mClaim\u001b[0;0m     \n"
     ]
    },
    {
     "data": {
      "text/html": [
       "<div>\n",
       "<style scoped>\n",
       "    .dataframe tbody tr th:only-of-type {\n",
       "        vertical-align: middle;\n",
       "    }\n",
       "\n",
       "    .dataframe tbody tr th {\n",
       "        vertical-align: top;\n",
       "    }\n",
       "\n",
       "    .dataframe thead th {\n",
       "        text-align: right;\n",
       "    }\n",
       "</style>\n",
       "<table border=\"1\" class=\"dataframe\">\n",
       "  <thead>\n",
       "    <tr style=\"text-align: right;\">\n",
       "      <th></th>\n",
       "      <th>count</th>\n",
       "      <th>Percentage %</th>\n",
       "    </tr>\n",
       "  </thead>\n",
       "  <tbody>\n",
       "    <tr>\n",
       "      <td>0.0</td>\n",
       "      <td>142459</td>\n",
       "      <td>76.417483</td>\n",
       "    </tr>\n",
       "    <tr>\n",
       "      <td>1.0</td>\n",
       "      <td>43963</td>\n",
       "      <td>23.582517</td>\n",
       "    </tr>\n",
       "  </tbody>\n",
       "</table>\n",
       "</div>"
      ],
      "text/plain": [
       "      count   Percentage % \n",
       "0.0  142459       76.417483\n",
       "1.0   43963       23.582517"
      ]
     },
     "metadata": {},
     "output_type": "display_data"
    },
    {
     "name": "stdout",
     "output_type": "stream",
     "text": [
      "\n",
      "   \u001b[1mNClaims\u001b[0;0m    \n"
     ]
    },
    {
     "data": {
      "text/html": [
       "<div>\n",
       "<style scoped>\n",
       "    .dataframe tbody tr th:only-of-type {\n",
       "        vertical-align: middle;\n",
       "    }\n",
       "\n",
       "    .dataframe tbody tr th {\n",
       "        vertical-align: top;\n",
       "    }\n",
       "\n",
       "    .dataframe thead th {\n",
       "        text-align: right;\n",
       "    }\n",
       "</style>\n",
       "<table border=\"1\" class=\"dataframe\">\n",
       "  <thead>\n",
       "    <tr style=\"text-align: right;\">\n",
       "      <th></th>\n",
       "      <th>count</th>\n",
       "      <th>Percentage %</th>\n",
       "    </tr>\n",
       "  </thead>\n",
       "  <tbody>\n",
       "    <tr>\n",
       "      <td>0.0</td>\n",
       "      <td>142459</td>\n",
       "      <td>76.417483</td>\n",
       "    </tr>\n",
       "    <tr>\n",
       "      <td>1.0</td>\n",
       "      <td>25001</td>\n",
       "      <td>13.410971</td>\n",
       "    </tr>\n",
       "    <tr>\n",
       "      <td>2.0</td>\n",
       "      <td>8502</td>\n",
       "      <td>4.560621</td>\n",
       "    </tr>\n",
       "    <tr>\n",
       "      <td>3.0</td>\n",
       "      <td>3700</td>\n",
       "      <td>1.984744</td>\n",
       "    </tr>\n",
       "    <tr>\n",
       "      <td>4.0</td>\n",
       "      <td>1792</td>\n",
       "      <td>0.961260</td>\n",
       "    </tr>\n",
       "    <tr>\n",
       "      <td>...</td>\n",
       "      <td>...</td>\n",
       "      <td>...</td>\n",
       "    </tr>\n",
       "    <tr>\n",
       "      <td>81.0</td>\n",
       "      <td>1</td>\n",
       "      <td>0.000536</td>\n",
       "    </tr>\n",
       "    <tr>\n",
       "      <td>65.0</td>\n",
       "      <td>1</td>\n",
       "      <td>0.000536</td>\n",
       "    </tr>\n",
       "    <tr>\n",
       "      <td>105.0</td>\n",
       "      <td>1</td>\n",
       "      <td>0.000536</td>\n",
       "    </tr>\n",
       "    <tr>\n",
       "      <td>127.0</td>\n",
       "      <td>1</td>\n",
       "      <td>0.000536</td>\n",
       "    </tr>\n",
       "    <tr>\n",
       "      <td>48.0</td>\n",
       "      <td>1</td>\n",
       "      <td>0.000536</td>\n",
       "    </tr>\n",
       "  </tbody>\n",
       "</table>\n",
       "<p>74 rows × 2 columns</p>\n",
       "</div>"
      ],
      "text/plain": [
       "        count   Percentage % \n",
       "0.0    142459       76.417483\n",
       "1.0     25001       13.410971\n",
       "2.0      8502        4.560621\n",
       "3.0      3700        1.984744\n",
       "4.0      1792        0.961260\n",
       "...       ...             ...\n",
       "81.0        1        0.000536\n",
       "65.0        1        0.000536\n",
       "105.0       1        0.000536\n",
       "127.0       1        0.000536\n",
       "48.0        1        0.000536\n",
       "\n",
       "[74 rows x 2 columns]"
      ]
     },
     "metadata": {},
     "output_type": "display_data"
    },
    {
     "name": "stdout",
     "output_type": "stream",
     "text": [
      "\n",
      "\u001b[1mPersonalDataProtectionBool\u001b[0;0m\n"
     ]
    },
    {
     "data": {
      "text/html": [
       "<div>\n",
       "<style scoped>\n",
       "    .dataframe tbody tr th:only-of-type {\n",
       "        vertical-align: middle;\n",
       "    }\n",
       "\n",
       "    .dataframe tbody tr th {\n",
       "        vertical-align: top;\n",
       "    }\n",
       "\n",
       "    .dataframe thead th {\n",
       "        text-align: right;\n",
       "    }\n",
       "</style>\n",
       "<table border=\"1\" class=\"dataframe\">\n",
       "  <thead>\n",
       "    <tr style=\"text-align: right;\">\n",
       "      <th></th>\n",
       "      <th>count</th>\n",
       "      <th>Percentage %</th>\n",
       "    </tr>\n",
       "  </thead>\n",
       "  <tbody>\n",
       "    <tr>\n",
       "      <td>1.0</td>\n",
       "      <td>130342</td>\n",
       "      <td>80.327121</td>\n",
       "    </tr>\n",
       "    <tr>\n",
       "      <td>0.0</td>\n",
       "      <td>31922</td>\n",
       "      <td>19.672879</td>\n",
       "    </tr>\n",
       "  </tbody>\n",
       "</table>\n",
       "</div>"
      ],
      "text/plain": [
       "      count   Percentage % \n",
       "1.0  130342       80.327121\n",
       "0.0   31922       19.672879"
      ]
     },
     "metadata": {},
     "output_type": "display_data"
    },
    {
     "name": "stdout",
     "output_type": "stream",
     "text": [
      "\n"
     ]
    },
    {
     "data": {
      "text/plain": [
       "(186533, 9)"
      ]
     },
     "execution_count": 196,
     "metadata": {},
     "output_type": "execute_result"
    }
   ],
   "source": [
    "###########################################################################\n",
    "############     FRECUENCIAS DE VARIABLES CATEGÓRICAS     ##############\n",
    "#########################################################################\n",
    "cat2= polpartcat\n",
    "start = \"\\033[1m\"\n",
    "end = \"\\033[0;0m\"\n",
    "\n",
    "for column in cat2:\n",
    "    print('{:^24s}'.format(start+column+end))\n",
    "    x = cat2[column].value_counts()\n",
    "    x = x.to_frame()\n",
    "    x[  ' Percentage % '] = x[column] / x[column].sum() * 100 \n",
    "    x = x.rename(columns={column: \"count\"})\n",
    "    display(x)\n",
    "    print()\n",
    "    \n",
    "cat2.shape"
   ]
  },
  {
   "cell_type": "code",
   "execution_count": 103,
   "metadata": {},
   "outputs": [],
   "source": [
    "polpartcat.Product.value_counts().to_excel('../03. Exportaciones/polpart_product.xlsx', engine='xlsxwriter')"
   ]
  },
  {
   "cell_type": "code",
   "execution_count": 105,
   "metadata": {},
   "outputs": [],
   "source": [
    "polpartcat.N_claims.value_counts().to_excel('../03. Exportaciones/polpart_N_claims.xlsx', engine='xlsxwriter')"
   ]
  },
  {
   "cell_type": "code",
   "execution_count": 113,
   "metadata": {},
   "outputs": [
    {
     "data": {
      "image/png": "[encoded data removed]",
      "text/plain": [
       "<Figure size 720x360 with 1 Axes>"
      ]
     },
     "metadata": {},
     "output_type": "display_data"
    },
    {
     "name": "stdout",
     "output_type": "stream",
     "text": [
      "\n"
     ]
    },
    {
     "data": {
      "text/plain": [
       "<Figure size 432x288 with 0 Axes>"
      ]
     },
     "metadata": {},
     "output_type": "display_data"
    }
   ],
   "source": [
    "#################################################################\n",
    "############     GRÁFICOS VARIABLES CATEGÓRICAS     ##############\n",
    "##################################################################\n",
    "sns.set(font_scale= 1.1, palette=\"Reds_r\")    #change font size\n",
    "column = 'Personal_data_protection'#HAY QUE IR CAMBIANDO LA VARIABLE\n",
    "fig = plt.figure(figsize=[10,5])      \n",
    "ax = fig.add_subplot(111)\n",
    "patches, text, _ = ax.pie(cat2[column].value_counts(), autopct='%.1f%%', textprops={'color':\"w\", 'weight':'bold'})     #autopct the number stablishes dec.\n",
    "x = cat2[column].value_counts()\n",
    "x = x.to_frame()\n",
    "x[' Percentage % '] = x[column] / x[column].sum() * 100 \n",
    "x = x.rename(columns={column: \" count\"})\n",
    "x[' count'].plot.pie()\n",
    "ax.set_title(column, fontsize= 20)                                   #adds variable's name\n",
    "ax.legend(frameon=True, bbox_to_anchor=(2.3,0.9), borderaxespad=2., shadow=True)     #adds the legend\n",
    "#     plt.savefig(column+\"PieChart.jpg\")      QUITAR LINEA DE COMENTARio sI SE DESEA GUARDAR\n",
    "pylab.ylabel('')     #esta linea usa pylab library. QUITA COUNT\n",
    "plt.show()\n",
    "print()\n",
    "\n",
    "\n",
    "plt.tight_layout()      #adjust subplot params so that subplots are nicely fit in the figure"
   ]
  },
  {
   "cell_type": "code",
   "execution_count": 197,
   "metadata": {},
   "outputs": [
    {
     "data": {
      "text/plain": [
       "Index(['CustomerId', 'Premium_sum', 'Premium_min', 'Premium_max',\n",
       "       'PolicyId_count', 'Age_max', 'Tenure_max', 'TenureCalculated_max',\n",
       "       'Gender_first', 'Integrality_first', 'Claim_max', 'NClaims_sum',\n",
       "       'ClaimCost_sum', 'Profitability_sum', 'PersonalDataProtectionBool_max',\n",
       "       'DirectDebit_max', 'DirectDebit_min', 'IntermediatedPolicy_max',\n",
       "       'ProfitabilityCalculated', 'IntegralityCalculated',\n",
       "       'ContractChannel_first'],\n",
       "      dtype='object')"
      ]
     },
     "execution_count": 197,
     "metadata": {},
     "output_type": "execute_result"
    }
   ],
   "source": [
    "clientespart.columns"
   ]
  },
  {
   "cell_type": "code",
   "execution_count": 89,
   "metadata": {},
   "outputs": [],
   "source": [
    "###########################################################\n",
    "#######    CATEGORICAL VARIABLES AT CLIENT LEVEL   ########\n",
    "###########################################################\n",
    "clipartcat=clientespart[['Gender_first','IntermediatedPolicy_max','DirectDebit_max','ContractChannel_first','NClaims_sum', 'Integrality_first', 'IntegralityCalculated', 'ClientSegmentation_first']]                        "
   ]
  },
  {
   "cell_type": "code",
   "execution_count": 90,
   "metadata": {},
   "outputs": [
    {
     "data": {
      "text/plain": [
       "Gender_first                 9287\n",
       "IntermediatedPolicy_max         0\n",
       "DirectDebit_max                 0\n",
       "ContractChannel_first           0\n",
       "NClaims_sum                     0\n",
       "Integrality_first           24303\n",
       "IntegralityCalculated           0\n",
       "ClientSegmentation_first        0\n",
       "dtype: int64"
      ]
     },
     "execution_count": 90,
     "metadata": {},
     "output_type": "execute_result"
    }
   ],
   "source": [
    "clipartcat.isna().sum()"
   ]
  },
  {
   "cell_type": "code",
   "execution_count": 91,
   "metadata": {},
   "outputs": [
    {
     "name": "stdout",
     "output_type": "stream",
     "text": [
      " \u001b[1mGender_first\u001b[0;0m \n"
     ]
    },
    {
     "data": {
      "text/html": [
       "<div>\n",
       "<style scoped>\n",
       "    .dataframe tbody tr th:only-of-type {\n",
       "        vertical-align: middle;\n",
       "    }\n",
       "\n",
       "    .dataframe tbody tr th {\n",
       "        vertical-align: top;\n",
       "    }\n",
       "\n",
       "    .dataframe thead th {\n",
       "        text-align: right;\n",
       "    }\n",
       "</style>\n",
       "<table border=\"1\" class=\"dataframe\">\n",
       "  <thead>\n",
       "    <tr style=\"text-align: right;\">\n",
       "      <th></th>\n",
       "      <th>count</th>\n",
       "      <th>Percentage %</th>\n",
       "    </tr>\n",
       "  </thead>\n",
       "  <tbody>\n",
       "    <tr>\n",
       "      <td>Male</td>\n",
       "      <td>77317</td>\n",
       "      <td>70.100821</td>\n",
       "    </tr>\n",
       "    <tr>\n",
       "      <td>Female</td>\n",
       "      <td>32977</td>\n",
       "      <td>29.899179</td>\n",
       "    </tr>\n",
       "  </tbody>\n",
       "</table>\n",
       "</div>"
      ],
      "text/plain": [
       "        count   Percentage % \n",
       "Male    77317       70.100821\n",
       "Female  32977       29.899179"
      ]
     },
     "metadata": {},
     "output_type": "display_data"
    },
    {
     "name": "stdout",
     "output_type": "stream",
     "text": [
      "\n",
      "\u001b[1mIntermediatedPolicy_max\u001b[0;0m\n"
     ]
    },
    {
     "data": {
      "text/html": [
       "<div>\n",
       "<style scoped>\n",
       "    .dataframe tbody tr th:only-of-type {\n",
       "        vertical-align: middle;\n",
       "    }\n",
       "\n",
       "    .dataframe tbody tr th {\n",
       "        vertical-align: top;\n",
       "    }\n",
       "\n",
       "    .dataframe thead th {\n",
       "        text-align: right;\n",
       "    }\n",
       "</style>\n",
       "<table border=\"1\" class=\"dataframe\">\n",
       "  <thead>\n",
       "    <tr style=\"text-align: right;\">\n",
       "      <th></th>\n",
       "      <th>count</th>\n",
       "      <th>Percentage %</th>\n",
       "    </tr>\n",
       "  </thead>\n",
       "  <tbody>\n",
       "    <tr>\n",
       "      <td>1</td>\n",
       "      <td>107765</td>\n",
       "      <td>90.118832</td>\n",
       "    </tr>\n",
       "    <tr>\n",
       "      <td>0</td>\n",
       "      <td>11816</td>\n",
       "      <td>9.881168</td>\n",
       "    </tr>\n",
       "  </tbody>\n",
       "</table>\n",
       "</div>"
      ],
      "text/plain": [
       "    count   Percentage % \n",
       "1  107765       90.118832\n",
       "0   11816        9.881168"
      ]
     },
     "metadata": {},
     "output_type": "display_data"
    },
    {
     "name": "stdout",
     "output_type": "stream",
     "text": [
      "\n",
      "\u001b[1mDirectDebit_max\u001b[0;0m\n"
     ]
    },
    {
     "data": {
      "text/html": [
       "<div>\n",
       "<style scoped>\n",
       "    .dataframe tbody tr th:only-of-type {\n",
       "        vertical-align: middle;\n",
       "    }\n",
       "\n",
       "    .dataframe tbody tr th {\n",
       "        vertical-align: top;\n",
       "    }\n",
       "\n",
       "    .dataframe thead th {\n",
       "        text-align: right;\n",
       "    }\n",
       "</style>\n",
       "<table border=\"1\" class=\"dataframe\">\n",
       "  <thead>\n",
       "    <tr style=\"text-align: right;\">\n",
       "      <th></th>\n",
       "      <th>count</th>\n",
       "      <th>Percentage %</th>\n",
       "    </tr>\n",
       "  </thead>\n",
       "  <tbody>\n",
       "    <tr>\n",
       "      <td>1</td>\n",
       "      <td>72069</td>\n",
       "      <td>60.267936</td>\n",
       "    </tr>\n",
       "    <tr>\n",
       "      <td>0</td>\n",
       "      <td>47512</td>\n",
       "      <td>39.732064</td>\n",
       "    </tr>\n",
       "  </tbody>\n",
       "</table>\n",
       "</div>"
      ],
      "text/plain": [
       "   count   Percentage % \n",
       "1  72069       60.267936\n",
       "0  47512       39.732064"
      ]
     },
     "metadata": {},
     "output_type": "display_data"
    },
    {
     "name": "stdout",
     "output_type": "stream",
     "text": [
      "\n",
      "\u001b[1mContractChannel_first\u001b[0;0m\n"
     ]
    },
    {
     "data": {
      "text/html": [
       "<div>\n",
       "<style scoped>\n",
       "    .dataframe tbody tr th:only-of-type {\n",
       "        vertical-align: middle;\n",
       "    }\n",
       "\n",
       "    .dataframe tbody tr th {\n",
       "        vertical-align: top;\n",
       "    }\n",
       "\n",
       "    .dataframe thead th {\n",
       "        text-align: right;\n",
       "    }\n",
       "</style>\n",
       "<table border=\"1\" class=\"dataframe\">\n",
       "  <thead>\n",
       "    <tr style=\"text-align: right;\">\n",
       "      <th></th>\n",
       "      <th>count</th>\n",
       "      <th>Percentage %</th>\n",
       "    </tr>\n",
       "  </thead>\n",
       "  <tbody>\n",
       "    <tr>\n",
       "      <td>Agents</td>\n",
       "      <td>38255</td>\n",
       "      <td>31.990868</td>\n",
       "    </tr>\n",
       "    <tr>\n",
       "      <td>TIIs</td>\n",
       "      <td>31163</td>\n",
       "      <td>26.060160</td>\n",
       "    </tr>\n",
       "    <tr>\n",
       "      <td>Brokers</td>\n",
       "      <td>24986</td>\n",
       "      <td>20.894624</td>\n",
       "    </tr>\n",
       "    <tr>\n",
       "      <td>Direct</td>\n",
       "      <td>13266</td>\n",
       "      <td>11.093736</td>\n",
       "    </tr>\n",
       "    <tr>\n",
       "      <td>Banks</td>\n",
       "      <td>11911</td>\n",
       "      <td>9.960612</td>\n",
       "    </tr>\n",
       "  </tbody>\n",
       "</table>\n",
       "</div>"
      ],
      "text/plain": [
       "         count   Percentage % \n",
       "Agents   38255       31.990868\n",
       "TIIs     31163       26.060160\n",
       "Brokers  24986       20.894624\n",
       "Direct   13266       11.093736\n",
       "Banks    11911        9.960612"
      ]
     },
     "metadata": {},
     "output_type": "display_data"
    },
    {
     "name": "stdout",
     "output_type": "stream",
     "text": [
      "\n",
      " \u001b[1mNClaims_sum\u001b[0;0m  \n"
     ]
    },
    {
     "data": {
      "text/html": [
       "<div>\n",
       "<style scoped>\n",
       "    .dataframe tbody tr th:only-of-type {\n",
       "        vertical-align: middle;\n",
       "    }\n",
       "\n",
       "    .dataframe tbody tr th {\n",
       "        vertical-align: top;\n",
       "    }\n",
       "\n",
       "    .dataframe thead th {\n",
       "        text-align: right;\n",
       "    }\n",
       "</style>\n",
       "<table border=\"1\" class=\"dataframe\">\n",
       "  <thead>\n",
       "    <tr style=\"text-align: right;\">\n",
       "      <th></th>\n",
       "      <th>count</th>\n",
       "      <th>Percentage %</th>\n",
       "    </tr>\n",
       "  </thead>\n",
       "  <tbody>\n",
       "    <tr>\n",
       "      <td>0.0</td>\n",
       "      <td>82249</td>\n",
       "      <td>68.780994</td>\n",
       "    </tr>\n",
       "    <tr>\n",
       "      <td>1.0</td>\n",
       "      <td>18386</td>\n",
       "      <td>15.375352</td>\n",
       "    </tr>\n",
       "    <tr>\n",
       "      <td>2.0</td>\n",
       "      <td>7386</td>\n",
       "      <td>6.176567</td>\n",
       "    </tr>\n",
       "    <tr>\n",
       "      <td>3.0</td>\n",
       "      <td>3668</td>\n",
       "      <td>3.067377</td>\n",
       "    </tr>\n",
       "    <tr>\n",
       "      <td>4.0</td>\n",
       "      <td>2071</td>\n",
       "      <td>1.731880</td>\n",
       "    </tr>\n",
       "    <tr>\n",
       "      <td>...</td>\n",
       "      <td>...</td>\n",
       "      <td>...</td>\n",
       "    </tr>\n",
       "    <tr>\n",
       "      <td>62.0</td>\n",
       "      <td>1</td>\n",
       "      <td>0.000836</td>\n",
       "    </tr>\n",
       "    <tr>\n",
       "      <td>55.0</td>\n",
       "      <td>1</td>\n",
       "      <td>0.000836</td>\n",
       "    </tr>\n",
       "    <tr>\n",
       "      <td>80.0</td>\n",
       "      <td>1</td>\n",
       "      <td>0.000836</td>\n",
       "    </tr>\n",
       "    <tr>\n",
       "      <td>48.0</td>\n",
       "      <td>1</td>\n",
       "      <td>0.000836</td>\n",
       "    </tr>\n",
       "    <tr>\n",
       "      <td>127.0</td>\n",
       "      <td>1</td>\n",
       "      <td>0.000836</td>\n",
       "    </tr>\n",
       "  </tbody>\n",
       "</table>\n",
       "<p>77 rows × 2 columns</p>\n",
       "</div>"
      ],
      "text/plain": [
       "       count   Percentage % \n",
       "0.0    82249       68.780994\n",
       "1.0    18386       15.375352\n",
       "2.0     7386        6.176567\n",
       "3.0     3668        3.067377\n",
       "4.0     2071        1.731880\n",
       "...      ...             ...\n",
       "62.0       1        0.000836\n",
       "55.0       1        0.000836\n",
       "80.0       1        0.000836\n",
       "48.0       1        0.000836\n",
       "127.0      1        0.000836\n",
       "\n",
       "[77 rows x 2 columns]"
      ]
     },
     "metadata": {},
     "output_type": "display_data"
    },
    {
     "name": "stdout",
     "output_type": "stream",
     "text": [
      "\n",
      "\u001b[1mIntegrality_first\u001b[0;0m\n"
     ]
    },
    {
     "data": {
      "text/html": [
       "<div>\n",
       "<style scoped>\n",
       "    .dataframe tbody tr th:only-of-type {\n",
       "        vertical-align: middle;\n",
       "    }\n",
       "\n",
       "    .dataframe tbody tr th {\n",
       "        vertical-align: top;\n",
       "    }\n",
       "\n",
       "    .dataframe thead th {\n",
       "        text-align: right;\n",
       "    }\n",
       "</style>\n",
       "<table border=\"1\" class=\"dataframe\">\n",
       "  <thead>\n",
       "    <tr style=\"text-align: right;\">\n",
       "      <th></th>\n",
       "      <th>count</th>\n",
       "      <th>Percentage %</th>\n",
       "    </tr>\n",
       "  </thead>\n",
       "  <tbody>\n",
       "    <tr>\n",
       "      <td>D</td>\n",
       "      <td>61388</td>\n",
       "      <td>64.430404</td>\n",
       "    </tr>\n",
       "    <tr>\n",
       "      <td>C</td>\n",
       "      <td>27030</td>\n",
       "      <td>28.369613</td>\n",
       "    </tr>\n",
       "    <tr>\n",
       "      <td>B</td>\n",
       "      <td>6860</td>\n",
       "      <td>7.199983</td>\n",
       "    </tr>\n",
       "  </tbody>\n",
       "</table>\n",
       "</div>"
      ],
      "text/plain": [
       "   count   Percentage % \n",
       "D  61388       64.430404\n",
       "C  27030       28.369613\n",
       "B   6860        7.199983"
      ]
     },
     "metadata": {},
     "output_type": "display_data"
    },
    {
     "name": "stdout",
     "output_type": "stream",
     "text": [
      "\n",
      "\u001b[1mIntegralityCalculated\u001b[0;0m\n"
     ]
    },
    {
     "data": {
      "text/html": [
       "<div>\n",
       "<style scoped>\n",
       "    .dataframe tbody tr th:only-of-type {\n",
       "        vertical-align: middle;\n",
       "    }\n",
       "\n",
       "    .dataframe tbody tr th {\n",
       "        vertical-align: top;\n",
       "    }\n",
       "\n",
       "    .dataframe thead th {\n",
       "        text-align: right;\n",
       "    }\n",
       "</style>\n",
       "<table border=\"1\" class=\"dataframe\">\n",
       "  <thead>\n",
       "    <tr style=\"text-align: right;\">\n",
       "      <th></th>\n",
       "      <th>count</th>\n",
       "      <th>Percentage %</th>\n",
       "    </tr>\n",
       "  </thead>\n",
       "  <tbody>\n",
       "    <tr>\n",
       "      <td>1</td>\n",
       "      <td>101548</td>\n",
       "      <td>84.919845</td>\n",
       "    </tr>\n",
       "    <tr>\n",
       "      <td>2</td>\n",
       "      <td>15890</td>\n",
       "      <td>13.288064</td>\n",
       "    </tr>\n",
       "    <tr>\n",
       "      <td>3</td>\n",
       "      <td>2115</td>\n",
       "      <td>1.768676</td>\n",
       "    </tr>\n",
       "    <tr>\n",
       "      <td>4</td>\n",
       "      <td>28</td>\n",
       "      <td>0.023415</td>\n",
       "    </tr>\n",
       "  </tbody>\n",
       "</table>\n",
       "</div>"
      ],
      "text/plain": [
       "    count   Percentage % \n",
       "1  101548       84.919845\n",
       "2   15890       13.288064\n",
       "3    2115        1.768676\n",
       "4      28        0.023415"
      ]
     },
     "metadata": {},
     "output_type": "display_data"
    },
    {
     "name": "stdout",
     "output_type": "stream",
     "text": [
      "\n",
      "\u001b[1mClientSegmentation_first\u001b[0;0m\n"
     ]
    },
    {
     "data": {
      "text/html": [
       "<div>\n",
       "<style scoped>\n",
       "    .dataframe tbody tr th:only-of-type {\n",
       "        vertical-align: middle;\n",
       "    }\n",
       "\n",
       "    .dataframe tbody tr th {\n",
       "        vertical-align: top;\n",
       "    }\n",
       "\n",
       "    .dataframe thead th {\n",
       "        text-align: right;\n",
       "    }\n",
       "</style>\n",
       "<table border=\"1\" class=\"dataframe\">\n",
       "  <thead>\n",
       "    <tr style=\"text-align: right;\">\n",
       "      <th></th>\n",
       "      <th>count</th>\n",
       "      <th>Percentage %</th>\n",
       "    </tr>\n",
       "  </thead>\n",
       "  <tbody>\n",
       "    <tr>\n",
       "      <td>Silver</td>\n",
       "      <td>66373</td>\n",
       "      <td>55.504637</td>\n",
       "    </tr>\n",
       "    <tr>\n",
       "      <td>Gold</td>\n",
       "      <td>29523</td>\n",
       "      <td>24.688705</td>\n",
       "    </tr>\n",
       "    <tr>\n",
       "      <td>Platinum</td>\n",
       "      <td>23685</td>\n",
       "      <td>19.806658</td>\n",
       "    </tr>\n",
       "  </tbody>\n",
       "</table>\n",
       "</div>"
      ],
      "text/plain": [
       "          count   Percentage % \n",
       "Silver    66373       55.504637\n",
       "Gold      29523       24.688705\n",
       "Platinum  23685       19.806658"
      ]
     },
     "metadata": {},
     "output_type": "display_data"
    },
    {
     "name": "stdout",
     "output_type": "stream",
     "text": [
      "\n"
     ]
    },
    {
     "data": {
      "text/plain": [
       "(119581, 8)"
      ]
     },
     "execution_count": 91,
     "metadata": {},
     "output_type": "execute_result"
    }
   ],
   "source": [
    "############################################################\n",
    "############     CATEGORIC  a nivel cliente   ##############\n",
    "############################################################\n",
    "cat3= clipartcat\n",
    "start = \"\\033[1m\"\n",
    "end = \"\\033[0;0m\"\n",
    "\n",
    "for column in cat3:\n",
    "    print('{:^24s}'.format(start+column+end))     #format to align a bit to the right. OPC buscar SET_TITTLE PARA PYPLOT\n",
    "    x = cat3[column].value_counts()\n",
    "    x = x.to_frame()\n",
    "    x[  ' Percentage % '] = x[column] / x[column].sum() * 100 \n",
    "    x = x.rename(columns={column: \"count\"})\n",
    "    display(x)\n",
    "    print()\n",
    "    \n",
    "cat3.shape"
   ]
  },
  {
   "cell_type": "code",
   "execution_count": 119,
   "metadata": {},
   "outputs": [],
   "source": [
    "clipartcat.N_claims_sum.value_counts().to_excel('../03. Exportaciones/clipartcat_N_claims_sum.xlsx', engine='xlsxwriter')"
   ]
  },
  {
   "cell_type": "code",
   "execution_count": 203,
   "metadata": {},
   "outputs": [
    {
     "data": {
      "image/png": "[encoded data removed]",
      "text/plain": [
       "<Figure size 720x360 with 1 Axes>"
      ]
     },
     "metadata": {},
     "output_type": "display_data"
    },
    {
     "name": "stdout",
     "output_type": "stream",
     "text": [
      "\n"
     ]
    },
    {
     "data": {
      "text/plain": [
       "<Figure size 432x288 with 0 Axes>"
      ]
     },
     "metadata": {},
     "output_type": "display_data"
    }
   ],
   "source": [
    "##################################################################\n",
    "############     GRÁFICOS VARIABLES CATEGÓRICAS     ##############\n",
    "##################################################################\n",
    "sns.set(font_scale= 1.1, palette=\"Reds_r\")    #change font size\n",
    "column = 'IntegralityCalculated'\n",
    "fig = plt.figure(figsize=[10,5])      \n",
    "ax = fig.add_subplot(111)\n",
    "patches, text, _ = ax.pie(cat3[column].value_counts(), autopct='%.1f%%', textprops={'color':\"w\", 'weight':'bold'})     #autopct the number stablishes dec.\n",
    "x = cat3[column].value_counts()\n",
    "x = x.to_frame()\n",
    "x[' Percentage % '] = x[column] / x[column].sum() * 100 \n",
    "x = x.rename(columns={column: \" count\"})\n",
    "x[' count'].plot.pie()\n",
    "ax.set_title(column, fontsize= 20)                                   #adds variable's name\n",
    "ax.legend(frameon=True, bbox_to_anchor=(2.3,0.9), borderaxespad=2., shadow=True)     #adds the legend\n",
    "#     plt.savefig(column+\"PieChart.jpg\")      QUITAR LINEA DE COMENTARio sI SE DESEA GUARDAR\n",
    "pylab.ylabel('')     #esta linea usa pylab library. QUITA COUNT\n",
    "plt.show()\n",
    "print()\n",
    "\n",
    "\n",
    "plt.tight_layout()      #adjust subplot params so that subplots are nicely fit in the figure\n"
   ]
  },
  {
   "cell_type": "code",
   "execution_count": 34,
   "metadata": {},
   "outputs": [],
   "source": [
    "#Underage customer\n",
    "menores = clientespart[(clientespart['Age_max'] > 0) & (clientespart['Age_max'] < 18)]\n",
    "menores_ant = pd.crosstab(menores['Age_max'],menores['TenureCalculated_max'],margins=True)"
   ]
  },
  {
   "cell_type": "code",
   "execution_count": 36,
   "metadata": {},
   "outputs": [],
   "source": [
    "menores_ant.to_excel('../03. Exportaciones/menores_cross.xlsx', engine='xlsxwriter')"
   ]
  },
  {
   "cell_type": "code",
   "execution_count": 63,
   "metadata": {},
   "outputs": [],
   "source": [
    "#Comprobaciones\n",
    "clientespart[\"CheckProfitability\"] = np.where(clientespart.Profitability_sum > clientespart.ProfitabilityCalculated, 1, 0)"
   ]
  },
  {
   "cell_type": "code",
   "execution_count": 64,
   "metadata": {},
   "outputs": [
    {
     "data": {
      "text/plain": [
       "1    92001\n",
       "0    27580\n",
       "Name: CheckProfitability, dtype: int64"
      ]
     },
     "execution_count": 64,
     "metadata": {},
     "output_type": "execute_result"
    }
   ],
   "source": [
    "clientespart[\"CheckProfitability\"].value_counts()"
   ]
  },
  {
   "cell_type": "code",
   "execution_count": 65,
   "metadata": {},
   "outputs": [
    {
     "data": {
      "text/plain": [
       "(91, 24)"
      ]
     },
     "execution_count": 65,
     "metadata": {},
     "output_type": "execute_result"
    }
   ],
   "source": [
    "#Profitability comparation\n",
    "clientespart[(clientespart.Profitability_sum == clientespart.ProfitabilityCalculated)].shape"
   ]
  },
  {
   "cell_type": "code",
   "execution_count": 66,
   "metadata": {},
   "outputs": [
    {
     "data": {
      "text/plain": [
       "(92001, 24)"
      ]
     },
     "execution_count": 66,
     "metadata": {},
     "output_type": "execute_result"
    }
   ],
   "source": [
    "#Profitability comparation\n",
    "clientespart[(clientespart.Profitability_sum > clientespart.ProfitabilityCalculated)].shape"
   ]
  },
  {
   "cell_type": "code",
   "execution_count": 67,
   "metadata": {},
   "outputs": [
    {
     "data": {
      "text/plain": [
       "(27489, 24)"
      ]
     },
     "execution_count": 67,
     "metadata": {},
     "output_type": "execute_result"
    }
   ],
   "source": [
    "#Profitability comparation\n",
    "clientespart[(clientespart.Profitability_sum < clientespart.ProfitabilityCalculated)].shape"
   ]
  },
  {
   "cell_type": "code",
   "execution_count": 71,
   "metadata": {},
   "outputs": [
    {
     "data": {
      "text/plain": [
       "(34308, 24)"
      ]
     },
     "execution_count": 71,
     "metadata": {},
     "output_type": "execute_result"
    }
   ],
   "source": [
    "#Claims and Claim cost comparation\n",
    "clientespart[(clientespart.NClaims_sum >0) & (clientespart.ClaimCost_sum >0)].shape"
   ]
  },
  {
   "cell_type": "code",
   "execution_count": 72,
   "metadata": {},
   "outputs": [
    {
     "data": {
      "text/plain": [
       "(2795, 24)"
      ]
     },
     "execution_count": 72,
     "metadata": {},
     "output_type": "execute_result"
    }
   ],
   "source": [
    "#Claims and Claim cost comparation\n",
    "clientespart[(clientespart.NClaims_sum >0) & (clientespart.ClaimCost_sum ==0)].shape"
   ]
  },
  {
   "cell_type": "code",
   "execution_count": 37,
   "metadata": {},
   "outputs": [
    {
     "data": {
      "text/plain": [
       "(229, 26)"
      ]
     },
     "execution_count": 37,
     "metadata": {},
     "output_type": "execute_result"
    }
   ],
   "source": [
    "#Claims and Claim cost comparation\n",
    "clientespart[(clientespart.NClaims_sum >0) & (clientespart.ClaimCost_sum <0)].shape"
   ]
  },
  {
   "cell_type": "code",
   "execution_count": 38,
   "metadata": {},
   "outputs": [
    {
     "data": {
      "text/plain": [
       "(11008, 26)"
      ]
     },
     "execution_count": 38,
     "metadata": {},
     "output_type": "execute_result"
    }
   ],
   "source": [
    "#Claims and Claim cost comparation\n",
    "clientespart[(clientespart.NClaims_sum >0) & (clientespart.ClaimCost_sum >0)& (clientespart.ClaimCost_sum <=500)].shape"
   ]
  },
  {
   "cell_type": "code",
   "execution_count": 39,
   "metadata": {},
   "outputs": [
    {
     "data": {
      "text/plain": [
       "(6280, 26)"
      ]
     },
     "execution_count": 39,
     "metadata": {},
     "output_type": "execute_result"
    }
   ],
   "source": [
    "#Claims and Claim cost comparation\n",
    "clientespart[(clientespart.NClaims_sum >0) & (clientespart.ClaimCost_sum >500)& (clientespart.ClaimCost_sum <=1000)].shape"
   ]
  },
  {
   "cell_type": "code",
   "execution_count": 40,
   "metadata": {},
   "outputs": [
    {
     "data": {
      "text/plain": [
       "(7626, 26)"
      ]
     },
     "execution_count": 40,
     "metadata": {},
     "output_type": "execute_result"
    }
   ],
   "source": [
    "#Claims and Claim cost comparation\n",
    "clientespart[(clientespart.NClaims_sum >0) & (clientespart.ClaimCost_sum >1000)& (clientespart.ClaimCost_sum <=2000)].shape"
   ]
  },
  {
   "cell_type": "code",
   "execution_count": 41,
   "metadata": {},
   "outputs": [
    {
     "data": {
      "text/plain": [
       "(3390, 26)"
      ]
     },
     "execution_count": 41,
     "metadata": {},
     "output_type": "execute_result"
    }
   ],
   "source": [
    "#Claims and Claim cost comparation\n",
    "clientespart[(clientespart.NClaims_sum >0) & (clientespart.ClaimCost_sum >2000)& (clientespart.ClaimCost_sum <=3000)].shape"
   ]
  },
  {
   "cell_type": "code",
   "execution_count": 43,
   "metadata": {},
   "outputs": [
    {
     "data": {
      "text/plain": [
       "(6004, 26)"
      ]
     },
     "execution_count": 43,
     "metadata": {},
     "output_type": "execute_result"
    }
   ],
   "source": [
    "#Claims and Claim cost comparation\n",
    "clientespart[(clientespart.NClaims_sum >0) & (clientespart.ClaimCost_sum >3000)].shape"
   ]
  },
  {
   "cell_type": "markdown",
   "metadata": {},
   "source": [
    "# 4. Simulations and profiling"
   ]
  },
  {
   "cell_type": "code",
   "execution_count": 74,
   "metadata": {},
   "outputs": [],
   "source": [
    "#clientespart.to_csv('../03. Exportaciones/clientespart4.csv', encoding='utf-8', index=False)"
   ]
  },
  {
   "cell_type": "code",
   "execution_count": 3,
   "metadata": {},
   "outputs": [],
   "source": [
    "clientespart = pd.read_csv('../03. Exportaciones/clientespart4.csv')"
   ]
  },
  {
   "cell_type": "code",
   "execution_count": 5,
   "metadata": {},
   "outputs": [
    {
     "data": {
      "text/plain": [
       "1    90491\n",
       "4    18965\n",
       "3     5180\n",
       "2     4945\n",
       "Name: LossRatioCalculated_max, dtype: int64"
      ]
     },
     "execution_count": 5,
     "metadata": {},
     "output_type": "execute_result"
    }
   ],
   "source": [
    "clientespart.LossRatioCalculated_max.value_counts()"
   ]
  },
  {
   "cell_type": "code",
   "execution_count": 75,
   "metadata": {},
   "outputs": [
    {
     "data": {
      "text/plain": [
       "CustomerId                            0\n",
       "Premium_sum                           0\n",
       "Premium_min                           0\n",
       "Premium_max                           0\n",
       "PolicyId_count                        0\n",
       "Age_max                              13\n",
       "Tenure_max                            1\n",
       "TenureCalculated_max                  0\n",
       "Gender_first                       9287\n",
       "Integrality_first                 24303\n",
       "Claim_max                            60\n",
       "NClaims_sum                           0\n",
       "ClaimCost_sum                         0\n",
       "Profitability_sum                     0\n",
       "PersonalDataProtectionBool_max    22438\n",
       "DirectDebit_max                       0\n",
       "DirectDebit_min                       0\n",
       "IntermediatedPolicy_max               0\n",
       "EffectiveDate_min                     0\n",
       "LossRatio_max                        60\n",
       "LossRatioCalculated_max               0\n",
       "ClientSegmentation_first              0\n",
       "ProfitabilityCalculated               0\n",
       "IntegralityCalculated                 0\n",
       "IntegralityCalculated2                0\n",
       "ContractChannel_first                 0\n",
       "dtype: int64"
      ]
     },
     "execution_count": 75,
     "metadata": {},
     "output_type": "execute_result"
    }
   ],
   "source": [
    "clientespart.isna().sum()"
   ]
  },
  {
   "cell_type": "code",
   "execution_count": 11,
   "metadata": {},
   "outputs": [],
   "source": [
    "def describe_new(univariante):\n",
    "    df1 = univariante.describe()\n",
    "    df1.loc[\"range\"] = df1.loc['max'] - df1.loc['min']\n",
    "    return df1"
   ]
  },
  {
   "cell_type": "markdown",
   "metadata": {},
   "source": [
    "## 4.1 Simulation and profiling 1"
   ]
  },
  {
   "cell_type": "code",
   "execution_count": 49,
   "metadata": {},
   "outputs": [
    {
     "data": {
      "text/plain": [
       "(2488, 29)"
      ]
     },
     "execution_count": 49,
     "metadata": {},
     "output_type": "execute_result"
    }
   ],
   "source": [
    "#####################################\n",
    "#######   SIMULATION  A (1)  ########\n",
    "#####################################\n",
    "#Platinum\n",
    "clientespart['SegmA1'] = np.where((clientespart['Premium_sum'] > 1000) & (clientespart['PolicyId_count'] >= 5), 'Platino', 'Plata')\n",
    "clientespart[(clientespart['SegmA1'] == 'Platino')].shape"
   ]
  },
  {
   "cell_type": "code",
   "execution_count": null,
   "metadata": {},
   "outputs": [],
   "source": [
    "clientespart['SegmA1'] = np.where((clientespart['Premium_sum'] > 1000) & (clientespart['PolicyId_count'] >= 5), 'Platino', 'Plata')\n",
    "clientespart[(clientespart['SegmA1'] == 'Platino')].shape\n",
    "\n",
    "clientespart['SegmA2'] = np.where((clientespart['SegmA1'] != 'Platino') & (clientespart['PolicyId_count'] >= 2) &\\\n",
    "                               (clientespart['Premium_sum'] > 600), 'Oro', 'Plata')\n",
    "clientespart[(clientespart['SegmA2'] == 'Oro')].shape\n",
    "\n",
    "conditions = [\n",
    "    (clientespart['SegmA1'] == 'Platino'),\n",
    "    (clientespart['SegmA2'] == 'Oro')]\n",
    "choices = ['Platinum', 'Gold']\n",
    "clientespart['SegmA'] = np.select(conditions, choices, default='Silver')"
   ]
  },
  {
   "cell_type": "code",
   "execution_count": 50,
   "metadata": {},
   "outputs": [
    {
     "data": {
      "text/plain": [
       "(12163, 30)"
      ]
     },
     "execution_count": 50,
     "metadata": {},
     "output_type": "execute_result"
    }
   ],
   "source": [
    "#Gold\n",
    "clientespart['SegmA2'] = np.where((clientespart['SegmA1'] != 'Platino') & (clientespart['PolicyId_count'] >= 2) &\\\n",
    "                               (clientespart['Premium_sum'] > 600), 'Oro', 'Plata')\n",
    "clientespart[(clientespart['SegmA2'] == 'Oro')].shape"
   ]
  },
  {
   "cell_type": "code",
   "execution_count": 51,
   "metadata": {},
   "outputs": [],
   "source": [
    "#Creation of variable SegmA\n",
    "conditions = [\n",
    "    (clientespart['SegmA1'] == 'Platino'),\n",
    "    (clientespart['SegmA2'] == 'Oro')]\n",
    "choices = ['Platinum', 'Gold']\n",
    "clientespart['SegmA'] = np.select(conditions, choices, default='Silver')"
   ]
  },
  {
   "cell_type": "code",
   "execution_count": 52,
   "metadata": {},
   "outputs": [
    {
     "name": "stdout",
     "output_type": "stream",
     "text": [
      "Platinum shape: (2488, 31) \n",
      "Gold shape: (12163, 31) \n",
      "Silver shape: (104930, 31)\n"
     ]
    }
   ],
   "source": [
    "segmA_platinum = clientespart[(clientespart['SegmA'] == 'Platinum')].shape\n",
    "segmA_gold = clientespart[(clientespart['SegmA'] == 'Gold')].shape\n",
    "segmA_silver = clientespart[(clientespart['SegmA'] == 'Silver')].shape\n",
    "\n",
    "print(\"Platinum shape:\", segmA_platinum, \"\\nGold shape:\", segmA_gold, \"\\nSilver shape:\", segmA_silver)"
   ]
  },
  {
   "cell_type": "code",
   "execution_count": 53,
   "metadata": {},
   "outputs": [],
   "source": [
    "exp_segmA_platinum = clientespart[(clientespart['SegmA'] == 'Platinum')]\n",
    "exp_segmA_gold = clientespart[(clientespart['SegmA'] == 'Gold')]\n",
    "exp_segmA_silver = clientespart[(clientespart['SegmA'] == 'Silver')]"
   ]
  },
  {
   "cell_type": "code",
   "execution_count": 54,
   "metadata": {},
   "outputs": [],
   "source": [
    "#Export Univariate analysis\n",
    "export = describe_new(exp_segmA_platinum[[\"Age_max\", \"TenureCalculated_max\", \"Profitability_sum\", \"ProfitabilityCalculated\",\\\n",
    "                                          'ClaimCost_sum', 'Premium_sum', 'PolicyId_count','IntegralityCalculated',\\\n",
    "                                          'DirectDebit_max', 'IntermediatedPolicy_max', 'PersonalDataProtectionBool_max','LossRatio_max']])\n",
    "export.to_excel('../03. Exportaciones/exp_segmA_platinum.xlsx', engine='xlsxwriter') "
   ]
  },
  {
   "cell_type": "code",
   "execution_count": 55,
   "metadata": {},
   "outputs": [],
   "source": [
    "export = describe_new(exp_segmA_gold[[\"Age_max\", \"TenureCalculated_max\", \"Profitability_sum\", \"ProfitabilityCalculated\",\\\n",
    "                                      'ClaimCost_sum', 'Premium_sum', 'PolicyId_count','IntegralityCalculated',\\\n",
    "                                      'DirectDebit_max', 'IntermediatedPolicy_max', 'PersonalDataProtectionBool_max','LossRatio_max']])\n",
    "export.to_excel('../03. Exportaciones/exp_segmA_gold.xlsx', engine='xlsxwriter') "
   ]
  },
  {
   "cell_type": "code",
   "execution_count": 56,
   "metadata": {},
   "outputs": [],
   "source": [
    "export = describe_new(exp_segmA_silver[[\"Age_max\", \"TenureCalculated_max\", \"Profitability_sum\", \"ProfitabilityCalculated\",\\\n",
    "                                        'ClaimCost_sum', 'Premium_sum', 'PolicyId_count','IntegralityCalculated',\\\n",
    "                                        'DirectDebit_max', 'IntermediatedPolicy_max', 'PersonalDataProtectionBool_max','LossRatio_max']])\n",
    "export.to_excel('../03. Exportaciones/exp_segmA_silver.xlsx', engine='xlsxwriter') "
   ]
  },
  {
   "cell_type": "markdown",
   "metadata": {},
   "source": [
    "## 4.2 Simulation and profiling 2"
   ]
  },
  {
   "cell_type": "code",
   "execution_count": 121,
   "metadata": {},
   "outputs": [
    {
     "data": {
      "text/plain": [
       "Index(['CustomerId', 'Premium_sum', 'Premium_min', 'Premium_max',\n",
       "       'PolicyId_count', 'Age_max', 'Tenure_max', 'TenureCalculated_max',\n",
       "       'Gender_first', 'Integrality_first', 'Claim_max', 'NClaims_sum',\n",
       "       'ClaimCost_sum', 'Profitability_sum', 'PersonalDataProtectionBool_max',\n",
       "       'DirectDebit_max', 'DirectDebit_min', 'IntermediatedPolicy_max',\n",
       "       'EffectiveDate_min', 'LossRatio_max', 'ProfitabilityCalculated',\n",
       "       'IntegralityCalculated', 'ContractChannel_first', 'SegmA1', 'SegmA2',\n",
       "       'SegmA'],\n",
       "      dtype='object')"
      ]
     },
     "execution_count": 121,
     "metadata": {},
     "output_type": "execute_result"
    }
   ],
   "source": [
    "clientespart.columns"
   ]
  },
  {
   "cell_type": "code",
   "execution_count": 57,
   "metadata": {},
   "outputs": [
    {
     "data": {
      "text/plain": [
       "(1759, 32)"
      ]
     },
     "execution_count": 57,
     "metadata": {},
     "output_type": "execute_result"
    }
   ],
   "source": [
    "#####################################\n",
    "#######   SIMULATION  B (2)  ########\n",
    "#####################################\n",
    "#Platinum\n",
    "clientespart['SegmB1'] = np.where((clientespart['Premium_sum'] > 700) & (clientespart['IntegralityCalculated'] >= 3), 'Platino', 'Plata')\n",
    "clientespart[(clientespart['SegmB1'] == 'Platino')].shape"
   ]
  },
  {
   "cell_type": "code",
   "execution_count": 58,
   "metadata": {},
   "outputs": [
    {
     "data": {
      "text/plain": [
       "(9303, 33)"
      ]
     },
     "execution_count": 58,
     "metadata": {},
     "output_type": "execute_result"
    }
   ],
   "source": [
    "#Gold\n",
    "clientespart['SegmB2'] = np.where((clientespart['SegmB1'] != 'Platino') & (clientespart['IntegralityCalculated'] >= 2) &\\\n",
    "                               (clientespart['Premium_sum'] > 500), 'Oro', 'Plata')\n",
    "clientespart[(clientespart['SegmB2'] == 'Oro')].shape"
   ]
  },
  {
   "cell_type": "code",
   "execution_count": 59,
   "metadata": {},
   "outputs": [],
   "source": [
    "#Creation of variable SegmB\n",
    "conditions = [\n",
    "    (clientespart['SegmB1'] == 'Platino'),\n",
    "    (clientespart['SegmB2'] == 'Oro')]\n",
    "choices = ['Platinum', 'Gold']\n",
    "clientespart['SegmB'] = np.select(conditions, choices, default='Silver')"
   ]
  },
  {
   "cell_type": "code",
   "execution_count": 60,
   "metadata": {},
   "outputs": [
    {
     "name": "stdout",
     "output_type": "stream",
     "text": [
      "Platinum shape: (1759, 34) \n",
      "Gold shape: (9303, 34) \n",
      "Silver shape: (108519, 34)\n"
     ]
    }
   ],
   "source": [
    "segmB_platinum = clientespart[(clientespart['SegmB'] == 'Platinum')].shape\n",
    "segmB_gold = clientespart[(clientespart['SegmB'] == 'Gold')].shape\n",
    "segmB_silver = clientespart[(clientespart['SegmB'] == 'Silver')].shape\n",
    "\n",
    "print(\"Platinum shape:\", segmB_platinum, \"\\nGold shape:\", segmB_gold, \"\\nSilver shape:\", segmB_silver)"
   ]
  },
  {
   "cell_type": "code",
   "execution_count": 61,
   "metadata": {},
   "outputs": [],
   "source": [
    "exp_segmB_platinum = clientespart[(clientespart['SegmB'] == 'Platinum')]\n",
    "exp_segmB_gold = clientespart[(clientespart['SegmB'] == 'Gold')]\n",
    "exp_segmB_silver = clientespart[(clientespart['SegmB'] == 'Silver')]"
   ]
  },
  {
   "cell_type": "code",
   "execution_count": 62,
   "metadata": {},
   "outputs": [],
   "source": [
    "#Export Univariate analysis\n",
    "export = describe_new(exp_segmB_platinum[[\"Age_max\", \"TenureCalculated_max\", \"Profitability_sum\", \"ProfitabilityCalculated\",\\\n",
    "                                          'ClaimCost_sum', 'Premium_sum', 'PolicyId_count','IntegralityCalculated',\\\n",
    "                                          'DirectDebit_max', 'IntermediatedPolicy_max', 'PersonalDataProtectionBool_max','LossRatio_max']])\n",
    "export.to_excel('../03. Exportaciones/exp_segmB_platinum.xlsx', engine='xlsxwriter') "
   ]
  },
  {
   "cell_type": "code",
   "execution_count": 63,
   "metadata": {},
   "outputs": [],
   "source": [
    "export = describe_new(exp_segmB_gold[[\"Age_max\", \"TenureCalculated_max\", \"Profitability_sum\", \"ProfitabilityCalculated\",\\\n",
    "                                      'ClaimCost_sum', 'Premium_sum', 'PolicyId_count','IntegralityCalculated',\\\n",
    "                                      'DirectDebit_max', 'IntermediatedPolicy_max', 'PersonalDataProtectionBool_max','LossRatio_max']])\n",
    "export.to_excel('../03. Exportaciones/exp_segmB_gold.xlsx', engine='xlsxwriter') "
   ]
  },
  {
   "cell_type": "code",
   "execution_count": 64,
   "metadata": {},
   "outputs": [],
   "source": [
    "export = describe_new(exp_segmB_silver[[\"Age_max\", \"TenureCalculated_max\", \"Profitability_sum\", \"ProfitabilityCalculated\",\\\n",
    "                                        'ClaimCost_sum', 'Premium_sum', 'PolicyId_count','IntegralityCalculated',\\\n",
    "                                        'DirectDebit_max', 'IntermediatedPolicy_max', 'PersonalDataProtectionBool_max','LossRatio_max']])\n",
    "export.to_excel('../03. Exportaciones/exp_segmB_silver.xlsx', engine='xlsxwriter') "
   ]
  },
  {
   "cell_type": "markdown",
   "metadata": {},
   "source": [
    "## 4.3 Simulation and profiling 3"
   ]
  },
  {
   "cell_type": "code",
   "execution_count": 71,
   "metadata": {},
   "outputs": [
    {
     "data": {
      "text/plain": [
       "Index(['CustomerId', 'Premium_sum', 'Premium_min', 'Premium_max',\n",
       "       'PolicyId_count', 'Age_max', 'Tenure_max', 'TenureCalculated_max',\n",
       "       'Gender_first', 'Integrality_first', 'Claim_max', 'NClaims_sum',\n",
       "       'ClaimCost_sum', 'Profitability_sum', 'PersonalDataProtectionBool_max',\n",
       "       'DirectDebit_max', 'DirectDebit_min', 'IntermediatedPolicy_max',\n",
       "       'ProfitabilityCalculated', 'IntegralityCalculated',\n",
       "       'ContractChannel_first', 'SegmA1', 'SegmA2', 'SegmA', 'SegmB2',\n",
       "       'SegmB1', 'SegmB'],\n",
       "      dtype='object')"
      ]
     },
     "execution_count": 71,
     "metadata": {},
     "output_type": "execute_result"
    }
   ],
   "source": [
    "clientespart.columns"
   ]
  },
  {
   "cell_type": "code",
   "execution_count": 65,
   "metadata": {},
   "outputs": [
    {
     "data": {
      "text/plain": [
       "(2937, 35)"
      ]
     },
     "execution_count": 65,
     "metadata": {},
     "output_type": "execute_result"
    }
   ],
   "source": [
    "#####################################\n",
    "#######   SIMULATION  C (3)  ########\n",
    "#####################################\n",
    "#Platinum\n",
    "clientespart['SegmC1'] = np.where((clientespart['Premium_sum'] > 1250) & (clientespart['TenureCalculated_max'] >= 60), 'Platino', 'Plata')\n",
    "clientespart[(clientespart['SegmC1'] == 'Platino')].shape"
   ]
  },
  {
   "cell_type": "code",
   "execution_count": 66,
   "metadata": {},
   "outputs": [
    {
     "data": {
      "text/plain": [
       "(8427, 36)"
      ]
     },
     "execution_count": 66,
     "metadata": {},
     "output_type": "execute_result"
    }
   ],
   "source": [
    "#Gold\n",
    "clientespart['SegmC2'] = np.where((clientespart['SegmC1'] != 'Platino') & (clientespart['TenureCalculated_max'] >= 48) &\\\n",
    "                               (clientespart['Premium_sum'] > 600), 'Oro', 'Plata')\n",
    "clientespart[(clientespart['SegmC2'] == 'Oro')].shape"
   ]
  },
  {
   "cell_type": "code",
   "execution_count": 67,
   "metadata": {},
   "outputs": [],
   "source": [
    "#Creation of variable SegmB\n",
    "conditions = [\n",
    "    (clientespart['SegmC1'] == 'Platino'),\n",
    "    (clientespart['SegmC2'] == 'Oro')]\n",
    "choices = ['Platinum', 'Gold']\n",
    "clientespart['SegmC'] = np.select(conditions, choices, default='Silver')"
   ]
  },
  {
   "cell_type": "code",
   "execution_count": 68,
   "metadata": {},
   "outputs": [
    {
     "name": "stdout",
     "output_type": "stream",
     "text": [
      "Platinum shape: (2937, 37) \n",
      "Gold shape: (8427, 37) \n",
      "Silver shape: (108217, 37)\n"
     ]
    }
   ],
   "source": [
    "segmC_platinum = clientespart[(clientespart['SegmC'] == 'Platinum')].shape\n",
    "segmC_gold = clientespart[(clientespart['SegmC'] == 'Gold')].shape\n",
    "segmC_silver = clientespart[(clientespart['SegmC'] == 'Silver')].shape\n",
    "\n",
    "print(\"Platinum shape:\", segmC_platinum, \"\\nGold shape:\", segmC_gold, \"\\nSilver shape:\", segmC_silver)"
   ]
  },
  {
   "cell_type": "code",
   "execution_count": 69,
   "metadata": {},
   "outputs": [],
   "source": [
    "exp_segmC_platinum = clientespart[(clientespart['SegmC'] == 'Platinum')]\n",
    "exp_segmC_gold = clientespart[(clientespart['SegmC'] == 'Gold')]\n",
    "exp_segmC_silver = clientespart[(clientespart['SegmC'] == 'Silver')]"
   ]
  },
  {
   "cell_type": "code",
   "execution_count": 70,
   "metadata": {},
   "outputs": [],
   "source": [
    "#Export Univariate analysis\n",
    "export = describe_new(exp_segmC_platinum[[\"Age_max\", \"TenureCalculated_max\", \"Profitability_sum\", \"ProfitabilityCalculated\",\\\n",
    "                                          'ClaimCost_sum', 'Premium_sum', 'PolicyId_count','IntegralityCalculated',\\\n",
    "                                          'DirectDebit_max', 'IntermediatedPolicy_max', 'PersonalDataProtectionBool_max','LossRatio_max']])\n",
    "export.to_excel('../03. Exportaciones/exp_segmC_platinum.xlsx', engine='xlsxwriter') "
   ]
  },
  {
   "cell_type": "code",
   "execution_count": 71,
   "metadata": {},
   "outputs": [],
   "source": [
    "export = describe_new(exp_segmC_gold[[\"Age_max\", \"TenureCalculated_max\", \"Profitability_sum\", \"ProfitabilityCalculated\",\\\n",
    "                                      'ClaimCost_sum', 'Premium_sum', 'PolicyId_count','IntegralityCalculated',\\\n",
    "                                      'DirectDebit_max', 'IntermediatedPolicy_max', 'PersonalDataProtectionBool_max','LossRatio_max']])\n",
    "export.to_excel('../03. Exportaciones/exp_segmC_gold.xlsx', engine='xlsxwriter') "
   ]
  },
  {
   "cell_type": "code",
   "execution_count": 72,
   "metadata": {},
   "outputs": [],
   "source": [
    "export = describe_new(exp_segmC_silver[[\"Age_max\", \"TenureCalculated_max\", \"Profitability_sum\", \"ProfitabilityCalculated\",\\\n",
    "                                        'ClaimCost_sum', 'Premium_sum', 'PolicyId_count','IntegralityCalculated',\\\n",
    "                                        'DirectDebit_max', 'IntermediatedPolicy_max', 'PersonalDataProtectionBool_max','LossRatio_max']])\n",
    "export.to_excel('../03. Exportaciones/exp_segmC_silver.xlsx', engine='xlsxwriter') "
   ]
  },
  {
   "cell_type": "markdown",
   "metadata": {},
   "source": [
    "## 4.4 Simulation and profiling 4"
   ]
  },
  {
   "cell_type": "code",
   "execution_count": 71,
   "metadata": {},
   "outputs": [
    {
     "data": {
      "text/plain": [
       "Index(['CustomerId', 'Premium_sum', 'Premium_min', 'Premium_max',\n",
       "       'PolicyId_count', 'Age_max', 'Tenure_max', 'TenureCalculated_max',\n",
       "       'Gender_first', 'Integrality_first', 'Claim_max', 'NClaims_sum',\n",
       "       'ClaimCost_sum', 'Profitability_sum', 'PersonalDataProtectionBool_max',\n",
       "       'DirectDebit_max', 'DirectDebit_min', 'IntermediatedPolicy_max',\n",
       "       'ProfitabilityCalculated', 'IntegralityCalculated',\n",
       "       'ContractChannel_first', 'SegmA1', 'SegmA2', 'SegmA', 'SegmB2',\n",
       "       'SegmB1', 'SegmB'],\n",
       "      dtype='object')"
      ]
     },
     "execution_count": 71,
     "metadata": {},
     "output_type": "execute_result"
    }
   ],
   "source": [
    "clientespart.columns"
   ]
  },
  {
   "cell_type": "code",
   "execution_count": 73,
   "metadata": {},
   "outputs": [
    {
     "data": {
      "text/plain": [
       "(3012, 38)"
      ]
     },
     "execution_count": 73,
     "metadata": {},
     "output_type": "execute_result"
    }
   ],
   "source": [
    "#####################################\n",
    "#######   SIMULATION  D (4)  ########\n",
    "#####################################\n",
    "#Platinum\n",
    "clientespart['SegmD1'] = np.where((clientespart['Profitability_sum'] > 3500) & (clientespart['TenureCalculated_max'] >= 60), 'Platino', 'Plata')\n",
    "clientespart[(clientespart['SegmD1'] == 'Platino')].shape"
   ]
  },
  {
   "cell_type": "code",
   "execution_count": 74,
   "metadata": {},
   "outputs": [
    {
     "data": {
      "text/plain": [
       "(8665, 39)"
      ]
     },
     "execution_count": 74,
     "metadata": {},
     "output_type": "execute_result"
    }
   ],
   "source": [
    "#Gold\n",
    "clientespart['SegmD2'] = np.where((clientespart['SegmD1'] != 'Platino') & (clientespart['TenureCalculated_max'] >= 48) &\\\n",
    "                               (clientespart['Profitability_sum'] > 1700), 'Oro', 'Plata')\n",
    "clientespart[(clientespart['SegmD2'] == 'Oro')].shape"
   ]
  },
  {
   "cell_type": "code",
   "execution_count": 75,
   "metadata": {},
   "outputs": [],
   "source": [
    "#Creation of variable SegmD\n",
    "conditions = [\n",
    "    (clientespart['SegmD1'] == 'Platino'),\n",
    "    (clientespart['SegmD2'] == 'Oro')]\n",
    "choices = ['Platinum', 'Gold']\n",
    "clientespart['SegmD'] = np.select(conditions, choices, default='Silver')"
   ]
  },
  {
   "cell_type": "code",
   "execution_count": 76,
   "metadata": {},
   "outputs": [
    {
     "name": "stdout",
     "output_type": "stream",
     "text": [
      "Platinum shape: (3012, 40) \n",
      "Gold shape: (8665, 40) \n",
      "Silver shape: (107904, 40)\n"
     ]
    }
   ],
   "source": [
    "segmD_platinum = clientespart[(clientespart['SegmD'] == 'Platinum')].shape\n",
    "segmD_gold = clientespart[(clientespart['SegmD'] == 'Gold')].shape\n",
    "segmD_silver = clientespart[(clientespart['SegmD'] == 'Silver')].shape\n",
    "\n",
    "print(\"Platinum shape:\", segmD_platinum, \"\\nGold shape:\", segmD_gold, \"\\nSilver shape:\", segmD_silver)"
   ]
  },
  {
   "cell_type": "code",
   "execution_count": 77,
   "metadata": {},
   "outputs": [],
   "source": [
    "exp_segmD_platinum = clientespart[(clientespart['SegmD'] == 'Platinum')]\n",
    "exp_segmD_gold = clientespart[(clientespart['SegmD'] == 'Gold')]\n",
    "exp_segmD_silver = clientespart[(clientespart['SegmD'] == 'Silver')]"
   ]
  },
  {
   "cell_type": "code",
   "execution_count": 78,
   "metadata": {},
   "outputs": [],
   "source": [
    "#Export Univariate analysis\n",
    "export = describe_new(exp_segmD_platinum[[\"Age_max\", \"TenureCalculated_max\", \"Profitability_sum\", \"ProfitabilityCalculated\",\\\n",
    "                                          'ClaimCost_sum', 'Premium_sum', 'PolicyId_count','IntegralityCalculated',\\\n",
    "                                          'DirectDebit_max', 'IntermediatedPolicy_max', 'PersonalDataProtectionBool_max','LossRatio_max']])\n",
    "export.to_excel('../03. Exportaciones/exp_segmD_platinum.xlsx', engine='xlsxwriter') "
   ]
  },
  {
   "cell_type": "code",
   "execution_count": 79,
   "metadata": {},
   "outputs": [],
   "source": [
    "export = describe_new(exp_segmD_gold[[\"Age_max\", \"TenureCalculated_max\", \"Profitability_sum\", \"ProfitabilityCalculated\",\\\n",
    "                                      'ClaimCost_sum', 'Premium_sum', 'PolicyId_count','IntegralityCalculated',\\\n",
    "                                      'DirectDebit_max', 'IntermediatedPolicy_max', 'PersonalDataProtectionBool_max','LossRatio_max']])\n",
    "export.to_excel('../03. Exportaciones/exp_segmD_gold.xlsx', engine='xlsxwriter') "
   ]
  },
  {
   "cell_type": "code",
   "execution_count": 80,
   "metadata": {},
   "outputs": [],
   "source": [
    "export = describe_new(exp_segmD_silver[[\"Age_max\", \"TenureCalculated_max\", \"Profitability_sum\", \"ProfitabilityCalculated\",\\\n",
    "                                        'ClaimCost_sum', 'Premium_sum', 'PolicyId_count','IntegralityCalculated',\\\n",
    "                                        'DirectDebit_max', 'IntermediatedPolicy_max', 'PersonalDataProtectionBool_max','LossRatio_max']])\n",
    "export.to_excel('../03. Exportaciones/exp_segmD_silver.xlsx', engine='xlsxwriter') "
   ]
  },
  {
   "cell_type": "markdown",
   "metadata": {},
   "source": [
    "## 4.5 Simulation and profiling 5"
   ]
  },
  {
   "cell_type": "code",
   "execution_count": 74,
   "metadata": {},
   "outputs": [
    {
     "data": {
      "text/plain": [
       "Index(['CustomerId', 'Premium_sum', 'Premium_min', 'Premium_max',\n",
       "       'PolicyId_count', 'Age_max', 'Tenure_max', 'TenureCalculated_max',\n",
       "       'Gender_first', 'Integrality_first', 'Claim_max', 'NClaims_sum',\n",
       "       'ClaimCost_sum', 'Profitability_sum', 'PersonalDataProtectionBool_max',\n",
       "       'DirectDebit_max', 'DirectDebit_min', 'IntermediatedPolicy_max',\n",
       "       'EffectiveDate_min', 'LossRatio_max', 'ProfitabilityCalculated',\n",
       "       'IntegralityCalculated', 'ContractChannel_first', 'CheckProfitability'],\n",
       "      dtype='object')"
      ]
     },
     "execution_count": 74,
     "metadata": {},
     "output_type": "execute_result"
    }
   ],
   "source": [
    "clientespart.columns"
   ]
  },
  {
   "cell_type": "code",
   "execution_count": 81,
   "metadata": {},
   "outputs": [
    {
     "data": {
      "text/plain": [
       "(3806, 41)"
      ]
     },
     "execution_count": 81,
     "metadata": {},
     "output_type": "execute_result"
    }
   ],
   "source": [
    "#####################################\n",
    "#######   SIMULATION  E (5)  ########\n",
    "#####################################\n",
    "#Platinum\n",
    "clientespart['SegmE1'] = np.where((clientespart['Premium_max'] > 500) & (clientespart['TenureCalculated_max'] >= 60) & (clientespart['PolicyId_count'] >= 2), 'Platino', 'Plata')\n",
    "clientespart[(clientespart['SegmE1'] == 'Platino')].shape"
   ]
  },
  {
   "cell_type": "code",
   "execution_count": 82,
   "metadata": {},
   "outputs": [
    {
     "data": {
      "text/plain": [
       "(15367, 42)"
      ]
     },
     "execution_count": 82,
     "metadata": {},
     "output_type": "execute_result"
    }
   ],
   "source": [
    "#Gold\n",
    "clientespart['SegmE2'] = np.where((clientespart['SegmE1'] != 'Platino') & (clientespart['Premium_max'] > 250) & (clientespart['TenureCalculated_max'] >= 24) & (clientespart['PolicyId_count'] >= 2), 'Oro', 'Plata')\n",
    "clientespart[(clientespart['SegmE2'] == 'Oro')].shape"
   ]
  },
  {
   "cell_type": "code",
   "execution_count": 83,
   "metadata": {},
   "outputs": [],
   "source": [
    "#Creation of variable SegmD\n",
    "conditions = [\n",
    "    (clientespart['SegmE1'] == 'Platino'),\n",
    "    (clientespart['SegmE2'] == 'Oro')]\n",
    "choices = ['Platinum', 'Gold']\n",
    "clientespart['SegmE'] = np.select(conditions, choices, default='Silver')"
   ]
  },
  {
   "cell_type": "code",
   "execution_count": 84,
   "metadata": {},
   "outputs": [
    {
     "name": "stdout",
     "output_type": "stream",
     "text": [
      "Platinum shape: (3806, 43) \n",
      "Gold shape: (15367, 43) \n",
      "Silver shape: (100408, 43)\n"
     ]
    }
   ],
   "source": [
    "segmE_platinum = clientespart[(clientespart['SegmE'] == 'Platinum')].shape\n",
    "segmE_gold = clientespart[(clientespart['SegmE'] == 'Gold')].shape\n",
    "segmE_silver = clientespart[(clientespart['SegmE'] == 'Silver')].shape\n",
    "\n",
    "print(\"Platinum shape:\", segmE_platinum, \"\\nGold shape:\", segmE_gold, \"\\nSilver shape:\", segmE_silver)"
   ]
  },
  {
   "cell_type": "code",
   "execution_count": 85,
   "metadata": {},
   "outputs": [],
   "source": [
    "exp_segmE_platinum = clientespart[(clientespart['SegmE'] == 'Platinum')]\n",
    "exp_segmE_gold = clientespart[(clientespart['SegmE'] == 'Gold')]\n",
    "exp_segmE_silver = clientespart[(clientespart['SegmE'] == 'Silver')]"
   ]
  },
  {
   "cell_type": "code",
   "execution_count": 86,
   "metadata": {},
   "outputs": [],
   "source": [
    "#Export Univariate analysis\n",
    "export = describe_new(exp_segmE_platinum[[\"Age_max\", \"TenureCalculated_max\", \"Profitability_sum\", \"ProfitabilityCalculated\",\\\n",
    "                                          'ClaimCost_sum', 'Premium_sum', 'PolicyId_count','IntegralityCalculated',\\\n",
    "                                          'DirectDebit_max', 'IntermediatedPolicy_max', 'PersonalDataProtectionBool_max','LossRatio_max']])\n",
    "export.to_excel('../03. Exportaciones/exp_segmE_platinum.xlsx', engine='xlsxwriter') "
   ]
  },
  {
   "cell_type": "code",
   "execution_count": 87,
   "metadata": {},
   "outputs": [],
   "source": [
    "export = describe_new(exp_segmE_gold[[\"Age_max\", \"TenureCalculated_max\", \"Profitability_sum\", \"ProfitabilityCalculated\",\\\n",
    "                                      'ClaimCost_sum', 'Premium_sum', 'PolicyId_count','IntegralityCalculated',\\\n",
    "                                      'DirectDebit_max', 'IntermediatedPolicy_max', 'PersonalDataProtectionBool_max','LossRatio_max']])\n",
    "export.to_excel('../03. Exportaciones/exp_segmE_gold.xlsx', engine='xlsxwriter') "
   ]
  },
  {
   "cell_type": "code",
   "execution_count": 88,
   "metadata": {},
   "outputs": [],
   "source": [
    "export = describe_new(exp_segmE_silver[[\"Age_max\", \"TenureCalculated_max\", \"Profitability_sum\", \"ProfitabilityCalculated\",\\\n",
    "                                        'ClaimCost_sum', 'Premium_sum', 'PolicyId_count','IntegralityCalculated',\\\n",
    "                                        'DirectDebit_max', 'IntermediatedPolicy_max', 'PersonalDataProtectionBool_max','LossRatio_max']])\n",
    "export.to_excel('../03. Exportaciones/exp_segmE_silver.xlsx', engine='xlsxwriter') "
   ]
  },
  {
   "cell_type": "markdown",
   "metadata": {},
   "source": [
    "## 4.6 Simulation and profiling 5a"
   ]
  },
  {
   "cell_type": "code",
   "execution_count": 74,
   "metadata": {},
   "outputs": [
    {
     "data": {
      "text/plain": [
       "Index(['CustomerId', 'Premium_sum', 'Premium_min', 'Premium_max',\n",
       "       'PolicyId_count', 'Age_max', 'Tenure_max', 'TenureCalculated_max',\n",
       "       'Gender_first', 'Integrality_first', 'Claim_max', 'NClaims_sum',\n",
       "       'ClaimCost_sum', 'Profitability_sum', 'PersonalDataProtectionBool_max',\n",
       "       'DirectDebit_max', 'DirectDebit_min', 'IntermediatedPolicy_max',\n",
       "       'EffectiveDate_min', 'LossRatio_max', 'ProfitabilityCalculated',\n",
       "       'IntegralityCalculated', 'ContractChannel_first', 'CheckProfitability'],\n",
       "      dtype='object')"
      ]
     },
     "execution_count": 74,
     "metadata": {},
     "output_type": "execute_result"
    }
   ],
   "source": [
    "clientespart.columns"
   ]
  },
  {
   "cell_type": "code",
   "execution_count": 91,
   "metadata": {},
   "outputs": [
    {
     "data": {
      "text/plain": [
       "(2451, 45)"
      ]
     },
     "execution_count": 91,
     "metadata": {},
     "output_type": "execute_result"
    }
   ],
   "source": [
    "#####################################\n",
    "#######   SIMULATION  Ea (6)  ########\n",
    "#####################################\n",
    "#Platinum\n",
    "clientespart['SegmEa1'] = np.where((clientespart['Premium_max'] > 600) & (clientespart['TenureCalculated_max'] >= 36) & (clientespart['PolicyId_count'] >= 3), 'Platino', 'Plata')\n",
    "clientespart[(clientespart['SegmEa1'] == 'Platino')].shape"
   ]
  },
  {
   "cell_type": "code",
   "execution_count": 92,
   "metadata": {},
   "outputs": [
    {
     "data": {
      "text/plain": [
       "(12337, 45)"
      ]
     },
     "execution_count": 92,
     "metadata": {},
     "output_type": "execute_result"
    }
   ],
   "source": [
    "#Gold\n",
    "clientespart['SegmEa2'] = np.where((clientespart['SegmEa1'] != 'Platino') & (clientespart['Premium_max'] > 300) & (clientespart['TenureCalculated_max'] >= 24) & (clientespart['PolicyId_count'] >= 2), 'Oro', 'Plata')\n",
    "clientespart[(clientespart['SegmEa2'] == 'Oro')].shape"
   ]
  },
  {
   "cell_type": "code",
   "execution_count": 93,
   "metadata": {},
   "outputs": [],
   "source": [
    "#Creation of variable SegmEa\n",
    "conditions = [\n",
    "    (clientespart['SegmEa1'] == 'Platino'),\n",
    "    (clientespart['SegmEa2'] == 'Oro')]\n",
    "choices = ['Platinum', 'Gold']\n",
    "clientespart['SegmEa'] = np.select(conditions, choices, default='Silver')"
   ]
  },
  {
   "cell_type": "code",
   "execution_count": 94,
   "metadata": {},
   "outputs": [
    {
     "name": "stdout",
     "output_type": "stream",
     "text": [
      "Platinum shape: (2451, 46) \n",
      "Gold shape: (12337, 46) \n",
      "Silver shape: (104793, 46)\n"
     ]
    }
   ],
   "source": [
    "segmEa_platinum = clientespart[(clientespart['SegmEa'] == 'Platinum')].shape\n",
    "segmEa_gold = clientespart[(clientespart['SegmEa'] == 'Gold')].shape\n",
    "segmEa_silver = clientespart[(clientespart['SegmEa'] == 'Silver')].shape\n",
    "\n",
    "print(\"Platinum shape:\", segmEa_platinum, \"\\nGold shape:\", segmEa_gold, \"\\nSilver shape:\", segmEa_silver)"
   ]
  },
  {
   "cell_type": "code",
   "execution_count": 95,
   "metadata": {},
   "outputs": [],
   "source": [
    "exp_segmEa_platinum = clientespart[(clientespart['SegmEa'] == 'Platinum')]\n",
    "exp_segmEa_gold = clientespart[(clientespart['SegmEa'] == 'Gold')]\n",
    "exp_segmEa_silver = clientespart[(clientespart['SegmEa'] == 'Silver')]"
   ]
  },
  {
   "cell_type": "code",
   "execution_count": 96,
   "metadata": {},
   "outputs": [],
   "source": [
    "#Export Univariate analysis\n",
    "export = describe_new(exp_segmEa_platinum[[\"Age_max\", \"TenureCalculated_max\", \"Profitability_sum\", \"ProfitabilityCalculated\",\\\n",
    "                                          'ClaimCost_sum', 'Premium_sum', 'PolicyId_count','IntegralityCalculated2',\\\n",
    "                                          'DirectDebit_max', 'IntermediatedPolicy_max', 'PersonalDataProtectionBool_max','LossRatio_max']])\n",
    "export.to_excel('../03. Exportaciones/exp_segmEa_platinum.xlsx', engine='xlsxwriter') "
   ]
  },
  {
   "cell_type": "code",
   "execution_count": 97,
   "metadata": {},
   "outputs": [],
   "source": [
    "export = describe_new(exp_segmEa_gold[[\"Age_max\", \"TenureCalculated_max\", \"Profitability_sum\", \"ProfitabilityCalculated\",\\\n",
    "                                      'ClaimCost_sum', 'Premium_sum', 'PolicyId_count','IntegralityCalculated2',\\\n",
    "                                      'DirectDebit_max', 'IntermediatedPolicy_max', 'PersonalDataProtectionBool_max','LossRatio_max']])\n",
    "export.to_excel('../03. Exportaciones/exp_segmEa_gold.xlsx', engine='xlsxwriter') "
   ]
  },
  {
   "cell_type": "code",
   "execution_count": 98,
   "metadata": {},
   "outputs": [],
   "source": [
    "export = describe_new(exp_segmEa_silver[[\"Age_max\", \"TenureCalculated_max\", \"Profitability_sum\", \"ProfitabilityCalculated\",\\\n",
    "                                        'ClaimCost_sum', 'Premium_sum', 'PolicyId_count','IntegralityCalculated2',\\\n",
    "                                        'DirectDebit_max', 'IntermediatedPolicy_max', 'PersonalDataProtectionBool_max','LossRatio_max']])\n",
    "export.to_excel('../03. Exportaciones/exp_segmEa_silver.xlsx', engine='xlsxwriter') "
   ]
  },
  {
   "cell_type": "markdown",
   "metadata": {},
   "source": [
    "## 4.7 Simulation and profiling 5b"
   ]
  },
  {
   "cell_type": "code",
   "execution_count": 103,
   "metadata": {},
   "outputs": [
    {
     "data": {
      "text/plain": [
       "Index(['CustomerId', 'Premium_sum', 'Premium_min', 'Premium_max',\n",
       "       'PolicyId_count', 'Age_max', 'Tenure_max', 'TenureCalculated_max',\n",
       "       'Gender_first', 'Integrality_first', 'Claim_max', 'NClaims_sum',\n",
       "       'ClaimCost_sum', 'Profitability_sum', 'PersonalDataProtectionBool_max',\n",
       "       'DirectDebit_max', 'DirectDebit_min', 'IntermediatedPolicy_max',\n",
       "       'EffectiveDate_min', 'LossRatio_max', 'ProfitabilityCalculated',\n",
       "       'IntegralityCalculated', 'IntegralityCalculated2',\n",
       "       'ContractChannel_first', 'SegmEa1', 'SegmEa2', 'SegmEa'],\n",
       "      dtype='object')"
      ]
     },
     "execution_count": 103,
     "metadata": {},
     "output_type": "execute_result"
    }
   ],
   "source": [
    "clientespart.columns"
   ]
  },
  {
   "cell_type": "code",
   "execution_count": 99,
   "metadata": {},
   "outputs": [
    {
     "data": {
      "text/plain": [
       "(1363, 47)"
      ]
     },
     "execution_count": 99,
     "metadata": {},
     "output_type": "execute_result"
    }
   ],
   "source": [
    "#####################################\n",
    "#######   SIMULATION  Eb (7)  ########\n",
    "#####################################\n",
    "#Platinum\n",
    "clientespart['SegmEb1'] = np.where((clientespart['Premium_max'] > 700) & (clientespart['TenureCalculated_max'] >= 24) & (clientespart['PolicyId_count'] >= 4), 'Platino', 'Plata')\n",
    "clientespart[(clientespart['SegmEb1'] == 'Platino')].shape"
   ]
  },
  {
   "cell_type": "code",
   "execution_count": 100,
   "metadata": {},
   "outputs": [
    {
     "data": {
      "text/plain": [
       "(10933, 48)"
      ]
     },
     "execution_count": 100,
     "metadata": {},
     "output_type": "execute_result"
    }
   ],
   "source": [
    "#Gold\n",
    "clientespart['SegmEb2'] = np.where((clientespart['SegmEb1'] != 'Platino') & (clientespart['Premium_max'] > 350) & (clientespart['TenureCalculated_max'] >= 12) & (clientespart['PolicyId_count'] >= 2), 'Oro', 'Plata')\n",
    "clientespart[(clientespart['SegmEb2'] == 'Oro')].shape"
   ]
  },
  {
   "cell_type": "code",
   "execution_count": 101,
   "metadata": {},
   "outputs": [],
   "source": [
    "#Creation of variable SegmEb\n",
    "conditions = [\n",
    "    (clientespart['SegmEb1'] == 'Platino'),\n",
    "    (clientespart['SegmEb2'] == 'Oro')]\n",
    "choices = ['Platinum', 'Gold']\n",
    "clientespart['SegmEb'] = np.select(conditions, choices, default='Silver')"
   ]
  },
  {
   "cell_type": "code",
   "execution_count": 102,
   "metadata": {},
   "outputs": [
    {
     "name": "stdout",
     "output_type": "stream",
     "text": [
      "Platinum shape: (1363, 49) \n",
      "Gold shape: (10933, 49) \n",
      "Silver shape: (107285, 49)\n"
     ]
    }
   ],
   "source": [
    "segmEb_platinum = clientespart[(clientespart['SegmEb'] == 'Platinum')].shape\n",
    "segmEb_gold = clientespart[(clientespart['SegmEb'] == 'Gold')].shape\n",
    "segmEb_silver = clientespart[(clientespart['SegmEb'] == 'Silver')].shape\n",
    "\n",
    "print(\"Platinum shape:\", segmEb_platinum, \"\\nGold shape:\", segmEb_gold, \"\\nSilver shape:\", segmEb_silver)"
   ]
  },
  {
   "cell_type": "code",
   "execution_count": 103,
   "metadata": {},
   "outputs": [],
   "source": [
    "exp_segmEb_platinum = clientespart[(clientespart['SegmEb'] == 'Platinum')]\n",
    "exp_segmEb_gold = clientespart[(clientespart['SegmEb'] == 'Gold')]\n",
    "exp_segmEb_silver = clientespart[(clientespart['SegmEb'] == 'Silver')]"
   ]
  },
  {
   "cell_type": "code",
   "execution_count": 104,
   "metadata": {},
   "outputs": [],
   "source": [
    "#Export Univariate analysis\n",
    "export = describe_new(exp_segmEb_platinum[[\"Age_max\", \"TenureCalculated_max\", \"Profitability_sum\", \"ProfitabilityCalculated\",\\\n",
    "                                          'ClaimCost_sum', 'Premium_sum', 'PolicyId_count','IntegralityCalculated2',\\\n",
    "                                          'DirectDebit_max', 'IntermediatedPolicy_max', 'PersonalDataProtectionBool_max','LossRatio_max']])\n",
    "export.to_excel('../03. Exportaciones/exp_segmEb_platinum.xlsx', engine='xlsxwriter') "
   ]
  },
  {
   "cell_type": "code",
   "execution_count": 105,
   "metadata": {},
   "outputs": [],
   "source": [
    "export = describe_new(exp_segmEb_gold[[\"Age_max\", \"TenureCalculated_max\", \"Profitability_sum\", \"ProfitabilityCalculated\",\\\n",
    "                                      'ClaimCost_sum', 'Premium_sum', 'PolicyId_count','IntegralityCalculated2',\\\n",
    "                                      'DirectDebit_max', 'IntermediatedPolicy_max', 'PersonalDataProtectionBool_max','LossRatio_max']])\n",
    "export.to_excel('../03. Exportaciones/exp_segmEb_gold.xlsx', engine='xlsxwriter') "
   ]
  },
  {
   "cell_type": "code",
   "execution_count": 106,
   "metadata": {},
   "outputs": [],
   "source": [
    "export = describe_new(exp_segmEb_silver[[\"Age_max\", \"TenureCalculated_max\", \"Profitability_sum\", \"ProfitabilityCalculated\",\\\n",
    "                                        'ClaimCost_sum', 'Premium_sum', 'PolicyId_count','IntegralityCalculated2',\\\n",
    "                                        'DirectDebit_max', 'IntermediatedPolicy_max', 'PersonalDataProtectionBool_max','LossRatio_max']])\n",
    "export.to_excel('../03. Exportaciones/exp_segmEb_silver.xlsx', engine='xlsxwriter') "
   ]
  },
  {
   "cell_type": "markdown",
   "metadata": {},
   "source": [
    "# 4.8 Simulation and profiling 6"
   ]
  },
  {
   "cell_type": "code",
   "execution_count": 93,
   "metadata": {},
   "outputs": [
    {
     "data": {
      "text/plain": [
       "Index(['CustomerId', 'Premium_sum', 'Premium_min', 'Premium_max',\n",
       "       'PolicyId_count', 'Age_max', 'Tenure_max', 'TenureCalculated_max',\n",
       "       'Gender_first', 'Integrality_first', 'Claim_max', 'NClaims_sum',\n",
       "       'ClaimCost_sum', 'Profitability_sum', 'PersonalDataProtectionBool_max',\n",
       "       'DirectDebit_max', 'DirectDebit_min', 'IntermediatedPolicy_max',\n",
       "       'EffectiveDate_min', 'LossRatio_max', 'ProfitabilityCalculated',\n",
       "       'IntegralityCalculated', 'ContractChannel_first', 'CheckProfitability',\n",
       "       'SegmE1', 'SegmE2', 'SegmE'],\n",
       "      dtype='object')"
      ]
     },
     "execution_count": 93,
     "metadata": {},
     "output_type": "execute_result"
    }
   ],
   "source": [
    "clientespart.columns"
   ]
  },
  {
   "cell_type": "code",
   "execution_count": 107,
   "metadata": {},
   "outputs": [
    {
     "data": {
      "text/plain": [
       "(2852, 50)"
      ]
     },
     "execution_count": 107,
     "metadata": {},
     "output_type": "execute_result"
    }
   ],
   "source": [
    "#####################################\n",
    "#######   SIMULATION  F (8)  ########\n",
    "#####################################\n",
    "#Platinum\n",
    "clientespart['SegmF1'] = np.where((clientespart['Premium_max'] > 500) & (clientespart['TenureCalculated_max'] >= 60) & (clientespart['IntegralityCalculated'] >=2 ), 'Platino', 'Plata')\n",
    "clientespart[(clientespart['SegmF1'] == 'Platino')].shape"
   ]
  },
  {
   "cell_type": "code",
   "execution_count": 108,
   "metadata": {},
   "outputs": [
    {
     "data": {
      "text/plain": [
       "(6527, 51)"
      ]
     },
     "execution_count": 108,
     "metadata": {},
     "output_type": "execute_result"
    }
   ],
   "source": [
    "#Gold\n",
    "clientespart['SegmF2'] = np.where((clientespart['SegmF1'] != 'Platino') & (clientespart['Premium_max'] > 300) & (clientespart['TenureCalculated_max'] >= 24) & (clientespart['IntegralityCalculated'] >=2), 'Oro', 'Plata')\n",
    "clientespart[(clientespart['SegmF2'] == 'Oro')].shape"
   ]
  },
  {
   "cell_type": "code",
   "execution_count": 109,
   "metadata": {},
   "outputs": [],
   "source": [
    "#Creation of variable SegmF\n",
    "conditions = [\n",
    "    (clientespart['SegmF1'] == 'Platino'),\n",
    "    (clientespart['SegmF2'] == 'Oro')]\n",
    "choices = ['Platinum', 'Gold']\n",
    "clientespart['SegmF'] = np.select(conditions, choices, default='Silver')"
   ]
  },
  {
   "cell_type": "code",
   "execution_count": 110,
   "metadata": {},
   "outputs": [
    {
     "name": "stdout",
     "output_type": "stream",
     "text": [
      "Platinum shape: (2852, 52) \n",
      "Gold shape: (6527, 52) \n",
      "Silver shape: (110202, 52)\n"
     ]
    }
   ],
   "source": [
    "segmF_platinum = clientespart[(clientespart['SegmF'] == 'Platinum')].shape\n",
    "segmF_gold = clientespart[(clientespart['SegmF'] == 'Gold')].shape\n",
    "segmF_silver = clientespart[(clientespart['SegmF'] == 'Silver')].shape\n",
    "\n",
    "print(\"Platinum shape:\", segmF_platinum, \"\\nGold shape:\", segmF_gold, \"\\nSilver shape:\", segmF_silver)"
   ]
  },
  {
   "cell_type": "code",
   "execution_count": 111,
   "metadata": {},
   "outputs": [],
   "source": [
    "exp_segmF_platinum = clientespart[(clientespart['SegmF'] == 'Platinum')]\n",
    "exp_segmF_gold = clientespart[(clientespart['SegmF'] == 'Gold')]\n",
    "exp_segmF_silver = clientespart[(clientespart['SegmF'] == 'Silver')]"
   ]
  },
  {
   "cell_type": "code",
   "execution_count": 112,
   "metadata": {},
   "outputs": [],
   "source": [
    "#Export Univariate analysis\n",
    "export = describe_new(exp_segmF_platinum[[\"Age_max\", \"TenureCalculated_max\", \"Profitability_sum\", \"ProfitabilityCalculated\",\\\n",
    "                                          'ClaimCost_sum', 'Premium_sum', 'PolicyId_count','IntegralityCalculated',\\\n",
    "                                          'DirectDebit_max', 'IntermediatedPolicy_max', 'PersonalDataProtectionBool_max','LossRatio_max']])\n",
    "export.to_excel('../03. Exportaciones/exp_segmF_platinum.xlsx', engine='xlsxwriter') "
   ]
  },
  {
   "cell_type": "code",
   "execution_count": 113,
   "metadata": {},
   "outputs": [],
   "source": [
    "export = describe_new(exp_segmF_gold[[\"Age_max\", \"TenureCalculated_max\", \"Profitability_sum\", \"ProfitabilityCalculated\",\\\n",
    "                                      'ClaimCost_sum', 'Premium_sum', 'PolicyId_count','IntegralityCalculated',\\\n",
    "                                      'DirectDebit_max', 'IntermediatedPolicy_max', 'PersonalDataProtectionBool_max','LossRatio_max']])\n",
    "export.to_excel('../03. Exportaciones/exp_segmF_gold.xlsx', engine='xlsxwriter') "
   ]
  },
  {
   "cell_type": "code",
   "execution_count": 114,
   "metadata": {},
   "outputs": [],
   "source": [
    "export = describe_new(exp_segmF_silver[[\"Age_max\", \"TenureCalculated_max\", \"Profitability_sum\", \"ProfitabilityCalculated\",\\\n",
    "                                        'ClaimCost_sum', 'Premium_sum', 'PolicyId_count','IntegralityCalculated',\\\n",
    "                                        'DirectDebit_max', 'IntermediatedPolicy_max', 'PersonalDataProtectionBool_max','LossRatio_max']])\n",
    "export.to_excel('../03. Exportaciones/exp_segmF_silver.xlsx', engine='xlsxwriter') "
   ]
  },
  {
   "cell_type": "markdown",
   "metadata": {},
   "source": [
    "# 4.9 Simulation and profiling 6a"
   ]
  },
  {
   "cell_type": "code",
   "execution_count": 17,
   "metadata": {},
   "outputs": [
    {
     "data": {
      "text/plain": [
       "Index(['CustomerId', 'Premium_sum', 'Premium_min', 'Premium_max',\n",
       "       'PolicyId_count', 'Age_max', 'Tenure_max', 'TenureCalculated_max',\n",
       "       'Gender_first', 'Integrality_first', 'Claim_max', 'NClaims_sum',\n",
       "       'ClaimCost_sum', 'Profitability_sum', 'PersonalDataProtectionBool_max',\n",
       "       'DirectDebit_max', 'DirectDebit_min', 'IntermediatedPolicy_max',\n",
       "       'EffectiveDate_min', 'LossRatio_max', 'ProfitabilityCalculated',\n",
       "       'IntegralityCalculated', 'IntegralityCalculated2',\n",
       "       'ContractChannel_first', 'SegmFb1', 'SegmFb2', 'SegmFb', 'SegmEa1',\n",
       "       'SegmEb1', 'SegmEb2', 'SegmFa1', 'SegmFa2'],\n",
       "      dtype='object')"
      ]
     },
     "execution_count": 17,
     "metadata": {},
     "output_type": "execute_result"
    }
   ],
   "source": [
    "clientespart.columns"
   ]
  },
  {
   "cell_type": "code",
   "execution_count": 115,
   "metadata": {},
   "outputs": [
    {
     "data": {
      "text/plain": [
       "(2408, 53)"
      ]
     },
     "execution_count": 115,
     "metadata": {},
     "output_type": "execute_result"
    }
   ],
   "source": [
    "######################################\n",
    "#######   SIMULATION  Fa (9)  ########\n",
    "######################################\n",
    "#Platinum\n",
    "clientespart['SegmFa1'] = np.where((clientespart['Premium_max'] > 650) & (clientespart['TenureCalculated_max'] >= 24) & (clientespart['IntegralityCalculated2'] >=2 ), 'Platino', 'Plata')\n",
    "clientespart[(clientespart['SegmFa1'] == 'Platino')].shape"
   ]
  },
  {
   "cell_type": "code",
   "execution_count": 116,
   "metadata": {},
   "outputs": [
    {
     "data": {
      "text/plain": [
       "(11760, 54)"
      ]
     },
     "execution_count": 116,
     "metadata": {},
     "output_type": "execute_result"
    }
   ],
   "source": [
    "#Gold\n",
    "clientespart['SegmFa2'] = np.where((clientespart['SegmFa1'] != 'Platino') & (clientespart['Premium_max'] > 325) & (clientespart['TenureCalculated_max'] >= 12) & (clientespart['PolicyId_count'] >=2), 'Oro', 'Plata')\n",
    "clientespart[(clientespart['SegmFa2'] == 'Oro')].shape"
   ]
  },
  {
   "cell_type": "code",
   "execution_count": 117,
   "metadata": {},
   "outputs": [],
   "source": [
    "#Creation of variable SegmFa\n",
    "conditions = [\n",
    "    (clientespart['SegmFa1'] == 'Platino'),\n",
    "    (clientespart['SegmFa2'] == 'Oro')]\n",
    "choices = ['Platinum', 'Gold']\n",
    "clientespart['SegmFa'] = np.select(conditions, choices, default='Silver')"
   ]
  },
  {
   "cell_type": "code",
   "execution_count": 118,
   "metadata": {},
   "outputs": [
    {
     "name": "stdout",
     "output_type": "stream",
     "text": [
      "Platinum shape: (2408, 55) \n",
      "Gold shape: (11760, 55) \n",
      "Silver shape: (105413, 55)\n"
     ]
    }
   ],
   "source": [
    "segmFa_platinum = clientespart[(clientespart['SegmFa'] == 'Platinum')].shape\n",
    "segmFa_gold = clientespart[(clientespart['SegmFa'] == 'Gold')].shape\n",
    "segmFa_silver = clientespart[(clientespart['SegmFa'] == 'Silver')].shape\n",
    "\n",
    "print(\"Platinum shape:\", segmFa_platinum, \"\\nGold shape:\", segmFa_gold, \"\\nSilver shape:\", segmFa_silver)"
   ]
  },
  {
   "cell_type": "code",
   "execution_count": 119,
   "metadata": {},
   "outputs": [],
   "source": [
    "exp_segmFa_platinum = clientespart[(clientespart['SegmFa'] == 'Platinum')]\n",
    "exp_segmFa_gold = clientespart[(clientespart['SegmFa'] == 'Gold')]\n",
    "exp_segmFa_silver = clientespart[(clientespart['SegmFa'] == 'Silver')]"
   ]
  },
  {
   "cell_type": "code",
   "execution_count": 120,
   "metadata": {},
   "outputs": [],
   "source": [
    "#Export Univariate analysis\n",
    "export = describe_new(exp_segmFa_platinum[[\"Age_max\", \"TenureCalculated_max\", \"Profitability_sum\", \"ProfitabilityCalculated\",\\\n",
    "                                          'ClaimCost_sum', 'Premium_sum', 'PolicyId_count','IntegralityCalculated2',\\\n",
    "                                          'DirectDebit_max', 'IntermediatedPolicy_max', 'PersonalDataProtectionBool_max','LossRatio_max']])\n",
    "export.to_excel('../03. Exportaciones/exp_segmFa_platinum.xlsx', engine='xlsxwriter') "
   ]
  },
  {
   "cell_type": "code",
   "execution_count": 121,
   "metadata": {},
   "outputs": [],
   "source": [
    "export = describe_new(exp_segmFa_gold[[\"Age_max\", \"TenureCalculated_max\", \"Profitability_sum\", \"ProfitabilityCalculated\",\\\n",
    "                                      'ClaimCost_sum', 'Premium_sum', 'PolicyId_count','IntegralityCalculated2',\\\n",
    "                                      'DirectDebit_max', 'IntermediatedPolicy_max', 'PersonalDataProtectionBool_max','LossRatio_max']])\n",
    "export.to_excel('../03. Exportaciones/exp_segmFa_gold.xlsx', engine='xlsxwriter') "
   ]
  },
  {
   "cell_type": "code",
   "execution_count": 122,
   "metadata": {},
   "outputs": [],
   "source": [
    "export = describe_new(exp_segmFa_silver[[\"Age_max\", \"TenureCalculated_max\", \"Profitability_sum\", \"ProfitabilityCalculated\",\\\n",
    "                                        'ClaimCost_sum', 'Premium_sum', 'PolicyId_count','IntegralityCalculated2',\\\n",
    "                                        'DirectDebit_max', 'IntermediatedPolicy_max', 'PersonalDataProtectionBool_max','LossRatio_max']])\n",
    "export.to_excel('../03. Exportaciones/exp_segmFa_silver.xlsx', engine='xlsxwriter') "
   ]
  },
  {
   "cell_type": "markdown",
   "metadata": {},
   "source": [
    "# 4.10 Simulation and profiling 6b"
   ]
  },
  {
   "cell_type": "code",
   "execution_count": 28,
   "metadata": {},
   "outputs": [
    {
     "data": {
      "text/plain": [
       "Index(['CustomerId', 'Premium_sum', 'Premium_min', 'Premium_max',\n",
       "       'PolicyId_count', 'Age_max', 'Tenure_max', 'TenureCalculated_max',\n",
       "       'Gender_first', 'Integrality_first', 'Claim_max', 'NClaims_sum',\n",
       "       'ClaimCost_sum', 'Profitability_sum', 'PersonalDataProtectionBool_max',\n",
       "       'DirectDebit_max', 'DirectDebit_min', 'IntermediatedPolicy_max',\n",
       "       'EffectiveDate_min', 'LossRatio_max', 'ProfitabilityCalculated',\n",
       "       'IntegralityCalculated', 'IntegralityCalculated2',\n",
       "       'ContractChannel_first', 'SegmFa1', 'SegmFa2', 'SegmFa'],\n",
       "      dtype='object')"
      ]
     },
     "execution_count": 28,
     "metadata": {},
     "output_type": "execute_result"
    }
   ],
   "source": [
    "clientespart.columns"
   ]
  },
  {
   "cell_type": "code",
   "execution_count": 123,
   "metadata": {},
   "outputs": [
    {
     "data": {
      "text/plain": [
       "(2069, 56)"
      ]
     },
     "execution_count": 123,
     "metadata": {},
     "output_type": "execute_result"
    }
   ],
   "source": [
    "######################################\n",
    "#######   SIMULATION  Fb (10)  ########\n",
    "######################################\n",
    "#Platinum\n",
    "clientespart['SegmFb1'] = np.where((clientespart['Premium_max'] > 700) & (clientespart['TenureCalculated_max'] >= 24) & (clientespart['IntegralityCalculated2'] >=2 ), 'Platino', 'Plata')\n",
    "clientespart[(clientespart['SegmFb1'] == 'Platino')].shape"
   ]
  },
  {
   "cell_type": "code",
   "execution_count": 124,
   "metadata": {},
   "outputs": [
    {
     "data": {
      "text/plain": [
       "(10227, 57)"
      ]
     },
     "execution_count": 124,
     "metadata": {},
     "output_type": "execute_result"
    }
   ],
   "source": [
    "#Gold\n",
    "clientespart['SegmFb2'] = np.where((clientespart['SegmFb1'] != 'Platino') & (clientespart['Premium_max'] > 350) & (clientespart['TenureCalculated_max'] >= 12) & (clientespart['PolicyId_count'] >=2), 'Oro', 'Plata')\n",
    "clientespart[(clientespart['SegmFb2'] == 'Oro')].shape"
   ]
  },
  {
   "cell_type": "code",
   "execution_count": 125,
   "metadata": {},
   "outputs": [],
   "source": [
    "#Creation of variable SegmFb\n",
    "conditions = [\n",
    "    (clientespart['SegmFb1'] == 'Platino'),\n",
    "    (clientespart['SegmFb2'] == 'Oro')]\n",
    "choices = ['Platinum', 'Gold']\n",
    "clientespart['SegmFb'] = np.select(conditions, choices, default='Silver')"
   ]
  },
  {
   "cell_type": "code",
   "execution_count": 126,
   "metadata": {},
   "outputs": [
    {
     "name": "stdout",
     "output_type": "stream",
     "text": [
      "Platinum shape: (2069, 58) \n",
      "Gold shape: (10227, 58) \n",
      "Silver shape: (107285, 58)\n"
     ]
    }
   ],
   "source": [
    "segmFb_platinum = clientespart[(clientespart['SegmFb'] == 'Platinum')].shape\n",
    "segmFb_gold = clientespart[(clientespart['SegmFb'] == 'Gold')].shape\n",
    "segmFb_silver = clientespart[(clientespart['SegmFb'] == 'Silver')].shape\n",
    "\n",
    "print(\"Platinum shape:\", segmFb_platinum, \"\\nGold shape:\", segmFb_gold, \"\\nSilver shape:\", segmFb_silver)"
   ]
  },
  {
   "cell_type": "code",
   "execution_count": 127,
   "metadata": {},
   "outputs": [],
   "source": [
    "exp_segmFb_platinum = clientespart[(clientespart['SegmFb'] == 'Platinum')]\n",
    "exp_segmFb_gold = clientespart[(clientespart['SegmFb'] == 'Gold')]\n",
    "exp_segmFb_silver = clientespart[(clientespart['SegmFb'] == 'Silver')]"
   ]
  },
  {
   "cell_type": "code",
   "execution_count": 128,
   "metadata": {},
   "outputs": [],
   "source": [
    "#Export Univariate analysis\n",
    "export = describe_new(exp_segmFb_platinum[[\"Age_max\", \"TenureCalculated_max\", \"Profitability_sum\", \"ProfitabilityCalculated\",\\\n",
    "                                          'ClaimCost_sum', 'Premium_sum', 'PolicyId_count','IntegralityCalculated2',\\\n",
    "                                          'DirectDebit_max', 'IntermediatedPolicy_max', 'PersonalDataProtectionBool_max','LossRatio_max']])\n",
    "export.to_excel('../03. Exportaciones/exp_segmFb_platinum.xlsx', engine='xlsxwriter') "
   ]
  },
  {
   "cell_type": "code",
   "execution_count": 129,
   "metadata": {},
   "outputs": [],
   "source": [
    "export = describe_new(exp_segmFb_gold[[\"Age_max\", \"TenureCalculated_max\", \"Profitability_sum\", \"ProfitabilityCalculated\",\\\n",
    "                                      'ClaimCost_sum', 'Premium_sum', 'PolicyId_count','IntegralityCalculated2',\\\n",
    "                                      'DirectDebit_max', 'IntermediatedPolicy_max', 'PersonalDataProtectionBool_max','LossRatio_max']])\n",
    "export.to_excel('../03. Exportaciones/exp_segmFb_gold.xlsx', engine='xlsxwriter') "
   ]
  },
  {
   "cell_type": "code",
   "execution_count": 130,
   "metadata": {},
   "outputs": [],
   "source": [
    "export = describe_new(exp_segmFb_silver[[\"Age_max\", \"TenureCalculated_max\", \"Profitability_sum\", \"ProfitabilityCalculated\",\\\n",
    "                                        'ClaimCost_sum', 'Premium_sum', 'PolicyId_count','IntegralityCalculated2',\\\n",
    "                                        'DirectDebit_max', 'IntermediatedPolicy_max', 'PersonalDataProtectionBool_max','LossRatio_max']])\n",
    "export.to_excel('../03. Exportaciones/exp_segmFb_silver.xlsx', engine='xlsxwriter') "
   ]
  },
  {
   "cell_type": "markdown",
   "metadata": {},
   "source": [
    "# 4.11 Simulation and profiling 7\n"
   ]
  },
  {
   "cell_type": "code",
   "execution_count": 124,
   "metadata": {},
   "outputs": [
    {
     "data": {
      "text/plain": [
       "Index(['CustomerId', 'Premium_sum', 'Premium_min', 'Premium_max',\n",
       "       'PolicyId_count', 'Age_max', 'Tenure_max', 'TenureCalculated_max',\n",
       "       'Gender_first', 'Integrality_first', 'Claim_max', 'NClaims_sum',\n",
       "       'ClaimCost_sum', 'Profitability_sum', 'PersonalDataProtectionBool_max',\n",
       "       'DirectDebit_max', 'DirectDebit_min', 'IntermediatedPolicy_max',\n",
       "       'EffectiveDate_min', 'LossRatio_max', 'ProfitabilityCalculated',\n",
       "       'IntegralityCalculated', 'ContractChannel_first', 'CheckProfitability',\n",
       "       'SegmE1', 'SegmE2', 'SegmE', 'SegmF1', 'SegmF2', 'SegmF'],\n",
       "      dtype='object')"
      ]
     },
     "execution_count": 124,
     "metadata": {},
     "output_type": "execute_result"
    }
   ],
   "source": [
    "clientespart.columns"
   ]
  },
  {
   "cell_type": "code",
   "execution_count": 131,
   "metadata": {},
   "outputs": [
    {
     "data": {
      "text/plain": [
       "(5003, 59)"
      ]
     },
     "execution_count": 131,
     "metadata": {},
     "output_type": "execute_result"
    }
   ],
   "source": [
    "#####################################\n",
    "#######   SIMULATION  G (11)  ########\n",
    "#####################################\n",
    "#Platinum\n",
    "clientespart['SegmG1'] = np.where((clientespart['ProfitabilityCalculated'] > 500) & (clientespart['TenureCalculated_max'] >= 60) & (clientespart['PolicyId_count'] >=2 ), 'Platino', 'Plata')\n",
    "clientespart[(clientespart['SegmG1'] == 'Platino')].shape"
   ]
  },
  {
   "cell_type": "code",
   "execution_count": 132,
   "metadata": {},
   "outputs": [
    {
     "data": {
      "text/plain": [
       "(11462, 60)"
      ]
     },
     "execution_count": 132,
     "metadata": {},
     "output_type": "execute_result"
    }
   ],
   "source": [
    "#Gold\n",
    "clientespart['SegmG2'] = np.where((clientespart['SegmG1'] != 'Platino') & (clientespart['ProfitabilityCalculated'] > 250) & (clientespart['TenureCalculated_max'] >= 24) & (clientespart['PolicyId_count'] >=2), 'Oro', 'Plata')\n",
    "clientespart[(clientespart['SegmG2'] == 'Oro')].shape"
   ]
  },
  {
   "cell_type": "code",
   "execution_count": 133,
   "metadata": {},
   "outputs": [],
   "source": [
    "#Creation of variable SegmG\n",
    "conditions = [\n",
    "    (clientespart['SegmG1'] == 'Platino'),\n",
    "    (clientespart['SegmG2'] == 'Oro')]\n",
    "choices = ['Platinum', 'Gold']\n",
    "clientespart['SegmG'] = np.select(conditions, choices, default='Silver')"
   ]
  },
  {
   "cell_type": "code",
   "execution_count": 134,
   "metadata": {},
   "outputs": [
    {
     "name": "stdout",
     "output_type": "stream",
     "text": [
      "Platinum shape: (5003, 61) \n",
      "Gold shape: (11462, 61) \n",
      "Silver shape: (103116, 61)\n"
     ]
    }
   ],
   "source": [
    "segmG_platinum = clientespart[(clientespart['SegmG'] == 'Platinum')].shape\n",
    "segmG_gold = clientespart[(clientespart['SegmG'] == 'Gold')].shape\n",
    "segmG_silver = clientespart[(clientespart['SegmG'] == 'Silver')].shape\n",
    "\n",
    "print(\"Platinum shape:\", segmG_platinum, \"\\nGold shape:\", segmG_gold, \"\\nSilver shape:\", segmG_silver)"
   ]
  },
  {
   "cell_type": "code",
   "execution_count": 135,
   "metadata": {},
   "outputs": [],
   "source": [
    "exp_segmG_platinum = clientespart[(clientespart['SegmG'] == 'Platinum')]\n",
    "exp_segmG_gold = clientespart[(clientespart['SegmG'] == 'Gold')]\n",
    "exp_segmG_silver = clientespart[(clientespart['SegmG'] == 'Silver')]"
   ]
  },
  {
   "cell_type": "code",
   "execution_count": 136,
   "metadata": {},
   "outputs": [],
   "source": [
    "#Export Univariate analysis\n",
    "export = describe_new(exp_segmG_platinum[[\"Age_max\", \"TenureCalculated_max\", \"Profitability_sum\", \"ProfitabilityCalculated\",\\\n",
    "                                          'ClaimCost_sum', 'Premium_sum', 'PolicyId_count','IntegralityCalculated',\\\n",
    "                                          'DirectDebit_max', 'IntermediatedPolicy_max', 'PersonalDataProtectionBool_max','LossRatio_max']])\n",
    "export.to_excel('../03. Exportaciones/exp_segmG_platinum.xlsx', engine='xlsxwriter') "
   ]
  },
  {
   "cell_type": "code",
   "execution_count": 137,
   "metadata": {},
   "outputs": [],
   "source": [
    "export = describe_new(exp_segmG_gold[[\"Age_max\", \"TenureCalculated_max\", \"Profitability_sum\", \"ProfitabilityCalculated\",\\\n",
    "                                      'ClaimCost_sum', 'Premium_sum', 'PolicyId_count','IntegralityCalculated',\\\n",
    "                                      'DirectDebit_max', 'IntermediatedPolicy_max', 'PersonalDataProtectionBool_max','LossRatio_max']])\n",
    "export.to_excel('../03. Exportaciones/exp_segmG_gold.xlsx', engine='xlsxwriter') "
   ]
  },
  {
   "cell_type": "code",
   "execution_count": 138,
   "metadata": {},
   "outputs": [],
   "source": [
    "export = describe_new(exp_segmG_silver[[\"Age_max\", \"TenureCalculated_max\", \"Profitability_sum\", \"ProfitabilityCalculated\",\\\n",
    "                                        'ClaimCost_sum', 'Premium_sum', 'PolicyId_count','IntegralityCalculated',\\\n",
    "                                        'DirectDebit_max', 'IntermediatedPolicy_max', 'PersonalDataProtectionBool_max','LossRatio_max']])\n",
    "export.to_excel('../03. Exportaciones/exp_segmG_silver.xlsx', engine='xlsxwriter') "
   ]
  },
  {
   "cell_type": "markdown",
   "metadata": {},
   "source": [
    "# 4.12 Simulation and profiling 7a\n"
   ]
  },
  {
   "cell_type": "code",
   "execution_count": 124,
   "metadata": {},
   "outputs": [
    {
     "data": {
      "text/plain": [
       "Index(['CustomerId', 'Premium_sum', 'Premium_min', 'Premium_max',\n",
       "       'PolicyId_count', 'Age_max', 'Tenure_max', 'TenureCalculated_max',\n",
       "       'Gender_first', 'Integrality_first', 'Claim_max', 'NClaims_sum',\n",
       "       'ClaimCost_sum', 'Profitability_sum', 'PersonalDataProtectionBool_max',\n",
       "       'DirectDebit_max', 'DirectDebit_min', 'IntermediatedPolicy_max',\n",
       "       'EffectiveDate_min', 'LossRatio_max', 'ProfitabilityCalculated',\n",
       "       'IntegralityCalculated', 'ContractChannel_first', 'CheckProfitability',\n",
       "       'SegmE1', 'SegmE2', 'SegmE', 'SegmF1', 'SegmF2', 'SegmF'],\n",
       "      dtype='object')"
      ]
     },
     "execution_count": 124,
     "metadata": {},
     "output_type": "execute_result"
    }
   ],
   "source": [
    "clientespart.columns"
   ]
  },
  {
   "cell_type": "code",
   "execution_count": 4,
   "metadata": {},
   "outputs": [
    {
     "data": {
      "text/plain": [
       "(2503, 27)"
      ]
     },
     "execution_count": 4,
     "metadata": {},
     "output_type": "execute_result"
    }
   ],
   "source": [
    "#######################################\n",
    "#######   SIMULATION  Ga (12)  ########\n",
    "#######################################\n",
    "#Platinum\n",
    "clientespart['SegmGa1'] = np.where((clientespart['ProfitabilityCalculated'] > 650) & (clientespart['TenureCalculated_max'] >= 24) & (clientespart['PolicyId_count'] >=4 ), 'Platino', 'Plata')\n",
    "clientespart[(clientespart['SegmGa1'] == 'Platino')].shape"
   ]
  },
  {
   "cell_type": "code",
   "execution_count": 5,
   "metadata": {},
   "outputs": [
    {
     "data": {
      "text/plain": [
       "(10501, 28)"
      ]
     },
     "execution_count": 5,
     "metadata": {},
     "output_type": "execute_result"
    }
   ],
   "source": [
    "#Gold\n",
    "clientespart['SegmGa2'] = np.where((clientespart['SegmGa1'] != 'Platino') & (clientespart['ProfitabilityCalculated'] > 400) & (clientespart['TenureCalculated_max'] >= 12) & (clientespart['PolicyId_count'] >=2), 'Oro', 'Plata')\n",
    "clientespart[(clientespart['SegmGa2'] == 'Oro')].shape"
   ]
  },
  {
   "cell_type": "code",
   "execution_count": 6,
   "metadata": {},
   "outputs": [],
   "source": [
    "#Creation of variable SegmGa\n",
    "conditions = [\n",
    "    (clientespart['SegmGa1'] == 'Platino'),\n",
    "    (clientespart['SegmGa2'] == 'Oro')]\n",
    "choices = ['Platinum', 'Gold']\n",
    "clientespart['SegmGa'] = np.select(conditions, choices, default='Silver')"
   ]
  },
  {
   "cell_type": "code",
   "execution_count": 7,
   "metadata": {},
   "outputs": [
    {
     "name": "stdout",
     "output_type": "stream",
     "text": [
      "Platinum shape: (2503, 29) \n",
      "Gold shape: (10501, 29) \n",
      "Silver shape: (106577, 29)\n"
     ]
    }
   ],
   "source": [
    "segmGa_platinum = clientespart[(clientespart['SegmGa'] == 'Platinum')].shape\n",
    "segmGa_gold = clientespart[(clientespart['SegmGa'] == 'Gold')].shape\n",
    "segmGa_silver = clientespart[(clientespart['SegmGa'] == 'Silver')].shape\n",
    "\n",
    "print(\"Platinum shape:\", segmGa_platinum, \"\\nGold shape:\", segmGa_gold, \"\\nSilver shape:\", segmGa_silver)"
   ]
  },
  {
   "cell_type": "code",
   "execution_count": 8,
   "metadata": {},
   "outputs": [],
   "source": [
    "exp_segmGa_platinum = clientespart[(clientespart['SegmGa'] == 'Platinum')]\n",
    "exp_segmGa_gold = clientespart[(clientespart['SegmGa'] == 'Gold')]\n",
    "exp_segmGa_silver = clientespart[(clientespart['SegmGa'] == 'Silver')]"
   ]
  },
  {
   "cell_type": "code",
   "execution_count": 144,
   "metadata": {},
   "outputs": [],
   "source": [
    "#Export Univariate analysis\n",
    "export = describe_new(exp_segmGa_platinum[[\"Age_max\", \"TenureCalculated_max\", \"Profitability_sum\", \"ProfitabilityCalculated\",\\\n",
    "                                          'ClaimCost_sum', 'Premium_sum', 'PolicyId_count','IntegralityCalculated2',\\\n",
    "                                          'DirectDebit_max', 'IntermediatedPolicy_max', 'PersonalDataProtectionBool_max','LossRatio_max']])\n",
    "export.to_excel('../03. Exportaciones/exp_segmGa_platinum.xlsx', engine='xlsxwriter') "
   ]
  },
  {
   "cell_type": "code",
   "execution_count": 145,
   "metadata": {},
   "outputs": [],
   "source": [
    "export = describe_new(exp_segmGa_gold[[\"Age_max\", \"TenureCalculated_max\", \"Profitability_sum\", \"ProfitabilityCalculated\",\\\n",
    "                                      'ClaimCost_sum', 'Premium_sum', 'PolicyId_count','IntegralityCalculated2',\\\n",
    "                                      'DirectDebit_max', 'IntermediatedPolicy_max', 'PersonalDataProtectionBool_max','LossRatio_max']])\n",
    "export.to_excel('../03. Exportaciones/exp_segmGa_gold.xlsx', engine='xlsxwriter') "
   ]
  },
  {
   "cell_type": "code",
   "execution_count": 146,
   "metadata": {},
   "outputs": [],
   "source": [
    "export = describe_new(exp_segmGa_silver[[\"Age_max\", \"TenureCalculated_max\", \"Profitability_sum\", \"ProfitabilityCalculated\",\\\n",
    "                                        'ClaimCost_sum', 'Premium_sum', 'PolicyId_count','IntegralityCalculated2',\\\n",
    "                                        'DirectDebit_max', 'IntermediatedPolicy_max', 'PersonalDataProtectionBool_max','LossRatio_max']])\n",
    "export.to_excel('../03. Exportaciones/exp_segmGa_silver.xlsx', engine='xlsxwriter') "
   ]
  },
  {
   "cell_type": "code",
   "execution_count": 14,
   "metadata": {},
   "outputs": [
    {
     "data": {
      "text/plain": [
       "1    2039\n",
       "4     219\n",
       "2     149\n",
       "3      96\n",
       "Name: LossRatioCalculated_max, dtype: int64"
      ]
     },
     "execution_count": 14,
     "metadata": {},
     "output_type": "execute_result"
    }
   ],
   "source": [
    "#Loss Ratio distribution\n",
    "exp_segmGa_platinum.LossRatioCalculated_max.value_counts() # Platino: 1-> 2039 // // 2 -> 149 // 3 -> 96 // 4 -> 219\n",
    "#exp_segmGa_gold.LossRatioCalculated_max.value_counts() # Oro: 1 -> 10024 // 2 -> 201 // 3 -> 109 // 4 -> 167\n",
    "#exp_segmGa_silver.LossRatioCalculated_max.value_counts() # Plata: 1 -> 78428 // 2 -> 4595 // 3 -> 4975 // 4 -> 18579"
   ]
  },
  {
   "cell_type": "markdown",
   "metadata": {},
   "source": [
    "# 4.13 Simulation and profiling 8"
   ]
  },
  {
   "cell_type": "code",
   "execution_count": 142,
   "metadata": {},
   "outputs": [
    {
     "data": {
      "text/plain": [
       "Index(['CustomerId', 'Premium_sum', 'Premium_min', 'Premium_max',\n",
       "       'PolicyId_count', 'Age_max', 'Tenure_max', 'TenureCalculated_max',\n",
       "       'Gender_first', 'Integrality_first', 'Claim_max', 'NClaims_sum',\n",
       "       'ClaimCost_sum', 'Profitability_sum', 'PersonalDataProtectionBool_max',\n",
       "       'DirectDebit_max', 'DirectDebit_min', 'IntermediatedPolicy_max',\n",
       "       'EffectiveDate_min', 'LossRatio_max', 'ProfitabilityCalculated',\n",
       "       'IntegralityCalculated', 'ContractChannel_first', 'CheckProfitability',\n",
       "       'SegmE1', 'SegmE2', 'SegmE', 'SegmF1', 'SegmF2', 'SegmF', 'SegmG1',\n",
       "       'SegmG2', 'SegmG'],\n",
       "      dtype='object')"
      ]
     },
     "execution_count": 142,
     "metadata": {},
     "output_type": "execute_result"
    }
   ],
   "source": [
    "clientespart.columns"
   ]
  },
  {
   "cell_type": "code",
   "execution_count": 147,
   "metadata": {},
   "outputs": [
    {
     "data": {
      "text/plain": [
       "(3995, 65)"
      ]
     },
     "execution_count": 147,
     "metadata": {},
     "output_type": "execute_result"
    }
   ],
   "source": [
    "#####################################\n",
    "#######   SIMULATION  H (13)  ########\n",
    "#####################################\n",
    "#Platinum\n",
    "clientespart['SegmH1'] = np.where((clientespart['ProfitabilityCalculated'] > 500) & (clientespart['TenureCalculated_max'] >= 60) & (clientespart['PolicyId_count'] >=2) & (clientespart['DirectDebit_max'] ==1), 'Platino', 'Plata')\n",
    "clientespart[(clientespart['SegmH1'] == 'Platino')].shape"
   ]
  },
  {
   "cell_type": "code",
   "execution_count": 148,
   "metadata": {},
   "outputs": [
    {
     "data": {
      "text/plain": [
       "(9276, 66)"
      ]
     },
     "execution_count": 148,
     "metadata": {},
     "output_type": "execute_result"
    }
   ],
   "source": [
    "#Gold\n",
    "clientespart['SegmH2'] = np.where((clientespart['SegmH1'] != 'Platino') & (clientespart['ProfitabilityCalculated'] > 250) & (clientespart['TenureCalculated_max'] >= 24) & (clientespart['PolicyId_count'] >=2) & (clientespart['DirectDebit_max'] ==1), 'Oro', 'Plata')\n",
    "clientespart[(clientespart['SegmH2'] == 'Oro')].shape"
   ]
  },
  {
   "cell_type": "code",
   "execution_count": 149,
   "metadata": {},
   "outputs": [],
   "source": [
    "#Creation of variable SegmH\n",
    "conditions = [\n",
    "    (clientespart['SegmH1'] == 'Platino'),\n",
    "    (clientespart['SegmH2'] == 'Oro')]\n",
    "choices = ['Platinum', 'Gold']\n",
    "clientespart['SegmH'] = np.select(conditions, choices, default='Silver')"
   ]
  },
  {
   "cell_type": "code",
   "execution_count": 150,
   "metadata": {},
   "outputs": [
    {
     "name": "stdout",
     "output_type": "stream",
     "text": [
      "Platinum shape: (3995, 67) \n",
      "Gold shape: (9276, 67) \n",
      "Silver shape: (106310, 67)\n"
     ]
    }
   ],
   "source": [
    "segmH_platinum = clientespart[(clientespart['SegmH'] == 'Platinum')].shape\n",
    "segmH_gold = clientespart[(clientespart['SegmH'] == 'Gold')].shape\n",
    "segmH_silver = clientespart[(clientespart['SegmH'] == 'Silver')].shape\n",
    "\n",
    "print(\"Platinum shape:\", segmH_platinum, \"\\nGold shape:\", segmH_gold, \"\\nSilver shape:\", segmH_silver)"
   ]
  },
  {
   "cell_type": "code",
   "execution_count": 151,
   "metadata": {},
   "outputs": [],
   "source": [
    "exp_segmH_platinum = clientespart[(clientespart['SegmH'] == 'Platinum')]\n",
    "exp_segmH_gold = clientespart[(clientespart['SegmH'] == 'Gold')]\n",
    "exp_segmH_silver = clientespart[(clientespart['SegmH'] == 'Silver')]"
   ]
  },
  {
   "cell_type": "code",
   "execution_count": 152,
   "metadata": {},
   "outputs": [],
   "source": [
    "#Export Univariate analysis\n",
    "export = describe_new(exp_segmH_platinum[[\"Age_max\", \"TenureCalculated_max\", \"Profitability_sum\", \"ProfitabilityCalculated\",\\\n",
    "                                          'ClaimCost_sum', 'Premium_sum', 'PolicyId_count','IntegralityCalculated',\\\n",
    "                                          'DirectDebit_max', 'IntermediatedPolicy_max', 'PersonalDataProtectionBool_max','LossRatio_max']])\n",
    "export.to_excel('../03. Exportaciones/exp_segmH_platinum.xlsx', engine='xlsxwriter') "
   ]
  },
  {
   "cell_type": "code",
   "execution_count": 153,
   "metadata": {},
   "outputs": [],
   "source": [
    "export = describe_new(exp_segmH_gold[[\"Age_max\", \"TenureCalculated_max\", \"Profitability_sum\", \"ProfitabilityCalculated\",\\\n",
    "                                      'ClaimCost_sum', 'Premium_sum', 'PolicyId_count','IntegralityCalculated',\\\n",
    "                                      'DirectDebit_max', 'IntermediatedPolicy_max', 'PersonalDataProtectionBool_max','LossRatio_max']])\n",
    "export.to_excel('../03. Exportaciones/exp_segmH_gold.xlsx', engine='xlsxwriter') "
   ]
  },
  {
   "cell_type": "code",
   "execution_count": 154,
   "metadata": {},
   "outputs": [],
   "source": [
    "export = describe_new(exp_segmH_silver[[\"Age_max\", \"TenureCalculated_max\", \"Profitability_sum\", \"ProfitabilityCalculated\",\\\n",
    "                                        'ClaimCost_sum', 'Premium_sum', 'PolicyId_count','IntegralityCalculated',\\\n",
    "                                        'DirectDebit_max', 'IntermediatedPolicy_max', 'PersonalDataProtectionBool_max','LossRatio_max']])\n",
    "export.to_excel('../03. Exportaciones/exp_segmH_silver.xlsx', engine='xlsxwriter') "
   ]
  },
  {
   "cell_type": "markdown",
   "metadata": {},
   "source": [
    "# 4.14 Simulation and profiling 8a"
   ]
  },
  {
   "cell_type": "code",
   "execution_count": 142,
   "metadata": {},
   "outputs": [
    {
     "data": {
      "text/plain": [
       "Index(['CustomerId', 'Premium_sum', 'Premium_min', 'Premium_max',\n",
       "       'PolicyId_count', 'Age_max', 'Tenure_max', 'TenureCalculated_max',\n",
       "       'Gender_first', 'Integrality_first', 'Claim_max', 'NClaims_sum',\n",
       "       'ClaimCost_sum', 'Profitability_sum', 'PersonalDataProtectionBool_max',\n",
       "       'DirectDebit_max', 'DirectDebit_min', 'IntermediatedPolicy_max',\n",
       "       'EffectiveDate_min', 'LossRatio_max', 'ProfitabilityCalculated',\n",
       "       'IntegralityCalculated', 'ContractChannel_first', 'CheckProfitability',\n",
       "       'SegmE1', 'SegmE2', 'SegmE', 'SegmF1', 'SegmF2', 'SegmF', 'SegmG1',\n",
       "       'SegmG2', 'SegmG'],\n",
       "      dtype='object')"
      ]
     },
     "execution_count": 142,
     "metadata": {},
     "output_type": "execute_result"
    }
   ],
   "source": [
    "clientespart.columns"
   ]
  },
  {
   "cell_type": "code",
   "execution_count": 155,
   "metadata": {},
   "outputs": [
    {
     "data": {
      "text/plain": [
       "(3018, 68)"
      ]
     },
     "execution_count": 155,
     "metadata": {},
     "output_type": "execute_result"
    }
   ],
   "source": [
    "#####################################\n",
    "#######   SIMULATION  Ha (14)  ########\n",
    "#####################################\n",
    "#Platinum\n",
    "clientespart['SegmHa1'] = np.where((clientespart['ProfitabilityCalculated'] > 700) & (clientespart['TenureCalculated_max'] >=24) & (clientespart['PolicyId_count'] >=3) & (clientespart['DirectDebit_max'] ==1), 'Platino', 'Plata')\n",
    "clientespart[(clientespart['SegmHa1'] == 'Platino')].shape"
   ]
  },
  {
   "cell_type": "code",
   "execution_count": 156,
   "metadata": {},
   "outputs": [
    {
     "data": {
      "text/plain": [
       "(10372, 69)"
      ]
     },
     "execution_count": 156,
     "metadata": {},
     "output_type": "execute_result"
    }
   ],
   "source": [
    "#Gold\n",
    "clientespart['SegmHa2'] = np.where((clientespart['SegmHa1'] != 'Platino') & (clientespart['ProfitabilityCalculated'] > 300) & (clientespart['TenureCalculated_max'] >= 12) & (clientespart['PolicyId_count'] >=2) & (clientespart['DirectDebit_max'] ==1), 'Oro', 'Plata')\n",
    "clientespart[(clientespart['SegmHa2'] == 'Oro')].shape"
   ]
  },
  {
   "cell_type": "code",
   "execution_count": 157,
   "metadata": {},
   "outputs": [],
   "source": [
    "#Creation of variable SegmHa\n",
    "conditions = [\n",
    "    (clientespart['SegmHa1'] == 'Platino'),\n",
    "    (clientespart['SegmHa2'] == 'Oro')]\n",
    "choices = ['Platinum', 'Gold']\n",
    "clientespart['SegmHa'] = np.select(conditions, choices, default='Silver')"
   ]
  },
  {
   "cell_type": "code",
   "execution_count": 158,
   "metadata": {},
   "outputs": [
    {
     "name": "stdout",
     "output_type": "stream",
     "text": [
      "Platinum shape: (3018, 70) \n",
      "Gold shape: (10372, 70) \n",
      "Silver shape: (106191, 70)\n"
     ]
    }
   ],
   "source": [
    "segmHa_platinum = clientespart[(clientespart['SegmHa'] == 'Platinum')].shape\n",
    "segmHa_gold = clientespart[(clientespart['SegmHa'] == 'Gold')].shape\n",
    "segmHa_silver = clientespart[(clientespart['SegmHa'] == 'Silver')].shape\n",
    "\n",
    "print(\"Platinum shape:\", segmHa_platinum, \"\\nGold shape:\", segmHa_gold, \"\\nSilver shape:\", segmHa_silver)"
   ]
  },
  {
   "cell_type": "code",
   "execution_count": 159,
   "metadata": {},
   "outputs": [],
   "source": [
    "exp_segmHa_platinum = clientespart[(clientespart['SegmHa'] == 'Platinum')]\n",
    "exp_segmHa_gold = clientespart[(clientespart['SegmHa'] == 'Gold')]\n",
    "exp_segmHa_silver = clientespart[(clientespart['SegmHa'] == 'Silver')]"
   ]
  },
  {
   "cell_type": "code",
   "execution_count": 160,
   "metadata": {},
   "outputs": [],
   "source": [
    "#Export Univariate analysis\n",
    "export = describe_new(exp_segmHa_platinum[[\"Age_max\", \"TenureCalculated_max\", \"Profitability_sum\", \"ProfitabilityCalculated\",\\\n",
    "                                          'ClaimCost_sum', 'Premium_sum', 'PolicyId_count','IntegralityCalculated2',\\\n",
    "                                          'DirectDebit_max', 'IntermediatedPolicy_max', 'PersonalDataProtectionBool_max','LossRatio_max']])\n",
    "export.to_excel('../03. Exportaciones/exp_segmHa_platinum.xlsx', engine='xlsxwriter') "
   ]
  },
  {
   "cell_type": "code",
   "execution_count": 161,
   "metadata": {},
   "outputs": [],
   "source": [
    "export = describe_new(exp_segmHa_gold[[\"Age_max\", \"TenureCalculated_max\", \"Profitability_sum\", \"ProfitabilityCalculated\",\\\n",
    "                                      'ClaimCost_sum', 'Premium_sum', 'PolicyId_count','IntegralityCalculated2',\\\n",
    "                                      'DirectDebit_max', 'IntermediatedPolicy_max', 'PersonalDataProtectionBool_max','LossRatio_max']])\n",
    "export.to_excel('../03. Exportaciones/exp_segmHa_gold.xlsx', engine='xlsxwriter') "
   ]
  },
  {
   "cell_type": "code",
   "execution_count": 162,
   "metadata": {},
   "outputs": [],
   "source": [
    "export = describe_new(exp_segmHa_silver[[\"Age_max\", \"TenureCalculated_max\", \"Profitability_sum\", \"ProfitabilityCalculated\",\\\n",
    "                                        'ClaimCost_sum', 'Premium_sum', 'PolicyId_count','IntegralityCalculated2',\\\n",
    "                                        'DirectDebit_max', 'IntermediatedPolicy_max', 'PersonalDataProtectionBool_max','LossRatio_max']])\n",
    "export.to_excel('../03. Exportaciones/exp_segmHa_silver.xlsx', engine='xlsxwriter') "
   ]
  },
  {
   "cell_type": "markdown",
   "metadata": {},
   "source": [
    "# 4.15 Extra Simulation 1"
   ]
  },
  {
   "cell_type": "code",
   "execution_count": 142,
   "metadata": {},
   "outputs": [
    {
     "data": {
      "text/plain": [
       "Index(['CustomerId', 'Premium_sum', 'Premium_min', 'Premium_max',\n",
       "       'PolicyId_count', 'Age_max', 'Tenure_max', 'TenureCalculated_max',\n",
       "       'Gender_first', 'Integrality_first', 'Claim_max', 'NClaims_sum',\n",
       "       'ClaimCost_sum', 'Profitability_sum', 'PersonalDataProtectionBool_max',\n",
       "       'DirectDebit_max', 'DirectDebit_min', 'IntermediatedPolicy_max',\n",
       "       'EffectiveDate_min', 'LossRatio_max', 'ProfitabilityCalculated',\n",
       "       'IntegralityCalculated', 'ContractChannel_first', 'CheckProfitability',\n",
       "       'SegmE1', 'SegmE2', 'SegmE', 'SegmF1', 'SegmF2', 'SegmF', 'SegmG1',\n",
       "       'SegmG2', 'SegmG'],\n",
       "      dtype='object')"
      ]
     },
     "execution_count": 142,
     "metadata": {},
     "output_type": "execute_result"
    }
   ],
   "source": [
    "clientespart.columns"
   ]
  },
  {
   "cell_type": "code",
   "execution_count": 77,
   "metadata": {},
   "outputs": [
    {
     "data": {
      "text/plain": [
       "(2389, 27)"
      ]
     },
     "execution_count": 77,
     "metadata": {},
     "output_type": "execute_result"
    }
   ],
   "source": [
    "#####################################\n",
    "#######   SIMULATION  XtrA (15)  ########\n",
    "#####################################\n",
    "#Platinum\n",
    "clientespart['SegmXtrA1'] = np.where((clientespart['Premium_sum'] > 800) & (clientespart['NClaims_sum'] == 0) &\\\n",
    "                                     (clientespart['PolicyId_count'] >=3), 'Platino', 'Plata')\n",
    "clientespart[(clientespart['SegmXtrA1'] == 'Platino')].shape"
   ]
  },
  {
   "cell_type": "code",
   "execution_count": 78,
   "metadata": {},
   "outputs": [
    {
     "data": {
      "text/plain": [
       "(10232, 28)"
      ]
     },
     "execution_count": 78,
     "metadata": {},
     "output_type": "execute_result"
    }
   ],
   "source": [
    "#Gold\n",
    "clientespart['SegmXtrA2'] = np.where((clientespart['SegmXtrA1'] != 'Platino') & (clientespart['Premium_sum'] > 500) &\\\n",
    "                                     (clientespart['NClaims_sum'] <= 1) & (clientespart['PolicyId_count'] >=2),\\\n",
    "                                     'Oro', 'Plata')\n",
    "clientespart[(clientespart['SegmXtrA2'] == 'Oro')].shape"
   ]
  },
  {
   "cell_type": "code",
   "execution_count": 79,
   "metadata": {},
   "outputs": [],
   "source": [
    "#Creation of variable SegmXtrA\n",
    "conditions = [\n",
    "    (clientespart['SegmXtrA1'] == 'Platino'),\n",
    "    (clientespart['SegmXtrA2'] == 'Oro')]\n",
    "choices = ['Platinum', 'Gold']\n",
    "clientespart['SegmXtrA'] = np.select(conditions, choices, default='Silver')"
   ]
  },
  {
   "cell_type": "code",
   "execution_count": 80,
   "metadata": {},
   "outputs": [
    {
     "name": "stdout",
     "output_type": "stream",
     "text": [
      "Platinum shape: (2389, 29) \n",
      "Gold shape: (10232, 29) \n",
      "Silver shape: (106960, 29)\n"
     ]
    }
   ],
   "source": [
    "segmXtrA_platinum = clientespart[(clientespart['SegmXtrA'] == 'Platinum')].shape\n",
    "segmXtrA_gold = clientespart[(clientespart['SegmXtrA'] == 'Gold')].shape\n",
    "segmXtrA_silver = clientespart[(clientespart['SegmXtrA'] == 'Silver')].shape\n",
    "\n",
    "print(\"Platinum shape:\", segmXtrA_platinum, \"\\nGold shape:\", segmXtrA_gold, \"\\nSilver shape:\", segmXtrA_silver)"
   ]
  },
  {
   "cell_type": "code",
   "execution_count": 81,
   "metadata": {},
   "outputs": [],
   "source": [
    "exp_segmXtrA_platinum = clientespart[(clientespart['SegmXtrA'] == 'Platinum')]\n",
    "exp_segmXtrA_gold = clientespart[(clientespart['SegmXtrA'] == 'Gold')]\n",
    "exp_segmXtrA_silver = clientespart[(clientespart['SegmXtrA'] == 'Silver')]"
   ]
  },
  {
   "cell_type": "code",
   "execution_count": 168,
   "metadata": {},
   "outputs": [],
   "source": [
    "#Export Univariate analysis\n",
    "export = describe_new(exp_segmXtrA_platinum[[\"Age_max\", \"TenureCalculated_max\", \"Profitability_sum\", \"ProfitabilityCalculated\",\\\n",
    "                                          'ClaimCost_sum', 'Premium_sum', 'PolicyId_count','IntegralityCalculated2',\\\n",
    "                                          'DirectDebit_max', 'IntermediatedPolicy_max', 'PersonalDataProtectionBool_max','LossRatio_max']])\n",
    "export.to_excel('../03. Exportaciones/exp_segmXtrA_platinum.xlsx', engine='xlsxwriter') "
   ]
  },
  {
   "cell_type": "code",
   "execution_count": 169,
   "metadata": {},
   "outputs": [],
   "source": [
    "export = describe_new(exp_segmXtrA_gold[[\"Age_max\", \"TenureCalculated_max\", \"Profitability_sum\", \"ProfitabilityCalculated\",\\\n",
    "                                      'ClaimCost_sum', 'Premium_sum', 'PolicyId_count','IntegralityCalculated2',\\\n",
    "                                      'DirectDebit_max', 'IntermediatedPolicy_max', 'PersonalDataProtectionBool_max','LossRatio_max']])\n",
    "export.to_excel('../03. Exportaciones/exp_segmXtrA_gold.xlsx', engine='xlsxwriter') "
   ]
  },
  {
   "cell_type": "code",
   "execution_count": 170,
   "metadata": {},
   "outputs": [],
   "source": [
    "export = describe_new(exp_segmXtrA_silver[[\"Age_max\", \"TenureCalculated_max\", \"Profitability_sum\", \"ProfitabilityCalculated\",\\\n",
    "                                        'ClaimCost_sum', 'Premium_sum', 'PolicyId_count','IntegralityCalculated2',\\\n",
    "                                        'DirectDebit_max', 'IntermediatedPolicy_max', 'PersonalDataProtectionBool_max','LossRatio_max']])\n",
    "export.to_excel('../03. Exportaciones/exp_segmXtrA_silver.xlsx', engine='xlsxwriter') "
   ]
  },
  {
   "cell_type": "markdown",
   "metadata": {},
   "source": [
    "# 4.16 Extra Simulation 2"
   ]
  },
  {
   "cell_type": "code",
   "execution_count": 56,
   "metadata": {},
   "outputs": [
    {
     "data": {
      "text/plain": [
       "Index(['CustomerId', 'Premium_sum', 'Premium_min', 'Premium_max',\n",
       "       'PolicyId_count', 'Age_max', 'Tenure_max', 'TenureCalculated_max',\n",
       "       'Gender_first', 'Integrality_first', 'Claim_max', 'NClaims_sum',\n",
       "       'ClaimCost_sum', 'Profitability_sum', 'PersonalDataProtectionBool_max',\n",
       "       'DirectDebit_max', 'DirectDebit_min', 'IntermediatedPolicy_max',\n",
       "       'EffectiveDate_min', 'LossRatio_max', 'ProfitabilityCalculated',\n",
       "       'IntegralityCalculated', 'IntegralityCalculated2',\n",
       "       'ContractChannel_first', 'SegmGa1', 'SegmGa2', 'SegmGa', 'SegmHa1',\n",
       "       'SegmHa2', 'SegmXtrA1', 'SegmXtrA2', 'SegmXtrA', 'SegmHa'],\n",
       "      dtype='object')"
      ]
     },
     "execution_count": 56,
     "metadata": {},
     "output_type": "execute_result"
    }
   ],
   "source": [
    "clientespart.columns"
   ]
  },
  {
   "cell_type": "code",
   "execution_count": 15,
   "metadata": {},
   "outputs": [
    {
     "data": {
      "text/plain": [
       "(2526, 30)"
      ]
     },
     "execution_count": 15,
     "metadata": {},
     "output_type": "execute_result"
    }
   ],
   "source": [
    "#####################################\n",
    "#######   SIMULATION  XtrB (16)  ########\n",
    "#####################################\n",
    "#Platinum\n",
    "clientespart['SegmXtrB1'] = np.where((clientespart['Premium_sum'] > 700) & (clientespart['NClaims_sum'] == 0) &\\\n",
    "                                     (clientespart['IntegralityCalculated2'] >=2), 'Platino', 'Plata')\n",
    "clientespart[(clientespart['SegmXtrB1'] == 'Platino')].shape"
   ]
  },
  {
   "cell_type": "code",
   "execution_count": 13,
   "metadata": {},
   "outputs": [
    {
     "data": {
      "text/plain": [
       "(14210, 28)"
      ]
     },
     "execution_count": 13,
     "metadata": {},
     "output_type": "execute_result"
    }
   ],
   "source": [
    "#Gold\n",
    "clientespart['SegmXtrB2'] = np.where((clientespart['SegmXtrB1'] != 'Platino') & (clientespart['Premium_sum'] > 400) &\\\n",
    "                                     (clientespart['NClaims_sum'] <= 1) & (clientespart['PolicyId_count'] >=2),\\\n",
    "                                     'Oro', 'Plata')\n",
    "clientespart[(clientespart['SegmXtrB2'] == 'Oro')].shape"
   ]
  },
  {
   "cell_type": "code",
   "execution_count": 14,
   "metadata": {},
   "outputs": [],
   "source": [
    "#Creation of variable SegmXtrB\n",
    "conditions = [\n",
    "    (clientespart['SegmXtrB1'] == 'Platino'),\n",
    "    (clientespart['SegmXtrB2'] == 'Oro')]\n",
    "choices = ['Platinum', 'Gold']\n",
    "clientespart['SegmXtrB'] = np.select(conditions, choices, default='Silver')"
   ]
  },
  {
   "cell_type": "code",
   "execution_count": 15,
   "metadata": {},
   "outputs": [
    {
     "name": "stdout",
     "output_type": "stream",
     "text": [
      "Platinum shape: (2526, 29) \n",
      "Gold shape: (14210, 29) \n",
      "Silver shape: (102845, 29)\n"
     ]
    }
   ],
   "source": [
    "segmXtrB_platinum = clientespart[(clientespart['SegmXtrB'] == 'Platinum')].shape\n",
    "segmXtrB_gold = clientespart[(clientespart['SegmXtrB'] == 'Gold')].shape\n",
    "segmXtrB_silver = clientespart[(clientespart['SegmXtrB'] == 'Silver')].shape\n",
    "\n",
    "print(\"Platinum shape:\", segmXtrB_platinum, \"\\nGold shape:\", segmXtrB_gold, \"\\nSilver shape:\", segmXtrB_silver)"
   ]
  },
  {
   "cell_type": "code",
   "execution_count": 16,
   "metadata": {},
   "outputs": [],
   "source": [
    "exp_segmXtrB_platinum = clientespart[(clientespart['SegmXtrB'] == 'Platinum')]\n",
    "exp_segmXtrB_gold = clientespart[(clientespart['SegmXtrB'] == 'Gold')]\n",
    "exp_segmXtrB_silver = clientespart[(clientespart['SegmXtrB'] == 'Silver')]"
   ]
  },
  {
   "cell_type": "code",
   "execution_count": 176,
   "metadata": {},
   "outputs": [],
   "source": [
    "#Export Univariate analysis\n",
    "export = describe_new(exp_segmXtrB_platinum[[\"Age_max\", \"TenureCalculated_max\", \"Profitability_sum\", \"ProfitabilityCalculated\",\\\n",
    "                                          'ClaimCost_sum', 'Premium_sum', 'PolicyId_count','IntegralityCalculated2',\\\n",
    "                                          'DirectDebit_max', 'IntermediatedPolicy_max', 'PersonalDataProtectionBool_max','LossRatio_max']])\n",
    "export.to_excel('../03. Exportaciones/exp_segmXtrB_platinum.xlsx', engine='xlsxwriter') "
   ]
  },
  {
   "cell_type": "code",
   "execution_count": 177,
   "metadata": {},
   "outputs": [],
   "source": [
    "export = describe_new(exp_segmXtrB_gold[[\"Age_max\", \"TenureCalculated_max\", \"Profitability_sum\", \"ProfitabilityCalculated\",\\\n",
    "                                      'ClaimCost_sum', 'Premium_sum', 'PolicyId_count','IntegralityCalculated2',\\\n",
    "                                      'DirectDebit_max', 'IntermediatedPolicy_max', 'PersonalDataProtectionBool_max','LossRatio_max']])\n",
    "export.to_excel('../03. Exportaciones/exp_segmXtrB_gold.xlsx', engine='xlsxwriter') "
   ]
  },
  {
   "cell_type": "code",
   "execution_count": 178,
   "metadata": {},
   "outputs": [],
   "source": [
    "export = describe_new(exp_segmXtrB_silver[[\"Age_max\", \"TenureCalculated_max\", \"Profitability_sum\", \"ProfitabilityCalculated\",\\\n",
    "                                        'ClaimCost_sum', 'Premium_sum', 'PolicyId_count','IntegralityCalculated2',\\\n",
    "                                        'DirectDebit_max', 'IntermediatedPolicy_max', 'PersonalDataProtectionBool_max','LossRatio_max']])\n",
    "export.to_excel('../03. Exportaciones/exp_segmXtrB_silver.xlsx', engine='xlsxwriter') "
   ]
  },
  {
   "cell_type": "code",
   "execution_count": 10,
   "metadata": {},
   "outputs": [
    {
     "data": {
      "text/plain": [
       "1    77573\n",
       "4    16562\n",
       "3     4468\n",
       "2     4242\n",
       "Name: LossRatioCalculated_max, dtype: int64"
      ]
     },
     "execution_count": 10,
     "metadata": {},
     "output_type": "execute_result"
    }
   ],
   "source": [
    "#Loss Ratio distribution\n",
    "#exp_segmXtrB_platinum.LossRatioCalculated_max.value_counts() # Platino: 1-> 2526\n",
    "#exp_segmXtrB_gold.LossRatioCalculated_max.value_counts() # Oro: 1 -> 10392 // 2 -> 703 // 3 -> 712 // 4 -> 2403\n",
    "exp_segmXtrB_silver.LossRatioCalculated_max.value_counts() # Plata: 1 -> 77573 // 2 -> 4242 // 3 -> 4468 // 4 -> 16562"
   ]
  },
  {
   "cell_type": "markdown",
   "metadata": {},
   "source": [
    "# 4.17 Extra Simulation 3"
   ]
  },
  {
   "cell_type": "code",
   "execution_count": 56,
   "metadata": {},
   "outputs": [
    {
     "data": {
      "text/plain": [
       "Index(['CustomerId', 'Premium_sum', 'Premium_min', 'Premium_max',\n",
       "       'PolicyId_count', 'Age_max', 'Tenure_max', 'TenureCalculated_max',\n",
       "       'Gender_first', 'Integrality_first', 'Claim_max', 'NClaims_sum',\n",
       "       'ClaimCost_sum', 'Profitability_sum', 'PersonalDataProtectionBool_max',\n",
       "       'DirectDebit_max', 'DirectDebit_min', 'IntermediatedPolicy_max',\n",
       "       'EffectiveDate_min', 'LossRatio_max', 'ProfitabilityCalculated',\n",
       "       'IntegralityCalculated', 'IntegralityCalculated2',\n",
       "       'ContractChannel_first', 'SegmGa1', 'SegmGa2', 'SegmGa', 'SegmHa1',\n",
       "       'SegmHa2', 'SegmXtrA1', 'SegmXtrA2', 'SegmXtrA', 'SegmHa'],\n",
       "      dtype='object')"
      ]
     },
     "execution_count": 56,
     "metadata": {},
     "output_type": "execute_result"
    }
   ],
   "source": [
    "clientespart.columns"
   ]
  },
  {
   "cell_type": "code",
   "execution_count": 9,
   "metadata": {},
   "outputs": [
    {
     "data": {
      "text/plain": [
       "(2432, 30)"
      ]
     },
     "execution_count": 9,
     "metadata": {},
     "output_type": "execute_result"
    }
   ],
   "source": [
    "#####################################\n",
    "#######   SIMULATION  XtrC (2)  ########\n",
    "#####################################\n",
    "#Platinum\n",
    "clientespart['SegmXtrC1'] = np.where((clientespart['LossRatio_max'] < 0.1) & (clientespart['TenureCalculated_max'] > 24) &\\\n",
    "                                     (clientespart['PolicyId_count'] >= 4), 'Platino', 'Plata')\n",
    "clientespart[(clientespart['SegmXtrC1'] == 'Platino')].shape"
   ]
  },
  {
   "cell_type": "code",
   "execution_count": 180,
   "metadata": {},
   "outputs": [
    {
     "data": {
      "text/plain": [
       "(10766, 76)"
      ]
     },
     "execution_count": 180,
     "metadata": {},
     "output_type": "execute_result"
    }
   ],
   "source": [
    "#Gold\n",
    "clientespart['SegmXtrC2'] = np.where((clientespart['SegmXtrC1'] != 'Platino') & (clientespart['LossRatio_max'] < 700) &\\\n",
    "                                     (clientespart['TenureCalculated_max'] > 12) & (clientespart['PolicyId_count'] >= 3),\\\n",
    "                                     'Oro', 'Plata')\n",
    "clientespart[(clientespart['SegmXtrC2'] == 'Oro')].shape"
   ]
  },
  {
   "cell_type": "code",
   "execution_count": 181,
   "metadata": {},
   "outputs": [],
   "source": [
    "#Creation of variable SegmXtrC\n",
    "conditions = [\n",
    "    (clientespart['SegmXtrC1'] == 'Platino'),\n",
    "    (clientespart['SegmXtrC2'] == 'Oro')]\n",
    "choices = ['Platinum', 'Gold']\n",
    "clientespart['SegmXtrC'] = np.select(conditions, choices, default='Silver')"
   ]
  },
  {
   "cell_type": "code",
   "execution_count": 182,
   "metadata": {},
   "outputs": [
    {
     "name": "stdout",
     "output_type": "stream",
     "text": [
      "Platinum shape: (2432, 76) \n",
      "Gold shape: (10766, 76) \n",
      "Silver shape: (106383, 76)\n"
     ]
    }
   ],
   "source": [
    "segmXtrC_platinum = clientespart[(clientespart['SegmXtrC'] == 'Platinum')].shape\n",
    "segmXtrC_gold = clientespart[(clientespart['SegmXtrC'] == 'Gold')].shape\n",
    "segmXtrC_silver = clientespart[(clientespart['SegmXtrC'] == 'Silver')].shape\n",
    "\n",
    "print(\"Platinum shape:\", segmXtrC_platinum, \"\\nGold shape:\", segmXtrC_gold, \"\\nSilver shape:\", segmXtrC_silver)"
   ]
  },
  {
   "cell_type": "code",
   "execution_count": 183,
   "metadata": {},
   "outputs": [],
   "source": [
    "exp_segmXtrC_platinum = clientespart[(clientespart['SegmXtrC'] == 'Platinum')]\n",
    "exp_segmXtrC_gold = clientespart[(clientespart['SegmXtrC'] == 'Gold')]\n",
    "exp_segmXtrC_silver = clientespart[(clientespart['SegmXtrC'] == 'Silver')]"
   ]
  },
  {
   "cell_type": "code",
   "execution_count": 184,
   "metadata": {},
   "outputs": [],
   "source": [
    "#Export Univariate analysis\n",
    "export = describe_new(exp_segmXtrC_platinum[[\"Age_max\", \"TenureCalculated_max\", \"Profitability_sum\", \"ProfitabilityCalculated\",\\\n",
    "                                          'ClaimCost_sum', 'Premium_sum', 'PolicyId_count','IntegralityCalculated2',\\\n",
    "                                          'DirectDebit_max', 'IntermediatedPolicy_max', 'PersonalDataProtectionBool_max','LossRatio_max']])\n",
    "export.to_excel('../03. Exportaciones/exp_segmXtrC_platinum.xlsx', engine='xlsxwriter') "
   ]
  },
  {
   "cell_type": "code",
   "execution_count": 185,
   "metadata": {},
   "outputs": [],
   "source": [
    "export = describe_new(exp_segmXtrC_gold[[\"Age_max\", \"TenureCalculated_max\", \"Profitability_sum\", \"ProfitabilityCalculated\",\\\n",
    "                                      'ClaimCost_sum', 'Premium_sum', 'PolicyId_count','IntegralityCalculated2',\\\n",
    "                                      'DirectDebit_max', 'IntermediatedPolicy_max', 'PersonalDataProtectionBool_max','LossRatio_max']])\n",
    "export.to_excel('../03. Exportaciones/exp_segmXtrC_gold.xlsx', engine='xlsxwriter') "
   ]
  },
  {
   "cell_type": "code",
   "execution_count": 186,
   "metadata": {},
   "outputs": [],
   "source": [
    "export = describe_new(exp_segmXtrC_silver[[\"Age_max\", \"TenureCalculated_max\", \"Profitability_sum\", \"ProfitabilityCalculated\",\\\n",
    "                                        'ClaimCost_sum', 'Premium_sum', 'PolicyId_count','IntegralityCalculated2',\\\n",
    "                                        'DirectDebit_max', 'IntermediatedPolicy_max', 'PersonalDataProtectionBool_max','LossRatio_max']])\n",
    "export.to_excel('../03. Exportaciones/exp_segmXtrC_silver.xlsx', engine='xlsxwriter') "
   ]
  },
  {
   "cell_type": "markdown",
   "metadata": {},
   "source": [
    "# 4.18 Simulation and profiling 9"
   ]
  },
  {
   "cell_type": "code",
   "execution_count": 154,
   "metadata": {},
   "outputs": [
    {
     "data": {
      "text/plain": [
       "Index(['CustomerId', 'Premium_sum', 'Premium_min', 'Premium_max',\n",
       "       'PolicyId_count', 'Age_max', 'Tenure_max', 'TenureCalculated_max',\n",
       "       'Gender_first', 'Integrality_first', 'Claim_max', 'NClaims_sum',\n",
       "       'ClaimCost_sum', 'Profitability_sum', 'PersonalDataProtectionBool_max',\n",
       "       'DirectDebit_max', 'DirectDebit_min', 'IntermediatedPolicy_max',\n",
       "       'EffectiveDate_min', 'LossRatio_max', 'ProfitabilityCalculated',\n",
       "       'IntegralityCalculated', 'ContractChannel_first', 'CheckProfitability',\n",
       "       'SegmE1', 'SegmE2', 'SegmE', 'SegmF1', 'SegmF2', 'SegmF', 'SegmG1',\n",
       "       'SegmG2', 'SegmG', 'SegmH1', 'SegmH2', 'SegmH'],\n",
       "      dtype='object')"
      ]
     },
     "execution_count": 154,
     "metadata": {},
     "output_type": "execute_result"
    }
   ],
   "source": [
    "clientespart.columns"
   ]
  },
  {
   "cell_type": "code",
   "execution_count": 187,
   "metadata": {},
   "outputs": [
    {
     "data": {
      "text/plain": [
       "(5448, 77)"
      ]
     },
     "execution_count": 187,
     "metadata": {},
     "output_type": "execute_result"
    }
   ],
   "source": [
    "#####################################\n",
    "#######   SIMULATION  I (18)  ########\n",
    "#####################################\n",
    "#Platinum\n",
    "clientespart['SegmI1'] = np.where(((clientespart['Premium_sum'] >= 1000) & (clientespart['TenureCalculated_max'] >= 60)) | ((clientespart['Premium_sum'] >=1000) & (clientespart['PolicyId_count'] >3)), 'Platino', 'Plata')\n",
    "clientespart[(clientespart['SegmI1'] == 'Platino')].shape"
   ]
  },
  {
   "cell_type": "code",
   "execution_count": 188,
   "metadata": {},
   "outputs": [
    {
     "data": {
      "text/plain": [
       "(16262, 78)"
      ]
     },
     "execution_count": 188,
     "metadata": {},
     "output_type": "execute_result"
    }
   ],
   "source": [
    "#Gold\n",
    "clientespart['SegmI2'] = np.where((clientespart['SegmI1'] != 'Platino') &(((clientespart['Premium_sum'] >= 500) & (clientespart['TenureCalculated_max'] >= 24)) | ((clientespart['Premium_sum'] >=500) & (clientespart['PolicyId_count'] >=2))), 'Oro', 'Plata')\n",
    "clientespart[(clientespart['SegmI2'] == 'Oro')].shape"
   ]
  },
  {
   "cell_type": "code",
   "execution_count": 189,
   "metadata": {},
   "outputs": [],
   "source": [
    "#Creation of variable SegmI\n",
    "conditions = [\n",
    "    (clientespart['SegmI1'] == 'Platino'),\n",
    "    (clientespart['SegmI2'] == 'Oro')]\n",
    "choices = ['Platinum', 'Gold']\n",
    "clientespart['SegmI'] = np.select(conditions, choices, default='Silver')"
   ]
  },
  {
   "cell_type": "code",
   "execution_count": 190,
   "metadata": {},
   "outputs": [
    {
     "name": "stdout",
     "output_type": "stream",
     "text": [
      "Platinum shape: (5448, 79) \n",
      "Gold shape: (16262, 79) \n",
      "Silver shape: (97871, 79)\n"
     ]
    }
   ],
   "source": [
    "segmI_platinum = clientespart[(clientespart['SegmI'] == 'Platinum')].shape\n",
    "segmI_gold = clientespart[(clientespart['SegmI'] == 'Gold')].shape\n",
    "segmI_silver = clientespart[(clientespart['SegmI'] == 'Silver')].shape\n",
    "\n",
    "print(\"Platinum shape:\", segmI_platinum, \"\\nGold shape:\", segmI_gold, \"\\nSilver shape:\", segmI_silver)"
   ]
  },
  {
   "cell_type": "code",
   "execution_count": 191,
   "metadata": {},
   "outputs": [],
   "source": [
    "exp_segmI_platinum = clientespart[(clientespart['SegmI'] == 'Platinum')]\n",
    "exp_segmI_gold = clientespart[(clientespart['SegmI'] == 'Gold')]\n",
    "exp_segmI_silver = clientespart[(clientespart['SegmI'] == 'Silver')]"
   ]
  },
  {
   "cell_type": "code",
   "execution_count": 192,
   "metadata": {},
   "outputs": [],
   "source": [
    "#Export Univariate analysis\n",
    "export = describe_new(exp_segmI_platinum[[\"Age_max\", \"TenureCalculated_max\", \"Profitability_sum\", \"ProfitabilityCalculated\",\\\n",
    "                                          'ClaimCost_sum', 'Premium_sum', 'PolicyId_count','IntegralityCalculated',\\\n",
    "                                          'DirectDebit_max', 'IntermediatedPolicy_max', 'PersonalDataProtectionBool_max','LossRatio_max']])\n",
    "export.to_excel('../03. Exportaciones/exp_segmI_platinum.xlsx', engine='xlsxwriter') "
   ]
  },
  {
   "cell_type": "code",
   "execution_count": 193,
   "metadata": {},
   "outputs": [],
   "source": [
    "export = describe_new(exp_segmI_gold[[\"Age_max\", \"TenureCalculated_max\", \"Profitability_sum\", \"ProfitabilityCalculated\",\\\n",
    "                                      'ClaimCost_sum', 'Premium_sum', 'PolicyId_count','IntegralityCalculated',\\\n",
    "                                      'DirectDebit_max', 'IntermediatedPolicy_max', 'PersonalDataProtectionBool_max','LossRatio_max']])\n",
    "export.to_excel('../03. Exportaciones/exp_segmI_gold.xlsx', engine='xlsxwriter') "
   ]
  },
  {
   "cell_type": "code",
   "execution_count": 194,
   "metadata": {},
   "outputs": [],
   "source": [
    "export = describe_new(exp_segmI_silver[[\"Age_max\", \"TenureCalculated_max\", \"Profitability_sum\", \"ProfitabilityCalculated\",\\\n",
    "                                        'ClaimCost_sum', 'Premium_sum', 'PolicyId_count','IntegralityCalculated',\\\n",
    "                                        'DirectDebit_max', 'IntermediatedPolicy_max', 'PersonalDataProtectionBool_max','LossRatio_max']])\n",
    "export.to_excel('../03. Exportaciones/exp_segmI_silver.xlsx', engine='xlsxwriter') "
   ]
  },
  {
   "cell_type": "markdown",
   "metadata": {},
   "source": [
    "# 4.19 Simulation and profiling 9a"
   ]
  },
  {
   "cell_type": "code",
   "execution_count": 73,
   "metadata": {},
   "outputs": [
    {
     "data": {
      "text/plain": [
       "Index(['CustomerId', 'Premium_sum', 'Premium_min', 'Premium_max',\n",
       "       'PolicyId_count', 'Age_max', 'Tenure_max', 'TenureCalculated_max',\n",
       "       'Gender_first', 'Integrality_first', 'Claim_max', 'NClaims_sum',\n",
       "       'ClaimCost_sum', 'Profitability_sum', 'PersonalDataProtectionBool_max',\n",
       "       'DirectDebit_max', 'DirectDebit_min', 'IntermediatedPolicy_max',\n",
       "       'EffectiveDate_min', 'LossRatio_max', 'ProfitabilityCalculated',\n",
       "       'IntegralityCalculated', 'IntegralityCalculated2',\n",
       "       'ContractChannel_first', 'SegmFb1', 'SegmFb2', 'SegmFb', 'SegmEa1',\n",
       "       'SegmEb1', 'SegmEb2', 'SegmFa1', 'SegmFa2', 'SegmHa1', 'SegmXtrB1',\n",
       "       'SegmXtrB2', 'SegmJa1', 'SegmJa2', 'SegmXtrD1', 'SegmXtrD2', 'SegmKa1',\n",
       "       'SegmKa2', 'SegmFa', 'SegmHa2', 'SegmHa', 'SegmXtrB'],\n",
       "      dtype='object')"
      ]
     },
     "execution_count": 73,
     "metadata": {},
     "output_type": "execute_result"
    }
   ],
   "source": [
    "clientespart.columns"
   ]
  },
  {
   "cell_type": "code",
   "execution_count": 195,
   "metadata": {},
   "outputs": [
    {
     "data": {
      "text/plain": [
       "(2505, 80)"
      ]
     },
     "execution_count": 195,
     "metadata": {},
     "output_type": "execute_result"
    }
   ],
   "source": [
    "#####################################\n",
    "#######   SIMULATION  Ia (19)  ########\n",
    "#####################################\n",
    "#Platinum\n",
    "clientespart['SegmIa1'] = np.where(((clientespart['Premium_sum'] >= 1500) & (clientespart['TenureCalculated_max'] >= 60)) |\\\n",
    "                                   ((clientespart['Premium_sum'] >=1500) & (clientespart['PolicyId_count'] >= 5)),\\\n",
    "                                   'Platino', 'Plata')\n",
    "clientespart[(clientespart['SegmIa1'] == 'Platino')].shape"
   ]
  },
  {
   "cell_type": "code",
   "execution_count": 196,
   "metadata": {},
   "outputs": [
    {
     "data": {
      "text/plain": [
       "(11503, 81)"
      ]
     },
     "execution_count": 196,
     "metadata": {},
     "output_type": "execute_result"
    }
   ],
   "source": [
    "#Gold\n",
    "clientespart['SegmIa2'] = np.where((clientespart['SegmIa1'] != 'Platino') &\\\n",
    "                                   (((clientespart['Premium_sum'] >= 650) & (clientespart['TenureCalculated_max'] >= 24)) |\\\n",
    "                                    ((clientespart['Premium_sum'] >=650) & (clientespart['PolicyId_count'] >= 3))),\\\n",
    "                                   'Oro', 'Plata')\n",
    "clientespart[(clientespart['SegmIa2'] == 'Oro')].shape"
   ]
  },
  {
   "cell_type": "code",
   "execution_count": 197,
   "metadata": {},
   "outputs": [],
   "source": [
    "#Creation of variable SegmIa\n",
    "conditions = [\n",
    "    (clientespart['SegmIa1'] == 'Platino'),\n",
    "    (clientespart['SegmIa2'] == 'Oro')]\n",
    "choices = ['Platinum', 'Gold']\n",
    "clientespart['SegmIa'] = np.select(conditions, choices, default='Silver')"
   ]
  },
  {
   "cell_type": "code",
   "execution_count": 198,
   "metadata": {},
   "outputs": [
    {
     "name": "stdout",
     "output_type": "stream",
     "text": [
      "Platinum shape: (2505, 82) \n",
      "Gold shape: (11503, 82) \n",
      "Silver shape: (105573, 82)\n"
     ]
    }
   ],
   "source": [
    "segmIa_platinum = clientespart[(clientespart['SegmIa'] == 'Platinum')].shape\n",
    "segmIa_gold = clientespart[(clientespart['SegmIa'] == 'Gold')].shape\n",
    "segmIa_silver = clientespart[(clientespart['SegmIa'] == 'Silver')].shape\n",
    "\n",
    "print(\"Platinum shape:\", segmIa_platinum, \"\\nGold shape:\", segmIa_gold, \"\\nSilver shape:\", segmIa_silver)"
   ]
  },
  {
   "cell_type": "code",
   "execution_count": 199,
   "metadata": {},
   "outputs": [],
   "source": [
    "exp_segmIa_platinum = clientespart[(clientespart['SegmIa'] == 'Platinum')]\n",
    "exp_segmIa_gold = clientespart[(clientespart['SegmIa'] == 'Gold')]\n",
    "exp_segmIa_silver = clientespart[(clientespart['SegmIa'] == 'Silver')]"
   ]
  },
  {
   "cell_type": "code",
   "execution_count": 200,
   "metadata": {},
   "outputs": [],
   "source": [
    "#Export Univariate analysis\n",
    "export = describe_new(exp_segmIa_platinum[[\"Age_max\", \"TenureCalculated_max\", \"Profitability_sum\", \"ProfitabilityCalculated\",\\\n",
    "                                          'ClaimCost_sum', 'Premium_sum', 'PolicyId_count','IntegralityCalculated2',\\\n",
    "                                          'DirectDebit_max', 'IntermediatedPolicy_max', 'PersonalDataProtectionBool_max','LossRatio_max']])\n",
    "export.to_excel('../03. Exportaciones/exp_segmIa_platinum.xlsx', engine='xlsxwriter') "
   ]
  },
  {
   "cell_type": "code",
   "execution_count": 201,
   "metadata": {},
   "outputs": [],
   "source": [
    "export = describe_new(exp_segmIa_gold[[\"Age_max\", \"TenureCalculated_max\", \"Profitability_sum\", \"ProfitabilityCalculated\",\\\n",
    "                                      'ClaimCost_sum', 'Premium_sum', 'PolicyId_count','IntegralityCalculated2',\\\n",
    "                                      'DirectDebit_max', 'IntermediatedPolicy_max', 'PersonalDataProtectionBool_max','LossRatio_max']])\n",
    "export.to_excel('../03. Exportaciones/exp_segmIa_gold.xlsx', engine='xlsxwriter') "
   ]
  },
  {
   "cell_type": "code",
   "execution_count": 202,
   "metadata": {},
   "outputs": [],
   "source": [
    "export = describe_new(exp_segmIa_silver[[\"Age_max\", \"TenureCalculated_max\", \"Profitability_sum\", \"ProfitabilityCalculated\",\\\n",
    "                                        'ClaimCost_sum', 'Premium_sum', 'PolicyId_count','IntegralityCalculated2',\\\n",
    "                                        'DirectDebit_max', 'IntermediatedPolicy_max', 'PersonalDataProtectionBool_max','LossRatio_max']])\n",
    "export.to_excel('../03. Exportaciones/exp_segmIa_silver.xlsx', engine='xlsxwriter') "
   ]
  },
  {
   "cell_type": "markdown",
   "metadata": {},
   "source": [
    "# 4.20 Simulation and profiling 10"
   ]
  },
  {
   "cell_type": "code",
   "execution_count": 189,
   "metadata": {},
   "outputs": [
    {
     "data": {
      "text/plain": [
       "Index(['CustomerId', 'Premium_sum', 'Premium_min', 'Premium_max',\n",
       "       'PolicyId_count', 'Age_max', 'Tenure_max', 'TenureCalculated_max',\n",
       "       'Gender_first', 'Integrality_first', 'Claim_max', 'NClaims_sum',\n",
       "       'ClaimCost_sum', 'Profitability_sum', 'PersonalDataProtectionBool_max',\n",
       "       'DirectDebit_max', 'DirectDebit_min', 'IntermediatedPolicy_max',\n",
       "       'EffectiveDate_min', 'LossRatio_max', 'ProfitabilityCalculated',\n",
       "       'IntegralityCalculated', 'ContractChannel_first', 'CheckProfitability',\n",
       "       'SegmE1', 'SegmE2', 'SegmE', 'SegmF1', 'SegmF2', 'SegmF', 'SegmG1',\n",
       "       'SegmG2', 'SegmG', 'SegmH1', 'SegmH2', 'SegmH', 'SegmI1', 'SegmI2',\n",
       "       'SegmI'],\n",
       "      dtype='object')"
      ]
     },
     "execution_count": 189,
     "metadata": {},
     "output_type": "execute_result"
    }
   ],
   "source": [
    "clientespart.columns"
   ]
  },
  {
   "cell_type": "code",
   "execution_count": 203,
   "metadata": {},
   "outputs": [
    {
     "data": {
      "text/plain": [
       "(5796, 83)"
      ]
     },
     "execution_count": 203,
     "metadata": {},
     "output_type": "execute_result"
    }
   ],
   "source": [
    "#####################################\n",
    "#######   SIMULATION  J (10)  ########\n",
    "#####################################\n",
    "#Platinum\n",
    "clientespart['SegmJ1'] = np.where(((clientespart['Profitability_sum'] >= 2500) & (clientespart['TenureCalculated_max'] >= 60)) | ((clientespart['Profitability_sum'] >=2500) & (clientespart['PolicyId_count'] >4)), 'Platino', 'Plata')\n",
    "clientespart[(clientespart['SegmJ1'] == 'Platino')].shape"
   ]
  },
  {
   "cell_type": "code",
   "execution_count": 204,
   "metadata": {},
   "outputs": [
    {
     "data": {
      "text/plain": [
       "(16178, 84)"
      ]
     },
     "execution_count": 204,
     "metadata": {},
     "output_type": "execute_result"
    }
   ],
   "source": [
    "#Gold\n",
    "clientespart['SegmJ2'] = np.where((clientespart['SegmJ1'] != 'Platino') &(((clientespart['Profitability_sum'] >= 1200) & (clientespart['TenureCalculated_max'] >= 36)) | ((clientespart['Premium_sum'] >=1200) & (clientespart['PolicyId_count'] >=2))), 'Oro', 'Plata')\n",
    "clientespart[(clientespart['SegmJ2'] == 'Oro')].shape"
   ]
  },
  {
   "cell_type": "code",
   "execution_count": 205,
   "metadata": {},
   "outputs": [],
   "source": [
    "#Creation of variable SegmJ\n",
    "conditions = [\n",
    "    (clientespart['SegmJ1'] == 'Platino'),\n",
    "    (clientespart['SegmJ2'] == 'Oro')]\n",
    "choices = ['Platinum', 'Gold']\n",
    "clientespart['SegmJ'] = np.select(conditions, choices, default='Silver')"
   ]
  },
  {
   "cell_type": "code",
   "execution_count": 206,
   "metadata": {},
   "outputs": [
    {
     "name": "stdout",
     "output_type": "stream",
     "text": [
      "Platinum shape: (5796, 85) \n",
      "Gold shape: (16178, 85) \n",
      "Silver shape: (97607, 85)\n"
     ]
    }
   ],
   "source": [
    "segmJ_platinum = clientespart[(clientespart['SegmJ'] == 'Platinum')].shape\n",
    "segmJ_gold = clientespart[(clientespart['SegmJ'] == 'Gold')].shape\n",
    "segmJ_silver = clientespart[(clientespart['SegmJ'] == 'Silver')].shape\n",
    "\n",
    "print(\"Platinum shape:\", segmJ_platinum, \"\\nGold shape:\", segmJ_gold, \"\\nSilver shape:\", segmJ_silver)"
   ]
  },
  {
   "cell_type": "code",
   "execution_count": 207,
   "metadata": {},
   "outputs": [],
   "source": [
    "exp_segmJ_platinum = clientespart[(clientespart['SegmJ'] == 'Platinum')]\n",
    "exp_segmJ_gold = clientespart[(clientespart['SegmJ'] == 'Gold')]\n",
    "exp_segmJ_silver = clientespart[(clientespart['SegmJ'] == 'Silver')]"
   ]
  },
  {
   "cell_type": "code",
   "execution_count": 208,
   "metadata": {},
   "outputs": [],
   "source": [
    "#Export Univariate analysis\n",
    "export = describe_new(exp_segmJ_platinum[[\"Age_max\", \"TenureCalculated_max\", \"Profitability_sum\", \"ProfitabilityCalculated\",\\\n",
    "                                          'ClaimCost_sum', 'Premium_sum', 'PolicyId_count','IntegralityCalculated',\\\n",
    "                                          'DirectDebit_max', 'IntermediatedPolicy_max', 'PersonalDataProtectionBool_max','LossRatio_max']])\n",
    "export.to_excel('../03. Exportaciones/exp_segmJ_platinum.xlsx', engine='xlsxwriter') "
   ]
  },
  {
   "cell_type": "code",
   "execution_count": 209,
   "metadata": {},
   "outputs": [],
   "source": [
    "export = describe_new(exp_segmJ_gold[[\"Age_max\", \"TenureCalculated_max\", \"Profitability_sum\", \"ProfitabilityCalculated\",\\\n",
    "                                      'ClaimCost_sum', 'Premium_sum', 'PolicyId_count','IntegralityCalculated',\\\n",
    "                                      'DirectDebit_max', 'IntermediatedPolicy_max', 'PersonalDataProtectionBool_max','LossRatio_max']])\n",
    "export.to_excel('../03. Exportaciones/exp_segmJ_gold.xlsx', engine='xlsxwriter') "
   ]
  },
  {
   "cell_type": "code",
   "execution_count": 210,
   "metadata": {},
   "outputs": [],
   "source": [
    "export = describe_new(exp_segmJ_silver[[\"Age_max\", \"TenureCalculated_max\", \"Profitability_sum\", \"ProfitabilityCalculated\",\\\n",
    "                                        'ClaimCost_sum', 'Premium_sum', 'PolicyId_count','IntegralityCalculated',\\\n",
    "                                        'DirectDebit_max', 'IntermediatedPolicy_max', 'PersonalDataProtectionBool_max','LossRatio_max']])\n",
    "export.to_excel('../03. Exportaciones/exp_segmJ_silver.xlsx', engine='xlsxwriter') "
   ]
  },
  {
   "cell_type": "markdown",
   "metadata": {},
   "source": [
    "# 4.21 Simulation and profiling 10a"
   ]
  },
  {
   "cell_type": "code",
   "execution_count": 198,
   "metadata": {},
   "outputs": [
    {
     "data": {
      "text/plain": [
       "Index(['CustomerId', 'Premium_sum', 'Premium_min', 'Premium_max',\n",
       "       'PolicyId_count', 'Age_max', 'Tenure_max', 'TenureCalculated_max',\n",
       "       'Gender_first', 'Integrality_first', 'Claim_max', 'NClaims_sum',\n",
       "       'ClaimCost_sum', 'Profitability_sum', 'PersonalDataProtectionBool_max',\n",
       "       'DirectDebit_max', 'DirectDebit_min', 'IntermediatedPolicy_max',\n",
       "       'EffectiveDate_min', 'LossRatio_max', 'ProfitabilityCalculated',\n",
       "       'IntegralityCalculated', 'IntegralityCalculated2',\n",
       "       'ContractChannel_first', 'SegmGa1', 'SegmGa2', 'SegmGa', 'SegmHa1',\n",
       "       'SegmHa2', 'SegmXtrA1', 'SegmXtrA2', 'SegmXtrA', 'SegmHa', 'SegmXtrB1',\n",
       "       'SegmXtrB2', 'SegmXtrC1', 'SegmXtrC2', 'SegmXtrC', 'SegmXtrB',\n",
       "       'SegmIa1', 'SegmIa2', 'SegmIa', 'SegmJa1', 'SegmJa2'],\n",
       "      dtype='object')"
      ]
     },
     "execution_count": 198,
     "metadata": {},
     "output_type": "execute_result"
    }
   ],
   "source": [
    "clientespart.columns"
   ]
  },
  {
   "cell_type": "code",
   "execution_count": 211,
   "metadata": {},
   "outputs": [
    {
     "data": {
      "text/plain": [
       "(5796, 86)"
      ]
     },
     "execution_count": 211,
     "metadata": {},
     "output_type": "execute_result"
    }
   ],
   "source": [
    "#####################################\n",
    "#######   SIMULATION  Ja (21)  ########\n",
    "#####################################\n",
    "#Platinum\n",
    "clientespart['SegmJa1'] = np.where(((clientespart['Profitability_sum'] >= 2500) & (clientespart['TenureCalculated_max'] >= 60)) |\\\n",
    "                                   ((clientespart['Profitability_sum'] >=2500) & (clientespart['PolicyId_count'] >4)),\\\n",
    "                                   'Platino', 'Plata')\n",
    "clientespart[(clientespart['SegmJa1'] == 'Platino')].shape"
   ]
  },
  {
   "cell_type": "code",
   "execution_count": 212,
   "metadata": {},
   "outputs": [
    {
     "data": {
      "text/plain": [
       "(11934, 87)"
      ]
     },
     "execution_count": 212,
     "metadata": {},
     "output_type": "execute_result"
    }
   ],
   "source": [
    "#Gold\n",
    "clientespart['SegmJa2'] = np.where((clientespart['SegmJa1'] != 'Platino') &\\\n",
    "                                   (((clientespart['Profitability_sum'] >= 1400) & (clientespart['TenureCalculated_max'] >= 36)) |\\\n",
    "                                    ((clientespart['Premium_sum'] >=1400) & (clientespart['PolicyId_count'] >=2))),\\\n",
    "                                   'Oro', 'Plata')\n",
    "clientespart[(clientespart['SegmJa2'] == 'Oro')].shape"
   ]
  },
  {
   "cell_type": "code",
   "execution_count": 213,
   "metadata": {},
   "outputs": [],
   "source": [
    "#Creation of variable SegmJa\n",
    "conditions = [\n",
    "    (clientespart['SegmJa1'] == 'Platino'),\n",
    "    (clientespart['SegmJa2'] == 'Oro')]\n",
    "choices = ['Platinum', 'Gold']\n",
    "clientespart['SegmJa'] = np.select(conditions, choices, default='Silver')"
   ]
  },
  {
   "cell_type": "code",
   "execution_count": 214,
   "metadata": {},
   "outputs": [
    {
     "name": "stdout",
     "output_type": "stream",
     "text": [
      "Platinum shape: (5796, 88) \n",
      "Gold shape: (11934, 88) \n",
      "Silver shape: (101851, 88)\n"
     ]
    }
   ],
   "source": [
    "segmJa_platinum = clientespart[(clientespart['SegmJa'] == 'Platinum')].shape\n",
    "segmJa_gold = clientespart[(clientespart['SegmJa'] == 'Gold')].shape\n",
    "segmJa_silver = clientespart[(clientespart['SegmJa'] == 'Silver')].shape\n",
    "\n",
    "print(\"Platinum shape:\", segmJa_platinum, \"\\nGold shape:\", segmJa_gold, \"\\nSilver shape:\", segmJa_silver)"
   ]
  },
  {
   "cell_type": "code",
   "execution_count": 215,
   "metadata": {},
   "outputs": [],
   "source": [
    "exp_segmJa_platinum = clientespart[(clientespart['SegmJa'] == 'Platinum')]\n",
    "exp_segmJa_gold = clientespart[(clientespart['SegmJa'] == 'Gold')]\n",
    "exp_segmJa_silver = clientespart[(clientespart['SegmJa'] == 'Silver')]"
   ]
  },
  {
   "cell_type": "code",
   "execution_count": 216,
   "metadata": {},
   "outputs": [],
   "source": [
    "#Export Univariate analysis\n",
    "export = describe_new(exp_segmJa_platinum[[\"Age_max\", \"TenureCalculated_max\", \"Profitability_sum\", \"ProfitabilityCalculated\",\\\n",
    "                                          'ClaimCost_sum', 'Premium_sum', 'PolicyId_count','IntegralityCalculated2',\\\n",
    "                                          'DirectDebit_max', 'IntermediatedPolicy_max', 'PersonalDataProtectionBool_max','LossRatio_max']])\n",
    "export.to_excel('../03. Exportaciones/exp_segmJa_platinum.xlsx', engine='xlsxwriter') "
   ]
  },
  {
   "cell_type": "code",
   "execution_count": 217,
   "metadata": {},
   "outputs": [],
   "source": [
    "export = describe_new(exp_segmJa_gold[[\"Age_max\", \"TenureCalculated_max\", \"Profitability_sum\", \"ProfitabilityCalculated\",\\\n",
    "                                      'ClaimCost_sum', 'Premium_sum', 'PolicyId_count','IntegralityCalculated2',\\\n",
    "                                      'DirectDebit_max', 'IntermediatedPolicy_max', 'PersonalDataProtectionBool_max','LossRatio_max']])\n",
    "export.to_excel('../03. Exportaciones/exp_segmJa_gold.xlsx', engine='xlsxwriter') "
   ]
  },
  {
   "cell_type": "code",
   "execution_count": 218,
   "metadata": {},
   "outputs": [],
   "source": [
    "export = describe_new(exp_segmJa_silver[[\"Age_max\", \"TenureCalculated_max\", \"Profitability_sum\", \"ProfitabilityCalculated\",\\\n",
    "                                        'ClaimCost_sum', 'Premium_sum', 'PolicyId_count','IntegralityCalculated2',\\\n",
    "                                        'DirectDebit_max', 'IntermediatedPolicy_max', 'PersonalDataProtectionBool_max','LossRatio_max']])\n",
    "export.to_excel('../03. Exportaciones/exp_segmJa_silver.xlsx', engine='xlsxwriter') "
   ]
  },
  {
   "cell_type": "markdown",
   "metadata": {},
   "source": [
    "# 4.22 Extra Simulation and profiling 4"
   ]
  },
  {
   "cell_type": "code",
   "execution_count": 198,
   "metadata": {},
   "outputs": [
    {
     "data": {
      "text/plain": [
       "Index(['CustomerId', 'Premium_sum', 'Premium_min', 'Premium_max',\n",
       "       'PolicyId_count', 'Age_max', 'Tenure_max', 'TenureCalculated_max',\n",
       "       'Gender_first', 'Integrality_first', 'Claim_max', 'NClaims_sum',\n",
       "       'ClaimCost_sum', 'Profitability_sum', 'PersonalDataProtectionBool_max',\n",
       "       'DirectDebit_max', 'DirectDebit_min', 'IntermediatedPolicy_max',\n",
       "       'EffectiveDate_min', 'LossRatio_max', 'ProfitabilityCalculated',\n",
       "       'IntegralityCalculated', 'IntegralityCalculated2',\n",
       "       'ContractChannel_first', 'SegmGa1', 'SegmGa2', 'SegmGa', 'SegmHa1',\n",
       "       'SegmHa2', 'SegmXtrA1', 'SegmXtrA2', 'SegmXtrA', 'SegmHa', 'SegmXtrB1',\n",
       "       'SegmXtrB2', 'SegmXtrC1', 'SegmXtrC2', 'SegmXtrC', 'SegmXtrB',\n",
       "       'SegmIa1', 'SegmIa2', 'SegmIa', 'SegmJa1', 'SegmJa2'],\n",
       "      dtype='object')"
      ]
     },
     "execution_count": 198,
     "metadata": {},
     "output_type": "execute_result"
    }
   ],
   "source": [
    "clientespart.columns"
   ]
  },
  {
   "cell_type": "code",
   "execution_count": 219,
   "metadata": {},
   "outputs": [
    {
     "data": {
      "text/plain": [
       "(5699, 89)"
      ]
     },
     "execution_count": 219,
     "metadata": {},
     "output_type": "execute_result"
    }
   ],
   "source": [
    "#####################################\n",
    "#######   SIMULATION  XtrD (22)  ########\n",
    "#####################################\n",
    "#Platinum\n",
    "clientespart['SegmXtrD1'] = np.where(((clientespart['Profitability_sum'] >= 2500) & (clientespart['TenureCalculated_max'] >= 60)) |\\\n",
    "                                   ((clientespart['Profitability_sum'] >=2500) & (clientespart['IntegralityCalculated2'] >= 3)),\\\n",
    "                                   'Platino', 'Plata')\n",
    "clientespart[(clientespart['SegmXtrD1'] == 'Platino')].shape"
   ]
  },
  {
   "cell_type": "code",
   "execution_count": 220,
   "metadata": {},
   "outputs": [
    {
     "data": {
      "text/plain": [
       "(12154, 90)"
      ]
     },
     "execution_count": 220,
     "metadata": {},
     "output_type": "execute_result"
    }
   ],
   "source": [
    "#Gold\n",
    "clientespart['SegmXtrD2'] = np.where((clientespart['SegmXtrD1'] != 'Platino') &\\\n",
    "                                   (((clientespart['Profitability_sum'] >= 1400) & (clientespart['TenureCalculated_max'] >= 24)) |\\\n",
    "                                    ((clientespart['Premium_sum'] >=1400) & (clientespart['IntegralityCalculated2'] >= 2))),\\\n",
    "                                   'Oro', 'Plata')\n",
    "clientespart[(clientespart['SegmXtrD2'] == 'Oro')].shape"
   ]
  },
  {
   "cell_type": "code",
   "execution_count": 221,
   "metadata": {},
   "outputs": [],
   "source": [
    "#Creation of variable SegmXtrD\n",
    "conditions = [\n",
    "    (clientespart['SegmXtrD1'] == 'Platino'),\n",
    "    (clientespart['SegmXtrD2'] == 'Oro')]\n",
    "choices = ['Platinum', 'Gold']\n",
    "clientespart['SegmXtrD'] = np.select(conditions, choices, default='Silver')"
   ]
  },
  {
   "cell_type": "code",
   "execution_count": 222,
   "metadata": {},
   "outputs": [
    {
     "name": "stdout",
     "output_type": "stream",
     "text": [
      "Platinum shape: (5699, 91) \n",
      "Gold shape: (12154, 91) \n",
      "Silver shape: (101728, 91)\n"
     ]
    }
   ],
   "source": [
    "segmXtrD_platinum = clientespart[(clientespart['SegmXtrD'] == 'Platinum')].shape\n",
    "segmXtrD_gold = clientespart[(clientespart['SegmXtrD'] == 'Gold')].shape\n",
    "segmXtrD_silver = clientespart[(clientespart['SegmXtrD'] == 'Silver')].shape\n",
    "\n",
    "print(\"Platinum shape:\", segmXtrD_platinum, \"\\nGold shape:\", segmXtrD_gold, \"\\nSilver shape:\", segmXtrD_silver)"
   ]
  },
  {
   "cell_type": "code",
   "execution_count": 223,
   "metadata": {},
   "outputs": [],
   "source": [
    "exp_segmXtrD_platinum = clientespart[(clientespart['SegmXtrD'] == 'Platinum')]\n",
    "exp_segmXtrD_gold = clientespart[(clientespart['SegmXtrD'] == 'Gold')]\n",
    "exp_segmXtrD_silver = clientespart[(clientespart['SegmXtrD'] == 'Silver')]"
   ]
  },
  {
   "cell_type": "code",
   "execution_count": 224,
   "metadata": {},
   "outputs": [],
   "source": [
    "#Export Univariate analysis\n",
    "export = describe_new(exp_segmXtrD_platinum[[\"Age_max\", \"TenureCalculated_max\", \"Profitability_sum\", \"ProfitabilityCalculated\",\\\n",
    "                                          'ClaimCost_sum', 'Premium_sum', 'PolicyId_count','IntegralityCalculated2',\\\n",
    "                                          'DirectDebit_max', 'IntermediatedPolicy_max', 'PersonalDataProtectionBool_max','LossRatio_max']])\n",
    "export.to_excel('../03. Exportaciones/exp_segmXtrD_platinum.xlsx', engine='xlsxwriter') "
   ]
  },
  {
   "cell_type": "code",
   "execution_count": 225,
   "metadata": {},
   "outputs": [],
   "source": [
    "export = describe_new(exp_segmXtrD_gold[[\"Age_max\", \"TenureCalculated_max\", \"Profitability_sum\", \"ProfitabilityCalculated\",\\\n",
    "                                      'ClaimCost_sum', 'Premium_sum', 'PolicyId_count','IntegralityCalculated2',\\\n",
    "                                      'DirectDebit_max', 'IntermediatedPolicy_max', 'PersonalDataProtectionBool_max','LossRatio_max']])\n",
    "export.to_excel('../03. Exportaciones/exp_segmXtrD_gold.xlsx', engine='xlsxwriter') "
   ]
  },
  {
   "cell_type": "code",
   "execution_count": 226,
   "metadata": {},
   "outputs": [],
   "source": [
    "export = describe_new(exp_segmXtrD_silver[[\"Age_max\", \"TenureCalculated_max\", \"Profitability_sum\", \"ProfitabilityCalculated\",\\\n",
    "                                        'ClaimCost_sum', 'Premium_sum', 'PolicyId_count','IntegralityCalculated2',\\\n",
    "                                        'DirectDebit_max', 'IntermediatedPolicy_max', 'PersonalDataProtectionBool_max','LossRatio_max']])\n",
    "export.to_excel('../03. Exportaciones/exp_segmXtrD_silver.xlsx', engine='xlsxwriter') "
   ]
  },
  {
   "cell_type": "markdown",
   "metadata": {},
   "source": [
    "# 4.23 Simulation and profiling 11"
   ]
  },
  {
   "cell_type": "code",
   "execution_count": 205,
   "metadata": {},
   "outputs": [
    {
     "data": {
      "text/plain": [
       "Index(['CustomerId', 'Premium_sum', 'Premium_min', 'Premium_max',\n",
       "       'PolicyId_count', 'Age_max', 'Tenure_max', 'TenureCalculated_max',\n",
       "       'Gender_first', 'Integrality_first', 'Claim_max', 'NClaims_sum',\n",
       "       'ClaimCost_sum', 'Profitability_sum', 'PersonalDataProtectionBool_max',\n",
       "       'DirectDebit_max', 'DirectDebit_min', 'IntermediatedPolicy_max',\n",
       "       'EffectiveDate_min', 'LossRatio_max', 'ProfitabilityCalculated',\n",
       "       'IntegralityCalculated', 'ContractChannel_first', 'CheckProfitability',\n",
       "       'SegmE1', 'SegmE2', 'SegmE', 'SegmF1', 'SegmF2', 'SegmF', 'SegmG1',\n",
       "       'SegmG2', 'SegmG', 'SegmH1', 'SegmH2', 'SegmH', 'SegmI1', 'SegmI2',\n",
       "       'SegmI', 'SegmJ1', 'SegmJ2', 'SegmJ'],\n",
       "      dtype='object')"
      ]
     },
     "execution_count": 205,
     "metadata": {},
     "output_type": "execute_result"
    }
   ],
   "source": [
    "clientespart.columns"
   ]
  },
  {
   "cell_type": "code",
   "execution_count": 227,
   "metadata": {},
   "outputs": [
    {
     "data": {
      "text/plain": [
       "(3939, 92)"
      ]
     },
     "execution_count": 227,
     "metadata": {},
     "output_type": "execute_result"
    }
   ],
   "source": [
    "#####################################\n",
    "#######   SIMULATION  K (23)  ########\n",
    "#####################################\n",
    "#Platinum\n",
    "clientespart['SegmK1'] = np.where(((clientespart['Premium_sum'] >= 900) & (clientespart['TenureCalculated_max'] >= 36) & (clientespart['NClaims_sum'] <= 1)) | ((clientespart['Premium_sum'] >=900) & (clientespart['PolicyId_count'] >3) & (clientespart['NClaims_sum'] <= 1)), 'Platino', 'Plata')\n",
    "clientespart[(clientespart['SegmK1'] == 'Platino')].shape"
   ]
  },
  {
   "cell_type": "code",
   "execution_count": 228,
   "metadata": {},
   "outputs": [
    {
     "data": {
      "text/plain": [
       "(10620, 93)"
      ]
     },
     "execution_count": 228,
     "metadata": {},
     "output_type": "execute_result"
    }
   ],
   "source": [
    "#Gold\n",
    "clientespart['SegmK2'] = np.where((clientespart['SegmK1'] != 'Platino') &(((clientespart['Premium_sum'] >= 500) & (clientespart['TenureCalculated_max'] >= 24) & (clientespart['NClaims_sum'] <= 1)) | ((clientespart['Premium_sum'] >=500) & (clientespart['PolicyId_count'] >=2) & (clientespart['NClaims_sum'] <= 1))), 'Oro', 'Plata')\n",
    "clientespart[(clientespart['SegmK2'] == 'Oro')].shape"
   ]
  },
  {
   "cell_type": "code",
   "execution_count": 229,
   "metadata": {},
   "outputs": [],
   "source": [
    "#Creation of variable SegmK\n",
    "conditions = [\n",
    "    (clientespart['SegmK1'] == 'Platino'),\n",
    "    (clientespart['SegmK2'] == 'Oro')]\n",
    "choices = ['Platinum', 'Gold']\n",
    "clientespart['SegmK'] = np.select(conditions, choices, default='Silver')"
   ]
  },
  {
   "cell_type": "code",
   "execution_count": 230,
   "metadata": {},
   "outputs": [
    {
     "name": "stdout",
     "output_type": "stream",
     "text": [
      "Platinum shape: (3939, 94) \n",
      "Gold shape: (10620, 94) \n",
      "Silver shape: (105022, 94)\n"
     ]
    }
   ],
   "source": [
    "segmK_platinum = clientespart[(clientespart['SegmK'] == 'Platinum')].shape\n",
    "segmK_gold = clientespart[(clientespart['SegmK'] == 'Gold')].shape\n",
    "segmK_silver = clientespart[(clientespart['SegmK'] == 'Silver')].shape\n",
    "\n",
    "print(\"Platinum shape:\", segmK_platinum, \"\\nGold shape:\", segmK_gold, \"\\nSilver shape:\", segmK_silver)"
   ]
  },
  {
   "cell_type": "code",
   "execution_count": 231,
   "metadata": {},
   "outputs": [],
   "source": [
    "exp_segmK_platinum = clientespart[(clientespart['SegmK'] == 'Platinum')]\n",
    "exp_segmK_gold = clientespart[(clientespart['SegmK'] == 'Gold')]\n",
    "exp_segmK_silver = clientespart[(clientespart['SegmK'] == 'Silver')]"
   ]
  },
  {
   "cell_type": "code",
   "execution_count": 232,
   "metadata": {},
   "outputs": [],
   "source": [
    "#Export Univariate analysis\n",
    "export = describe_new(exp_segmK_platinum[[\"Age_max\", \"TenureCalculated_max\", \"Profitability_sum\", \"ProfitabilityCalculated\",\\\n",
    "                                          'ClaimCost_sum', 'Premium_sum', 'PolicyId_count','IntegralityCalculated',\\\n",
    "                                          'DirectDebit_max', 'IntermediatedPolicy_max', 'PersonalDataProtectionBool_max','LossRatio_max']])\n",
    "export.to_excel('../03. Exportaciones/exp_segmK_platinum.xlsx', engine='xlsxwriter') "
   ]
  },
  {
   "cell_type": "code",
   "execution_count": 233,
   "metadata": {},
   "outputs": [],
   "source": [
    "export = describe_new(exp_segmK_gold[[\"Age_max\", \"TenureCalculated_max\", \"Profitability_sum\", \"ProfitabilityCalculated\",\\\n",
    "                                      'ClaimCost_sum', 'Premium_sum', 'PolicyId_count','IntegralityCalculated',\\\n",
    "                                      'DirectDebit_max', 'IntermediatedPolicy_max', 'PersonalDataProtectionBool_max','LossRatio_max']])\n",
    "export.to_excel('../03. Exportaciones/exp_segmK_gold.xlsx', engine='xlsxwriter') "
   ]
  },
  {
   "cell_type": "code",
   "execution_count": 234,
   "metadata": {},
   "outputs": [],
   "source": [
    "export = describe_new(exp_segmK_silver[[\"Age_max\", \"TenureCalculated_max\", \"Profitability_sum\", \"ProfitabilityCalculated\",\\\n",
    "                                        'ClaimCost_sum', 'Premium_sum', 'PolicyId_count','IntegralityCalculated',\\\n",
    "                                        'DirectDebit_max', 'IntermediatedPolicy_max', 'PersonalDataProtectionBool_max','LossRatio_max']])\n",
    "export.to_excel('../03. Exportaciones/exp_segmK_silver.xlsx', engine='xlsxwriter') "
   ]
  },
  {
   "cell_type": "markdown",
   "metadata": {},
   "source": [
    "# 4.24 Simulation and profiling 11a"
   ]
  },
  {
   "cell_type": "code",
   "execution_count": 205,
   "metadata": {},
   "outputs": [
    {
     "data": {
      "text/plain": [
       "Index(['CustomerId', 'Premium_sum', 'Premium_min', 'Premium_max',\n",
       "       'PolicyId_count', 'Age_max', 'Tenure_max', 'TenureCalculated_max',\n",
       "       'Gender_first', 'Integrality_first', 'Claim_max', 'NClaims_sum',\n",
       "       'ClaimCost_sum', 'Profitability_sum', 'PersonalDataProtectionBool_max',\n",
       "       'DirectDebit_max', 'DirectDebit_min', 'IntermediatedPolicy_max',\n",
       "       'EffectiveDate_min', 'LossRatio_max', 'ProfitabilityCalculated',\n",
       "       'IntegralityCalculated', 'ContractChannel_first', 'CheckProfitability',\n",
       "       'SegmE1', 'SegmE2', 'SegmE', 'SegmF1', 'SegmF2', 'SegmF', 'SegmG1',\n",
       "       'SegmG2', 'SegmG', 'SegmH1', 'SegmH2', 'SegmH', 'SegmI1', 'SegmI2',\n",
       "       'SegmI', 'SegmJ1', 'SegmJ2', 'SegmJ'],\n",
       "      dtype='object')"
      ]
     },
     "execution_count": 205,
     "metadata": {},
     "output_type": "execute_result"
    }
   ],
   "source": [
    "clientespart.columns"
   ]
  },
  {
   "cell_type": "code",
   "execution_count": 17,
   "metadata": {},
   "outputs": [
    {
     "data": {
      "text/plain": [
       "(2354, 30)"
      ]
     },
     "execution_count": 17,
     "metadata": {},
     "output_type": "execute_result"
    }
   ],
   "source": [
    "#####################################\n",
    "#######   SIMULATION  Ka (24)  ########\n",
    "#####################################\n",
    "#Platinum\n",
    "clientespart['SegmKa1'] = np.where(((clientespart['Premium_sum'] >= 900) & (clientespart['TenureCalculated_max'] >= 36) &\\\n",
    "                                    (clientespart['NClaims_sum'] == 0)) |\\\n",
    "                                   ((clientespart['Premium_sum'] >=900) & (clientespart['PolicyId_count'] > 3) &\\\n",
    "                                    (clientespart['NClaims_sum'] == 0)), 'Platino', 'Plata')\n",
    "clientespart[(clientespart['SegmKa1'] == 'Platino')].shape"
   ]
  },
  {
   "cell_type": "code",
   "execution_count": 18,
   "metadata": {},
   "outputs": [
    {
     "data": {
      "text/plain": [
       "(13294, 31)"
      ]
     },
     "execution_count": 18,
     "metadata": {},
     "output_type": "execute_result"
    }
   ],
   "source": [
    "#Gold\n",
    "clientespart['SegmKa2'] = np.where((clientespart['SegmKa1'] != 'Platino') &\\\n",
    "                                   (((clientespart['Premium_sum'] >= 450) & (clientespart['TenureCalculated_max'] >= 24) &\\\n",
    "                                     (clientespart['NClaims_sum'] <= 1)) |\\\n",
    "                                    ((clientespart['Premium_sum'] >=450) & (clientespart['PolicyId_count'] >= 3) &\\\n",
    "                                     (clientespart['NClaims_sum'] <= 1))), 'Oro', 'Plata')\n",
    "clientespart[(clientespart['SegmKa2'] == 'Oro')].shape"
   ]
  },
  {
   "cell_type": "code",
   "execution_count": 19,
   "metadata": {},
   "outputs": [],
   "source": [
    "#Creation of variable SegmKa\n",
    "conditions = [\n",
    "    (clientespart['SegmKa1'] == 'Platino'),\n",
    "    (clientespart['SegmKa2'] == 'Oro')]\n",
    "choices = ['Platinum', 'Gold']\n",
    "clientespart['SegmKa'] = np.select(conditions, choices, default='Silver')"
   ]
  },
  {
   "cell_type": "code",
   "execution_count": 20,
   "metadata": {},
   "outputs": [
    {
     "name": "stdout",
     "output_type": "stream",
     "text": [
      "Platinum shape: (2354, 32) \n",
      "Gold shape: (13294, 32) \n",
      "Silver shape: (103933, 32)\n"
     ]
    }
   ],
   "source": [
    "segmKa_platinum = clientespart[(clientespart['SegmKa'] == 'Platinum')].shape\n",
    "segmKa_gold = clientespart[(clientespart['SegmKa'] == 'Gold')].shape\n",
    "segmKa_silver = clientespart[(clientespart['SegmKa'] == 'Silver')].shape\n",
    "\n",
    "print(\"Platinum shape:\", segmKa_platinum, \"\\nGold shape:\", segmKa_gold, \"\\nSilver shape:\", segmKa_silver)"
   ]
  },
  {
   "cell_type": "code",
   "execution_count": 21,
   "metadata": {},
   "outputs": [],
   "source": [
    "exp_segmKa_platinum = clientespart[(clientespart['SegmKa'] == 'Platinum')]\n",
    "exp_segmKa_gold = clientespart[(clientespart['SegmKa'] == 'Gold')]\n",
    "exp_segmKa_silver = clientespart[(clientespart['SegmKa'] == 'Silver')]"
   ]
  },
  {
   "cell_type": "code",
   "execution_count": 240,
   "metadata": {},
   "outputs": [],
   "source": [
    "#Export Univariate analysis\n",
    "export = describe_new(exp_segmKa_platinum[[\"Age_max\", \"TenureCalculated_max\", \"Profitability_sum\", \"ProfitabilityCalculated\",\\\n",
    "                                          'ClaimCost_sum', 'Premium_sum', 'PolicyId_count','IntegralityCalculated2',\\\n",
    "                                          'DirectDebit_max', 'IntermediatedPolicy_max', 'PersonalDataProtectionBool_max','LossRatio_max']])\n",
    "export.to_excel('../03. Exportaciones/exp_segmKa_platinum.xlsx', engine='xlsxwriter') "
   ]
  },
  {
   "cell_type": "code",
   "execution_count": 241,
   "metadata": {},
   "outputs": [],
   "source": [
    "export = describe_new(exp_segmKa_gold[[\"Age_max\", \"TenureCalculated_max\", \"Profitability_sum\", \"ProfitabilityCalculated\",\\\n",
    "                                      'ClaimCost_sum', 'Premium_sum', 'PolicyId_count','IntegralityCalculated2',\\\n",
    "                                      'DirectDebit_max', 'IntermediatedPolicy_max', 'PersonalDataProtectionBool_max','LossRatio_max']])\n",
    "export.to_excel('../03. Exportaciones/exp_segmKa_gold.xlsx', engine='xlsxwriter') "
   ]
  },
  {
   "cell_type": "code",
   "execution_count": 242,
   "metadata": {},
   "outputs": [],
   "source": [
    "export = describe_new(exp_segmKa_silver[[\"Age_max\", \"TenureCalculated_max\", \"Profitability_sum\", \"ProfitabilityCalculated\",\\\n",
    "                                        'ClaimCost_sum', 'Premium_sum', 'PolicyId_count','IntegralityCalculated2',\\\n",
    "                                        'DirectDebit_max', 'IntermediatedPolicy_max', 'PersonalDataProtectionBool_max','LossRatio_max']])\n",
    "export.to_excel('../03. Exportaciones/exp_segmKa_silver.xlsx', engine='xlsxwriter') "
   ]
  },
  {
   "cell_type": "code",
   "execution_count": 16,
   "metadata": {},
   "outputs": [
    {
     "data": {
      "text/plain": [
       "1    78489\n",
       "4    16769\n",
       "3     4467\n",
       "2     4208\n",
       "Name: LossRatioCalculated_max, dtype: int64"
      ]
     },
     "execution_count": 16,
     "metadata": {},
     "output_type": "execute_result"
    }
   ],
   "source": [
    "#Loss Ratio distribution\n",
    "#exp_segmKa_platinum.LossRatioCalculated_max.value_counts() # Platino: 1-> 2354\n",
    "#exp_segmKa_gold.LossRatioCalculated_max.value_counts() # Oro: 1 -> 9648 // 2 -> 737 // 3 -> 713 // 4 -> 2196\n",
    "exp_segmKa_silver.LossRatioCalculated_max.value_counts() # Plata: 1 -> 78489 // 2 -> 4208 // 3 -> 4467 // 4 -> 16769"
   ]
  },
  {
   "cell_type": "markdown",
   "metadata": {},
   "source": [
    "# 4.25 Simulation and profiling 12"
   ]
  },
  {
   "cell_type": "code",
   "execution_count": 219,
   "metadata": {},
   "outputs": [
    {
     "data": {
      "text/plain": [
       "Index(['CustomerId', 'Premium_sum', 'Premium_min', 'Premium_max',\n",
       "       'PolicyId_count', 'Age_max', 'Tenure_max', 'TenureCalculated_max',\n",
       "       'Gender_first', 'Integrality_first', 'Claim_max', 'NClaims_sum',\n",
       "       'ClaimCost_sum', 'Profitability_sum', 'PersonalDataProtectionBool_max',\n",
       "       'DirectDebit_max', 'DirectDebit_min', 'IntermediatedPolicy_max',\n",
       "       'EffectiveDate_min', 'LossRatio_max', 'ProfitabilityCalculated',\n",
       "       'IntegralityCalculated', 'ContractChannel_first', 'CheckProfitability',\n",
       "       'SegmE1', 'SegmE2', 'SegmE', 'SegmF1', 'SegmF2', 'SegmF', 'SegmG1',\n",
       "       'SegmG2', 'SegmG', 'SegmH1', 'SegmH2', 'SegmH', 'SegmI1', 'SegmI2',\n",
       "       'SegmI', 'SegmJ1', 'SegmJ2', 'SegmJ', 'SegmK1', 'SegmK2', 'SegmK'],\n",
       "      dtype='object')"
      ]
     },
     "execution_count": 219,
     "metadata": {},
     "output_type": "execute_result"
    }
   ],
   "source": [
    "clientespart.columns"
   ]
  },
  {
   "cell_type": "code",
   "execution_count": 243,
   "metadata": {},
   "outputs": [
    {
     "data": {
      "text/plain": [
       "(4001, 98)"
      ]
     },
     "execution_count": 243,
     "metadata": {},
     "output_type": "execute_result"
    }
   ],
   "source": [
    "#####################################\n",
    "#######   SIMULATION  L (25)  ########\n",
    "#####################################\n",
    "#Platinum\n",
    "clientespart['SegmL1'] = np.where(((clientespart['Profitability_sum'] >= 2000) & (clientespart['TenureCalculated_max'] >= 60) & (clientespart['NClaims_sum'] <= 1) & (clientespart['DirectDebit_max'] == 1)) | ((clientespart['Profitability_sum'] >=2000) & (clientespart['IntegralityCalculated'] >3) & (clientespart['NClaims_sum'] <= 1)& (clientespart['DirectDebit_max'] == 1)), 'Platino', 'Plata')\n",
    "clientespart[(clientespart['SegmL1'] == 'Platino')].shape"
   ]
  },
  {
   "cell_type": "code",
   "execution_count": 244,
   "metadata": {},
   "outputs": [
    {
     "data": {
      "text/plain": [
       "(12214, 99)"
      ]
     },
     "execution_count": 244,
     "metadata": {},
     "output_type": "execute_result"
    }
   ],
   "source": [
    "#Gold\n",
    "clientespart['SegmL2'] = np.where((clientespart['SegmL1'] != 'Platino') & (((clientespart['Profitability_sum'] >= 1300) & (clientespart['TenureCalculated_max'] >= 36) & (clientespart['NClaims_sum'] <= 2)) | ((clientespart['Profitability_sum'] >=1300) & (clientespart['IntegralityCalculated'] >=2) & (clientespart['NClaims_sum'] <= 2))), 'Oro', 'Plata')\n",
    "clientespart[(clientespart['SegmL2'] == 'Oro')].shape"
   ]
  },
  {
   "cell_type": "code",
   "execution_count": 245,
   "metadata": {},
   "outputs": [],
   "source": [
    "#Creation of variable SegmL\n",
    "conditions = [\n",
    "    (clientespart['SegmL1'] == 'Platino'),\n",
    "    (clientespart['SegmL2'] == 'Oro')]\n",
    "choices = ['Platinum', 'Gold']\n",
    "clientespart['SegmL'] = np.select(conditions, choices, default='Silver')"
   ]
  },
  {
   "cell_type": "code",
   "execution_count": 246,
   "metadata": {},
   "outputs": [
    {
     "name": "stdout",
     "output_type": "stream",
     "text": [
      "Platinum shape: (4001, 100) \n",
      "Gold shape: (12214, 100) \n",
      "Silver shape: (103366, 100)\n"
     ]
    }
   ],
   "source": [
    "segmL_platinum = clientespart[(clientespart['SegmL'] == 'Platinum')].shape\n",
    "segmL_gold = clientespart[(clientespart['SegmL'] == 'Gold')].shape\n",
    "segmL_silver = clientespart[(clientespart['SegmL'] == 'Silver')].shape\n",
    "\n",
    "print(\"Platinum shape:\", segmL_platinum, \"\\nGold shape:\", segmL_gold, \"\\nSilver shape:\", segmL_silver)"
   ]
  },
  {
   "cell_type": "code",
   "execution_count": 247,
   "metadata": {},
   "outputs": [],
   "source": [
    "exp_segmL_platinum = clientespart[(clientespart['SegmL'] == 'Platinum')]\n",
    "exp_segmL_gold = clientespart[(clientespart['SegmL'] == 'Gold')]\n",
    "exp_segmL_silver = clientespart[(clientespart['SegmL'] == 'Silver')]"
   ]
  },
  {
   "cell_type": "code",
   "execution_count": 248,
   "metadata": {},
   "outputs": [],
   "source": [
    "#Export Univariate analysis\n",
    "export = describe_new(exp_segmL_platinum[[\"Age_max\", \"TenureCalculated_max\", \"Profitability_sum\", \"ProfitabilityCalculated\",\\\n",
    "                                          'ClaimCost_sum', 'Premium_sum', 'PolicyId_count','IntegralityCalculated',\\\n",
    "                                          'DirectDebit_max', 'IntermediatedPolicy_max', 'PersonalDataProtectionBool_max','LossRatio_max']])\n",
    "export.to_excel('../03. Exportaciones/exp_segmL_platinum.xlsx', engine='xlsxwriter') "
   ]
  },
  {
   "cell_type": "code",
   "execution_count": 249,
   "metadata": {},
   "outputs": [],
   "source": [
    "export = describe_new(exp_segmL_gold[[\"Age_max\", \"TenureCalculated_max\", \"Profitability_sum\", \"ProfitabilityCalculated\",\\\n",
    "                                      'ClaimCost_sum', 'Premium_sum', 'PolicyId_count','IntegralityCalculated',\\\n",
    "                                      'DirectDebit_max', 'IntermediatedPolicy_max', 'PersonalDataProtectionBool_max','LossRatio_max']])\n",
    "export.to_excel('../03. Exportaciones/exp_segmL_gold.xlsx', engine='xlsxwriter') "
   ]
  },
  {
   "cell_type": "code",
   "execution_count": 250,
   "metadata": {},
   "outputs": [],
   "source": [
    "export = describe_new(exp_segmL_silver[[\"Age_max\", \"TenureCalculated_max\", \"Profitability_sum\", \"ProfitabilityCalculated\",\\\n",
    "                                        'ClaimCost_sum', 'Premium_sum', 'PolicyId_count','IntegralityCalculated',\\\n",
    "                                        'DirectDebit_max', 'IntermediatedPolicy_max', 'PersonalDataProtectionBool_max','LossRatio_max']])\n",
    "export.to_excel('../03. Exportaciones/exp_segmL_silver.xlsx', engine='xlsxwriter') "
   ]
  },
  {
   "cell_type": "markdown",
   "metadata": {},
   "source": [
    "# 4.26 Extra Simulation and profiling E"
   ]
  },
  {
   "cell_type": "code",
   "execution_count": 251,
   "metadata": {},
   "outputs": [
    {
     "data": {
      "text/plain": [
       "(2720, 101)"
      ]
     },
     "execution_count": 251,
     "metadata": {},
     "output_type": "execute_result"
    }
   ],
   "source": [
    "#####################################\n",
    "#######   SIMULATION  XtrE (26)  ########\n",
    "#####################################\n",
    "#Platinum\n",
    "clientespart['SegmXtrE1'] = np.where(((clientespart['Premium_sum'] >= 1300) & (clientespart['IntegralityCalculated2'] >= 3)) |\\\n",
    "                                   ((clientespart['Premium_sum'] >=1300) & (clientespart['PolicyId_count'] >= 4)),\\\n",
    "                                   'Platino', 'Plata')\n",
    "clientespart[(clientespart['SegmXtrE1'] == 'Platino')].shape"
   ]
  },
  {
   "cell_type": "code",
   "execution_count": 252,
   "metadata": {},
   "outputs": [
    {
     "data": {
      "text/plain": [
       "(11935, 102)"
      ]
     },
     "execution_count": 252,
     "metadata": {},
     "output_type": "execute_result"
    }
   ],
   "source": [
    "#Gold\n",
    "clientespart['SegmXtrE2'] = np.where((clientespart['SegmXtrE1'] != 'Platino') &\\\n",
    "                                   (((clientespart['Premium_sum'] >= 600) & (clientespart['IntegralityCalculated2'] >= 2)) |\\\n",
    "                                    ((clientespart['Premium_sum'] >=600) & (clientespart['PolicyId_count'] >= 2))),\\\n",
    "                                   'Oro', 'Plata')\n",
    "clientespart[(clientespart['SegmXtrE2'] == 'Oro')].shape"
   ]
  },
  {
   "cell_type": "code",
   "execution_count": 253,
   "metadata": {},
   "outputs": [],
   "source": [
    "#Creation of variable SegmXtrE\n",
    "conditions = [\n",
    "    (clientespart['SegmXtrE1'] == 'Platino'),\n",
    "    (clientespart['SegmXtrE2'] == 'Oro')]\n",
    "choices = ['Platinum', 'Gold']\n",
    "clientespart['SegmXtrE'] = np.select(conditions, choices, default='Silver')"
   ]
  },
  {
   "cell_type": "code",
   "execution_count": 254,
   "metadata": {},
   "outputs": [
    {
     "name": "stdout",
     "output_type": "stream",
     "text": [
      "Platinum shape: (2720, 103) \n",
      "Gold shape: (11935, 103) \n",
      "Silver shape: (104926, 103)\n"
     ]
    }
   ],
   "source": [
    "segmXtrE_platinum = clientespart[(clientespart['SegmXtrE'] == 'Platinum')].shape\n",
    "segmXtrE_gold = clientespart[(clientespart['SegmXtrE'] == 'Gold')].shape\n",
    "segmXtrE_silver = clientespart[(clientespart['SegmXtrE'] == 'Silver')].shape\n",
    "\n",
    "print(\"Platinum shape:\", segmXtrE_platinum, \"\\nGold shape:\", segmXtrE_gold, \"\\nSilver shape:\", segmXtrE_silver)"
   ]
  },
  {
   "cell_type": "code",
   "execution_count": 255,
   "metadata": {},
   "outputs": [],
   "source": [
    "exp_segmXtrE_platinum = clientespart[(clientespart['SegmXtrE'] == 'Platinum')]\n",
    "exp_segmXtrE_gold = clientespart[(clientespart['SegmXtrE'] == 'Gold')]\n",
    "exp_segmXtrE_silver = clientespart[(clientespart['SegmXtrE'] == 'Silver')]"
   ]
  },
  {
   "cell_type": "code",
   "execution_count": 256,
   "metadata": {},
   "outputs": [],
   "source": [
    "#Export Univariate analysis\n",
    "export = describe_new(exp_segmXtrE_platinum[[\"Age_max\", \"TenureCalculated_max\", \"Profitability_sum\", \"ProfitabilityCalculated\",\\\n",
    "                                          'ClaimCost_sum', 'Premium_sum', 'PolicyId_count','IntegralityCalculated2',\\\n",
    "                                          'DirectDebit_max', 'IntermediatedPolicy_max', 'PersonalDataProtectionBool_max','LossRatio_max']])\n",
    "export.to_excel('../03. Exportaciones/exp_segmXtrE_platinum.xlsx', engine='xlsxwriter') "
   ]
  },
  {
   "cell_type": "code",
   "execution_count": 257,
   "metadata": {},
   "outputs": [],
   "source": [
    "export = describe_new(exp_segmXtrE_gold[[\"Age_max\", \"TenureCalculated_max\", \"Profitability_sum\", \"ProfitabilityCalculated\",\\\n",
    "                                      'ClaimCost_sum', 'Premium_sum', 'PolicyId_count','IntegralityCalculated2',\\\n",
    "                                      'DirectDebit_max', 'IntermediatedPolicy_max', 'PersonalDataProtectionBool_max','LossRatio_max']])\n",
    "export.to_excel('../03. Exportaciones/exp_segmXtrE_gold.xlsx', engine='xlsxwriter') "
   ]
  },
  {
   "cell_type": "code",
   "execution_count": 258,
   "metadata": {},
   "outputs": [],
   "source": [
    "export = describe_new(exp_segmXtrE_silver[[\"Age_max\", \"TenureCalculated_max\", \"Profitability_sum\", \"ProfitabilityCalculated\",\\\n",
    "                                        'ClaimCost_sum', 'Premium_sum', 'PolicyId_count','IntegralityCalculated2',\\\n",
    "                                        'DirectDebit_max', 'IntermediatedPolicy_max', 'PersonalDataProtectionBool_max','LossRatio_max']])\n",
    "export.to_excel('../03. Exportaciones/exp_segmXtrE_silver.xlsx', engine='xlsxwriter') "
   ]
  },
  {
   "cell_type": "markdown",
   "metadata": {},
   "source": [
    "## 27. Simulation and profiling 13"
   ]
  },
  {
   "cell_type": "code",
   "execution_count": 17,
   "metadata": {},
   "outputs": [
    {
     "data": {
      "text/plain": [
       "Index(['CustomerId', 'Premium_sum', 'Premium_min', 'Premium_max',\n",
       "       'PolicyId_count', 'Age_max', 'Tenure_max', 'TenureCalculated_max',\n",
       "       'Gender_first', 'Integrality_first', 'Claim_max', 'NClaims_sum',\n",
       "       'ClaimCost_sum', 'Profitability_sum', 'PersonalDataProtectionBool_max',\n",
       "       'DirectDebit_max', 'DirectDebit_min', 'IntermediatedPolicy_max',\n",
       "       'EffectiveDate_min', 'LossRatio_max', 'LossRatioCalculated_max',\n",
       "       'ClientSegmentation_first', 'ProfitabilityCalculated',\n",
       "       'IntegralityCalculated', 'IntegralityCalculated2',\n",
       "       'ContractChannel_first', 'SegmXtrB1', 'SegmXtrB2', 'SegmXtrB',\n",
       "       'SegmKa1', 'SegmKa2', 'SegmKa'],\n",
       "      dtype='object')"
      ]
     },
     "execution_count": 17,
     "metadata": {},
     "output_type": "execute_result"
    }
   ],
   "source": [
    "clientespart.columns"
   ]
  },
  {
   "cell_type": "code",
   "execution_count": 22,
   "metadata": {},
   "outputs": [
    {
     "data": {
      "text/plain": [
       "(2746, 34)"
      ]
     },
     "execution_count": 22,
     "metadata": {},
     "output_type": "execute_result"
    }
   ],
   "source": [
    "#######################################\n",
    "#######   SIMULATION  M (12)  ########\n",
    "#######################################\n",
    "#Platinum\n",
    "clientespart['SegmM1'] = np.where((clientespart['LossRatioCalculated_max'] == 1) &\\\n",
    "                                  (clientespart['TenureCalculated_max'] >= 24) &\\\n",
    "                                  (clientespart['PolicyId_count'] >= 4 ), 'Platino', 'Plata')\n",
    "clientespart[(clientespart['SegmM1'] == 'Platino')].shape"
   ]
  },
  {
   "cell_type": "code",
   "execution_count": 28,
   "metadata": {},
   "outputs": [
    {
     "data": {
      "text/plain": [
       "(15675, 34)"
      ]
     },
     "execution_count": 28,
     "metadata": {},
     "output_type": "execute_result"
    }
   ],
   "source": [
    "#Gold\n",
    "clientespart['SegmM2'] = np.where((clientespart['SegmM1'] != 'Platino') &\\\n",
    "                                   (clientespart['LossRatioCalculated_max'] == 1) & (clientespart['TenureCalculated_max'] >= 24) & (clientespart['PolicyId_count'] >= 2), 'Oro', 'Plata')\n",
    "clientespart[(clientespart['SegmM2'] == 'Oro')].shape"
   ]
  },
  {
   "cell_type": "code",
   "execution_count": 29,
   "metadata": {},
   "outputs": [],
   "source": [
    "#Creation of variable SegmM\n",
    "conditions = [\n",
    "    (clientespart['SegmM1'] == 'Platino'),\n",
    "    (clientespart['SegmM2'] == 'Oro')]\n",
    "choices = ['Platinum', 'Gold']\n",
    "clientespart['SegmM'] = np.select(conditions, choices, default='Silver')"
   ]
  },
  {
   "cell_type": "code",
   "execution_count": 30,
   "metadata": {},
   "outputs": [
    {
     "name": "stdout",
     "output_type": "stream",
     "text": [
      "Platinum shape: (2746, 35) \n",
      "Gold shape: (15675, 35) \n",
      "Silver shape: (101160, 35)\n"
     ]
    }
   ],
   "source": [
    "segmM_platinum = clientespart[(clientespart['SegmM'] == 'Platinum')].shape\n",
    "segmM_gold = clientespart[(clientespart['SegmM'] == 'Gold')].shape\n",
    "segmM_silver = clientespart[(clientespart['SegmM'] == 'Silver')].shape\n",
    "\n",
    "print(\"Platinum shape:\", segmM_platinum, \"\\nGold shape:\", segmM_gold, \"\\nSilver shape:\", segmM_silver)"
   ]
  },
  {
   "cell_type": "code",
   "execution_count": 31,
   "metadata": {},
   "outputs": [],
   "source": [
    "exp_segmM_platinum = clientespart[(clientespart['SegmM'] == 'Platinum')]\n",
    "exp_segmM_gold = clientespart[(clientespart['SegmM'] == 'Gold')]\n",
    "exp_segmM_silver = clientespart[(clientespart['SegmM'] == 'Silver')]"
   ]
  },
  {
   "cell_type": "code",
   "execution_count": 32,
   "metadata": {},
   "outputs": [],
   "source": [
    "#Export Univariate analysis\n",
    "export = describe_new(exp_segmM_platinum[[\"Age_max\", \"TenureCalculated_max\", \"Profitability_sum\", \"ProfitabilityCalculated\",\\\n",
    "                                          'ClaimCost_sum', 'Premium_sum', 'PolicyId_count','IntegralityCalculated2',\\\n",
    "                                          'DirectDebit_max', 'IntermediatedPolicy_max', 'PersonalDataProtectionBool_max','LossRatio_max']])\n",
    "export.to_excel('../03. Exportaciones/exp_segmM_platinum.xlsx', engine='xlsxwriter') "
   ]
  },
  {
   "cell_type": "code",
   "execution_count": 33,
   "metadata": {},
   "outputs": [],
   "source": [
    "export = describe_new(exp_segmM_gold[[\"Age_max\", \"TenureCalculated_max\", \"Profitability_sum\", \"ProfitabilityCalculated\",\\\n",
    "                                      'ClaimCost_sum', 'Premium_sum', 'PolicyId_count','IntegralityCalculated2',\\\n",
    "                                      'DirectDebit_max', 'IntermediatedPolicy_max', 'PersonalDataProtectionBool_max','LossRatio_max']])\n",
    "export.to_excel('../03. Exportaciones/exp_segmM_gold.xlsx', engine='xlsxwriter') "
   ]
  },
  {
   "cell_type": "code",
   "execution_count": 34,
   "metadata": {},
   "outputs": [],
   "source": [
    "export = describe_new(exp_segmM_silver[[\"Age_max\", \"TenureCalculated_max\", \"Profitability_sum\", \"ProfitabilityCalculated\",\\\n",
    "                                        'ClaimCost_sum', 'Premium_sum', 'PolicyId_count','IntegralityCalculated2',\\\n",
    "                                        'DirectDebit_max', 'IntermediatedPolicy_max', 'PersonalDataProtectionBool_max','LossRatio_max']])\n",
    "export.to_excel('../03. Exportaciones/exp_segmM_silver.xlsx', engine='xlsxwriter') "
   ]
  },
  {
   "cell_type": "code",
   "execution_count": null,
   "metadata": {},
   "outputs": [],
   "source": []
  },
  {
   "cell_type": "markdown",
   "metadata": {},
   "source": [
    "# 5. Segmentation Selection"
   ]
  },
  {
   "cell_type": "code",
   "execution_count": 22,
   "metadata": {},
   "outputs": [],
   "source": [
    "#clientespart.to_csv('../03. Exportaciones/final_segm_df.csv', encoding='utf-8', index=False)"
   ]
  },
  {
   "cell_type": "code",
   "execution_count": null,
   "metadata": {},
   "outputs": [],
   "source": [
    "clientespart = pd.read_csv('../03. Exportaciones/final_segm_df.csv')"
   ]
  },
  {
   "cell_type": "markdown",
   "metadata": {},
   "source": [
    "## 5.1 NClaims"
   ]
  },
  {
   "cell_type": "code",
   "execution_count": 266,
   "metadata": {},
   "outputs": [],
   "source": [
    "conditions = [\n",
    "    (clientespart['NClaims_sum'] == 0),\n",
    "    (clientespart['NClaims_sum'] == 1),\n",
    "    (clientespart['NClaims_sum'] == 2),\n",
    "    (clientespart['NClaims_sum'] == 3),\n",
    "    (clientespart['NClaims_sum'] == 4),\n",
    "   (clientespart['NClaims_sum'] > 4)]\n",
    "choices = ['0', '1', '2', '3', '4', 'More']\n",
    "clientespart['NClaimsT'] = np.select(conditions, choices, default='Others')\n",
    "\n",
    "NClaimsT_1 = (pd.crosstab(clientespart['NClaimsT'],clientespart['SegmXtrB'],margins=True))\n",
    "NClaimsT_1 = NClaimsT_1[['Platinum', 'Gold', 'Silver', 'All']]\n",
    "NClaimsT_1.to_excel('../03. Exportaciones/NClaimsT_1.xlsx', engine = 'xlsxwriter')\n",
    "\n",
    "NClaimsT_2 = (pd.crosstab(clientespart['NClaimsT'],clientespart['SegmKa'],margins=True))\n",
    "NClaimsT_2 = NClaimsT_2[['Platinum', 'Gold', 'Silver', 'All']]\n",
    "NClaimsT_2.to_excel('../03. Exportaciones/NClaimsT_2.xlsx', engine = 'xlsxwriter')"
   ]
  },
  {
   "cell_type": "markdown",
   "metadata": {},
   "source": [
    "## 5.2 IntegralityCalculated2"
   ]
  },
  {
   "cell_type": "code",
   "execution_count": 269,
   "metadata": {},
   "outputs": [],
   "source": [
    "conditions = [\n",
    "    (clientespart['IntegralityCalculated2'] == 1),\n",
    "    (clientespart['IntegralityCalculated2'] == 2),\n",
    "    (clientespart['IntegralityCalculated2'] == 3),\n",
    "   (clientespart['IntegralityCalculated2'] > 4)]\n",
    "choices = ['1', '2', '3', 'More']\n",
    "clientespart['IntegralityCalculated2T'] = np.select(conditions, choices, default='Others')\n",
    "\n",
    "IntegralityCalculated2T_1 = (pd.crosstab(clientespart['IntegralityCalculated2T'],clientespart['SegmXtrB'],margins=True))\n",
    "IntegralityCalculated2T_1 = IntegralityCalculated2T_1[['Platinum', 'Gold', 'Silver', 'All']]\n",
    "IntegralityCalculated2T_1.to_excel('../03. Exportaciones/IntegralityCalculated2T_1.xlsx', engine = 'xlsxwriter')\n",
    "\n",
    "IntegralityCalculated2T_2 = (pd.crosstab(clientespart['IntegralityCalculated2T'],clientespart['SegmKa'],margins=True))\n",
    "IntegralityCalculated2T_2 = IntegralityCalculated2T_2[['Platinum', 'Gold', 'Silver', 'All']]\n",
    "IntegralityCalculated2T_2.to_excel('../03. Exportaciones/IntegralityCalculated2T_2.xlsx', engine = 'xlsxwriter')"
   ]
  },
  {
   "cell_type": "markdown",
   "metadata": {},
   "source": [
    "## 5.3 RelationshipIndex"
   ]
  },
  {
   "cell_type": "code",
   "execution_count": 270,
   "metadata": {},
   "outputs": [],
   "source": [
    "conditions = [\n",
    "    (clientespart['PolicyId_count'] == 1),\n",
    "    (clientespart['PolicyId_count'] == 2),\n",
    "    (clientespart['PolicyId_count'] == 3),\n",
    "    (clientespart['PolicyId_count'] == 4),\n",
    "   (clientespart['PolicyId_count'] > 4)]\n",
    "choices = ['1', '2', '3', '4', 'More']\n",
    "clientespart['RelationshipIndexT'] = np.select(conditions, choices, default='Others')\n",
    "\n",
    "RelationshipIndexT_1 = (pd.crosstab(clientespart['RelationshipIndexT'],clientespart['SegmXtrB'],margins=True))\n",
    "RelationshipIndexT_1 = RelationshipIndexT_1[['Platinum', 'Gold', 'Silver', 'All']]\n",
    "RelationshipIndexT_1.to_excel('../03. Exportaciones/RelationshipIndexT_1.xlsx', engine = 'xlsxwriter')\n",
    "\n",
    "RelationshipIndexT_2 = (pd.crosstab(clientespart['RelationshipIndexT'],clientespart['SegmKa'],margins=True))\n",
    "RelationshipIndexT_2 = RelationshipIndexT_2[['Platinum', 'Gold', 'Silver', 'All']]\n",
    "RelationshipIndexT_2.to_excel('../03. Exportaciones/RelationshipIndexT_2.xlsx', engine = 'xlsxwriter')"
   ]
  },
  {
   "cell_type": "markdown",
   "metadata": {},
   "source": [
    "## 5.5 Premium"
   ]
  },
  {
   "cell_type": "code",
   "execution_count": 272,
   "metadata": {},
   "outputs": [],
   "source": [
    "conditions = [\n",
    "    (clientespart['Premium_sum'] <= 0) ,\n",
    "    (clientespart['Premium_sum'] > 0) & (clientespart['Premium_sum'] <= 150),\n",
    "    (clientespart['Premium_sum'] > 150) & (clientespart['Premium_sum'] <= 300),\n",
    "    (clientespart['Premium_sum'] > 300) & (clientespart['Premium_sum'] <= 500),\n",
    "    (clientespart['Premium_sum'] > 500) & (clientespart['Premium_sum'] <= 800),\n",
    "    (clientespart['Premium_sum'] > 800) & (clientespart['Premium_sum'] <= 1000),\n",
    "    (clientespart['Premium_sum'] > 1000) & (clientespart['Premium_sum'] <= 2000),\n",
    "    (clientespart['Premium_sum'] > 2000)]\n",
    "choices = ['0 and less', 'From 0 to 150', 'From 150 to 300', 'From 300 to 500', 'From 500 to 800','From 800 to 1000', 'From 1000 to 2000', 'More than 2000']\n",
    "clientespart['PremiumT'] = np.select(conditions, choices, default = 'Others')\n",
    "\n",
    "PremiumT_1 = (pd.crosstab(clientespart['PremiumT'],clientespart['SegmXtrB'],margins = True))\n",
    "PremiumT_1 = PremiumT_1[['Platinum', 'Gold', 'Silver', 'All']]\n",
    "PremiumT_1.to_excel('../03. Exportaciones/PremiumT_1.xlsx', engine = 'xlsxwriter')\n",
    "\n",
    "PremiumT_2 = (pd.crosstab(clientespart['PremiumT'],clientespart['SegmKa'],margins = True))\n",
    "PremiumT_2 = PremiumT_2[['Platinum', 'Gold', 'Silver', 'All']]\n",
    "PremiumT_2.to_excel('../03. Exportaciones/PremiumT_2.xlsx', engine = 'xlsxwriter')"
   ]
  },
  {
   "cell_type": "markdown",
   "metadata": {},
   "source": [
    "## 5.6 Profitability Lifetime"
   ]
  },
  {
   "cell_type": "code",
   "execution_count": 26,
   "metadata": {},
   "outputs": [],
   "source": [
    "conditions = [\n",
    "    (clientespart['Profitability_sum'] <= 0) ,\n",
    "    (clientespart['Profitability_sum'] > 0) & (clientespart['Profitability_sum'] <= 150),\n",
    "    (clientespart['Profitability_sum'] > 150) & (clientespart['Profitability_sum'] <= 300),\n",
    "    (clientespart['Profitability_sum'] > 300) & (clientespart['Profitability_sum'] <= 500),\n",
    "    (clientespart['Profitability_sum'] > 500) & (clientespart['Profitability_sum'] <= 800),\n",
    "    (clientespart['Profitability_sum'] > 800) & (clientespart['Profitability_sum'] <= 1250),\n",
    "    (clientespart['Profitability_sum'] > 1250)]\n",
    "choices = ['0 and less', 'From 0 to 150', 'From 150 to 300', 'From 300 to 500', 'From 500 to 800','From 800 to 1250', 'More than 1250']\n",
    "clientespart['Profitability_sumT'] = np.select(conditions, choices, default = 'Others')\n",
    "\n",
    "Profitability_sumT_1 = (pd.crosstab(clientespart['Profitability_sumT'],clientespart['SegmXtrB'],margins = True))\n",
    "Profitability_sumT_1 = Profitability_sumT_1[['Platinum', 'Gold', 'Silver', 'All']]\n",
    "Profitability_sumT_1.to_excel('../03. Exportaciones/Profitability_sumT_1.xlsx', engine = 'xlsxwriter')\n",
    "\n",
    "Profitability_sumT_2 = (pd.crosstab(clientespart['Profitability_sumT'],clientespart['SegmKa'],margins = True))\n",
    "Profitability_sumT_2 = Profitability_sumT_2[['Platinum', 'Gold', 'Silver', 'All']]\n",
    "Profitability_sumT_2.to_excel('../03. Exportaciones/Profitability_sumT_2.xlsx', engine = 'xlsxwriter')"
   ]
  },
  {
   "cell_type": "markdown",
   "metadata": {},
   "source": [
    "## 5.6 ProfitabilityCalculated"
   ]
  },
  {
   "cell_type": "code",
   "execution_count": 273,
   "metadata": {},
   "outputs": [],
   "source": [
    "conditions = [\n",
    "    (clientespart['ProfitabilityCalculated'] <= 0) ,\n",
    "    (clientespart['ProfitabilityCalculated'] > 0) & (clientespart['ProfitabilityCalculated'] <= 150),\n",
    "    (clientespart['ProfitabilityCalculated'] > 150) & (clientespart['ProfitabilityCalculated'] <= 300),\n",
    "    (clientespart['ProfitabilityCalculated'] > 300) & (clientespart['ProfitabilityCalculated'] <= 500),\n",
    "    (clientespart['ProfitabilityCalculated'] > 500) & (clientespart['ProfitabilityCalculated'] <= 800),\n",
    "    (clientespart['ProfitabilityCalculated'] > 800) & (clientespart['ProfitabilityCalculated'] <= 1250),\n",
    "    (clientespart['ProfitabilityCalculated'] > 1250)]\n",
    "choices = ['0 and less', 'From 0 to 150', 'From 150 to 300', 'From 300 to 500', 'From 500 to 800','From 800 to 1250', 'More than 1250']\n",
    "clientespart['ProfitabilityCalculatedT'] = np.select(conditions, choices, default = 'Others')\n",
    "\n",
    "ProfitabilityCalculatedT_1 = (pd.crosstab(clientespart['ProfitabilityCalculatedT'],clientespart['SegmXtrB'],margins = True))\n",
    "ProfitabilityCalculatedT_1 = ProfitabilityCalculatedT_1[['Platinum', 'Gold', 'Silver', 'All']]\n",
    "ProfitabilityCalculatedT_1.to_excel('../03. Exportaciones/ProfitabilityCalculatedT_1.xlsx', engine = 'xlsxwriter')\n",
    "\n",
    "ProfitabilityCalculatedT_2 = (pd.crosstab(clientespart['ProfitabilityCalculatedT'],clientespart['SegmKa'],margins = True))\n",
    "ProfitabilityCalculatedT_2 = ProfitabilityCalculatedT_2[['Platinum', 'Gold', 'Silver', 'All']]\n",
    "ProfitabilityCalculatedT_2.to_excel('../03. Exportaciones/ProfitabilityCalculatedT_2.xlsx', engine = 'xlsxwriter')"
   ]
  },
  {
   "cell_type": "markdown",
   "metadata": {},
   "source": [
    "## 5.7 Age"
   ]
  },
  {
   "cell_type": "code",
   "execution_count": 274,
   "metadata": {},
   "outputs": [],
   "source": [
    "conditions = [\n",
    "    (clientespart['Age_max'] <= 0) ,\n",
    "    (clientespart['Age_max'] > 0) & (clientespart['Age_max'] <= 18),\n",
    "    (clientespart['Age_max'] > 18) & (clientespart['Age_max'] <= 30),\n",
    "    (clientespart['Age_max'] > 30) & (clientespart['Age_max'] <= 40),\n",
    "    (clientespart['Age_max'] > 40) & (clientespart['Age_max'] <= 50),\n",
    "    (clientespart['Age_max'] > 50) & (clientespart['Age_max'] <= 65),\n",
    "    (clientespart['Age_max'] > 65) & (clientespart['Age_max'] <= 90),\n",
    "    (clientespart['Age_max'] > 90)]\n",
    "choices = ['0 and less', 'From 0 to 18', 'From 18 to 30', 'From 30 to 40', 'From 40 to 50','From 50 to 65',  'From 65 to 90','More than 90']\n",
    "clientespart['AgeT'] = np.select(conditions, choices, default = 'Others')\n",
    "\n",
    "AgeT_1 = (pd.crosstab(clientespart['AgeT'],clientespart['SegmXtrB'],margins = True))\n",
    "AgeT_1 = AgeT_1[['Platinum', 'Gold', 'Silver', 'All']]\n",
    "AgeT_1.to_excel('../03. Exportaciones/AgeT_1.xlsx', engine = 'xlsxwriter')\n",
    "\n",
    "AgeT_2 = (pd.crosstab(clientespart['AgeT'],clientespart['SegmKa'],margins = True))\n",
    "AgeT_2 = AgeT_2[['Platinum', 'Gold', 'Silver', 'All']]\n",
    "AgeT_2.to_excel('../03. Exportaciones/AgeT_2.xlsx', engine = 'xlsxwriter')"
   ]
  },
  {
   "cell_type": "markdown",
   "metadata": {},
   "source": [
    "## 5.8 Tenure"
   ]
  },
  {
   "cell_type": "code",
   "execution_count": 278,
   "metadata": {},
   "outputs": [],
   "source": [
    "conditions = [\n",
    "    (clientespart['TenureCalculated_max'] <= 0) ,\n",
    "    (clientespart['TenureCalculated_max'] > 0) & (clientespart['TenureCalculated_max'] <= 12),\n",
    "    (clientespart['TenureCalculated_max'] > 12) & (clientespart['TenureCalculated_max'] <= 24),\n",
    "    (clientespart['TenureCalculated_max'] > 24) & (clientespart['TenureCalculated_max'] <= 36),\n",
    "    (clientespart['TenureCalculated_max'] > 36) & (clientespart['TenureCalculated_max'] <= 60),\n",
    "    (clientespart['TenureCalculated_max'] > 60) & (clientespart['TenureCalculated_max'] <= 120),\n",
    "    (clientespart['TenureCalculated_max'] > 120)]\n",
    "choices = ['0 and less', 'From 0 to 12', 'From 12 to 24', 'From 24 to 36', 'From 36 to 60','From 60 to 120', 'More than 120']\n",
    "clientespart['TenureCalculatedT'] = np.select(conditions, choices, default = 'Others')\n",
    "\n",
    "TenureCalculatedT_1 = (pd.crosstab(clientespart['TenureCalculatedT'],clientespart['SegmXtrB'],margins = True))\n",
    "TenureCalculatedT_1 = TenureCalculatedT_1[['Platinum', 'Gold', 'Silver', 'All']]\n",
    "TenureCalculatedT_1.to_excel('../03. Exportaciones/TenureCalculatedT_1.xlsx', engine = 'xlsxwriter')\n",
    "\n",
    "TenureCalculatedT_2 = (pd.crosstab(clientespart['TenureCalculatedT'],clientespart['SegmKa'],margins = True))\n",
    "TenureCalculatedT_2 = TenureCalculatedT_2[['Platinum', 'Gold', 'Silver', 'All']]\n",
    "TenureCalculatedT_2.to_excel('../03. Exportaciones/TenureCalculatedT_2.xlsx', engine = 'xlsxwriter')"
   ]
  },
  {
   "cell_type": "markdown",
   "metadata": {},
   "source": [
    "## 5.9 IntermediatedPolicy"
   ]
  },
  {
   "cell_type": "code",
   "execution_count": 279,
   "metadata": {},
   "outputs": [],
   "source": [
    "conditions = [\n",
    "    (clientespart['IntermediatedPolicy_max'] == 0) ,\n",
    "    (clientespart['IntermediatedPolicy_max'] == 1)]\n",
    "choices = ['No Intermediated', 'Intermediated']\n",
    "clientespart['Intermediated_T'] = np.select(conditions, choices, default='Others')\n",
    "\n",
    "Intermediated_T_1 = (pd.crosstab(clientespart['Intermediated_T'],clientespart['SegmXtrB'],margins = True))\n",
    "Intermediated_T_1 = Intermediated_T_1[['Platinum', 'Gold', 'Silver', 'All']]\n",
    "Intermediated_T_1.to_excel('../03. Exportaciones/Intermediated_T_1.xlsx', engine = 'xlsxwriter')\n",
    "\n",
    "Intermediated_T_2 = (pd.crosstab(clientespart['Intermediated_T'],clientespart['SegmKa'],margins = True))\n",
    "Intermediated_T_2 = Intermediated_T_2[['Platinum', 'Gold', 'Silver', 'All']]\n",
    "Intermediated_T_2.to_excel('../03. Exportaciones/Intermediated_T_2.xlsx', engine = 'xlsxwriter')"
   ]
  },
  {
   "cell_type": "markdown",
   "metadata": {},
   "source": [
    "## 5.10 ClaimCost"
   ]
  },
  {
   "cell_type": "code",
   "execution_count": 280,
   "metadata": {},
   "outputs": [],
   "source": [
    "conditions = [\n",
    "    (clientespart['ClaimCost_sum'] <= 0) ,\n",
    "    (clientespart['ClaimCost_sum'] > 0) & (clientespart['ClaimCost_sum'] <= 500),\n",
    "    (clientespart['ClaimCost_sum'] > 500) & (clientespart['ClaimCost_sum'] <= 2000),\n",
    "    (clientespart['ClaimCost_sum'] > 2000) & (clientespart['ClaimCost_sum'] <= 5000),\n",
    "    (clientespart['ClaimCost_sum'] > 5000)]\n",
    "choices = ['0 and less', 'From 0 to 500', 'From 500 to 2000', 'From 2000 to 5000', 'More than 5000']\n",
    "clientespart['ClaimCostT'] = np.select(conditions, choices, default = 'Others')\n",
    "\n",
    "ClaimCostT_1 = (pd.crosstab(clientespart['ClaimCostT'],clientespart['SegmXtrB'],margins = True))\n",
    "ClaimCostT_1 = ClaimCostT_1[['Platinum', 'Gold', 'Silver', 'All']]\n",
    "ClaimCostT_1.to_excel('../03. Exportaciones/ClaimCostT_1.xlsx', engine = 'xlsxwriter')\n",
    "\n",
    "ClaimCostT_2 = (pd.crosstab(clientespart['ClaimCostT'],clientespart['SegmKa'],margins = True))\n",
    "ClaimCostT_2 = ClaimCostT_2[['Platinum', 'Gold', 'Silver', 'All']]\n",
    "ClaimCostT_2.to_excel('../03. Exportaciones/ClaimCostT_2.xlsx', engine = 'xlsxwriter')"
   ]
  },
  {
   "cell_type": "markdown",
   "metadata": {},
   "source": [
    "## 5.11 Personal Data Protection"
   ]
  },
  {
   "cell_type": "code",
   "execution_count": 281,
   "metadata": {},
   "outputs": [],
   "source": [
    "conditions = [\n",
    "    (clientespart['PersonalDataProtectionBool_max'] == 0) ,\n",
    "    (clientespart['PersonalDataProtectionBool_max'] == 1)]\n",
    "choices = ['Without Personal Data Protection', 'With Personal Data Protection']\n",
    "clientespart['PersonalDataProtection_T'] = np.select(conditions, choices, default='Others')\n",
    "\n",
    "PersonalDataProtection_T_1 = (pd.crosstab(clientespart['PersonalDataProtection_T'],clientespart['SegmXtrB'],margins = True))\n",
    "PersonalDataProtection_T_1 = PersonalDataProtection_T_1[['Platinum', 'Gold', 'Silver', 'All']]\n",
    "PersonalDataProtection_T_1.to_excel('../03. Exportaciones/PersonalDataProtection_T_1.xlsx', engine = 'xlsxwriter')\n",
    "\n",
    "PersonalDataProtection_T_2 = (pd.crosstab(clientespart['PersonalDataProtection_T'],clientespart['SegmKa'],margins = True))\n",
    "PersonalDataProtection_T_2 = PersonalDataProtection_T_2[['Platinum', 'Gold', 'Silver', 'All']]\n",
    "PersonalDataProtection_T_2.to_excel('../03. Exportaciones/PersonalDataProtection_T_2.xlsx', engine = 'xlsxwriter')"
   ]
  },
  {
   "cell_type": "markdown",
   "metadata": {},
   "source": [
    "## 5.12 Contract Channel"
   ]
  },
  {
   "cell_type": "code",
   "execution_count": 16,
   "metadata": {},
   "outputs": [],
   "source": [
    "conditions = [\n",
    "    (clientespart['ContractChannel_first'] == 'Brokers'),\n",
    "    (clientespart['ContractChannel_first'] == 'Agents'),\n",
    "    (clientespart['ContractChannel_first'] == 'TIIs'),\n",
    "   (clientespart['ContractChannel_first'] == 'Direct'),\n",
    "   (clientespart['ContractChannel_first'] == 'Banks')]\n",
    "choices = ['Brokers', 'Agents','TIIs','Direct','Banks']\n",
    "clientespart['ContractChannel_T'] = np.select(conditions, choices, default='Others')\n",
    "\n",
    "ContractChannel_T_1 = (pd.crosstab(clientespart['ContractChannel_T'],clientespart['SegmXtrB'],margins = True))\n",
    "ContractChannel_T_1 = ContractChannel_T_1[['Platinum', 'Gold', 'Silver', 'All']]\n",
    "ContractChannel_T_1.to_excel('../03. Exportaciones/ContractChannel_T_1.xlsx', engine = 'xlsxwriter')\n",
    "\n",
    "ContractChannel_T_2 = (pd.crosstab(clientespart['ContractChannel_T'],clientespart['SegmKa'],margins = True))\n",
    "ContractChannel_T_2 = ContractChannel_T_2[['Platinum', 'Gold', 'Silver', 'All']]\n",
    "ContractChannel_T_2.to_excel('../03. Exportaciones/ContractChannel_T_2.xlsx', engine = 'xlsxwriter')"
   ]
  },
  {
   "cell_type": "markdown",
   "metadata": {},
   "source": [
    "## 5.13 Client Segmentation"
   ]
  },
  {
   "cell_type": "code",
   "execution_count": 18,
   "metadata": {},
   "outputs": [],
   "source": [
    "conditions = [\n",
    "    (clientespart['ClientSegmentation_first'] == 'Platinum'),\n",
    "    (clientespart['ClientSegmentation_first'] == 'Gold'),\n",
    "    (clientespart['ClientSegmentation_first'] == 'Silver')]\n",
    "choices = ['Platinum', 'Gold','Silver']\n",
    "clientespart['ClientSegmentation_T'] = np.select(conditions, choices, default='Others')\n",
    "\n",
    "ClientSegmentation_T_1 = (pd.crosstab(clientespart['ClientSegmentation_T'],clientespart['SegmXtrB'],margins = True))\n",
    "ClientSegmentation_T_1 = ClientSegmentation_T_1[['Platinum', 'Gold', 'Silver', 'All']]\n",
    "ClientSegmentation_T_1.to_excel('../03. Exportaciones/ClientSegmentation_T_1.xlsx', engine = 'xlsxwriter')\n",
    "\n",
    "ClientSegmentation_T_2 = (pd.crosstab(clientespart['ClientSegmentation_T'],clientespart['SegmKa'],margins = True))\n",
    "ClientSegmentation_T_2 = ClientSegmentation_T_2[['Platinum', 'Gold', 'Silver', 'All']]\n",
    "ClientSegmentation_T_2.to_excel('../03. Exportaciones/ClientSegmentation_T_2.xlsx', engine = 'xlsxwriter')"
   ]
  },
  {
   "cell_type": "markdown",
   "metadata": {},
   "source": [
    "# Other comprobations"
   ]
  },
  {
   "cell_type": "code",
   "execution_count": 23,
   "metadata": {},
   "outputs": [],
   "source": [
    "#Profitability Calculated negative\n",
    "ex_prof_neg = clientespart[clientespart.ProfitabilityCalculated < 0][[\"CustomerId\", \"ProfitabilityCalculated\", \"Profitability_sum\", \"Premium_sum\", \"ClaimCost_sum\"]].head(10)\n",
    "ex_prof_neg.to_excel('../03. Exportaciones/ex_prof_neg.xlsx', engine='xlsxwriter')"
   ]
  },
  {
   "cell_type": "code",
   "execution_count": 62,
   "metadata": {},
   "outputs": [],
   "source": [
    "#raquel comprobación de la mediana del coste siniestral para los clientes que tienen al menos 1 siniestro\n",
    "clisiniestros=clientespart[clientespart.NClaims_sum > 0]"
   ]
  },
  {
   "cell_type": "code",
   "execution_count": 63,
   "metadata": {},
   "outputs": [
    {
     "data": {
      "text/plain": [
       "(37332, 26)"
      ]
     },
     "execution_count": 63,
     "metadata": {},
     "output_type": "execute_result"
    }
   ],
   "source": [
    "#raquel\n",
    "clisiniestros.shape"
   ]
  },
  {
   "cell_type": "code",
   "execution_count": 64,
   "metadata": {},
   "outputs": [
    {
     "data": {
      "text/plain": [
       "850.0"
      ]
     },
     "execution_count": 64,
     "metadata": {},
     "output_type": "execute_result"
    }
   ],
   "source": [
    "#raquel\n",
    "clisiniestros.ClaimCost_sum.median()"
   ]
  },
  {
   "cell_type": "code",
   "execution_count": 67,
   "metadata": {},
   "outputs": [
    {
     "data": {
      "text/plain": [
       "1914.4691546930283"
      ]
     },
     "execution_count": 67,
     "metadata": {},
     "output_type": "execute_result"
    }
   ],
   "source": [
    "#raquel\n",
    "clisiniestros.ClaimCost_sum.mean()"
   ]
  },
  {
   "cell_type": "code",
   "execution_count": 65,
   "metadata": {},
   "outputs": [
    {
     "data": {
      "text/html": [
       "<div>\n",
       "<style scoped>\n",
       "    .dataframe tbody tr th:only-of-type {\n",
       "        vertical-align: middle;\n",
       "    }\n",
       "\n",
       "    .dataframe tbody tr th {\n",
       "        vertical-align: top;\n",
       "    }\n",
       "\n",
       "    .dataframe thead th {\n",
       "        text-align: right;\n",
       "    }\n",
       "</style>\n",
       "<table border=\"1\" class=\"dataframe\">\n",
       "  <thead>\n",
       "    <tr style=\"text-align: right;\">\n",
       "      <th></th>\n",
       "      <th>Premium_sum</th>\n",
       "      <th>Premium_min</th>\n",
       "      <th>Premium_max</th>\n",
       "      <th>PolicyId_count</th>\n",
       "      <th>Age_max</th>\n",
       "      <th>Tenure_max</th>\n",
       "      <th>TenureCalculated_max</th>\n",
       "      <th>Claim_max</th>\n",
       "      <th>NClaims_sum</th>\n",
       "      <th>ClaimCost_sum</th>\n",
       "      <th>Profitability_sum</th>\n",
       "      <th>PersonalDataProtectionBool_max</th>\n",
       "      <th>DirectDebit_max</th>\n",
       "      <th>DirectDebit_min</th>\n",
       "      <th>IntermediatedPolicy_max</th>\n",
       "      <th>LossRatio_max</th>\n",
       "      <th>LossRatioCalculated_max</th>\n",
       "      <th>ProfitabilityCalculated</th>\n",
       "      <th>IntegralityCalculated</th>\n",
       "      <th>IntegralityCalculated2</th>\n",
       "    </tr>\n",
       "  </thead>\n",
       "  <tbody>\n",
       "    <tr>\n",
       "      <th>count</th>\n",
       "      <td>37332.000000</td>\n",
       "      <td>37332.000000</td>\n",
       "      <td>37332.000000</td>\n",
       "      <td>37332.000000</td>\n",
       "      <td>37332.000000</td>\n",
       "      <td>37332.000000</td>\n",
       "      <td>37332.000000</td>\n",
       "      <td>37332.0</td>\n",
       "      <td>37332.000000</td>\n",
       "      <td>3.733200e+04</td>\n",
       "      <td>3.733200e+04</td>\n",
       "      <td>28493.000000</td>\n",
       "      <td>37332.000000</td>\n",
       "      <td>37332.000000</td>\n",
       "      <td>37332.000000</td>\n",
       "      <td>3.733200e+04</td>\n",
       "      <td>37332.000000</td>\n",
       "      <td>3.733200e+04</td>\n",
       "      <td>37332.000000</td>\n",
       "      <td>37332.000000</td>\n",
       "    </tr>\n",
       "    <tr>\n",
       "      <th>mean</th>\n",
       "      <td>585.304852</td>\n",
       "      <td>223.988647</td>\n",
       "      <td>349.267024</td>\n",
       "      <td>1.980044</td>\n",
       "      <td>45.403702</td>\n",
       "      <td>6.090914</td>\n",
       "      <td>73.525849</td>\n",
       "      <td>1.0</td>\n",
       "      <td>3.140844</td>\n",
       "      <td>1.914469e+03</td>\n",
       "      <td>2.501865e+01</td>\n",
       "      <td>0.834486</td>\n",
       "      <td>0.554189</td>\n",
       "      <td>0.467615</td>\n",
       "      <td>0.876862</td>\n",
       "      <td>-1.686504e+15</td>\n",
       "      <td>2.926872</td>\n",
       "      <td>-1.329164e+03</td>\n",
       "      <td>1.299877</td>\n",
       "      <td>1.299957</td>\n",
       "    </tr>\n",
       "    <tr>\n",
       "      <th>std</th>\n",
       "      <td>2341.161049</td>\n",
       "      <td>231.609793</td>\n",
       "      <td>633.190429</td>\n",
       "      <td>3.599808</td>\n",
       "      <td>17.000750</td>\n",
       "      <td>3.565591</td>\n",
       "      <td>42.408301</td>\n",
       "      <td>0.0</td>\n",
       "      <td>5.230702</td>\n",
       "      <td>9.399181e+03</td>\n",
       "      <td>9.190654e+03</td>\n",
       "      <td>0.371651</td>\n",
       "      <td>0.497061</td>\n",
       "      <td>0.498957</td>\n",
       "      <td>0.328600</td>\n",
       "      <td>2.862150e+17</td>\n",
       "      <td>1.235154</td>\n",
       "      <td>9.048719e+03</td>\n",
       "      <td>0.542182</td>\n",
       "      <td>0.542804</td>\n",
       "    </tr>\n",
       "    <tr>\n",
       "      <th>min</th>\n",
       "      <td>-1044.119766</td>\n",
       "      <td>-1207.466797</td>\n",
       "      <td>-0.007123</td>\n",
       "      <td>1.000000</td>\n",
       "      <td>0.000000</td>\n",
       "      <td>0.000000</td>\n",
       "      <td>-1.000000</td>\n",
       "      <td>1.0</td>\n",
       "      <td>1.000000</td>\n",
       "      <td>-1.847390e+05</td>\n",
       "      <td>-1.499166e+06</td>\n",
       "      <td>0.000000</td>\n",
       "      <td>0.000000</td>\n",
       "      <td>0.000000</td>\n",
       "      <td>0.000000</td>\n",
       "      <td>-5.323818e+19</td>\n",
       "      <td>1.000000</td>\n",
       "      <td>-1.499924e+06</td>\n",
       "      <td>1.000000</td>\n",
       "      <td>1.000000</td>\n",
       "    </tr>\n",
       "    <tr>\n",
       "      <th>25%</th>\n",
       "      <td>185.960007</td>\n",
       "      <td>100.000000</td>\n",
       "      <td>156.000000</td>\n",
       "      <td>1.000000</td>\n",
       "      <td>34.000000</td>\n",
       "      <td>3.000000</td>\n",
       "      <td>41.000000</td>\n",
       "      <td>1.0</td>\n",
       "      <td>1.000000</td>\n",
       "      <td>2.389300e+02</td>\n",
       "      <td>-5.463434e+02</td>\n",
       "      <td>1.000000</td>\n",
       "      <td>0.000000</td>\n",
       "      <td>0.000000</td>\n",
       "      <td>1.000000</td>\n",
       "      <td>3.560544e+01</td>\n",
       "      <td>2.000000</td>\n",
       "      <td>-1.459869e+03</td>\n",
       "      <td>1.000000</td>\n",
       "      <td>1.000000</td>\n",
       "    </tr>\n",
       "    <tr>\n",
       "      <th>50%</th>\n",
       "      <td>341.750000</td>\n",
       "      <td>161.584999</td>\n",
       "      <td>278.429993</td>\n",
       "      <td>1.000000</td>\n",
       "      <td>44.000000</td>\n",
       "      <td>5.000000</td>\n",
       "      <td>65.000000</td>\n",
       "      <td>1.0</td>\n",
       "      <td>2.000000</td>\n",
       "      <td>8.500000e+02</td>\n",
       "      <td>1.808181e+02</td>\n",
       "      <td>1.000000</td>\n",
       "      <td>1.000000</td>\n",
       "      <td>0.000000</td>\n",
       "      <td>1.000000</td>\n",
       "      <td>1.018375e+02</td>\n",
       "      <td>4.000000</td>\n",
       "      <td>-4.193269e+02</td>\n",
       "      <td>1.000000</td>\n",
       "      <td>1.000000</td>\n",
       "    </tr>\n",
       "    <tr>\n",
       "      <th>75%</th>\n",
       "      <td>627.522496</td>\n",
       "      <td>284.402496</td>\n",
       "      <td>393.018250</td>\n",
       "      <td>2.000000</td>\n",
       "      <td>58.000000</td>\n",
       "      <td>8.000000</td>\n",
       "      <td>91.000000</td>\n",
       "      <td>1.0</td>\n",
       "      <td>3.000000</td>\n",
       "      <td>2.015963e+03</td>\n",
       "      <td>1.064684e+03</td>\n",
       "      <td>1.000000</td>\n",
       "      <td>1.000000</td>\n",
       "      <td>1.000000</td>\n",
       "      <td>1.000000</td>\n",
       "      <td>2.396706e+02</td>\n",
       "      <td>4.000000</td>\n",
       "      <td>4.246250e+01</td>\n",
       "      <td>2.000000</td>\n",
       "      <td>2.000000</td>\n",
       "    </tr>\n",
       "    <tr>\n",
       "      <th>max</th>\n",
       "      <td>354849.733521</td>\n",
       "      <td>9400.000000</td>\n",
       "      <td>98550.000000</td>\n",
       "      <td>473.000000</td>\n",
       "      <td>121.000000</td>\n",
       "      <td>23.000000</td>\n",
       "      <td>278.000000</td>\n",
       "      <td>1.0</td>\n",
       "      <td>294.000000</td>\n",
       "      <td>1.500379e+06</td>\n",
       "      <td>1.895643e+05</td>\n",
       "      <td>1.000000</td>\n",
       "      <td>1.000000</td>\n",
       "      <td>1.000000</td>\n",
       "      <td>1.000000</td>\n",
       "      <td>4.825285e+18</td>\n",
       "      <td>4.000000</td>\n",
       "      <td>1.867671e+05</td>\n",
       "      <td>4.000000</td>\n",
       "      <td>4.000000</td>\n",
       "    </tr>\n",
       "    <tr>\n",
       "      <th>range</th>\n",
       "      <td>355893.853287</td>\n",
       "      <td>10607.466797</td>\n",
       "      <td>98550.007123</td>\n",
       "      <td>472.000000</td>\n",
       "      <td>121.000000</td>\n",
       "      <td>23.000000</td>\n",
       "      <td>279.000000</td>\n",
       "      <td>0.0</td>\n",
       "      <td>293.000000</td>\n",
       "      <td>1.685118e+06</td>\n",
       "      <td>1.688731e+06</td>\n",
       "      <td>1.000000</td>\n",
       "      <td>1.000000</td>\n",
       "      <td>1.000000</td>\n",
       "      <td>1.000000</td>\n",
       "      <td>5.806346e+19</td>\n",
       "      <td>3.000000</td>\n",
       "      <td>1.686691e+06</td>\n",
       "      <td>3.000000</td>\n",
       "      <td>3.000000</td>\n",
       "    </tr>\n",
       "  </tbody>\n",
       "</table>\n",
       "</div>"
      ],
      "text/plain": [
       "         Premium_sum   Premium_min   Premium_max  PolicyId_count  \\\n",
       "count   37332.000000  37332.000000  37332.000000    37332.000000   \n",
       "mean      585.304852    223.988647    349.267024        1.980044   \n",
       "std      2341.161049    231.609793    633.190429        3.599808   \n",
       "min     -1044.119766  -1207.466797     -0.007123        1.000000   \n",
       "25%       185.960007    100.000000    156.000000        1.000000   \n",
       "50%       341.750000    161.584999    278.429993        1.000000   \n",
       "75%       627.522496    284.402496    393.018250        2.000000   \n",
       "max    354849.733521   9400.000000  98550.000000      473.000000   \n",
       "range  355893.853287  10607.466797  98550.007123      472.000000   \n",
       "\n",
       "            Age_max    Tenure_max  TenureCalculated_max  Claim_max  \\\n",
       "count  37332.000000  37332.000000          37332.000000    37332.0   \n",
       "mean      45.403702      6.090914             73.525849        1.0   \n",
       "std       17.000750      3.565591             42.408301        0.0   \n",
       "min        0.000000      0.000000             -1.000000        1.0   \n",
       "25%       34.000000      3.000000             41.000000        1.0   \n",
       "50%       44.000000      5.000000             65.000000        1.0   \n",
       "75%       58.000000      8.000000             91.000000        1.0   \n",
       "max      121.000000     23.000000            278.000000        1.0   \n",
       "range    121.000000     23.000000            279.000000        0.0   \n",
       "\n",
       "        NClaims_sum  ClaimCost_sum  Profitability_sum  \\\n",
       "count  37332.000000   3.733200e+04       3.733200e+04   \n",
       "mean       3.140844   1.914469e+03       2.501865e+01   \n",
       "std        5.230702   9.399181e+03       9.190654e+03   \n",
       "min        1.000000  -1.847390e+05      -1.499166e+06   \n",
       "25%        1.000000   2.389300e+02      -5.463434e+02   \n",
       "50%        2.000000   8.500000e+02       1.808181e+02   \n",
       "75%        3.000000   2.015963e+03       1.064684e+03   \n",
       "max      294.000000   1.500379e+06       1.895643e+05   \n",
       "range    293.000000   1.685118e+06       1.688731e+06   \n",
       "\n",
       "       PersonalDataProtectionBool_max  DirectDebit_max  DirectDebit_min  \\\n",
       "count                    28493.000000     37332.000000     37332.000000   \n",
       "mean                         0.834486         0.554189         0.467615   \n",
       "std                          0.371651         0.497061         0.498957   \n",
       "min                          0.000000         0.000000         0.000000   \n",
       "25%                          1.000000         0.000000         0.000000   \n",
       "50%                          1.000000         1.000000         0.000000   \n",
       "75%                          1.000000         1.000000         1.000000   \n",
       "max                          1.000000         1.000000         1.000000   \n",
       "range                        1.000000         1.000000         1.000000   \n",
       "\n",
       "       IntermediatedPolicy_max  LossRatio_max  LossRatioCalculated_max  \\\n",
       "count             37332.000000   3.733200e+04             37332.000000   \n",
       "mean                  0.876862  -1.686504e+15                 2.926872   \n",
       "std                   0.328600   2.862150e+17                 1.235154   \n",
       "min                   0.000000  -5.323818e+19                 1.000000   \n",
       "25%                   1.000000   3.560544e+01                 2.000000   \n",
       "50%                   1.000000   1.018375e+02                 4.000000   \n",
       "75%                   1.000000   2.396706e+02                 4.000000   \n",
       "max                   1.000000   4.825285e+18                 4.000000   \n",
       "range                 1.000000   5.806346e+19                 3.000000   \n",
       "\n",
       "       ProfitabilityCalculated  IntegralityCalculated  IntegralityCalculated2  \n",
       "count             3.733200e+04           37332.000000            37332.000000  \n",
       "mean             -1.329164e+03               1.299877                1.299957  \n",
       "std               9.048719e+03               0.542182                0.542804  \n",
       "min              -1.499924e+06               1.000000                1.000000  \n",
       "25%              -1.459869e+03               1.000000                1.000000  \n",
       "50%              -4.193269e+02               1.000000                1.000000  \n",
       "75%               4.246250e+01               2.000000                2.000000  \n",
       "max               1.867671e+05               4.000000                4.000000  \n",
       "range             1.686691e+06               3.000000                3.000000  "
      ]
     },
     "metadata": {},
     "output_type": "display_data"
    },
    {
     "data": {
      "text/plain": [
       "(37332, 20)"
      ]
     },
     "execution_count": 65,
     "metadata": {},
     "output_type": "execute_result"
    }
   ],
   "source": [
    "#raquel\n",
    "prueba= clisiniestros._get_numeric_data()\n",
    "\n",
    "def describe_new(prueba):\n",
    "    df99 = prueba.describe()\n",
    "    df99.loc[\"range\"] = df99.loc['max'] - df99.loc['min']\n",
    "    return df99\n",
    "\n",
    "\n",
    "display(describe_new(prueba))\n",
    "prueba.shape"
   ]
  },
  {
   "cell_type": "code",
   "execution_count": 68,
   "metadata": {},
   "outputs": [],
   "source": [
    "comp = clientespart[clientespart.ClaimCost_sum > 0]"
   ]
  },
  {
   "cell_type": "code",
   "execution_count": 69,
   "metadata": {},
   "outputs": [
    {
     "data": {
      "text/plain": [
       "(34325, 26)"
      ]
     },
     "execution_count": 69,
     "metadata": {},
     "output_type": "execute_result"
    }
   ],
   "source": [
    "comp.shape"
   ]
  },
  {
   "cell_type": "code",
   "execution_count": 70,
   "metadata": {},
   "outputs": [
    {
     "data": {
      "text/plain": [
       "2094.2577038018994"
      ]
     },
     "execution_count": 70,
     "metadata": {},
     "output_type": "execute_result"
    }
   ],
   "source": [
    "comp.ClaimCost_sum.mean()"
   ]
  },
  {
   "cell_type": "code",
   "execution_count": 7,
   "metadata": {},
   "outputs": [
    {
     "data": {
      "text/plain": [
       "992.87"
      ]
     },
     "execution_count": 7,
     "metadata": {},
     "output_type": "execute_result"
    }
   ],
   "source": [
    "comp.ClaimCost_sum.median()"
   ]
  },
  {
   "cell_type": "code",
   "execution_count": 44,
   "metadata": {},
   "outputs": [
    {
     "data": {
      "text/plain": [
       "Silver      66373\n",
       "Gold        29523\n",
       "Platinum    23685\n",
       "Name: ClientSegmentation_first, dtype: int64"
      ]
     },
     "execution_count": 44,
     "metadata": {},
     "output_type": "execute_result"
    }
   ],
   "source": [
    "clientespart.ClientSegmentation_first.value_counts()"
   ]
  },
  {
   "cell_type": "code",
   "execution_count": 45,
   "metadata": {},
   "outputs": [],
   "source": [
    "segm_Malta_platinum = clientespart[clientespart.ClientSegmentation_first == \"Platinum\"]\n",
    "segm_Malta_gold = clientespart[clientespart.ClientSegmentation_first == \"Gold\"]\n",
    "segm_Malta_silver = clientespart[clientespart.ClientSegmentation_first == \"Silver\"]"
   ]
  },
  {
   "cell_type": "code",
   "execution_count": 46,
   "metadata": {},
   "outputs": [],
   "source": [
    "#Export Univariate analysis malta segm\n",
    "export = describe_new(segm_Malta_platinum[[\"Age_max\", \"TenureCalculated_max\", \"Profitability_sum\", \"ProfitabilityCalculated\",\\\n",
    "                                          'ClaimCost_sum', 'Premium_sum', 'PolicyId_count','IntegralityCalculated',\\\n",
    "                                          'DirectDebit_max', 'IntermediatedPolicy_max', 'PersonalDataProtectionBool_max','LossRatio_max']])\n",
    "export.to_excel('../03. Exportaciones/segm_Malta_platinum.xlsx', engine='xlsxwriter') "
   ]
  },
  {
   "cell_type": "code",
   "execution_count": 47,
   "metadata": {},
   "outputs": [],
   "source": [
    "#Export Univariate analysis malta segm\n",
    "export = describe_new(segm_Malta_gold[[\"Age_max\", \"TenureCalculated_max\", \"Profitability_sum\", \"ProfitabilityCalculated\",\\\n",
    "                                          'ClaimCost_sum', 'Premium_sum', 'PolicyId_count','IntegralityCalculated',\\\n",
    "                                          'DirectDebit_max', 'IntermediatedPolicy_max', 'PersonalDataProtectionBool_max','LossRatio_max']])\n",
    "export.to_excel('../03. Exportaciones/segm_Malta_gold.xlsx', engine='xlsxwriter') "
   ]
  },
  {
   "cell_type": "code",
   "execution_count": 48,
   "metadata": {},
   "outputs": [],
   "source": [
    "#Export Univariate analysis malta segm\n",
    "export = describe_new(segm_Malta_silver[[\"Age_max\", \"TenureCalculated_max\", \"Profitability_sum\", \"ProfitabilityCalculated\",\\\n",
    "                                          'ClaimCost_sum', 'Premium_sum', 'PolicyId_count','IntegralityCalculated',\\\n",
    "                                          'DirectDebit_max', 'IntermediatedPolicy_max', 'PersonalDataProtectionBool_max','LossRatio_max']])\n",
    "export.to_excel('../03. Exportaciones/segm_Malta_silver.xlsx', engine='xlsxwriter') "
   ]
  }
 ],
 "metadata": {
  "kernelspec": {
   "display_name": "Python 3",
   "language": "python",
   "name": "python3"
  },
  "language_info": {
   "codemirror_mode": {
    "name": "ipython",
    "version": 3
   },
   "file_extension": ".py",
   "mimetype": "text/x-python",
   "name": "python",
   "nbconvert_exporter": "python",
   "pygments_lexer": "ipython3",
   "version": "3.8.3"
  }
 },
 "nbformat": 4,
 "nbformat_minor": 2
}
